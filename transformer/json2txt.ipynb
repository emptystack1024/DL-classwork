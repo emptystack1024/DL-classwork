{
 "cells": [
  {
   "cell_type": "code",
   "execution_count": 1,
   "metadata": {},
   "outputs": [
    {
     "name": "stdout",
     "output_type": "stream",
     "text": [
      "cnt=0,name=962b4390-5d2e587e.json\n"
     ]
    },
    {
     "ename": "KeyError",
     "evalue": "'shapes'",
     "output_type": "error",
     "traceback": [
      "\u001b[0;31m---------------------------------------------------------------------------\u001b[0m",
      "\u001b[0;31mKeyError\u001b[0m                                  Traceback (most recent call last)",
      "Cell \u001b[0;32mIn[1], line 30\u001b[0m\n\u001b[1;32m     28\u001b[0m path_txt \u001b[38;5;241m=\u001b[39m dir_txt \u001b[38;5;241m+\u001b[39m json_name\u001b[38;5;241m.\u001b[39mreplace(\u001b[38;5;124m'\u001b[39m\u001b[38;5;124m.json\u001b[39m\u001b[38;5;124m'\u001b[39m,\u001b[38;5;124m'\u001b[39m\u001b[38;5;124m.txt\u001b[39m\u001b[38;5;124m'\u001b[39m)\n\u001b[1;32m     29\u001b[0m \u001b[38;5;66;03m# print(path_json, path_txt)\u001b[39;00m\n\u001b[0;32m---> 30\u001b[0m \u001b[43mjson2txt\u001b[49m\u001b[43m(\u001b[49m\u001b[43mpath_json\u001b[49m\u001b[43m,\u001b[49m\u001b[43m \u001b[49m\u001b[43mpath_txt\u001b[49m\u001b[43m)\u001b[49m\n",
      "Cell \u001b[0;32mIn[1], line 11\u001b[0m, in \u001b[0;36mjson2txt\u001b[0;34m(path_json, path_txt)\u001b[0m\n\u001b[1;32m      9\u001b[0m jsonx\u001b[38;5;241m=\u001b[39mjson\u001b[38;5;241m.\u001b[39mload(path_json)\n\u001b[1;32m     10\u001b[0m \u001b[38;5;28;01mwith\u001b[39;00m \u001b[38;5;28mopen\u001b[39m(path_txt,\u001b[38;5;124m'\u001b[39m\u001b[38;5;124mw+\u001b[39m\u001b[38;5;124m'\u001b[39m) \u001b[38;5;28;01mas\u001b[39;00m ftxt:\n\u001b[0;32m---> 11\u001b[0m     \u001b[38;5;28;01mfor\u001b[39;00m shape \u001b[38;5;129;01min\u001b[39;00m \u001b[43mjsonx\u001b[49m\u001b[43m[\u001b[49m\u001b[38;5;124;43m'\u001b[39;49m\u001b[38;5;124;43mshapes\u001b[39;49m\u001b[38;5;124;43m'\u001b[39;49m\u001b[43m]\u001b[49m:\n\u001b[1;32m     12\u001b[0m         xy\u001b[38;5;241m=\u001b[39mnp\u001b[38;5;241m.\u001b[39marray(shape[\u001b[38;5;124m'\u001b[39m\u001b[38;5;124mpoints\u001b[39m\u001b[38;5;124m'\u001b[39m])\n\u001b[1;32m     13\u001b[0m         label\u001b[38;5;241m=\u001b[39m\u001b[38;5;28mstr\u001b[39m(shape[\u001b[38;5;124m'\u001b[39m\u001b[38;5;124mlabel\u001b[39m\u001b[38;5;124m'\u001b[39m])\n",
      "\u001b[0;31mKeyError\u001b[0m: 'shapes'"
     ]
    }
   ],
   "source": [
    "# coding:utf-8\n",
    "\n",
    "import os\n",
    "import json\n",
    "import numpy as np\n",
    "\n",
    "def json2txt(path_json,path_txt):\n",
    "    with open(path_json,'r', encoding='gb18030') as path_json:\n",
    "        jsonx=json.load(path_json)\n",
    "        with open(path_txt,'w+') as ftxt:\n",
    "            for shape in jsonx['shapes']:\n",
    "                xy=np.array(shape['points'])\n",
    "                label=str(shape['label'])\n",
    "                strxy = ''\n",
    "                for m,n in xy:\n",
    "                    strxy+=str(m)+','+str(n)+','\n",
    "                strxy+=label\n",
    "                ftxt.writelines(strxy+\"\\n\")\n",
    "\n",
    "dir_json = '/home/ubuntu/下载/dataset/BDD100K/bdd100k_labels/bdd100k/labels/100k/train/'\n",
    "dir_txt = '/home/ubuntu/下载/dataset/BDD100K/bdd100k_labels/bdd100k/labels/100k/train_txt/'\n",
    "if not os.path.exists(dir_txt):\n",
    "    os.makedirs(dir_txt)\n",
    "list_json = os.listdir(dir_json)\n",
    "for cnt,json_name in enumerate(list_json):\n",
    "    print('cnt=%d,name=%s'%(cnt,json_name))\n",
    "    path_json = dir_json + json_name\n",
    "    path_txt = dir_txt + json_name.replace('.json','.txt')\n",
    "    # print(path_json, path_txt)\n",
    "    json2txt(path_json, path_txt)\n"
   ]
  },
  {
   "cell_type": "code",
   "execution_count": null,
   "metadata": {},
   "outputs": [],
   "source": []
  }
 ],
 "metadata": {
  "kernelspec": {
   "display_name": "yolo",
   "language": "python",
   "name": "python3"
  },
  "language_info": {
   "codemirror_mode": {
    "name": "ipython",
    "version": 3
   },
   "file_extension": ".py",
   "mimetype": "text/x-python",
   "name": "python",
   "nbconvert_exporter": "python",
   "pygments_lexer": "ipython3",
   "version": "3.10.14"
  }
 },
 "nbformat": 4,
 "nbformat_minor": 2
}
