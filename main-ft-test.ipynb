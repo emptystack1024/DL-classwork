{
 "cells": [
  {
   "cell_type": "code",
   "execution_count": 3,
   "metadata": {},
   "outputs": [
    {
     "name": "stdout",
     "output_type": "stream",
     "text": [
      "WARNING ⚠️ Environment does not support cv2.imshow() or PIL Image.show()\n",
      "The DISPLAY environment variable isn't set.\n"
     ]
    },
    {
     "name": "stdout",
     "output_type": "stream",
     "text": [
      "None\n",
      "\n",
      "0: 416x640 6 cars, 1 bus, 14.1ms\n",
      "Speed: 5.1ms preprocess, 14.1ms inference, 11.6ms postprocess per image at shape (1, 3, 416, 640)\n",
      "\n",
      "0: 416x640 6 cars, 1 bus, 7.3ms\n",
      "Speed: 4.9ms preprocess, 7.3ms inference, 10.5ms postprocess per image at shape (1, 3, 416, 640)\n",
      "\n",
      "0: 416x640 6 cars, 1 bus, 7.7ms\n",
      "Speed: 4.5ms preprocess, 7.7ms inference, 12.0ms postprocess per image at shape (1, 3, 416, 640)\n",
      "\n",
      "0: 416x640 6 cars, 1 bus, 7.5ms\n",
      "Speed: 4.0ms preprocess, 7.5ms inference, 1.6ms postprocess per image at shape (1, 3, 416, 640)\n",
      "\n",
      "0: 416x640 7 cars, 1 bus, 8.3ms\n",
      "Speed: 5.0ms preprocess, 8.3ms inference, 11.3ms postprocess per image at shape (1, 3, 416, 640)\n",
      "\n",
      "0: 416x640 8 cars, 1 bus, 7.6ms\n",
      "Speed: 3.9ms preprocess, 7.6ms inference, 11.7ms postprocess per image at shape (1, 3, 416, 640)\n",
      "\n",
      "0: 416x640 8 cars, 1 bus, 7.9ms\n",
      "Speed: 4.0ms preprocess, 7.9ms inference, 5.7ms postprocess per image at shape (1, 3, 416, 640)\n",
      "\n",
      "0: 416x640 8 cars, 1 bus, 8.2ms\n",
      "Speed: 4.5ms preprocess, 8.2ms inference, 12.0ms postprocess per image at shape (1, 3, 416, 640)\n",
      "\n",
      "0: 416x640 8 cars, 1 bus, 8.6ms\n",
      "Speed: 2.8ms preprocess, 8.6ms inference, 1.5ms postprocess per image at shape (1, 3, 416, 640)\n",
      "\n",
      "0: 416x640 8 cars, 1 bus, 7.5ms\n",
      "Speed: 4.4ms preprocess, 7.5ms inference, 11.7ms postprocess per image at shape (1, 3, 416, 640)\n",
      "\n",
      "0: 416x640 9 cars, 1 bus, 7.6ms\n",
      "Speed: 3.1ms preprocess, 7.6ms inference, 11.7ms postprocess per image at shape (1, 3, 416, 640)\n",
      "\n",
      "0: 416x640 9 cars, 1 bus, 10.2ms\n",
      "Speed: 4.5ms preprocess, 10.2ms inference, 2.4ms postprocess per image at shape (1, 3, 416, 640)\n",
      "\n",
      "0: 416x640 9 cars, 1 bus, 7.5ms\n",
      "Speed: 4.5ms preprocess, 7.5ms inference, 9.6ms postprocess per image at shape (1, 3, 416, 640)\n",
      "\n",
      "0: 416x640 8 cars, 1 bus, 1 truck, 7.5ms\n",
      "Speed: 5.0ms preprocess, 7.5ms inference, 11.5ms postprocess per image at shape (1, 3, 416, 640)\n",
      "\n",
      "0: 416x640 9 cars, 1 bus, 9.8ms\n",
      "Speed: 4.0ms preprocess, 9.8ms inference, 11.5ms postprocess per image at shape (1, 3, 416, 640)\n",
      "\n",
      "0: 416x640 9 cars, 1 bus, 12.4ms\n",
      "Speed: 4.7ms preprocess, 12.4ms inference, 12.1ms postprocess per image at shape (1, 3, 416, 640)\n",
      "\n",
      "0: 416x640 8 cars, 1 bus, 7.3ms\n",
      "Speed: 2.8ms preprocess, 7.3ms inference, 1.5ms postprocess per image at shape (1, 3, 416, 640)\n",
      "\n",
      "0: 416x640 8 cars, 1 bus, 7.4ms\n",
      "Speed: 4.0ms preprocess, 7.4ms inference, 11.5ms postprocess per image at shape (1, 3, 416, 640)\n",
      "\n",
      "0: 416x640 8 cars, 1 bus, 7.4ms\n",
      "Speed: 4.9ms preprocess, 7.4ms inference, 11.8ms postprocess per image at shape (1, 3, 416, 640)\n",
      "\n",
      "0: 416x640 8 cars, 1 bus, 10.4ms\n",
      "Speed: 5.5ms preprocess, 10.4ms inference, 2.4ms postprocess per image at shape (1, 3, 416, 640)\n",
      "\n",
      "0: 416x640 8 cars, 1 bus, 7.5ms\n",
      "Speed: 4.7ms preprocess, 7.5ms inference, 11.3ms postprocess per image at shape (1, 3, 416, 640)\n",
      "\n",
      "0: 416x640 8 cars, 1 bus, 7.4ms\n",
      "Speed: 5.0ms preprocess, 7.4ms inference, 11.7ms postprocess per image at shape (1, 3, 416, 640)\n",
      "\n",
      "0: 416x640 8 cars, 1 bus, 7.4ms\n",
      "Speed: 3.8ms preprocess, 7.4ms inference, 11.5ms postprocess per image at shape (1, 3, 416, 640)\n",
      "\n",
      "0: 416x640 8 cars, 1 bus, 7.5ms\n",
      "Speed: 2.8ms preprocess, 7.5ms inference, 1.5ms postprocess per image at shape (1, 3, 416, 640)\n",
      "\n",
      "0: 416x640 9 cars, 1 bus, 7.7ms\n",
      "Speed: 5.1ms preprocess, 7.7ms inference, 12.0ms postprocess per image at shape (1, 3, 416, 640)\n",
      "\n",
      "0: 416x640 9 cars, 1 bus, 9.0ms\n",
      "Speed: 2.8ms preprocess, 9.0ms inference, 2.3ms postprocess per image at shape (1, 3, 416, 640)\n",
      "\n",
      "0: 416x640 9 cars, 1 bus, 7.4ms\n",
      "Speed: 3.8ms preprocess, 7.4ms inference, 11.5ms postprocess per image at shape (1, 3, 416, 640)\n",
      "\n",
      "0: 416x640 9 cars, 1 bus, 7.4ms\n",
      "Speed: 4.4ms preprocess, 7.4ms inference, 11.5ms postprocess per image at shape (1, 3, 416, 640)\n",
      "\n",
      "0: 416x640 9 cars, 1 bus, 7.5ms\n",
      "Speed: 3.7ms preprocess, 7.5ms inference, 11.9ms postprocess per image at shape (1, 3, 416, 640)\n",
      "\n",
      "0: 416x640 9 cars, 1 bus, 7.5ms\n",
      "Speed: 3.2ms preprocess, 7.5ms inference, 1.5ms postprocess per image at shape (1, 3, 416, 640)\n",
      "\n",
      "0: 416x640 9 cars, 1 bus, 7.5ms\n",
      "Speed: 4.0ms preprocess, 7.5ms inference, 11.7ms postprocess per image at shape (1, 3, 416, 640)\n",
      "\n",
      "0: 416x640 9 cars, 1 bus, 7.5ms\n",
      "Speed: 4.4ms preprocess, 7.5ms inference, 11.7ms postprocess per image at shape (1, 3, 416, 640)\n",
      "\n",
      "0: 416x640 9 cars, 1 bus, 10.2ms\n",
      "Speed: 5.0ms preprocess, 10.2ms inference, 10.3ms postprocess per image at shape (1, 3, 416, 640)\n",
      "\n",
      "0: 416x640 9 cars, 1 bus, 7.3ms\n",
      "Speed: 4.4ms preprocess, 7.3ms inference, 1.5ms postprocess per image at shape (1, 3, 416, 640)\n",
      "\n",
      "0: 416x640 9 cars, 1 bus, 7.5ms\n",
      "Speed: 3.3ms preprocess, 7.5ms inference, 11.4ms postprocess per image at shape (1, 3, 416, 640)\n",
      "\n",
      "0: 416x640 9 cars, 1 bus, 9.5ms\n",
      "Speed: 3.7ms preprocess, 9.5ms inference, 11.7ms postprocess per image at shape (1, 3, 416, 640)\n",
      "\n",
      "0: 416x640 8 cars, 1 bus, 1 truck, 10.1ms\n",
      "Speed: 4.3ms preprocess, 10.1ms inference, 2.4ms postprocess per image at shape (1, 3, 416, 640)\n",
      "\n",
      "0: 416x640 9 cars, 1 bus, 7.6ms\n",
      "Speed: 4.5ms preprocess, 7.6ms inference, 9.6ms postprocess per image at shape (1, 3, 416, 640)\n",
      "\n",
      "0: 416x640 9 cars, 1 bus, 7.3ms\n",
      "Speed: 3.8ms preprocess, 7.3ms inference, 11.5ms postprocess per image at shape (1, 3, 416, 640)\n",
      "\n",
      "0: 416x640 9 cars, 1 bus, 7.4ms\n",
      "Speed: 4.7ms preprocess, 7.4ms inference, 11.6ms postprocess per image at shape (1, 3, 416, 640)\n",
      "\n",
      "0: 416x640 9 cars, 1 bus, 7.3ms\n",
      "Speed: 4.2ms preprocess, 7.3ms inference, 1.3ms postprocess per image at shape (1, 3, 416, 640)\n",
      "\n",
      "0: 416x640 9 cars, 1 bus, 7.6ms\n",
      "Speed: 4.3ms preprocess, 7.6ms inference, 12.0ms postprocess per image at shape (1, 3, 416, 640)\n",
      "\n",
      "0: 416x640 9 cars, 1 bus, 7.3ms\n",
      "Speed: 2.9ms preprocess, 7.3ms inference, 2.0ms postprocess per image at shape (1, 3, 416, 640)\n",
      "\n",
      "0: 416x640 9 cars, 1 bus, 7.5ms\n",
      "Speed: 4.5ms preprocess, 7.5ms inference, 11.5ms postprocess per image at shape (1, 3, 416, 640)\n",
      "\n",
      "0: 416x640 9 cars, 1 bus, 7.5ms\n",
      "Speed: 4.5ms preprocess, 7.5ms inference, 11.7ms postprocess per image at shape (1, 3, 416, 640)\n",
      "\n",
      "0: 416x640 9 cars, 1 bus, 9.8ms\n",
      "Speed: 4.6ms preprocess, 9.8ms inference, 12.1ms postprocess per image at shape (1, 3, 416, 640)\n",
      "\n",
      "0: 416x640 9 cars, 1 bus, 7.2ms\n",
      "Speed: 2.8ms preprocess, 7.2ms inference, 3.1ms postprocess per image at shape (1, 3, 416, 640)\n",
      "\n",
      "0: 416x640 9 cars, 1 bus, 7.4ms\n",
      "Speed: 4.1ms preprocess, 7.4ms inference, 11.7ms postprocess per image at shape (1, 3, 416, 640)\n",
      "\n",
      "0: 416x640 9 cars, 1 bus, 7.4ms\n",
      "Speed: 4.3ms preprocess, 7.4ms inference, 11.6ms postprocess per image at shape (1, 3, 416, 640)\n",
      "\n",
      "0: 416x640 9 cars, 1 bus, 10.1ms\n",
      "Speed: 4.9ms preprocess, 10.1ms inference, 2.4ms postprocess per image at shape (1, 3, 416, 640)\n",
      "\n",
      "0: 416x640 9 cars, 1 bus, 9.8ms\n",
      "Speed: 5.0ms preprocess, 9.8ms inference, 5.2ms postprocess per image at shape (1, 3, 416, 640)\n",
      "\n",
      "0: 416x640 9 cars, 1 bus, 9.5ms\n",
      "Speed: 4.1ms preprocess, 9.5ms inference, 11.7ms postprocess per image at shape (1, 3, 416, 640)\n",
      "\n",
      "0: 416x640 9 cars, 1 bus, 7.5ms\n",
      "Speed: 3.2ms preprocess, 7.5ms inference, 11.5ms postprocess per image at shape (1, 3, 416, 640)\n",
      "\n",
      "0: 416x640 8 cars, 1 bus, 9.1ms\n",
      "Speed: 4.6ms preprocess, 9.1ms inference, 12.2ms postprocess per image at shape (1, 3, 416, 640)\n",
      "\n",
      "0: 416x640 8 cars, 1 bus, 7.5ms\n",
      "Speed: 3.3ms preprocess, 7.5ms inference, 2.7ms postprocess per image at shape (1, 3, 416, 640)\n",
      "\n",
      "0: 416x640 8 cars, 1 bus, 7.5ms\n",
      "Speed: 5.1ms preprocess, 7.5ms inference, 11.7ms postprocess per image at shape (1, 3, 416, 640)\n",
      "\n",
      "0: 416x640 9 cars, 1 bus, 7.5ms\n",
      "Speed: 5.0ms preprocess, 7.5ms inference, 11.6ms postprocess per image at shape (1, 3, 416, 640)\n",
      "\n",
      "0: 416x640 9 cars, 1 bus, 7.4ms\n",
      "Speed: 2.8ms preprocess, 7.4ms inference, 1.5ms postprocess per image at shape (1, 3, 416, 640)\n",
      "\n",
      "0: 416x640 9 cars, 1 bus, 7.6ms\n",
      "Speed: 3.3ms preprocess, 7.6ms inference, 12.0ms postprocess per image at shape (1, 3, 416, 640)\n",
      "\n",
      "0: 416x640 9 cars, 1 bus, 7.3ms\n",
      "Speed: 2.9ms preprocess, 7.3ms inference, 1.4ms postprocess per image at shape (1, 3, 416, 640)\n",
      "\n",
      "0: 416x640 9 cars, 1 bus, 9.5ms\n",
      "Speed: 4.0ms preprocess, 9.5ms inference, 11.6ms postprocess per image at shape (1, 3, 416, 640)\n",
      "\n",
      "0: 416x640 9 cars, 1 bus, 7.4ms\n",
      "Speed: 3.0ms preprocess, 7.4ms inference, 11.6ms postprocess per image at shape (1, 3, 416, 640)\n",
      "\n",
      "0: 416x640 9 cars, 1 bus, 7.5ms\n",
      "Speed: 4.0ms preprocess, 7.5ms inference, 12.0ms postprocess per image at shape (1, 3, 416, 640)\n",
      "\n",
      "0: 416x640 9 cars, 1 bus, 7.3ms\n",
      "Speed: 2.8ms preprocess, 7.3ms inference, 1.5ms postprocess per image at shape (1, 3, 416, 640)\n",
      "\n",
      "0: 416x640 9 cars, 1 bus, 7.4ms\n",
      "Speed: 4.9ms preprocess, 7.4ms inference, 11.6ms postprocess per image at shape (1, 3, 416, 640)\n",
      "\n",
      "0: 416x640 9 cars, 1 bus, 9.7ms\n",
      "Speed: 3.6ms preprocess, 9.7ms inference, 11.9ms postprocess per image at shape (1, 3, 416, 640)\n",
      "\n",
      "0: 416x640 9 cars, 1 bus, 9.9ms\n",
      "Speed: 5.0ms preprocess, 9.9ms inference, 12.1ms postprocess per image at shape (1, 3, 416, 640)\n",
      "\n",
      "0: 416x640 9 cars, 1 bus, 7.3ms\n",
      "Speed: 2.8ms preprocess, 7.3ms inference, 3.0ms postprocess per image at shape (1, 3, 416, 640)\n",
      "\n",
      "0: 416x640 9 cars, 1 bus, 9.8ms\n",
      "Speed: 5.2ms preprocess, 9.8ms inference, 11.8ms postprocess per image at shape (1, 3, 416, 640)\n",
      "\n",
      "0: 416x640 9 cars, 1 bus, 7.4ms\n",
      "Speed: 3.7ms preprocess, 7.4ms inference, 11.7ms postprocess per image at shape (1, 3, 416, 640)\n",
      "\n",
      "0: 416x640 9 cars, 1 bus, 10.3ms\n",
      "Speed: 5.0ms preprocess, 10.3ms inference, 10.1ms postprocess per image at shape (1, 3, 416, 640)\n",
      "\n",
      "0: 416x640 8 cars, 1 airplane, 1 bus, 7.3ms\n",
      "Speed: 4.1ms preprocess, 7.3ms inference, 1.6ms postprocess per image at shape (1, 3, 416, 640)\n",
      "\n",
      "0: 416x640 9 cars, 1 bus, 7.3ms\n",
      "Speed: 5.0ms preprocess, 7.3ms inference, 11.6ms postprocess per image at shape (1, 3, 416, 640)\n",
      "\n",
      "0: 416x640 9 cars, 1 bus, 9.5ms\n",
      "Speed: 4.4ms preprocess, 9.5ms inference, 11.7ms postprocess per image at shape (1, 3, 416, 640)\n",
      "\n",
      "0: 416x640 10 cars, 1 bus, 11.6ms\n",
      "Speed: 3.4ms preprocess, 11.6ms inference, 2.8ms postprocess per image at shape (1, 3, 416, 640)\n",
      "\n",
      "0: 416x640 10 cars, 1 bus, 1 train, 9.9ms\n",
      "Speed: 4.5ms preprocess, 9.9ms inference, 11.8ms postprocess per image at shape (1, 3, 416, 640)\n",
      "\n",
      "0: 416x640 10 cars, 1 bus, 7.4ms\n",
      "Speed: 5.1ms preprocess, 7.4ms inference, 11.6ms postprocess per image at shape (1, 3, 416, 640)\n",
      "\n",
      "0: 416x640 10 cars, 1 bus, 7.4ms\n",
      "Speed: 4.7ms preprocess, 7.4ms inference, 11.8ms postprocess per image at shape (1, 3, 416, 640)\n",
      "\n",
      "0: 416x640 10 cars, 1 bus, 10.1ms\n",
      "Speed: 5.0ms preprocess, 10.1ms inference, 4.1ms postprocess per image at shape (1, 3, 416, 640)\n",
      "\n",
      "0: 416x640 10 cars, 1 bus, 7.6ms\n",
      "Speed: 3.7ms preprocess, 7.6ms inference, 4.8ms postprocess per image at shape (1, 3, 416, 640)\n",
      "\n",
      "0: 416x640 9 cars, 1 bus, 7.5ms\n",
      "Speed: 3.1ms preprocess, 7.5ms inference, 11.6ms postprocess per image at shape (1, 3, 416, 640)\n",
      "\n",
      "0: 416x640 9 cars, 1 bus, 7.3ms\n",
      "Speed: 5.0ms preprocess, 7.3ms inference, 11.4ms postprocess per image at shape (1, 3, 416, 640)\n",
      "\n",
      "0: 416x640 9 cars, 1 bus, 10.1ms\n",
      "Speed: 2.8ms preprocess, 10.1ms inference, 2.4ms postprocess per image at shape (1, 3, 416, 640)\n",
      "\n",
      "0: 416x640 9 cars, 1 bus, 7.6ms\n",
      "Speed: 4.6ms preprocess, 7.6ms inference, 12.0ms postprocess per image at shape (1, 3, 416, 640)\n",
      "\n",
      "0: 416x640 9 cars, 1 bus, 8.0ms\n",
      "Speed: 3.6ms preprocess, 8.0ms inference, 10.2ms postprocess per image at shape (1, 3, 416, 640)\n",
      "\n",
      "0: 416x640 9 cars, 1 bus, 7.5ms\n",
      "Speed: 3.5ms preprocess, 7.5ms inference, 11.6ms postprocess per image at shape (1, 3, 416, 640)\n",
      "\n",
      "0: 416x640 9 cars, 1 bus, 7.5ms\n",
      "Speed: 3.6ms preprocess, 7.5ms inference, 5.2ms postprocess per image at shape (1, 3, 416, 640)\n",
      "\n",
      "0: 416x640 9 cars, 1 bus, 7.5ms\n",
      "Speed: 4.1ms preprocess, 7.5ms inference, 12.0ms postprocess per image at shape (1, 3, 416, 640)\n",
      "\n",
      "0: 416x640 9 cars, 1 bus, 9.0ms\n",
      "Speed: 2.9ms preprocess, 9.0ms inference, 11.3ms postprocess per image at shape (1, 3, 416, 640)\n",
      "\n",
      "0: 416x640 9 cars, 1 bus, 9.7ms\n",
      "Speed: 5.0ms preprocess, 9.7ms inference, 11.2ms postprocess per image at shape (1, 3, 416, 640)\n",
      "\n",
      "0: 416x640 9 cars, 1 bus, 7.4ms\n",
      "Speed: 3.5ms preprocess, 7.4ms inference, 12.1ms postprocess per image at shape (1, 3, 416, 640)\n",
      "\n",
      "0: 416x640 9 cars, 1 bus, 9.0ms\n",
      "Speed: 4.4ms preprocess, 9.0ms inference, 12.1ms postprocess per image at shape (1, 3, 416, 640)\n",
      "\n",
      "0: 416x640 9 cars, 1 bus, 8.3ms\n",
      "Speed: 4.3ms preprocess, 8.3ms inference, 1.7ms postprocess per image at shape (1, 3, 416, 640)\n",
      "\n",
      "0: 416x640 9 cars, 1 bus, 7.4ms\n",
      "Speed: 4.0ms preprocess, 7.4ms inference, 11.5ms postprocess per image at shape (1, 3, 416, 640)\n",
      "\n",
      "0: 416x640 9 cars, 1 bus, 9.9ms\n",
      "Speed: 4.9ms preprocess, 9.9ms inference, 11.8ms postprocess per image at shape (1, 3, 416, 640)\n",
      "\n",
      "0: 416x640 9 cars, 1 bus, 9.8ms\n",
      "Speed: 4.4ms preprocess, 9.8ms inference, 12.0ms postprocess per image at shape (1, 3, 416, 640)\n",
      "\n",
      "0: 416x640 9 cars, 1 bus, 7.3ms\n",
      "Speed: 3.0ms preprocess, 7.3ms inference, 1.7ms postprocess per image at shape (1, 3, 416, 640)\n",
      "\n",
      "0: 416x640 9 cars, 1 bus, 7.4ms\n",
      "Speed: 4.2ms preprocess, 7.4ms inference, 11.5ms postprocess per image at shape (1, 3, 416, 640)\n",
      "\n",
      "0: 416x640 9 cars, 1 bus, 7.5ms\n",
      "Speed: 4.3ms preprocess, 7.5ms inference, 11.6ms postprocess per image at shape (1, 3, 416, 640)\n",
      "\n",
      "0: 416x640 9 cars, 1 bus, 10.2ms\n",
      "Speed: 5.3ms preprocess, 10.2ms inference, 4.2ms postprocess per image at shape (1, 3, 416, 640)\n",
      "\n",
      "0: 416x640 9 cars, 1 bus, 9.8ms\n",
      "Speed: 4.6ms preprocess, 9.8ms inference, 2.6ms postprocess per image at shape (1, 3, 416, 640)\n",
      "\n",
      "0: 416x640 9 cars, 1 bus, 7.4ms\n",
      "Speed: 5.0ms preprocess, 7.4ms inference, 11.4ms postprocess per image at shape (1, 3, 416, 640)\n",
      "\n",
      "0: 416x640 9 cars, 1 bus, 7.4ms\n",
      "Speed: 5.0ms preprocess, 7.4ms inference, 11.6ms postprocess per image at shape (1, 3, 416, 640)\n",
      "\n",
      "0: 416x640 9 cars, 1 bus, 10.1ms\n",
      "Speed: 4.8ms preprocess, 10.1ms inference, 2.4ms postprocess per image at shape (1, 3, 416, 640)\n",
      "\n",
      "0: 416x640 9 cars, 1 bus, 7.6ms\n",
      "Speed: 4.8ms preprocess, 7.6ms inference, 11.3ms postprocess per image at shape (1, 3, 416, 640)\n",
      "\n",
      "0: 416x640 9 cars, 1 bus, 9.6ms\n",
      "Speed: 4.5ms preprocess, 9.6ms inference, 11.4ms postprocess per image at shape (1, 3, 416, 640)\n",
      "\n",
      "0: 416x640 9 cars, 1 bus, 7.3ms\n",
      "Speed: 4.2ms preprocess, 7.3ms inference, 11.6ms postprocess per image at shape (1, 3, 416, 640)\n",
      "\n",
      "0: 416x640 9 cars, 1 bus, 7.2ms\n",
      "Speed: 3.0ms preprocess, 7.2ms inference, 1.6ms postprocess per image at shape (1, 3, 416, 640)\n",
      "\n",
      "0: 416x640 9 cars, 1 bus, 7.7ms\n",
      "Speed: 4.9ms preprocess, 7.7ms inference, 11.8ms postprocess per image at shape (1, 3, 416, 640)\n",
      "\n",
      "0: 416x640 9 cars, 1 bus, 7.3ms\n",
      "Speed: 3.0ms preprocess, 7.3ms inference, 1.6ms postprocess per image at shape (1, 3, 416, 640)\n",
      "\n",
      "0: 416x640 9 cars, 1 bus, 7.4ms\n",
      "Speed: 4.7ms preprocess, 7.4ms inference, 11.5ms postprocess per image at shape (1, 3, 416, 640)\n",
      "\n",
      "0: 416x640 9 cars, 1 bus, 7.5ms\n",
      "Speed: 3.6ms preprocess, 7.5ms inference, 11.7ms postprocess per image at shape (1, 3, 416, 640)\n",
      "\n",
      "0: 416x640 9 cars, 1 bus, 7.7ms\n",
      "Speed: 5.0ms preprocess, 7.7ms inference, 11.9ms postprocess per image at shape (1, 3, 416, 640)\n",
      "\n",
      "0: 416x640 9 cars, 1 bus, 7.3ms\n",
      "Speed: 2.8ms preprocess, 7.3ms inference, 1.5ms postprocess per image at shape (1, 3, 416, 640)\n",
      "\n",
      "0: 416x640 9 cars, 1 bus, 7.3ms\n",
      "Speed: 5.1ms preprocess, 7.3ms inference, 11.5ms postprocess per image at shape (1, 3, 416, 640)\n",
      "\n",
      "0: 416x640 9 cars, 1 bus, 7.4ms\n",
      "Speed: 3.6ms preprocess, 7.4ms inference, 11.8ms postprocess per image at shape (1, 3, 416, 640)\n",
      "\n",
      "0: 416x640 9 cars, 1 bus, 10.1ms\n",
      "Speed: 4.6ms preprocess, 10.1ms inference, 2.4ms postprocess per image at shape (1, 3, 416, 640)\n",
      "\n",
      "0: 416x640 10 cars, 1 bus, 7.6ms\n",
      "Speed: 3.6ms preprocess, 7.6ms inference, 11.1ms postprocess per image at shape (1, 3, 416, 640)\n",
      "\n",
      "0: 416x640 10 cars, 1 bus, 7.3ms\n",
      "Speed: 4.9ms preprocess, 7.3ms inference, 11.4ms postprocess per image at shape (1, 3, 416, 640)\n",
      "\n",
      "0: 416x640 10 cars, 1 bus, 7.2ms\n",
      "Speed: 4.5ms preprocess, 7.2ms inference, 11.4ms postprocess per image at shape (1, 3, 416, 640)\n",
      "\n",
      "0: 416x640 10 cars, 1 bus, 11.1ms\n",
      "Speed: 3.7ms preprocess, 11.1ms inference, 2.7ms postprocess per image at shape (1, 3, 416, 640)\n",
      "\n",
      "0: 416x640 9 cars, 1 bus, 7.5ms\n",
      "Speed: 2.9ms preprocess, 7.5ms inference, 1.5ms postprocess per image at shape (1, 3, 416, 640)\n",
      "\n",
      "0: 416x640 9 cars, 1 bus, 7.3ms\n",
      "Speed: 3.2ms preprocess, 7.3ms inference, 11.4ms postprocess per image at shape (1, 3, 416, 640)\n",
      "\n",
      "0: 416x640 9 cars, 1 bus, 7.4ms\n",
      "Speed: 3.2ms preprocess, 7.4ms inference, 11.2ms postprocess per image at shape (1, 3, 416, 640)\n",
      "\n",
      "0: 416x640 9 cars, 1 bus, 7.3ms\n",
      "Speed: 4.2ms preprocess, 7.3ms inference, 1.4ms postprocess per image at shape (1, 3, 416, 640)\n",
      "\n",
      "0: 416x640 9 cars, 1 bus, 7.6ms\n",
      "Speed: 4.3ms preprocess, 7.6ms inference, 11.9ms postprocess per image at shape (1, 3, 416, 640)\n",
      "\n",
      "0: 416x640 9 cars, 1 bus, 11.7ms\n",
      "Speed: 4.3ms preprocess, 11.7ms inference, 1.5ms postprocess per image at shape (1, 3, 416, 640)\n",
      "\n",
      "0: 416x640 9 cars, 1 bus, 7.6ms\n",
      "Speed: 3.8ms preprocess, 7.6ms inference, 11.7ms postprocess per image at shape (1, 3, 416, 640)\n",
      "\n",
      "0: 416x640 9 cars, 1 bus, 7.5ms\n",
      "Speed: 4.5ms preprocess, 7.5ms inference, 11.6ms postprocess per image at shape (1, 3, 416, 640)\n",
      "\n",
      "0: 416x640 10 cars, 1 bus, 7.6ms\n",
      "Speed: 4.9ms preprocess, 7.6ms inference, 12.1ms postprocess per image at shape (1, 3, 416, 640)\n",
      "\n",
      "0: 416x640 10 cars, 1 bus, 7.4ms\n",
      "Speed: 2.8ms preprocess, 7.4ms inference, 2.7ms postprocess per image at shape (1, 3, 416, 640)\n",
      "\n",
      "0: 416x640 10 cars, 1 bus, 7.3ms\n",
      "Speed: 4.0ms preprocess, 7.3ms inference, 11.7ms postprocess per image at shape (1, 3, 416, 640)\n",
      "\n",
      "0: 416x640 10 cars, 1 bus, 7.6ms\n",
      "Speed: 4.1ms preprocess, 7.6ms inference, 11.7ms postprocess per image at shape (1, 3, 416, 640)\n",
      "\n",
      "0: 416x640 10 cars, 1 bus, 10.2ms\n",
      "Speed: 4.2ms preprocess, 10.2ms inference, 2.4ms postprocess per image at shape (1, 3, 416, 640)\n",
      "\n",
      "0: 416x640 9 cars, 1 bus, 7.6ms\n",
      "Speed: 4.3ms preprocess, 7.6ms inference, 9.9ms postprocess per image at shape (1, 3, 416, 640)\n",
      "\n",
      "0: 416x640 9 cars, 1 bus, 7.3ms\n",
      "Speed: 4.1ms preprocess, 7.3ms inference, 11.5ms postprocess per image at shape (1, 3, 416, 640)\n",
      "\n",
      "0: 416x640 9 cars, 1 bus, 7.4ms\n",
      "Speed: 4.1ms preprocess, 7.4ms inference, 11.7ms postprocess per image at shape (1, 3, 416, 640)\n",
      "\n",
      "0: 416x640 9 cars, 1 bus, 9.3ms\n",
      "Speed: 2.8ms preprocess, 9.3ms inference, 2.3ms postprocess per image at shape (1, 3, 416, 640)\n",
      "\n",
      "0: 416x640 9 cars, 1 bus, 7.5ms\n",
      "Speed: 5.0ms preprocess, 7.5ms inference, 11.8ms postprocess per image at shape (1, 3, 416, 640)\n",
      "\n",
      "0: 416x640 9 cars, 1 bus, 9.3ms\n",
      "Speed: 4.8ms preprocess, 9.3ms inference, 9.8ms postprocess per image at shape (1, 3, 416, 640)\n",
      "\n",
      "0: 416x640 9 cars, 1 bus, 7.4ms\n",
      "Speed: 4.3ms preprocess, 7.4ms inference, 11.4ms postprocess per image at shape (1, 3, 416, 640)\n",
      "\n",
      "0: 416x640 9 cars, 1 bus, 7.4ms\n",
      "Speed: 4.9ms preprocess, 7.4ms inference, 9.7ms postprocess per image at shape (1, 3, 416, 640)\n",
      "\n",
      "0: 416x640 9 cars, 1 bus, 9.9ms\n",
      "Speed: 4.5ms preprocess, 9.9ms inference, 12.1ms postprocess per image at shape (1, 3, 416, 640)\n",
      "\n",
      "0: 416x640 8 cars, 1 bus, 7.3ms\n",
      "Speed: 3.2ms preprocess, 7.3ms inference, 1.5ms postprocess per image at shape (1, 3, 416, 640)\n",
      "\n",
      "0: 416x640 8 cars, 1 bus, 7.4ms\n",
      "Speed: 3.8ms preprocess, 7.4ms inference, 11.4ms postprocess per image at shape (1, 3, 416, 640)\n",
      "\n",
      "0: 416x640 8 cars, 1 bus, 9.5ms\n",
      "Speed: 4.1ms preprocess, 9.5ms inference, 11.6ms postprocess per image at shape (1, 3, 416, 640)\n",
      "\n",
      "0: 416x640 8 cars, 1 bus, 10.2ms\n",
      "Speed: 4.9ms preprocess, 10.2ms inference, 2.4ms postprocess per image at shape (1, 3, 416, 640)\n",
      "\n",
      "0: 416x640 8 cars, 1 bus, 7.6ms\n",
      "Speed: 3.9ms preprocess, 7.6ms inference, 7.0ms postprocess per image at shape (1, 3, 416, 640)\n",
      "\n",
      "0: 416x640 8 cars, 1 bus, 8.1ms\n",
      "Speed: 2.9ms preprocess, 8.1ms inference, 9.9ms postprocess per image at shape (1, 3, 416, 640)\n",
      "\n",
      "0: 416x640 8 cars, 1 bus, 9.6ms\n",
      "Speed: 4.4ms preprocess, 9.6ms inference, 11.8ms postprocess per image at shape (1, 3, 416, 640)\n",
      "\n",
      "0: 416x640 8 cars, 1 bus, 9.9ms\n",
      "Speed: 3.9ms preprocess, 9.9ms inference, 3.0ms postprocess per image at shape (1, 3, 416, 640)\n",
      "\n",
      "0: 416x640 8 cars, 1 bus, 7.6ms\n",
      "Speed: 4.0ms preprocess, 7.6ms inference, 11.9ms postprocess per image at shape (1, 3, 416, 640)\n",
      "\n",
      "0: 416x640 8 cars, 1 bus, 7.3ms\n",
      "Speed: 4.3ms preprocess, 7.3ms inference, 9.5ms postprocess per image at shape (1, 3, 416, 640)\n",
      "\n",
      "0: 416x640 8 cars, 1 bus, 9.9ms\n",
      "Speed: 6.2ms preprocess, 9.9ms inference, 11.6ms postprocess per image at shape (1, 3, 416, 640)\n",
      "\n",
      "0: 416x640 8 cars, 1 bus, 8.0ms\n",
      "Speed: 4.7ms preprocess, 8.0ms inference, 9.5ms postprocess per image at shape (1, 3, 416, 640)\n",
      "\n",
      "0: 416x640 8 cars, 1 bus, 7.3ms\n",
      "Speed: 4.5ms preprocess, 7.3ms inference, 11.8ms postprocess per image at shape (1, 3, 416, 640)\n",
      "\n",
      "0: 416x640 8 cars, 1 bus, 8.3ms\n",
      "Speed: 3.3ms preprocess, 8.3ms inference, 11.3ms postprocess per image at shape (1, 3, 416, 640)\n",
      "\n",
      "0: 416x640 8 cars, 1 bus, 7.3ms\n",
      "Speed: 5.2ms preprocess, 7.3ms inference, 11.7ms postprocess per image at shape (1, 3, 416, 640)\n",
      "\n",
      "0: 416x640 8 cars, 1 bus, 10.3ms\n",
      "Speed: 5.1ms preprocess, 10.3ms inference, 5.6ms postprocess per image at shape (1, 3, 416, 640)\n",
      "\n",
      "0: 416x640 8 cars, 1 bus, 7.4ms\n",
      "Speed: 4.7ms preprocess, 7.4ms inference, 12.1ms postprocess per image at shape (1, 3, 416, 640)\n",
      "\n",
      "0: 416x640 8 cars, 1 bus, 7.4ms\n",
      "Speed: 4.4ms preprocess, 7.4ms inference, 1.4ms postprocess per image at shape (1, 3, 416, 640)\n",
      "\n",
      "0: 416x640 8 cars, 1 bus, 7.4ms\n",
      "Speed: 4.6ms preprocess, 7.4ms inference, 11.3ms postprocess per image at shape (1, 3, 416, 640)\n",
      "\n",
      "0: 416x640 8 cars, 1 bus, 7.4ms\n",
      "Speed: 3.7ms preprocess, 7.4ms inference, 11.5ms postprocess per image at shape (1, 3, 416, 640)\n",
      "\n",
      "0: 416x640 8 cars, 1 bus, 10.1ms\n",
      "Speed: 3.0ms preprocess, 10.1ms inference, 2.4ms postprocess per image at shape (1, 3, 416, 640)\n",
      "\n",
      "0: 416x640 8 cars, 1 bus, 7.5ms\n",
      "Speed: 4.2ms preprocess, 7.5ms inference, 12.2ms postprocess per image at shape (1, 3, 416, 640)\n",
      "\n",
      "0: 416x640 8 cars, 1 bus, 7.6ms\n",
      "Speed: 4.0ms preprocess, 7.6ms inference, 11.4ms postprocess per image at shape (1, 3, 416, 640)\n",
      "\n",
      "0: 416x640 8 cars, 1 bus, 7.4ms\n",
      "Speed: 3.7ms preprocess, 7.4ms inference, 11.3ms postprocess per image at shape (1, 3, 416, 640)\n",
      "\n",
      "0: 416x640 8 cars, 1 bus, 9.5ms\n",
      "Speed: 3.5ms preprocess, 9.5ms inference, 11.5ms postprocess per image at shape (1, 3, 416, 640)\n",
      "\n",
      "0: 416x640 8 cars, 1 bus, 7.7ms\n",
      "Speed: 4.1ms preprocess, 7.7ms inference, 12.1ms postprocess per image at shape (1, 3, 416, 640)\n",
      "\n",
      "0: 416x640 8 cars, 1 bus, 11.9ms\n",
      "Speed: 2.9ms preprocess, 11.9ms inference, 10.8ms postprocess per image at shape (1, 3, 416, 640)\n",
      "\n",
      "0: 416x640 8 cars, 1 bus, 7.7ms\n",
      "Speed: 3.5ms preprocess, 7.7ms inference, 11.2ms postprocess per image at shape (1, 3, 416, 640)\n",
      "\n",
      "0: 416x640 8 cars, 1 bus, 7.4ms\n",
      "Speed: 3.9ms preprocess, 7.4ms inference, 11.3ms postprocess per image at shape (1, 3, 416, 640)\n",
      "\n",
      "0: 416x640 8 cars, 1 bus, 7.6ms\n",
      "Speed: 4.2ms preprocess, 7.6ms inference, 12.0ms postprocess per image at shape (1, 3, 416, 640)\n",
      "\n",
      "0: 416x640 8 cars, 1 bus, 12.2ms\n",
      "Speed: 3.3ms preprocess, 12.2ms inference, 1.8ms postprocess per image at shape (1, 3, 416, 640)\n",
      "\n",
      "0: 416x640 8 cars, 1 bus, 7.5ms\n",
      "Speed: 4.1ms preprocess, 7.5ms inference, 11.6ms postprocess per image at shape (1, 3, 416, 640)\n",
      "\n",
      "0: 416x640 8 cars, 1 bus, 7.6ms\n",
      "Speed: 4.0ms preprocess, 7.6ms inference, 11.7ms postprocess per image at shape (1, 3, 416, 640)\n",
      "\n",
      "0: 416x640 8 cars, 1 bus, 7.4ms\n",
      "Speed: 2.9ms preprocess, 7.4ms inference, 1.6ms postprocess per image at shape (1, 3, 416, 640)\n",
      "\n",
      "0: 416x640 9 cars, 1 bus, 7.8ms\n",
      "Speed: 2.9ms preprocess, 7.8ms inference, 11.8ms postprocess per image at shape (1, 3, 416, 640)\n",
      "\n",
      "0: 416x640 9 cars, 1 bus, 8.1ms\n",
      "Speed: 3.5ms preprocess, 8.1ms inference, 11.3ms postprocess per image at shape (1, 3, 416, 640)\n",
      "\n",
      "0: 416x640 9 cars, 1 bus, 9.6ms\n",
      "Speed: 5.4ms preprocess, 9.6ms inference, 11.4ms postprocess per image at shape (1, 3, 416, 640)\n",
      "\n",
      "0: 416x640 9 cars, 1 bus, 7.3ms\n",
      "Speed: 4.9ms preprocess, 7.3ms inference, 9.9ms postprocess per image at shape (1, 3, 416, 640)\n",
      "\n",
      "0: 416x640 9 cars, 1 bus, 7.6ms\n",
      "Speed: 4.3ms preprocess, 7.6ms inference, 11.9ms postprocess per image at shape (1, 3, 416, 640)\n",
      "\n",
      "0: 416x640 9 cars, 1 bus, 7.4ms\n",
      "Speed: 3.0ms preprocess, 7.4ms inference, 4.0ms postprocess per image at shape (1, 3, 416, 640)\n",
      "\n",
      "0: 416x640 9 cars, 1 bus, 7.4ms\n",
      "Speed: 3.7ms preprocess, 7.4ms inference, 11.4ms postprocess per image at shape (1, 3, 416, 640)\n",
      "\n",
      "0: 416x640 9 cars, 1 bus, 7.6ms\n",
      "Speed: 4.3ms preprocess, 7.6ms inference, 10.3ms postprocess per image at shape (1, 3, 416, 640)\n",
      "\n",
      "0: 416x640 9 cars, 1 bus, 7.7ms\n",
      "Speed: 3.7ms preprocess, 7.7ms inference, 12.1ms postprocess per image at shape (1, 3, 416, 640)\n",
      "\n",
      "0: 416x640 9 cars, 1 bus, 7.3ms\n",
      "Speed: 3.0ms preprocess, 7.3ms inference, 1.5ms postprocess per image at shape (1, 3, 416, 640)\n",
      "\n",
      "0: 416x640 9 cars, 1 bus, 7.5ms\n",
      "Speed: 4.2ms preprocess, 7.5ms inference, 11.7ms postprocess per image at shape (1, 3, 416, 640)\n",
      "\n",
      "0: 416x640 9 cars, 1 bus, 7.5ms\n",
      "Speed: 4.1ms preprocess, 7.5ms inference, 11.6ms postprocess per image at shape (1, 3, 416, 640)\n",
      "\n",
      "0: 416x640 9 cars, 1 bus, 7.6ms\n",
      "Speed: 3.4ms preprocess, 7.6ms inference, 12.0ms postprocess per image at shape (1, 3, 416, 640)\n",
      "\n",
      "0: 416x640 9 cars, 1 bus, 7.3ms\n",
      "Speed: 2.8ms preprocess, 7.3ms inference, 1.5ms postprocess per image at shape (1, 3, 416, 640)\n",
      "\n",
      "0: 416x640 9 cars, 1 bus, 7.2ms\n",
      "Speed: 4.3ms preprocess, 7.2ms inference, 11.4ms postprocess per image at shape (1, 3, 416, 640)\n",
      "\n",
      "0: 416x640 9 cars, 1 bus, 7.5ms\n",
      "Speed: 4.0ms preprocess, 7.5ms inference, 11.7ms postprocess per image at shape (1, 3, 416, 640)\n",
      "\n",
      "0: 416x640 9 cars, 1 bus, 10.2ms\n",
      "Speed: 3.0ms preprocess, 10.2ms inference, 2.4ms postprocess per image at shape (1, 3, 416, 640)\n",
      "\n",
      "0: 416x640 9 cars, 1 bus, 7.6ms\n",
      "Speed: 4.3ms preprocess, 7.6ms inference, 11.7ms postprocess per image at shape (1, 3, 416, 640)\n",
      "\n",
      "0: 416x640 9 cars, 1 bus, 7.3ms\n",
      "Speed: 4.0ms preprocess, 7.3ms inference, 11.5ms postprocess per image at shape (1, 3, 416, 640)\n",
      "\n",
      "0: 416x640 9 cars, 1 bus, 7.4ms\n",
      "Speed: 4.2ms preprocess, 7.4ms inference, 11.4ms postprocess per image at shape (1, 3, 416, 640)\n",
      "\n",
      "0: 416x640 9 cars, 1 bus, 10.1ms\n",
      "Speed: 2.9ms preprocess, 10.1ms inference, 2.4ms postprocess per image at shape (1, 3, 416, 640)\n",
      "\n",
      "0: 416x640 9 cars, 1 bus, 7.6ms\n",
      "Speed: 4.3ms preprocess, 7.6ms inference, 12.1ms postprocess per image at shape (1, 3, 416, 640)\n",
      "\n",
      "0: 416x640 9 cars, 1 bus, 9.1ms\n",
      "Speed: 3.8ms preprocess, 9.1ms inference, 11.6ms postprocess per image at shape (1, 3, 416, 640)\n",
      "\n",
      "0: 416x640 9 cars, 1 bus, 7.3ms\n",
      "Speed: 3.5ms preprocess, 7.3ms inference, 11.8ms postprocess per image at shape (1, 3, 416, 640)\n",
      "\n",
      "0: 416x640 9 cars, 2 buss, 9.4ms\n",
      "Speed: 4.4ms preprocess, 9.4ms inference, 2.4ms postprocess per image at shape (1, 3, 416, 640)\n",
      "\n",
      "0: 416x640 9 cars, 2 buss, 7.6ms\n",
      "Speed: 4.0ms preprocess, 7.6ms inference, 11.9ms postprocess per image at shape (1, 3, 416, 640)\n",
      "\n",
      "0: 416x640 9 cars, 2 buss, 7.5ms\n",
      "Speed: 4.9ms preprocess, 7.5ms inference, 11.5ms postprocess per image at shape (1, 3, 416, 640)\n",
      "\n",
      "0: 416x640 9 cars, 2 buss, 12.2ms\n",
      "Speed: 4.0ms preprocess, 12.2ms inference, 11.7ms postprocess per image at shape (1, 3, 416, 640)\n",
      "\n",
      "0: 416x640 9 cars, 2 buss, 10.1ms\n",
      "Speed: 4.2ms preprocess, 10.1ms inference, 4.2ms postprocess per image at shape (1, 3, 416, 640)\n",
      "\n",
      "0: 416x640 9 cars, 2 buss, 7.6ms\n",
      "Speed: 3.5ms preprocess, 7.6ms inference, 4.9ms postprocess per image at shape (1, 3, 416, 640)\n",
      "\n",
      "0: 416x640 9 cars, 2 buss, 7.5ms\n",
      "Speed: 3.8ms preprocess, 7.5ms inference, 11.5ms postprocess per image at shape (1, 3, 416, 640)\n",
      "\n",
      "0: 416x640 9 cars, 2 buss, 7.6ms\n",
      "Speed: 3.6ms preprocess, 7.6ms inference, 11.5ms postprocess per image at shape (1, 3, 416, 640)\n",
      "\n",
      "0: 416x640 8 cars, 2 buss, 7.3ms\n",
      "Speed: 2.8ms preprocess, 7.3ms inference, 1.6ms postprocess per image at shape (1, 3, 416, 640)\n",
      "\n",
      "0: 416x640 8 cars, 2 buss, 7.7ms\n",
      "Speed: 3.3ms preprocess, 7.7ms inference, 12.0ms postprocess per image at shape (1, 3, 416, 640)\n",
      "\n",
      "0: 416x640 8 cars, 1 bus, 1 truck, 7.3ms\n",
      "Speed: 2.9ms preprocess, 7.3ms inference, 1.5ms postprocess per image at shape (1, 3, 416, 640)\n",
      "\n",
      "0: 416x640 9 cars, 2 buss, 1 truck, 7.5ms\n",
      "Speed: 4.3ms preprocess, 7.5ms inference, 11.6ms postprocess per image at shape (1, 3, 416, 640)\n",
      "\n",
      "0: 416x640 9 cars, 3 buss, 7.4ms\n",
      "Speed: 4.1ms preprocess, 7.4ms inference, 11.6ms postprocess per image at shape (1, 3, 416, 640)\n",
      "\n",
      "0: 416x640 9 cars, 3 buss, 7.7ms\n",
      "Speed: 4.3ms preprocess, 7.7ms inference, 11.8ms postprocess per image at shape (1, 3, 416, 640)\n",
      "\n",
      "0: 416x640 9 cars, 2 buss, 1 truck, 7.3ms\n",
      "Speed: 2.8ms preprocess, 7.3ms inference, 1.6ms postprocess per image at shape (1, 3, 416, 640)\n",
      "\n",
      "0: 416x640 9 cars, 2 buss, 1 truck, 7.5ms\n",
      "Speed: 3.8ms preprocess, 7.5ms inference, 11.7ms postprocess per image at shape (1, 3, 416, 640)\n",
      "\n",
      "0: 416x640 9 cars, 1 motorcycle, 2 buss, 1 truck, 7.5ms\n",
      "Speed: 5.0ms preprocess, 7.5ms inference, 11.6ms postprocess per image at shape (1, 3, 416, 640)\n",
      "\n",
      "0: 416x640 9 cars, 1 motorcycle, 2 buss, 1 truck, 7.5ms\n",
      "Speed: 3.8ms preprocess, 7.5ms inference, 11.9ms postprocess per image at shape (1, 3, 416, 640)\n",
      "\n",
      "0: 416x640 10 cars, 1 motorcycle, 2 buss, 1 truck, 7.2ms\n",
      "Speed: 2.8ms preprocess, 7.2ms inference, 1.5ms postprocess per image at shape (1, 3, 416, 640)\n",
      "\n",
      "0: 416x640 11 cars, 1 motorcycle, 2 buss, 7.5ms\n",
      "Speed: 3.9ms preprocess, 7.5ms inference, 11.6ms postprocess per image at shape (1, 3, 416, 640)\n",
      "\n",
      "0: 416x640 10 cars, 1 motorcycle, 2 buss, 1 truck, 7.3ms\n",
      "Speed: 4.0ms preprocess, 7.3ms inference, 11.9ms postprocess per image at shape (1, 3, 416, 640)\n",
      "\n",
      "0: 416x640 10 cars, 1 motorcycle, 2 buss, 1 truck, 9.9ms\n",
      "Speed: 5.0ms preprocess, 9.9ms inference, 11.9ms postprocess per image at shape (1, 3, 416, 640)\n",
      "\n",
      "0: 416x640 10 cars, 1 motorcycle, 2 buss, 1 truck, 7.5ms\n",
      "Speed: 4.0ms preprocess, 7.5ms inference, 11.7ms postprocess per image at shape (1, 3, 416, 640)\n",
      "\n",
      "0: 416x640 10 cars, 1 motorcycle, 2 buss, 1 truck, 7.4ms\n",
      "Speed: 3.3ms preprocess, 7.4ms inference, 11.5ms postprocess per image at shape (1, 3, 416, 640)\n",
      "\n",
      "0: 416x640 10 cars, 1 motorcycle, 2 buss, 1 truck, 7.5ms\n",
      "Speed: 5.1ms preprocess, 7.5ms inference, 1.4ms postprocess per image at shape (1, 3, 416, 640)\n",
      "\n",
      "0: 416x640 10 cars, 1 motorcycle, 2 buss, 1 truck, 7.5ms\n",
      "Speed: 3.5ms preprocess, 7.5ms inference, 12.2ms postprocess per image at shape (1, 3, 416, 640)\n",
      "\n",
      "0: 416x640 10 cars, 1 motorcycle, 2 buss, 1 truck, 7.3ms\n",
      "Speed: 2.8ms preprocess, 7.3ms inference, 1.5ms postprocess per image at shape (1, 3, 416, 640)\n",
      "\n",
      "0: 416x640 9 cars, 1 motorcycle, 2 buss, 1 truck, 7.4ms\n",
      "Speed: 3.5ms preprocess, 7.4ms inference, 11.3ms postprocess per image at shape (1, 3, 416, 640)\n",
      "\n",
      "0: 416x640 9 cars, 1 motorcycle, 2 buss, 1 truck, 9.3ms\n",
      "Speed: 4.2ms preprocess, 9.3ms inference, 10.0ms postprocess per image at shape (1, 3, 416, 640)\n",
      "\n",
      "0: 416x640 10 cars, 1 motorcycle, 2 buss, 7.5ms\n",
      "Speed: 4.6ms preprocess, 7.5ms inference, 12.0ms postprocess per image at shape (1, 3, 416, 640)\n",
      "\n",
      "0: 416x640 10 cars, 1 motorcycle, 2 buss, 7.4ms\n",
      "Speed: 3.1ms preprocess, 7.4ms inference, 9.8ms postprocess per image at shape (1, 3, 416, 640)\n",
      "\n",
      "0: 416x640 10 cars, 1 motorcycle, 2 buss, 7.5ms\n",
      "Speed: 3.8ms preprocess, 7.5ms inference, 11.2ms postprocess per image at shape (1, 3, 416, 640)\n",
      "\n",
      "0: 416x640 10 cars, 1 motorcycle, 2 buss, 7.5ms\n",
      "Speed: 3.4ms preprocess, 7.5ms inference, 7.7ms postprocess per image at shape (1, 3, 416, 640)\n",
      "\n",
      "0: 416x640 10 cars, 1 motorcycle, 2 buss, 1 truck, 7.6ms\n",
      "Speed: 4.0ms preprocess, 7.6ms inference, 11.9ms postprocess per image at shape (1, 3, 416, 640)\n",
      "\n",
      "0: 416x640 10 cars, 1 motorcycle, 2 buss, 1 truck, 8.5ms\n",
      "Speed: 4.1ms preprocess, 8.5ms inference, 11.7ms postprocess per image at shape (1, 3, 416, 640)\n",
      "\n",
      "0: 416x640 10 cars, 1 motorcycle, 2 buss, 1 truck, 7.4ms\n",
      "Speed: 4.2ms preprocess, 7.4ms inference, 11.7ms postprocess per image at shape (1, 3, 416, 640)\n",
      "\n",
      "0: 416x640 10 cars, 1 motorcycle, 2 buss, 1 truck, 10.1ms\n",
      "Speed: 2.9ms preprocess, 10.1ms inference, 2.4ms postprocess per image at shape (1, 3, 416, 640)\n",
      "\n",
      "0: 416x640 12 cars, 1 bus, 1 truck, 7.6ms\n",
      "Speed: 4.2ms preprocess, 7.6ms inference, 11.8ms postprocess per image at shape (1, 3, 416, 640)\n",
      "\n",
      "0: 416x640 12 cars, 1 bus, 1 truck, 7.4ms\n",
      "Speed: 4.4ms preprocess, 7.4ms inference, 11.3ms postprocess per image at shape (1, 3, 416, 640)\n",
      "\n",
      "0: 416x640 12 cars, 1 bus, 1 truck, 7.4ms\n",
      "Speed: 4.4ms preprocess, 7.4ms inference, 11.7ms postprocess per image at shape (1, 3, 416, 640)\n",
      "\n",
      "0: 416x640 12 cars, 1 bus, 1 truck, 7.3ms\n",
      "Speed: 3.0ms preprocess, 7.3ms inference, 1.4ms postprocess per image at shape (1, 3, 416, 640)\n",
      "\n",
      "0: 416x640 12 cars, 1 bus, 1 truck, 9.8ms\n",
      "Speed: 4.3ms preprocess, 9.8ms inference, 12.0ms postprocess per image at shape (1, 3, 416, 640)\n",
      "\n",
      "0: 416x640 12 cars, 1 bus, 1 truck, 9.2ms\n",
      "Speed: 4.1ms preprocess, 9.2ms inference, 11.5ms postprocess per image at shape (1, 3, 416, 640)\n",
      "\n",
      "0: 416x640 12 cars, 2 buss, 7.5ms\n",
      "Speed: 4.0ms preprocess, 7.5ms inference, 11.6ms postprocess per image at shape (1, 3, 416, 640)\n",
      "\n",
      "0: 416x640 10 cars, 2 buss, 1 truck, 10.1ms\n",
      "Speed: 5.1ms preprocess, 10.1ms inference, 2.4ms postprocess per image at shape (1, 3, 416, 640)\n",
      "\n",
      "0: 416x640 9 cars, 2 buss, 1 truck, 7.5ms\n",
      "Speed: 3.5ms preprocess, 7.5ms inference, 11.9ms postprocess per image at shape (1, 3, 416, 640)\n",
      "\n",
      "0: 416x640 9 cars, 2 buss, 1 truck, 7.4ms\n",
      "Speed: 4.1ms preprocess, 7.4ms inference, 11.4ms postprocess per image at shape (1, 3, 416, 640)\n",
      "\n",
      "0: 416x640 9 cars, 1 bus, 2 trucks, 7.5ms\n",
      "Speed: 4.1ms preprocess, 7.5ms inference, 11.5ms postprocess per image at shape (1, 3, 416, 640)\n",
      "\n",
      "0: 416x640 9 cars, 1 bus, 2 trucks, 10.1ms\n",
      "Speed: 5.5ms preprocess, 10.1ms inference, 2.5ms postprocess per image at shape (1, 3, 416, 640)\n",
      "\n",
      "0: 416x640 10 cars, 1 bus, 2 trucks, 9.8ms\n",
      "Speed: 4.4ms preprocess, 9.8ms inference, 4.9ms postprocess per image at shape (1, 3, 416, 640)\n",
      "\n",
      "0: 416x640 11 cars, 1 bus, 1 truck, 7.4ms\n",
      "Speed: 3.7ms preprocess, 7.4ms inference, 11.5ms postprocess per image at shape (1, 3, 416, 640)\n",
      "\n",
      "0: 416x640 10 cars, 1 bus, 2 trucks, 7.4ms\n",
      "Speed: 4.9ms preprocess, 7.4ms inference, 11.9ms postprocess per image at shape (1, 3, 416, 640)\n",
      "\n",
      "0: 416x640 10 cars, 2 buss, 1 truck, 12.4ms\n",
      "Speed: 4.6ms preprocess, 12.4ms inference, 12.1ms postprocess per image at shape (1, 3, 416, 640)\n",
      "\n",
      "0: 416x640 10 cars, 2 buss, 1 truck, 7.4ms\n",
      "Speed: 3.7ms preprocess, 7.4ms inference, 1.6ms postprocess per image at shape (1, 3, 416, 640)\n",
      "\n",
      "0: 416x640 10 cars, 2 buss, 1 truck, 7.4ms\n",
      "Speed: 4.9ms preprocess, 7.4ms inference, 11.6ms postprocess per image at shape (1, 3, 416, 640)\n",
      "\n",
      "0: 416x640 10 cars, 2 buss, 1 truck, 7.4ms\n",
      "Speed: 3.2ms preprocess, 7.4ms inference, 11.6ms postprocess per image at shape (1, 3, 416, 640)\n",
      "\n",
      "0: 416x640 10 cars, 1 bus, 2 trucks, 10.2ms\n",
      "Speed: 4.7ms preprocess, 10.2ms inference, 2.4ms postprocess per image at shape (1, 3, 416, 640)\n",
      "\n",
      "0: 416x640 10 cars, 1 bus, 2 trucks, 7.7ms\n",
      "Speed: 3.4ms preprocess, 7.7ms inference, 11.8ms postprocess per image at shape (1, 3, 416, 640)\n",
      "\n",
      "0: 416x640 10 cars, 1 bus, 2 trucks, 7.4ms\n",
      "Speed: 5.0ms preprocess, 7.4ms inference, 11.7ms postprocess per image at shape (1, 3, 416, 640)\n",
      "\n",
      "0: 416x640 10 cars, 1 bus, 2 trucks, 7.5ms\n",
      "Speed: 4.5ms preprocess, 7.5ms inference, 11.6ms postprocess per image at shape (1, 3, 416, 640)\n",
      "\n",
      "0: 416x640 10 cars, 1 bus, 2 trucks, 7.6ms\n",
      "Speed: 4.8ms preprocess, 7.6ms inference, 12.0ms postprocess per image at shape (1, 3, 416, 640)\n",
      "\n",
      "0: 416x640 11 cars, 1 bus, 2 trucks, 7.3ms\n",
      "Speed: 2.8ms preprocess, 7.3ms inference, 1.7ms postprocess per image at shape (1, 3, 416, 640)\n",
      "\n",
      "0: 416x640 11 cars, 1 bus, 2 trucks, 9.6ms\n",
      "Speed: 3.2ms preprocess, 9.6ms inference, 11.6ms postprocess per image at shape (1, 3, 416, 640)\n",
      "\n",
      "0: 416x640 11 cars, 1 bus, 2 trucks, 7.5ms\n",
      "Speed: 3.5ms preprocess, 7.5ms inference, 11.6ms postprocess per image at shape (1, 3, 416, 640)\n",
      "\n",
      "0: 416x640 12 cars, 1 bus, 1 truck, 7.7ms\n",
      "Speed: 3.7ms preprocess, 7.7ms inference, 12.0ms postprocess per image at shape (1, 3, 416, 640)\n",
      "\n",
      "0: 416x640 12 cars, 1 bus, 1 truck, 9.2ms\n",
      "Speed: 2.8ms preprocess, 9.2ms inference, 10.7ms postprocess per image at shape (1, 3, 416, 640)\n",
      "\n",
      "0: 416x640 12 cars, 1 bus, 1 truck, 7.5ms\n",
      "Speed: 3.4ms preprocess, 7.5ms inference, 11.4ms postprocess per image at shape (1, 3, 416, 640)\n",
      "\n",
      "0: 416x640 12 cars, 1 bus, 1 truck, 7.6ms\n",
      "Speed: 3.2ms preprocess, 7.6ms inference, 3.1ms postprocess per image at shape (1, 3, 416, 640)\n",
      "\n",
      "0: 416x640 12 cars, 1 bus, 1 truck, 7.5ms\n",
      "Speed: 4.4ms preprocess, 7.5ms inference, 12.0ms postprocess per image at shape (1, 3, 416, 640)\n",
      "\n",
      "0: 416x640 12 cars, 1 bus, 1 truck, 8.1ms\n",
      "Speed: 3.2ms preprocess, 8.1ms inference, 11.6ms postprocess per image at shape (1, 3, 416, 640)\n",
      "\n",
      "0: 416x640 12 cars, 1 bus, 1 truck, 7.5ms\n",
      "Speed: 3.8ms preprocess, 7.5ms inference, 11.8ms postprocess per image at shape (1, 3, 416, 640)\n",
      "\n",
      "0: 416x640 12 cars, 1 bus, 1 truck, 7.6ms\n",
      "Speed: 3.4ms preprocess, 7.6ms inference, 1.5ms postprocess per image at shape (1, 3, 416, 640)\n",
      "\n",
      "0: 416x640 11 cars, 1 bus, 2 trucks, 7.6ms\n",
      "Speed: 3.1ms preprocess, 7.6ms inference, 12.1ms postprocess per image at shape (1, 3, 416, 640)\n",
      "\n",
      "0: 416x640 12 cars, 1 bus, 1 truck, 7.3ms\n",
      "Speed: 2.8ms preprocess, 7.3ms inference, 1.6ms postprocess per image at shape (1, 3, 416, 640)\n",
      "\n",
      "0: 416x640 12 cars, 1 bus, 1 truck, 7.4ms\n",
      "Speed: 4.6ms preprocess, 7.4ms inference, 11.5ms postprocess per image at shape (1, 3, 416, 640)\n",
      "\n",
      "0: 416x640 12 cars, 1 bus, 1 truck, 7.4ms\n",
      "Speed: 4.1ms preprocess, 7.4ms inference, 11.7ms postprocess per image at shape (1, 3, 416, 640)\n",
      "\n",
      "0: 416x640 12 cars, 1 bus, 1 truck, 7.6ms\n",
      "Speed: 3.7ms preprocess, 7.6ms inference, 11.9ms postprocess per image at shape (1, 3, 416, 640)\n",
      "\n",
      "0: 416x640 12 cars, 1 bus, 1 truck, 7.4ms\n",
      "Speed: 4.3ms preprocess, 7.4ms inference, 9.8ms postprocess per image at shape (1, 3, 416, 640)\n",
      "\n",
      "0: 416x640 11 cars, 1 bus, 2 trucks, 7.3ms\n",
      "Speed: 4.1ms preprocess, 7.3ms inference, 11.3ms postprocess per image at shape (1, 3, 416, 640)\n",
      "\n",
      "0: 416x640 11 cars, 1 bus, 2 trucks, 7.6ms\n",
      "Speed: 5.1ms preprocess, 7.6ms inference, 7.6ms postprocess per image at shape (1, 3, 416, 640)\n",
      "\n",
      "0: 416x640 10 cars, 1 bus, 2 trucks, 7.6ms\n",
      "Speed: 3.4ms preprocess, 7.6ms inference, 11.9ms postprocess per image at shape (1, 3, 416, 640)\n",
      "\n",
      "0: 416x640 11 cars, 1 bus, 1 truck, 7.4ms\n",
      "Speed: 4.1ms preprocess, 7.4ms inference, 11.1ms postprocess per image at shape (1, 3, 416, 640)\n",
      "\n",
      "0: 416x640 11 cars, 1 bus, 1 truck, 7.4ms\n",
      "Speed: 3.1ms preprocess, 7.4ms inference, 11.3ms postprocess per image at shape (1, 3, 416, 640)\n",
      "\n",
      "0: 416x640 11 cars, 1 bus, 1 truck, 9.4ms\n",
      "Speed: 3.3ms preprocess, 9.4ms inference, 9.6ms postprocess per image at shape (1, 3, 416, 640)\n",
      "\n",
      "0: 416x640 11 cars, 1 bus, 1 truck, 7.6ms\n",
      "Speed: 4.1ms preprocess, 7.6ms inference, 11.9ms postprocess per image at shape (1, 3, 416, 640)\n",
      "\n",
      "0: 416x640 11 cars, 1 bus, 1 truck, 7.6ms\n",
      "Speed: 4.0ms preprocess, 7.6ms inference, 7.9ms postprocess per image at shape (1, 3, 416, 640)\n",
      "\n",
      "0: 416x640 11 cars, 1 bus, 1 truck, 7.4ms\n",
      "Speed: 3.1ms preprocess, 7.4ms inference, 11.5ms postprocess per image at shape (1, 3, 416, 640)\n",
      "\n",
      "0: 416x640 11 cars, 1 bus, 1 truck, 12.1ms\n",
      "Speed: 4.6ms preprocess, 12.1ms inference, 8.5ms postprocess per image at shape (1, 3, 416, 640)\n",
      "\n",
      "0: 416x640 10 cars, 1 bus, 2 trucks, 7.6ms\n",
      "Speed: 5.0ms preprocess, 7.6ms inference, 12.0ms postprocess per image at shape (1, 3, 416, 640)\n",
      "\n",
      "0: 416x640 10 cars, 1 bus, 2 trucks, 7.6ms\n",
      "Speed: 3.3ms preprocess, 7.6ms inference, 11.7ms postprocess per image at shape (1, 3, 416, 640)\n",
      "\n",
      "0: 416x640 11 cars, 1 bus, 1 truck, 7.5ms\n",
      "Speed: 3.7ms preprocess, 7.5ms inference, 11.6ms postprocess per image at shape (1, 3, 416, 640)\n",
      "\n",
      "0: 416x640 11 cars, 1 bus, 1 truck, 7.8ms\n",
      "Speed: 5.1ms preprocess, 7.8ms inference, 7.4ms postprocess per image at shape (1, 3, 416, 640)\n",
      "\n",
      "0: 416x640 11 cars, 1 bus, 1 truck, 7.4ms\n",
      "Speed: 3.7ms preprocess, 7.4ms inference, 11.3ms postprocess per image at shape (1, 3, 416, 640)\n",
      "\n",
      "0: 416x640 11 cars, 1 bus, 1 truck, 7.4ms\n",
      "Speed: 4.0ms preprocess, 7.4ms inference, 11.7ms postprocess per image at shape (1, 3, 416, 640)\n",
      "\n",
      "0: 416x640 11 cars, 1 bus, 1 truck, 7.6ms\n",
      "Speed: 3.2ms preprocess, 7.6ms inference, 11.8ms postprocess per image at shape (1, 3, 416, 640)\n",
      "\n",
      "0: 416x640 11 cars, 1 bus, 1 truck, 10.1ms\n",
      "Speed: 4.6ms preprocess, 10.1ms inference, 2.4ms postprocess per image at shape (1, 3, 416, 640)\n",
      "\n",
      "0: 416x640 10 cars, 1 bus, 2 trucks, 7.5ms\n",
      "Speed: 4.9ms preprocess, 7.5ms inference, 9.6ms postprocess per image at shape (1, 3, 416, 640)\n",
      "\n",
      "0: 416x640 10 cars, 2 buss, 1 truck, 7.4ms\n",
      "Speed: 4.4ms preprocess, 7.4ms inference, 11.6ms postprocess per image at shape (1, 3, 416, 640)\n",
      "\n",
      "0: 416x640 11 cars, 1 bus, 1 truck, 7.4ms\n",
      "Speed: 4.4ms preprocess, 7.4ms inference, 11.4ms postprocess per image at shape (1, 3, 416, 640)\n",
      "\n",
      "0: 416x640 11 cars, 1 bus, 1 truck, 10.1ms\n",
      "Speed: 4.2ms preprocess, 10.1ms inference, 2.5ms postprocess per image at shape (1, 3, 416, 640)\n",
      "\n",
      "0: 416x640 11 cars, 1 bus, 1 truck, 7.7ms\n",
      "Speed: 3.2ms preprocess, 7.7ms inference, 9.4ms postprocess per image at shape (1, 3, 416, 640)\n",
      "\n",
      "0: 416x640 10 cars, 1 bus, 2 trucks, 7.4ms\n",
      "Speed: 3.3ms preprocess, 7.4ms inference, 11.4ms postprocess per image at shape (1, 3, 416, 640)\n",
      "\n",
      "0: 416x640 10 cars, 2 buss, 1 truck, 7.2ms\n",
      "Speed: 4.0ms preprocess, 7.2ms inference, 11.9ms postprocess per image at shape (1, 3, 416, 640)\n",
      "\n",
      "0: 416x640 10 cars, 2 buss, 1 truck, 7.2ms\n",
      "Speed: 2.7ms preprocess, 7.2ms inference, 1.5ms postprocess per image at shape (1, 3, 416, 640)\n",
      "\n",
      "0: 416x640 12 cars, 2 buss, 7.5ms\n",
      "Speed: 3.6ms preprocess, 7.5ms inference, 12.1ms postprocess per image at shape (1, 3, 416, 640)\n",
      "\n",
      "0: 416x640 11 cars, 1 bus, 2 trucks, 7.9ms\n",
      "Speed: 2.9ms preprocess, 7.9ms inference, 9.4ms postprocess per image at shape (1, 3, 416, 640)\n",
      "\n",
      "0: 416x640 11 cars, 1 bus, 2 trucks, 7.3ms\n",
      "Speed: 4.7ms preprocess, 7.3ms inference, 11.6ms postprocess per image at shape (1, 3, 416, 640)\n",
      "\n",
      "0: 416x640 11 cars, 1 bus, 2 trucks, 7.4ms\n",
      "Speed: 3.1ms preprocess, 7.4ms inference, 7.5ms postprocess per image at shape (1, 3, 416, 640)\n",
      "\n",
      "0: 416x640 11 cars, 1 bus, 2 trucks, 7.5ms\n",
      "Speed: 4.1ms preprocess, 7.5ms inference, 12.0ms postprocess per image at shape (1, 3, 416, 640)\n",
      "\n",
      "0: 416x640 11 cars, 1 bus, 2 trucks, 8.6ms\n",
      "Speed: 4.0ms preprocess, 8.6ms inference, 11.4ms postprocess per image at shape (1, 3, 416, 640)\n",
      "\n",
      "0: 416x640 11 cars, 1 bus, 2 trucks, 7.4ms\n",
      "Speed: 3.8ms preprocess, 7.4ms inference, 11.6ms postprocess per image at shape (1, 3, 416, 640)\n",
      "\n",
      "0: 416x640 11 cars, 1 bus, 2 trucks, 9.5ms\n",
      "Speed: 3.1ms preprocess, 9.5ms inference, 2.4ms postprocess per image at shape (1, 3, 416, 640)\n",
      "\n",
      "0: 416x640 11 cars, 1 bus, 2 trucks, 7.6ms\n",
      "Speed: 3.9ms preprocess, 7.6ms inference, 11.9ms postprocess per image at shape (1, 3, 416, 640)\n",
      "\n",
      "0: 416x640 10 cars, 1 bus, 2 trucks, 7.6ms\n",
      "Speed: 3.4ms preprocess, 7.6ms inference, 11.6ms postprocess per image at shape (1, 3, 416, 640)\n",
      "\n",
      "0: 416x640 10 cars, 2 buss, 1 truck, 7.4ms\n",
      "Speed: 4.8ms preprocess, 7.4ms inference, 11.5ms postprocess per image at shape (1, 3, 416, 640)\n",
      "\n",
      "0: 416x640 10 cars, 1 bus, 2 trucks, 10.1ms\n",
      "Speed: 5.0ms preprocess, 10.1ms inference, 2.4ms postprocess per image at shape (1, 3, 416, 640)\n",
      "\n",
      "0: 416x640 10 cars, 1 bus, 2 trucks, 7.5ms\n",
      "Speed: 3.1ms preprocess, 7.5ms inference, 11.9ms postprocess per image at shape (1, 3, 416, 640)\n",
      "\n",
      "0: 416x640 10 cars, 1 bus, 2 trucks, 7.3ms\n",
      "Speed: 4.9ms preprocess, 7.3ms inference, 11.4ms postprocess per image at shape (1, 3, 416, 640)\n",
      "\n",
      "0: 416x640 10 cars, 2 buss, 1 truck, 7.7ms\n",
      "Speed: 5.2ms preprocess, 7.7ms inference, 11.4ms postprocess per image at shape (1, 3, 416, 640)\n",
      "\n",
      "0: 416x640 12 cars, 1 bus, 1 truck, 7.2ms\n",
      "Speed: 2.8ms preprocess, 7.2ms inference, 1.6ms postprocess per image at shape (1, 3, 416, 640)\n",
      "\n",
      "0: 416x640 12 cars, 1 bus, 1 truck, 7.7ms\n",
      "Speed: 3.0ms preprocess, 7.7ms inference, 12.2ms postprocess per image at shape (1, 3, 416, 640)\n",
      "\n",
      "0: 416x640 12 cars, 2 buss, 7.5ms\n",
      "Speed: 4.4ms preprocess, 7.5ms inference, 10.6ms postprocess per image at shape (1, 3, 416, 640)\n",
      "\n",
      "0: 416x640 12 cars, 1 bus, 1 truck, 7.3ms\n",
      "Speed: 4.8ms preprocess, 7.3ms inference, 11.4ms postprocess per image at shape (1, 3, 416, 640)\n",
      "\n",
      "0: 416x640 12 cars, 1 bus, 1 truck, 7.5ms\n",
      "Speed: 3.3ms preprocess, 7.5ms inference, 5.2ms postprocess per image at shape (1, 3, 416, 640)\n",
      "\n",
      "0: 416x640 12 cars, 2 buss, 7.5ms\n",
      "Speed: 3.2ms preprocess, 7.5ms inference, 12.0ms postprocess per image at shape (1, 3, 416, 640)\n",
      "\n",
      "0: 416x640 12 cars, 2 buss, 9.2ms\n",
      "Speed: 4.9ms preprocess, 9.2ms inference, 9.9ms postprocess per image at shape (1, 3, 416, 640)\n",
      "\n",
      "0: 416x640 12 cars, 2 buss, 7.3ms\n",
      "Speed: 5.0ms preprocess, 7.3ms inference, 11.6ms postprocess per image at shape (1, 3, 416, 640)\n",
      "\n",
      "0: 416x640 11 cars, 1 bus, 2 trucks, 7.4ms\n",
      "Speed: 3.6ms preprocess, 7.4ms inference, 1.6ms postprocess per image at shape (1, 3, 416, 640)\n",
      "\n",
      "0: 416x640 12 cars, 1 bus, 2 trucks, 7.6ms\n",
      "Speed: 3.6ms preprocess, 7.6ms inference, 12.1ms postprocess per image at shape (1, 3, 416, 640)\n",
      "\n",
      "0: 416x640 12 cars, 1 bus, 2 trucks, 9.5ms\n",
      "Speed: 4.7ms preprocess, 9.5ms inference, 11.5ms postprocess per image at shape (1, 3, 416, 640)\n",
      "\n",
      "0: 416x640 12 cars, 1 bus, 2 trucks, 7.4ms\n",
      "Speed: 3.8ms preprocess, 7.4ms inference, 11.6ms postprocess per image at shape (1, 3, 416, 640)\n",
      "\n",
      "0: 416x640 13 cars, 1 bus, 1 truck, 10.4ms\n",
      "Speed: 2.8ms preprocess, 10.4ms inference, 2.4ms postprocess per image at shape (1, 3, 416, 640)\n",
      "\n",
      "0: 416x640 12 cars, 1 bus, 2 trucks, 7.6ms\n",
      "Speed: 3.3ms preprocess, 7.6ms inference, 11.8ms postprocess per image at shape (1, 3, 416, 640)\n",
      "\n",
      "0: 416x640 11 cars, 1 bus, 2 trucks, 7.4ms\n",
      "Speed: 4.0ms preprocess, 7.4ms inference, 11.6ms postprocess per image at shape (1, 3, 416, 640)\n",
      "\n",
      "0: 416x640 11 cars, 1 bus, 2 trucks, 7.6ms\n",
      "Speed: 3.6ms preprocess, 7.6ms inference, 11.7ms postprocess per image at shape (1, 3, 416, 640)\n",
      "\n",
      "0: 416x640 11 cars, 1 bus, 2 trucks, 7.2ms\n",
      "Speed: 2.9ms preprocess, 7.2ms inference, 1.5ms postprocess per image at shape (1, 3, 416, 640)\n",
      "\n",
      "0: 416x640 11 cars, 1 bus, 2 trucks, 7.5ms\n",
      "Speed: 5.0ms preprocess, 7.5ms inference, 11.9ms postprocess per image at shape (1, 3, 416, 640)\n",
      "\n",
      "0: 416x640 11 cars, 1 bus, 2 trucks, 7.7ms\n",
      "Speed: 3.7ms preprocess, 7.7ms inference, 11.8ms postprocess per image at shape (1, 3, 416, 640)\n",
      "\n",
      "0: 416x640 12 cars, 1 bus, 1 truck, 7.5ms\n",
      "Speed: 3.6ms preprocess, 7.5ms inference, 11.5ms postprocess per image at shape (1, 3, 416, 640)\n",
      "\n",
      "0: 416x640 11 cars, 1 bus, 2 trucks, 10.1ms\n",
      "Speed: 2.9ms preprocess, 10.1ms inference, 2.4ms postprocess per image at shape (1, 3, 416, 640)\n",
      "\n",
      "0: 416x640 11 cars, 1 bus, 2 trucks, 7.5ms\n",
      "Speed: 4.5ms preprocess, 7.5ms inference, 11.9ms postprocess per image at shape (1, 3, 416, 640)\n",
      "\n",
      "0: 416x640 11 cars, 1 bus, 2 trucks, 7.4ms\n",
      "Speed: 4.0ms preprocess, 7.4ms inference, 11.6ms postprocess per image at shape (1, 3, 416, 640)\n",
      "\n",
      "0: 416x640 12 cars, 1 bus, 1 truck, 7.3ms\n",
      "Speed: 4.0ms preprocess, 7.3ms inference, 11.8ms postprocess per image at shape (1, 3, 416, 640)\n",
      "\n",
      "0: 416x640 11 cars, 1 bus, 1 truck, 11.3ms\n",
      "Speed: 4.6ms preprocess, 11.3ms inference, 12.2ms postprocess per image at shape (1, 3, 416, 640)\n",
      "\n",
      "0: 416x640 11 cars, 2 buss, 7.2ms\n",
      "Speed: 3.6ms preprocess, 7.2ms inference, 1.5ms postprocess per image at shape (1, 3, 416, 640)\n",
      "\n",
      "0: 416x640 11 cars, 2 buss, 7.5ms\n",
      "Speed: 4.4ms preprocess, 7.5ms inference, 11.3ms postprocess per image at shape (1, 3, 416, 640)\n",
      "\n",
      "0: 416x640 12 cars, 2 buss, 7.4ms\n",
      "Speed: 4.9ms preprocess, 7.4ms inference, 11.6ms postprocess per image at shape (1, 3, 416, 640)\n",
      "\n",
      "0: 416x640 11 cars, 1 bus, 1 truck, 7.6ms\n",
      "Speed: 4.1ms preprocess, 7.6ms inference, 11.9ms postprocess per image at shape (1, 3, 416, 640)\n",
      "\n",
      "0: 416x640 1 person, 12 cars, 2 buss, 7.2ms\n",
      "Speed: 2.8ms preprocess, 7.2ms inference, 1.6ms postprocess per image at shape (1, 3, 416, 640)\n",
      "\n",
      "0: 416x640 12 cars, 1 bus, 1 truck, 7.6ms\n",
      "Speed: 5.3ms preprocess, 7.6ms inference, 11.7ms postprocess per image at shape (1, 3, 416, 640)\n",
      "\n",
      "0: 416x640 12 cars, 2 buss, 7.5ms\n",
      "Speed: 3.6ms preprocess, 7.5ms inference, 11.7ms postprocess per image at shape (1, 3, 416, 640)\n",
      "\n",
      "0: 416x640 12 cars, 2 buss, 12.4ms\n",
      "Speed: 4.7ms preprocess, 12.4ms inference, 12.1ms postprocess per image at shape (1, 3, 416, 640)\n",
      "\n",
      "0: 416x640 12 cars, 1 bus, 1 truck, 7.3ms\n",
      "Speed: 3.1ms preprocess, 7.3ms inference, 1.5ms postprocess per image at shape (1, 3, 416, 640)\n",
      "\n",
      "0: 416x640 12 cars, 2 buss, 7.4ms\n",
      "Speed: 4.2ms preprocess, 7.4ms inference, 11.5ms postprocess per image at shape (1, 3, 416, 640)\n",
      "\n",
      "0: 416x640 12 cars, 2 buss, 7.3ms\n",
      "Speed: 4.2ms preprocess, 7.3ms inference, 11.6ms postprocess per image at shape (1, 3, 416, 640)\n",
      "\n",
      "0: 416x640 12 cars, 2 buss, 7.6ms\n",
      "Speed: 4.9ms preprocess, 7.6ms inference, 12.1ms postprocess per image at shape (1, 3, 416, 640)\n",
      "\n",
      "0: 416x640 12 cars, 2 buss, 7.3ms\n",
      "Speed: 2.9ms preprocess, 7.3ms inference, 1.5ms postprocess per image at shape (1, 3, 416, 640)\n",
      "\n",
      "0: 416x640 12 cars, 2 buss, 7.6ms\n",
      "Speed: 3.9ms preprocess, 7.6ms inference, 11.3ms postprocess per image at shape (1, 3, 416, 640)\n",
      "\n",
      "0: 416x640 12 cars, 2 buss, 7.4ms\n",
      "Speed: 3.6ms preprocess, 7.4ms inference, 10.3ms postprocess per image at shape (1, 3, 416, 640)\n",
      "\n",
      "0: 416x640 12 cars, 2 buss, 7.6ms\n",
      "Speed: 4.5ms preprocess, 7.6ms inference, 12.1ms postprocess per image at shape (1, 3, 416, 640)\n",
      "\n",
      "0: 416x640 12 cars, 1 bus, 1 truck, 9.2ms\n",
      "Speed: 4.1ms preprocess, 9.2ms inference, 9.4ms postprocess per image at shape (1, 3, 416, 640)\n",
      "\n",
      "0: 416x640 11 cars, 1 bus, 2 trucks, 7.4ms\n",
      "Speed: 3.6ms preprocess, 7.4ms inference, 11.8ms postprocess per image at shape (1, 3, 416, 640)\n",
      "\n",
      "0: 416x640 12 cars, 2 buss, 9.7ms\n",
      "Speed: 3.8ms preprocess, 9.7ms inference, 2.5ms postprocess per image at shape (1, 3, 416, 640)\n",
      "\n",
      "0: 416x640 11 cars, 2 buss, 1 truck, 10.1ms\n",
      "Speed: 4.4ms preprocess, 10.1ms inference, 8.7ms postprocess per image at shape (1, 3, 416, 640)\n",
      "\n",
      "0: 416x640 12 cars, 2 buss, 7.5ms\n",
      "Speed: 4.2ms preprocess, 7.5ms inference, 11.4ms postprocess per image at shape (1, 3, 416, 640)\n",
      "\n",
      "0: 416x640 12 cars, 1 bus, 1 truck, 7.4ms\n",
      "Speed: 4.1ms preprocess, 7.4ms inference, 11.6ms postprocess per image at shape (1, 3, 416, 640)\n",
      "\n",
      "0: 416x640 11 cars, 2 buss, 8.8ms\n",
      "Speed: 2.9ms preprocess, 8.8ms inference, 2.4ms postprocess per image at shape (1, 3, 416, 640)\n",
      "\n",
      "0: 416x640 11 cars, 2 buss, 7.7ms\n",
      "Speed: 3.9ms preprocess, 7.7ms inference, 11.9ms postprocess per image at shape (1, 3, 416, 640)\n",
      "\n",
      "0: 416x640 11 cars, 1 bus, 1 truck, 7.5ms\n",
      "Speed: 4.5ms preprocess, 7.5ms inference, 11.7ms postprocess per image at shape (1, 3, 416, 640)\n",
      "\n",
      "0: 416x640 11 cars, 2 buss, 1 truck, 7.6ms\n",
      "Speed: 5.0ms preprocess, 7.6ms inference, 11.5ms postprocess per image at shape (1, 3, 416, 640)\n",
      "\n",
      "0: 416x640 12 cars, 1 bus, 1 truck, 10.1ms\n",
      "Speed: 5.0ms preprocess, 10.1ms inference, 2.4ms postprocess per image at shape (1, 3, 416, 640)\n",
      "\n",
      "0: 416x640 12 cars, 1 bus, 1 truck, 7.6ms\n",
      "Speed: 4.7ms preprocess, 7.6ms inference, 2.7ms postprocess per image at shape (1, 3, 416, 640)\n",
      "\n",
      "0: 416x640 13 cars, 1 bus, 1 truck, 9.7ms\n",
      "Speed: 5.0ms preprocess, 9.7ms inference, 11.6ms postprocess per image at shape (1, 3, 416, 640)\n",
      "\n",
      "0: 416x640 13 cars, 2 buss, 7.4ms\n",
      "Speed: 4.7ms preprocess, 7.4ms inference, 11.6ms postprocess per image at shape (1, 3, 416, 640)\n",
      "\n",
      "0: 416x640 13 cars, 2 buss, 7.5ms\n",
      "Speed: 5.0ms preprocess, 7.5ms inference, 12.1ms postprocess per image at shape (1, 3, 416, 640)\n",
      "\n",
      "0: 416x640 13 cars, 2 buss, 7.3ms\n",
      "Speed: 2.9ms preprocess, 7.3ms inference, 1.7ms postprocess per image at shape (1, 3, 416, 640)\n",
      "\n",
      "0: 416x640 13 cars, 2 buss, 7.5ms\n",
      "Speed: 4.1ms preprocess, 7.5ms inference, 11.5ms postprocess per image at shape (1, 3, 416, 640)\n",
      "\n",
      "0: 416x640 13 cars, 2 buss, 8.4ms\n",
      "Speed: 5.0ms preprocess, 8.4ms inference, 9.4ms postprocess per image at shape (1, 3, 416, 640)\n",
      "\n",
      "0: 416x640 12 cars, 2 buss, 1 truck, 7.5ms\n",
      "Speed: 4.1ms preprocess, 7.5ms inference, 12.1ms postprocess per image at shape (1, 3, 416, 640)\n",
      "\n",
      "0: 416x640 13 cars, 2 buss, 9.6ms\n",
      "Speed: 4.8ms preprocess, 9.6ms inference, 11.5ms postprocess per image at shape (1, 3, 416, 640)\n",
      "\n",
      "0: 416x640 13 cars, 2 buss, 7.4ms\n",
      "Speed: 4.9ms preprocess, 7.4ms inference, 11.5ms postprocess per image at shape (1, 3, 416, 640)\n",
      "\n",
      "0: 416x640 13 cars, 2 buss, 7.4ms\n",
      "Speed: 2.9ms preprocess, 7.4ms inference, 1.5ms postprocess per image at shape (1, 3, 416, 640)\n",
      "\n",
      "0: 416x640 13 cars, 2 buss, 7.5ms\n",
      "Speed: 4.1ms preprocess, 7.5ms inference, 12.0ms postprocess per image at shape (1, 3, 416, 640)\n",
      "\n",
      "0: 416x640 13 cars, 2 buss, 9.0ms\n",
      "Speed: 3.0ms preprocess, 9.0ms inference, 8.1ms postprocess per image at shape (1, 3, 416, 640)\n",
      "\n",
      "0: 416x640 13 cars, 2 buss, 7.3ms\n",
      "Speed: 4.6ms preprocess, 7.3ms inference, 11.6ms postprocess per image at shape (1, 3, 416, 640)\n",
      "\n",
      "0: 416x640 13 cars, 2 buss, 9.4ms\n",
      "Speed: 2.8ms preprocess, 9.4ms inference, 2.4ms postprocess per image at shape (1, 3, 416, 640)\n",
      "\n",
      "0: 416x640 13 cars, 2 buss, 7.6ms\n",
      "Speed: 4.1ms preprocess, 7.6ms inference, 11.9ms postprocess per image at shape (1, 3, 416, 640)\n",
      "\n",
      "0: 416x640 13 cars, 2 buss, 7.4ms\n",
      "Speed: 4.3ms preprocess, 7.4ms inference, 11.3ms postprocess per image at shape (1, 3, 416, 640)\n",
      "\n",
      "0: 416x640 13 cars, 2 buss, 7.4ms\n",
      "Speed: 4.6ms preprocess, 7.4ms inference, 11.8ms postprocess per image at shape (1, 3, 416, 640)\n",
      "\n",
      "0: 416x640 12 cars, 2 buss, 10.8ms\n",
      "Speed: 4.8ms preprocess, 10.8ms inference, 12.1ms postprocess per image at shape (1, 3, 416, 640)\n",
      "\n",
      "0: 416x640 12 cars, 2 buss, 8.5ms\n",
      "Speed: 2.8ms preprocess, 8.5ms inference, 1.5ms postprocess per image at shape (1, 3, 416, 640)\n",
      "\n",
      "0: 416x640 13 cars, 2 buss, 7.5ms\n",
      "Speed: 5.2ms preprocess, 7.5ms inference, 11.6ms postprocess per image at shape (1, 3, 416, 640)\n",
      "\n",
      "0: 416x640 13 cars, 1 bus, 1 truck, 7.5ms\n",
      "Speed: 3.6ms preprocess, 7.5ms inference, 11.7ms postprocess per image at shape (1, 3, 416, 640)\n",
      "\n",
      "0: 416x640 13 cars, 1 bus, 7.7ms\n",
      "Speed: 3.7ms preprocess, 7.7ms inference, 11.8ms postprocess per image at shape (1, 3, 416, 640)\n",
      "\n",
      "0: 416x640 13 cars, 1 bus, 8.2ms\n",
      "Speed: 3.2ms preprocess, 8.2ms inference, 1.7ms postprocess per image at shape (1, 3, 416, 640)\n",
      "\n",
      "0: 416x640 13 cars, 1 bus, 9.6ms\n",
      "Speed: 3.4ms preprocess, 9.6ms inference, 11.4ms postprocess per image at shape (1, 3, 416, 640)\n",
      "\n",
      "0: 416x640 13 cars, 1 bus, 7.4ms\n",
      "Speed: 4.8ms preprocess, 7.4ms inference, 10.6ms postprocess per image at shape (1, 3, 416, 640)\n",
      "\n",
      "0: 416x640 13 cars, 1 bus, 7.7ms\n",
      "Speed: 6.5ms preprocess, 7.7ms inference, 12.0ms postprocess per image at shape (1, 3, 416, 640)\n",
      "\n",
      "0: 416x640 13 cars, 1 bus, 8.4ms\n",
      "Speed: 3.2ms preprocess, 8.4ms inference, 1.7ms postprocess per image at shape (1, 3, 416, 640)\n",
      "\n",
      "0: 416x640 13 cars, 1 bus, 9.8ms\n",
      "Speed: 4.0ms preprocess, 9.8ms inference, 11.3ms postprocess per image at shape (1, 3, 416, 640)\n",
      "\n",
      "0: 416x640 13 cars, 1 bus, 8.4ms\n",
      "Speed: 5.4ms preprocess, 8.4ms inference, 1.7ms postprocess per image at shape (1, 3, 416, 640)\n",
      "\n",
      "0: 416x640 13 cars, 1 bus, 7.5ms\n",
      "Speed: 3.4ms preprocess, 7.5ms inference, 12.0ms postprocess per image at shape (1, 3, 416, 640)\n",
      "\n",
      "0: 416x640 13 cars, 1 bus, 7.2ms\n",
      "Speed: 3.9ms preprocess, 7.2ms inference, 11.4ms postprocess per image at shape (1, 3, 416, 640)\n",
      "\n",
      "0: 416x640 13 cars, 1 bus, 7.5ms\n",
      "Speed: 5.0ms preprocess, 7.5ms inference, 11.6ms postprocess per image at shape (1, 3, 416, 640)\n",
      "\n",
      "0: 416x640 13 cars, 1 bus, 10.1ms\n",
      "Speed: 4.3ms preprocess, 10.1ms inference, 10.3ms postprocess per image at shape (1, 3, 416, 640)\n",
      "\n",
      "0: 416x640 13 cars, 1 bus, 7.5ms\n",
      "Speed: 2.8ms preprocess, 7.5ms inference, 2.5ms postprocess per image at shape (1, 3, 416, 640)\n",
      "\n",
      "0: 416x640 13 cars, 1 bus, 7.5ms\n",
      "Speed: 3.9ms preprocess, 7.5ms inference, 11.6ms postprocess per image at shape (1, 3, 416, 640)\n",
      "\n",
      "0: 416x640 13 cars, 1 bus, 7.6ms\n",
      "Speed: 4.2ms preprocess, 7.6ms inference, 11.8ms postprocess per image at shape (1, 3, 416, 640)\n",
      "\n",
      "0: 416x640 13 cars, 1 bus, 10.0ms\n",
      "Speed: 5.0ms preprocess, 10.0ms inference, 11.9ms postprocess per image at shape (1, 3, 416, 640)\n",
      "\n",
      "0: 416x640 12 cars, 1 bus, 7.3ms\n",
      "Speed: 2.8ms preprocess, 7.3ms inference, 1.5ms postprocess per image at shape (1, 3, 416, 640)\n",
      "\n",
      "0: 416x640 12 cars, 1 bus, 9.7ms\n",
      "Speed: 4.9ms preprocess, 9.7ms inference, 11.7ms postprocess per image at shape (1, 3, 416, 640)\n",
      "\n",
      "0: 416x640 12 cars, 1 bus, 7.5ms\n",
      "Speed: 4.0ms preprocess, 7.5ms inference, 11.9ms postprocess per image at shape (1, 3, 416, 640)\n",
      "\n",
      "0: 416x640 12 cars, 1 bus, 10.0ms\n",
      "Speed: 4.9ms preprocess, 10.0ms inference, 2.4ms postprocess per image at shape (1, 3, 416, 640)\n",
      "\n",
      "0: 416x640 12 cars, 1 bus, 7.5ms\n",
      "Speed: 4.1ms preprocess, 7.5ms inference, 12.1ms postprocess per image at shape (1, 3, 416, 640)\n",
      "\n",
      "0: 416x640 12 cars, 1 bus, 7.4ms\n",
      "Speed: 4.9ms preprocess, 7.4ms inference, 11.7ms postprocess per image at shape (1, 3, 416, 640)\n",
      "\n",
      "0: 416x640 12 cars, 1 bus, 9.7ms\n",
      "Speed: 3.8ms preprocess, 9.7ms inference, 11.6ms postprocess per image at shape (1, 3, 416, 640)\n",
      "\n",
      "0: 416x640 12 cars, 1 bus, 10.2ms\n",
      "Speed: 5.1ms preprocess, 10.2ms inference, 2.3ms postprocess per image at shape (1, 3, 416, 640)\n",
      "\n",
      "0: 416x640 12 cars, 1 bus, 10.0ms\n",
      "Speed: 3.9ms preprocess, 10.0ms inference, 7.2ms postprocess per image at shape (1, 3, 416, 640)\n",
      "\n",
      "0: 416x640 12 cars, 1 bus, 9.8ms\n",
      "Speed: 4.7ms preprocess, 9.8ms inference, 11.2ms postprocess per image at shape (1, 3, 416, 640)\n",
      "\n",
      "0: 416x640 12 cars, 1 bus, 7.5ms\n",
      "Speed: 3.4ms preprocess, 7.5ms inference, 11.5ms postprocess per image at shape (1, 3, 416, 640)\n",
      "\n",
      "0: 416x640 12 cars, 1 bus, 10.1ms\n",
      "Speed: 4.7ms preprocess, 10.1ms inference, 2.5ms postprocess per image at shape (1, 3, 416, 640)\n",
      "\n",
      "0: 416x640 12 cars, 1 bus, 10.0ms\n",
      "Speed: 3.4ms preprocess, 10.0ms inference, 4.9ms postprocess per image at shape (1, 3, 416, 640)\n",
      "\n",
      "0: 416x640 12 cars, 1 bus, 7.5ms\n",
      "Speed: 4.7ms preprocess, 7.5ms inference, 11.6ms postprocess per image at shape (1, 3, 416, 640)\n",
      "\n",
      "0: 416x640 12 cars, 1 bus, 9.6ms\n",
      "Speed: 3.6ms preprocess, 9.6ms inference, 11.5ms postprocess per image at shape (1, 3, 416, 640)\n",
      "\n",
      "0: 416x640 12 cars, 1 bus, 10.1ms\n",
      "Speed: 4.2ms preprocess, 10.1ms inference, 2.4ms postprocess per image at shape (1, 3, 416, 640)\n",
      "\n",
      "0: 416x640 12 cars, 1 bus, 9.9ms\n",
      "Speed: 4.3ms preprocess, 9.9ms inference, 11.2ms postprocess per image at shape (1, 3, 416, 640)\n",
      "\n",
      "0: 416x640 12 cars, 1 bus, 9.6ms\n",
      "Speed: 3.9ms preprocess, 9.6ms inference, 11.6ms postprocess per image at shape (1, 3, 416, 640)\n",
      "\n",
      "0: 416x640 12 cars, 1 bus, 9.8ms\n",
      "Speed: 5.3ms preprocess, 9.8ms inference, 11.8ms postprocess per image at shape (1, 3, 416, 640)\n",
      "\n",
      "0: 416x640 12 cars, 1 bus, 7.3ms\n",
      "Speed: 2.9ms preprocess, 7.3ms inference, 1.7ms postprocess per image at shape (1, 3, 416, 640)\n",
      "\n",
      "0: 416x640 12 cars, 1 bus, 7.7ms\n",
      "Speed: 4.2ms preprocess, 7.7ms inference, 11.9ms postprocess per image at shape (1, 3, 416, 640)\n",
      "\n",
      "0: 416x640 12 cars, 1 bus, 9.7ms\n",
      "Speed: 3.1ms preprocess, 9.7ms inference, 11.8ms postprocess per image at shape (1, 3, 416, 640)\n",
      "\n",
      "0: 416x640 12 cars, 1 bus, 9.9ms\n",
      "Speed: 5.0ms preprocess, 9.9ms inference, 11.7ms postprocess per image at shape (1, 3, 416, 640)\n",
      "\n",
      "0: 416x640 12 cars, 1 bus, 9.8ms\n",
      "Speed: 3.8ms preprocess, 9.8ms inference, 12.0ms postprocess per image at shape (1, 3, 416, 640)\n",
      "\n",
      "0: 416x640 12 cars, 1 bus, 10.5ms\n",
      "Speed: 3.2ms preprocess, 10.5ms inference, 11.4ms postprocess per image at shape (1, 3, 416, 640)\n",
      "\n",
      "0: 416x640 13 cars, 1 bus, 9.5ms\n",
      "Speed: 3.8ms preprocess, 9.5ms inference, 11.5ms postprocess per image at shape (1, 3, 416, 640)\n",
      "\n",
      "0: 416x640 13 cars, 1 bus, 7.6ms\n",
      "Speed: 3.0ms preprocess, 7.6ms inference, 7.6ms postprocess per image at shape (1, 3, 416, 640)\n",
      "\n",
      "0: 416x640 13 cars, 1 bus, 7.6ms\n",
      "Speed: 4.2ms preprocess, 7.6ms inference, 12.0ms postprocess per image at shape (1, 3, 416, 640)\n",
      "\n",
      "0: 416x640 13 cars, 1 bus, 8.7ms\n",
      "Speed: 3.8ms preprocess, 8.7ms inference, 9.8ms postprocess per image at shape (1, 3, 416, 640)\n",
      "\n",
      "0: 416x640 13 cars, 1 bus, 9.6ms\n",
      "Speed: 4.5ms preprocess, 9.6ms inference, 11.5ms postprocess per image at shape (1, 3, 416, 640)\n",
      "\n",
      "0: 416x640 13 cars, 1 bus, 8.9ms\n",
      "Speed: 3.4ms preprocess, 8.9ms inference, 2.4ms postprocess per image at shape (1, 3, 416, 640)\n",
      "\n",
      "0: 416x640 13 cars, 1 bus, 7.6ms\n",
      "Speed: 5.2ms preprocess, 7.6ms inference, 11.9ms postprocess per image at shape (1, 3, 416, 640)\n",
      "\n",
      "0: 416x640 13 cars, 1 bus, 8.7ms\n",
      "Speed: 3.3ms preprocess, 8.7ms inference, 11.7ms postprocess per image at shape (1, 3, 416, 640)\n",
      "\n",
      "0: 416x640 13 cars, 1 bus, 7.6ms\n",
      "Speed: 5.0ms preprocess, 7.6ms inference, 11.3ms postprocess per image at shape (1, 3, 416, 640)\n",
      "\n",
      "0: 416x640 13 cars, 1 bus, 7.3ms\n",
      "Speed: 2.8ms preprocess, 7.3ms inference, 1.4ms postprocess per image at shape (1, 3, 416, 640)\n",
      "\n",
      "0: 416x640 13 cars, 1 bus, 7.8ms\n",
      "Speed: 3.3ms preprocess, 7.8ms inference, 11.9ms postprocess per image at shape (1, 3, 416, 640)\n",
      "\n",
      "0: 416x640 12 cars, 1 bus, 9.3ms\n",
      "Speed: 2.8ms preprocess, 9.3ms inference, 11.2ms postprocess per image at shape (1, 3, 416, 640)\n",
      "\n",
      "0: 416x640 12 cars, 1 bus, 7.5ms\n",
      "Speed: 4.7ms preprocess, 7.5ms inference, 11.4ms postprocess per image at shape (1, 3, 416, 640)\n",
      "\n",
      "0: 416x640 12 cars, 1 bus, 7.7ms\n",
      "Speed: 5.3ms preprocess, 7.7ms inference, 5.2ms postprocess per image at shape (1, 3, 416, 640)\n",
      "\n",
      "0: 416x640 12 cars, 1 bus, 7.5ms\n",
      "Speed: 3.7ms preprocess, 7.5ms inference, 11.9ms postprocess per image at shape (1, 3, 416, 640)\n",
      "\n",
      "0: 416x640 12 cars, 1 bus, 7.6ms\n",
      "Speed: 3.2ms preprocess, 7.6ms inference, 11.4ms postprocess per image at shape (1, 3, 416, 640)\n",
      "\n",
      "0: 416x640 12 cars, 1 bus, 7.3ms\n",
      "Speed: 3.7ms preprocess, 7.3ms inference, 11.5ms postprocess per image at shape (1, 3, 416, 640)\n",
      "\n",
      "0: 416x640 12 cars, 1 bus, 7.9ms\n",
      "Speed: 5.0ms preprocess, 7.9ms inference, 5.4ms postprocess per image at shape (1, 3, 416, 640)\n",
      "\n",
      "0: 416x640 12 cars, 1 bus, 7.5ms\n",
      "Speed: 2.9ms preprocess, 7.5ms inference, 11.9ms postprocess per image at shape (1, 3, 416, 640)\n",
      "\n",
      "0: 416x640 12 cars, 1 bus, 7.5ms\n",
      "Speed: 3.8ms preprocess, 7.5ms inference, 7.8ms postprocess per image at shape (1, 3, 416, 640)\n",
      "\n",
      "0: 416x640 12 cars, 1 bus, 7.3ms\n",
      "Speed: 3.7ms preprocess, 7.3ms inference, 11.6ms postprocess per image at shape (1, 3, 416, 640)\n",
      "\n",
      "0: 416x640 12 cars, 1 bus, 8.0ms\n",
      "Speed: 3.7ms preprocess, 8.0ms inference, 9.5ms postprocess per image at shape (1, 3, 416, 640)\n",
      "\n",
      "0: 416x640 12 cars, 1 bus, 7.7ms\n",
      "Speed: 3.3ms preprocess, 7.7ms inference, 12.2ms postprocess per image at shape (1, 3, 416, 640)\n",
      "\n",
      "0: 416x640 12 cars, 1 bus, 7.5ms\n",
      "Speed: 5.0ms preprocess, 7.5ms inference, 11.5ms postprocess per image at shape (1, 3, 416, 640)\n",
      "\n",
      "0: 416x640 12 cars, 1 bus, 7.5ms\n",
      "Speed: 3.4ms preprocess, 7.5ms inference, 11.6ms postprocess per image at shape (1, 3, 416, 640)\n",
      "\n",
      "0: 416x640 12 cars, 1 bus, 7.7ms\n",
      "Speed: 5.0ms preprocess, 7.7ms inference, 5.7ms postprocess per image at shape (1, 3, 416, 640)\n",
      "\n",
      "0: 416x640 13 cars, 1 bus, 7.6ms\n",
      "Speed: 3.8ms preprocess, 7.6ms inference, 12.1ms postprocess per image at shape (1, 3, 416, 640)\n",
      "\n",
      "0: 416x640 13 cars, 1 bus, 7.3ms\n",
      "Speed: 2.8ms preprocess, 7.3ms inference, 1.6ms postprocess per image at shape (1, 3, 416, 640)\n",
      "\n",
      "0: 416x640 13 cars, 1 bus, 7.3ms\n",
      "Speed: 4.2ms preprocess, 7.3ms inference, 11.6ms postprocess per image at shape (1, 3, 416, 640)\n",
      "\n",
      "0: 416x640 12 cars, 1 bus, 1 truck, 7.4ms\n",
      "Speed: 3.1ms preprocess, 7.4ms inference, 11.7ms postprocess per image at shape (1, 3, 416, 640)\n",
      "\n",
      "0: 416x640 13 cars, 1 bus, 7.6ms\n",
      "Speed: 4.9ms preprocess, 7.6ms inference, 12.0ms postprocess per image at shape (1, 3, 416, 640)\n",
      "\n",
      "0: 416x640 13 cars, 1 bus, 7.4ms\n",
      "Speed: 2.8ms preprocess, 7.4ms inference, 10.0ms postprocess per image at shape (1, 3, 416, 640)\n",
      "\n",
      "0: 416x640 13 cars, 1 bus, 9.5ms\n",
      "Speed: 3.8ms preprocess, 9.5ms inference, 11.4ms postprocess per image at shape (1, 3, 416, 640)\n",
      "\n",
      "0: 416x640 13 cars, 1 bus, 9.5ms\n",
      "Speed: 3.8ms preprocess, 9.5ms inference, 9.8ms postprocess per image at shape (1, 3, 416, 640)\n",
      "\n",
      "0: 416x640 13 cars, 1 bus, 7.7ms\n",
      "Speed: 5.1ms preprocess, 7.7ms inference, 12.0ms postprocess per image at shape (1, 3, 416, 640)\n",
      "\n",
      "0: 416x640 13 cars, 1 bus, 7.5ms\n",
      "Speed: 4.1ms preprocess, 7.5ms inference, 11.7ms postprocess per image at shape (1, 3, 416, 640)\n",
      "\n",
      "0: 416x640 13 cars, 1 bus, 7.5ms\n",
      "Speed: 3.9ms preprocess, 7.5ms inference, 11.5ms postprocess per image at shape (1, 3, 416, 640)\n",
      "\n",
      "0: 416x640 13 cars, 1 bus, 9.0ms\n",
      "Speed: 2.9ms preprocess, 9.0ms inference, 2.4ms postprocess per image at shape (1, 3, 416, 640)\n",
      "\n",
      "0: 416x640 13 cars, 1 bus, 7.5ms\n",
      "Speed: 3.4ms preprocess, 7.5ms inference, 11.9ms postprocess per image at shape (1, 3, 416, 640)\n",
      "\n",
      "0: 416x640 13 cars, 1 bus, 7.5ms\n",
      "Speed: 3.7ms preprocess, 7.5ms inference, 11.4ms postprocess per image at shape (1, 3, 416, 640)\n",
      "\n",
      "0: 416x640 13 cars, 1 bus, 7.5ms\n",
      "Speed: 4.9ms preprocess, 7.5ms inference, 11.6ms postprocess per image at shape (1, 3, 416, 640)\n",
      "\n",
      "0: 416x640 13 cars, 1 bus, 7.4ms\n",
      "Speed: 2.8ms preprocess, 7.4ms inference, 1.6ms postprocess per image at shape (1, 3, 416, 640)\n",
      "\n",
      "0: 416x640 13 cars, 1 bus, 7.5ms\n",
      "Speed: 3.8ms preprocess, 7.5ms inference, 12.1ms postprocess per image at shape (1, 3, 416, 640)\n",
      "\n",
      "0: 416x640 13 cars, 1 bus, 7.4ms\n",
      "Speed: 3.2ms preprocess, 7.4ms inference, 11.8ms postprocess per image at shape (1, 3, 416, 640)\n",
      "\n",
      "0: 416x640 13 cars, 1 bus, 7.3ms\n",
      "Speed: 4.4ms preprocess, 7.3ms inference, 11.5ms postprocess per image at shape (1, 3, 416, 640)\n",
      "\n",
      "0: 416x640 12 cars, 1 bus, 7.6ms\n",
      "Speed: 3.0ms preprocess, 7.6ms inference, 5.2ms postprocess per image at shape (1, 3, 416, 640)\n",
      "\n",
      "0: 416x640 12 cars, 1 bus, 7.6ms\n",
      "Speed: 3.1ms preprocess, 7.6ms inference, 11.8ms postprocess per image at shape (1, 3, 416, 640)\n",
      "\n",
      "0: 416x640 12 cars, 1 bus, 9.5ms\n",
      "Speed: 3.8ms preprocess, 9.5ms inference, 11.5ms postprocess per image at shape (1, 3, 416, 640)\n",
      "\n",
      "0: 416x640 12 cars, 1 bus, 7.5ms\n",
      "Speed: 5.1ms preprocess, 7.5ms inference, 11.6ms postprocess per image at shape (1, 3, 416, 640)\n",
      "\n",
      "0: 416x640 12 cars, 1 bus, 8.7ms\n",
      "Speed: 4.3ms preprocess, 8.7ms inference, 2.3ms postprocess per image at shape (1, 3, 416, 640)\n",
      "\n",
      "0: 416x640 12 cars, 1 bus, 7.6ms\n",
      "Speed: 3.5ms preprocess, 7.6ms inference, 12.0ms postprocess per image at shape (1, 3, 416, 640)\n",
      "\n",
      "0: 416x640 12 cars, 1 bus, 7.4ms\n",
      "Speed: 3.7ms preprocess, 7.4ms inference, 11.4ms postprocess per image at shape (1, 3, 416, 640)\n",
      "\n",
      "0: 416x640 12 cars, 1 bus, 7.2ms\n",
      "Speed: 3.5ms preprocess, 7.2ms inference, 11.6ms postprocess per image at shape (1, 3, 416, 640)\n",
      "\n",
      "0: 416x640 13 cars, 1 bus, 10.3ms\n",
      "Speed: 4.6ms preprocess, 10.3ms inference, 2.4ms postprocess per image at shape (1, 3, 416, 640)\n",
      "\n",
      "0: 416x640 13 cars, 1 bus, 7.5ms\n",
      "Speed: 4.7ms preprocess, 7.5ms inference, 9.5ms postprocess per image at shape (1, 3, 416, 640)\n",
      "\n",
      "0: 416x640 13 cars, 1 bus, 7.4ms\n",
      "Speed: 4.8ms preprocess, 7.4ms inference, 11.5ms postprocess per image at shape (1, 3, 416, 640)\n",
      "\n",
      "0: 416x640 13 cars, 1 bus, 7.4ms\n",
      "Speed: 3.3ms preprocess, 7.4ms inference, 11.8ms postprocess per image at shape (1, 3, 416, 640)\n",
      "\n",
      "0: 416x640 13 cars, 1 bus, 7.4ms\n",
      "Speed: 2.9ms preprocess, 7.4ms inference, 1.4ms postprocess per image at shape (1, 3, 416, 640)\n",
      "\n",
      "0: 416x640 13 cars, 1 bus, 7.5ms\n",
      "Speed: 4.8ms preprocess, 7.5ms inference, 12.0ms postprocess per image at shape (1, 3, 416, 640)\n",
      "\n",
      "0: 416x640 13 cars, 1 bus, 7.5ms\n",
      "Speed: 4.9ms preprocess, 7.5ms inference, 11.3ms postprocess per image at shape (1, 3, 416, 640)\n",
      "\n",
      "0: 416x640 13 cars, 1 bus, 7.4ms\n",
      "Speed: 3.5ms preprocess, 7.4ms inference, 11.5ms postprocess per image at shape (1, 3, 416, 640)\n",
      "\n",
      "0: 416x640 13 cars, 1 bus, 10.1ms\n",
      "Speed: 4.1ms preprocess, 10.1ms inference, 2.4ms postprocess per image at shape (1, 3, 416, 640)\n",
      "\n",
      "0: 416x640 13 cars, 1 bus, 7.5ms\n",
      "Speed: 4.6ms preprocess, 7.5ms inference, 4.7ms postprocess per image at shape (1, 3, 416, 640)\n",
      "\n",
      "0: 416x640 14 cars, 1 bus, 9.6ms\n",
      "Speed: 5.1ms preprocess, 9.6ms inference, 11.7ms postprocess per image at shape (1, 3, 416, 640)\n",
      "\n",
      "0: 416x640 14 cars, 1 bus, 7.5ms\n",
      "Speed: 4.2ms preprocess, 7.5ms inference, 11.7ms postprocess per image at shape (1, 3, 416, 640)\n",
      "\n",
      "0: 416x640 14 cars, 1 bus, 7.7ms\n",
      "Speed: 3.6ms preprocess, 7.7ms inference, 11.8ms postprocess per image at shape (1, 3, 416, 640)\n",
      "\n",
      "0: 416x640 14 cars, 1 bus, 7.5ms\n",
      "Speed: 2.9ms preprocess, 7.5ms inference, 1.5ms postprocess per image at shape (1, 3, 416, 640)\n",
      "\n",
      "0: 416x640 12 cars, 2 buss, 7.4ms\n",
      "Speed: 3.4ms preprocess, 7.4ms inference, 11.3ms postprocess per image at shape (1, 3, 416, 640)\n",
      "\n",
      "0: 416x640 11 cars, 1 bus, 7.6ms\n",
      "Speed: 3.3ms preprocess, 7.6ms inference, 11.6ms postprocess per image at shape (1, 3, 416, 640)\n",
      "\n",
      "0: 416x640 10 cars, 2 buss, 7.7ms\n",
      "Speed: 3.8ms preprocess, 7.7ms inference, 12.0ms postprocess per image at shape (1, 3, 416, 640)\n",
      "\n",
      "0: 416x640 10 cars, 2 buss, 7.3ms\n",
      "Speed: 3.1ms preprocess, 7.3ms inference, 1.5ms postprocess per image at shape (1, 3, 416, 640)\n",
      "\n",
      "0: 416x640 11 cars, 1 bus, 7.4ms\n",
      "Speed: 3.2ms preprocess, 7.4ms inference, 11.8ms postprocess per image at shape (1, 3, 416, 640)\n",
      "\n",
      "0: 416x640 11 cars, 1 bus, 9.9ms\n",
      "Speed: 3.5ms preprocess, 9.9ms inference, 11.8ms postprocess per image at shape (1, 3, 416, 640)\n",
      "\n",
      "0: 416x640 11 cars, 1 bus, 10.2ms\n",
      "Speed: 4.8ms preprocess, 10.2ms inference, 2.4ms postprocess per image at shape (1, 3, 416, 640)\n",
      "\n",
      "0: 416x640 10 cars, 2 buss, 7.4ms\n",
      "Speed: 4.8ms preprocess, 7.4ms inference, 1.5ms postprocess per image at shape (1, 3, 416, 640)\n",
      "\n",
      "0: 416x640 11 cars, 1 bus, 7.5ms\n",
      "Speed: 4.6ms preprocess, 7.5ms inference, 11.5ms postprocess per image at shape (1, 3, 416, 640)\n",
      "\n",
      "0: 416x640 11 cars, 2 buss, 7.6ms\n",
      "Speed: 4.3ms preprocess, 7.6ms inference, 11.8ms postprocess per image at shape (1, 3, 416, 640)\n",
      "\n",
      "0: 416x640 12 cars, 1 bus, 7.5ms\n",
      "Speed: 3.4ms preprocess, 7.5ms inference, 12.1ms postprocess per image at shape (1, 3, 416, 640)\n",
      "\n",
      "0: 416x640 12 cars, 1 bus, 7.8ms\n",
      "Speed: 2.8ms preprocess, 7.8ms inference, 1.6ms postprocess per image at shape (1, 3, 416, 640)\n",
      "\n",
      "0: 416x640 12 cars, 1 bus, 7.6ms\n",
      "Speed: 3.1ms preprocess, 7.6ms inference, 11.4ms postprocess per image at shape (1, 3, 416, 640)\n",
      "\n",
      "0: 416x640 12 cars, 1 bus, 7.9ms\n",
      "Speed: 5.0ms preprocess, 7.9ms inference, 9.7ms postprocess per image at shape (1, 3, 416, 640)\n",
      "\n",
      "0: 416x640 12 cars, 1 bus, 7.6ms\n",
      "Speed: 3.2ms preprocess, 7.6ms inference, 11.9ms postprocess per image at shape (1, 3, 416, 640)\n",
      "\n",
      "0: 416x640 11 cars, 1 bus, 1 truck, 8.8ms\n",
      "Speed: 4.1ms preprocess, 8.8ms inference, 11.6ms postprocess per image at shape (1, 3, 416, 640)\n",
      "\n",
      "0: 416x640 12 cars, 1 bus, 7.4ms\n",
      "Speed: 4.5ms preprocess, 7.4ms inference, 11.4ms postprocess per image at shape (1, 3, 416, 640)\n",
      "\n",
      "0: 416x640 12 cars, 1 bus, 10.1ms\n",
      "Speed: 3.0ms preprocess, 10.1ms inference, 2.4ms postprocess per image at shape (1, 3, 416, 640)\n",
      "\n",
      "0: 416x640 12 cars, 1 bus, 7.5ms\n",
      "Speed: 3.1ms preprocess, 7.5ms inference, 12.0ms postprocess per image at shape (1, 3, 416, 640)\n",
      "\n",
      "0: 416x640 11 cars, 1 bus, 7.6ms\n",
      "Speed: 3.7ms preprocess, 7.6ms inference, 11.4ms postprocess per image at shape (1, 3, 416, 640)\n",
      "\n",
      "0: 416x640 11 cars, 1 bus, 7.3ms\n",
      "Speed: 3.2ms preprocess, 7.3ms inference, 11.7ms postprocess per image at shape (1, 3, 416, 640)\n",
      "\n",
      "0: 416x640 11 cars, 1 bus, 7.3ms\n",
      "Speed: 4.4ms preprocess, 7.3ms inference, 1.4ms postprocess per image at shape (1, 3, 416, 640)\n",
      "\n",
      "0: 416x640 1 person, 10 cars, 1 bus, 7.7ms\n",
      "Speed: 3.8ms preprocess, 7.7ms inference, 12.0ms postprocess per image at shape (1, 3, 416, 640)\n",
      "\n",
      "0: 416x640 10 cars, 1 bus, 9.2ms\n",
      "Speed: 2.8ms preprocess, 9.2ms inference, 11.2ms postprocess per image at shape (1, 3, 416, 640)\n",
      "\n",
      "0: 416x640 10 cars, 1 bus, 7.5ms\n",
      "Speed: 4.1ms preprocess, 7.5ms inference, 11.2ms postprocess per image at shape (1, 3, 416, 640)\n",
      "\n",
      "0: 416x640 10 cars, 1 bus, 7.6ms\n",
      "Speed: 4.9ms preprocess, 7.6ms inference, 5.2ms postprocess per image at shape (1, 3, 416, 640)\n",
      "\n",
      "0: 416x640 10 cars, 1 bus, 7.5ms\n",
      "Speed: 4.9ms preprocess, 7.5ms inference, 12.1ms postprocess per image at shape (1, 3, 416, 640)\n",
      "\n",
      "0: 416x640 10 cars, 1 bus, 7.6ms\n",
      "Speed: 5.1ms preprocess, 7.6ms inference, 9.2ms postprocess per image at shape (1, 3, 416, 640)\n",
      "\n",
      "0: 416x640 10 cars, 1 bus, 9.6ms\n",
      "Speed: 4.5ms preprocess, 9.6ms inference, 11.6ms postprocess per image at shape (1, 3, 416, 640)\n",
      "\n",
      "0: 416x640 10 cars, 1 bus, 7.8ms\n",
      "Speed: 4.8ms preprocess, 7.8ms inference, 5.2ms postprocess per image at shape (1, 3, 416, 640)\n",
      "\n",
      "0: 416x640 10 cars, 1 bus, 7.5ms\n",
      "Speed: 4.2ms preprocess, 7.5ms inference, 12.0ms postprocess per image at shape (1, 3, 416, 640)\n",
      "\n",
      "0: 416x640 10 cars, 1 bus, 9.0ms\n",
      "Speed: 3.3ms preprocess, 9.0ms inference, 11.5ms postprocess per image at shape (1, 3, 416, 640)\n",
      "\n",
      "0: 416x640 10 cars, 1 bus, 9.8ms\n",
      "Speed: 4.8ms preprocess, 9.8ms inference, 11.5ms postprocess per image at shape (1, 3, 416, 640)\n",
      "\n",
      "0: 416x640 10 cars, 1 bus, 7.4ms\n",
      "Speed: 3.9ms preprocess, 7.4ms inference, 7.6ms postprocess per image at shape (1, 3, 416, 640)\n",
      "\n",
      "0: 416x640 10 cars, 1 bus, 9.9ms\n",
      "Speed: 3.8ms preprocess, 9.9ms inference, 11.9ms postprocess per image at shape (1, 3, 416, 640)\n",
      "\n",
      "0: 416x640 10 cars, 1 bus, 7.3ms\n",
      "Speed: 3.4ms preprocess, 7.3ms inference, 11.6ms postprocess per image at shape (1, 3, 416, 640)\n",
      "\n",
      "0: 416x640 1 person, 10 cars, 1 bus, 9.7ms\n",
      "Speed: 3.2ms preprocess, 9.7ms inference, 11.6ms postprocess per image at shape (1, 3, 416, 640)\n",
      "\n",
      "0: 416x640 1 person, 10 cars, 1 bus, 7.7ms\n",
      "Speed: 4.1ms preprocess, 7.7ms inference, 1.5ms postprocess per image at shape (1, 3, 416, 640)\n",
      "\n",
      "0: 416x640 1 person, 9 cars, 1 bus, 7.7ms\n",
      "Speed: 4.9ms preprocess, 7.7ms inference, 12.0ms postprocess per image at shape (1, 3, 416, 640)\n",
      "\n",
      "0: 416x640 1 person, 9 cars, 1 bus, 7.3ms\n",
      "Speed: 2.7ms preprocess, 7.3ms inference, 9.9ms postprocess per image at shape (1, 3, 416, 640)\n",
      "\n",
      "0: 416x640 1 person, 9 cars, 1 bus, 7.4ms\n",
      "Speed: 3.3ms preprocess, 7.4ms inference, 11.3ms postprocess per image at shape (1, 3, 416, 640)\n",
      "\n",
      "0: 416x640 1 person, 9 cars, 1 bus, 8.4ms\n",
      "Speed: 4.9ms preprocess, 8.4ms inference, 9.5ms postprocess per image at shape (1, 3, 416, 640)\n",
      "\n",
      "0: 416x640 1 person, 10 cars, 1 bus, 7.6ms\n",
      "Speed: 3.4ms preprocess, 7.6ms inference, 12.1ms postprocess per image at shape (1, 3, 416, 640)\n",
      "\n",
      "0: 416x640 1 person, 10 cars, 1 bus, 9.1ms\n",
      "Speed: 2.8ms preprocess, 9.1ms inference, 11.3ms postprocess per image at shape (1, 3, 416, 640)\n",
      "\n",
      "0: 416x640 1 person, 10 cars, 1 bus, 7.4ms\n",
      "Speed: 4.6ms preprocess, 7.4ms inference, 11.3ms postprocess per image at shape (1, 3, 416, 640)\n",
      "\n",
      "0: 416x640 1 person, 10 cars, 1 bus, 7.2ms\n",
      "Speed: 5.6ms preprocess, 7.2ms inference, 2.1ms postprocess per image at shape (1, 3, 416, 640)\n",
      "\n",
      "0: 416x640 1 person, 10 cars, 1 bus, 7.7ms\n",
      "Speed: 3.5ms preprocess, 7.7ms inference, 12.0ms postprocess per image at shape (1, 3, 416, 640)\n",
      "\n",
      "0: 416x640 1 person, 9 cars, 1 bus, 9.1ms\n",
      "Speed: 4.4ms preprocess, 9.1ms inference, 9.5ms postprocess per image at shape (1, 3, 416, 640)\n",
      "\n",
      "0: 416x640 1 person, 10 cars, 1 bus, 7.4ms\n",
      "Speed: 3.4ms preprocess, 7.4ms inference, 11.5ms postprocess per image at shape (1, 3, 416, 640)\n",
      "\n",
      "0: 416x640 1 person, 10 cars, 1 bus, 7.7ms\n",
      "Speed: 3.7ms preprocess, 7.7ms inference, 3.1ms postprocess per image at shape (1, 3, 416, 640)\n",
      "\n",
      "0: 416x640 1 person, 10 cars, 1 bus, 7.5ms\n",
      "Speed: 3.8ms preprocess, 7.5ms inference, 11.9ms postprocess per image at shape (1, 3, 416, 640)\n",
      "\n",
      "0: 416x640 1 person, 10 cars, 1 bus, 8.3ms\n",
      "Speed: 2.8ms preprocess, 8.3ms inference, 11.5ms postprocess per image at shape (1, 3, 416, 640)\n",
      "\n",
      "0: 416x640 1 person, 10 cars, 1 bus, 7.4ms\n",
      "Speed: 4.4ms preprocess, 7.4ms inference, 11.4ms postprocess per image at shape (1, 3, 416, 640)\n",
      "\n",
      "0: 416x640 1 person, 10 cars, 1 bus, 7.5ms\n",
      "Speed: 4.8ms preprocess, 7.5ms inference, 10.7ms postprocess per image at shape (1, 3, 416, 640)\n",
      "\n",
      "0: 416x640 1 person, 10 cars, 1 bus, 9.0ms\n",
      "Speed: 4.6ms preprocess, 9.0ms inference, 11.9ms postprocess per image at shape (1, 3, 416, 640)\n",
      "\n",
      "0: 416x640 1 person, 10 cars, 1 bus, 7.3ms\n",
      "Speed: 3.0ms preprocess, 7.3ms inference, 1.6ms postprocess per image at shape (1, 3, 416, 640)\n",
      "\n",
      "0: 416x640 1 person, 10 cars, 1 bus, 7.4ms\n",
      "Speed: 4.1ms preprocess, 7.4ms inference, 11.6ms postprocess per image at shape (1, 3, 416, 640)\n",
      "\n",
      "0: 416x640 10 cars, 1 bus, 7.5ms\n",
      "Speed: 4.8ms preprocess, 7.5ms inference, 11.4ms postprocess per image at shape (1, 3, 416, 640)\n",
      "\n",
      "0: 416x640 10 cars, 1 bus, 9.8ms\n",
      "Speed: 4.2ms preprocess, 9.8ms inference, 12.2ms postprocess per image at shape (1, 3, 416, 640)\n",
      "\n",
      "0: 416x640 10 cars, 1 bus, 7.3ms\n",
      "Speed: 2.9ms preprocess, 7.3ms inference, 2.7ms postprocess per image at shape (1, 3, 416, 640)\n",
      "\n",
      "0: 416x640 10 cars, 1 bus, 7.4ms\n",
      "Speed: 4.0ms preprocess, 7.4ms inference, 11.4ms postprocess per image at shape (1, 3, 416, 640)\n",
      "\n",
      "0: 416x640 10 cars, 1 bus, 7.4ms\n",
      "Speed: 3.5ms preprocess, 7.4ms inference, 11.7ms postprocess per image at shape (1, 3, 416, 640)\n",
      "\n",
      "0: 416x640 10 cars, 1 bus, 10.4ms\n",
      "Speed: 5.0ms preprocess, 10.4ms inference, 2.4ms postprocess per image at shape (1, 3, 416, 640)\n",
      "\n",
      "0: 416x640 10 cars, 1 bus, 7.5ms\n",
      "Speed: 3.3ms preprocess, 7.5ms inference, 12.0ms postprocess per image at shape (1, 3, 416, 640)\n",
      "\n",
      "0: 416x640 10 cars, 1 bus, 7.4ms\n",
      "Speed: 3.6ms preprocess, 7.4ms inference, 11.3ms postprocess per image at shape (1, 3, 416, 640)\n",
      "\n",
      "0: 416x640 10 cars, 1 bus, 7.4ms\n",
      "Speed: 3.5ms preprocess, 7.4ms inference, 11.8ms postprocess per image at shape (1, 3, 416, 640)\n",
      "\n",
      "0: 416x640 10 cars, 1 bus, 9.6ms\n",
      "Speed: 2.7ms preprocess, 9.6ms inference, 2.4ms postprocess per image at shape (1, 3, 416, 640)\n",
      "\n",
      "0: 416x640 10 cars, 1 bus, 7.6ms\n",
      "Speed: 3.3ms preprocess, 7.6ms inference, 12.1ms postprocess per image at shape (1, 3, 416, 640)\n",
      "\n",
      "0: 416x640 10 cars, 1 bus, 8.5ms\n",
      "Speed: 5.1ms preprocess, 8.5ms inference, 11.6ms postprocess per image at shape (1, 3, 416, 640)\n",
      "\n",
      "0: 416x640 11 cars, 1 bus, 7.5ms\n",
      "Speed: 3.3ms preprocess, 7.5ms inference, 11.7ms postprocess per image at shape (1, 3, 416, 640)\n",
      "\n",
      "0: 416x640 11 cars, 1 bus, 7.3ms\n",
      "Speed: 4.8ms preprocess, 7.3ms inference, 1.3ms postprocess per image at shape (1, 3, 416, 640)\n",
      "\n",
      "0: 416x640 11 cars, 1 bus, 7.7ms\n",
      "Speed: 4.8ms preprocess, 7.7ms inference, 12.1ms postprocess per image at shape (1, 3, 416, 640)\n",
      "\n",
      "0: 416x640 11 cars, 1 bus, 7.3ms\n",
      "Speed: 2.8ms preprocess, 7.3ms inference, 1.5ms postprocess per image at shape (1, 3, 416, 640)\n",
      "\n",
      "0: 416x640 11 cars, 1 bus, 7.6ms\n",
      "Speed: 4.3ms preprocess, 7.6ms inference, 11.8ms postprocess per image at shape (1, 3, 416, 640)\n",
      "\n",
      "0: 416x640 11 cars, 1 bus, 7.5ms\n",
      "Speed: 4.2ms preprocess, 7.5ms inference, 11.2ms postprocess per image at shape (1, 3, 416, 640)\n",
      "\n",
      "0: 416x640 11 cars, 1 bus, 7.7ms\n",
      "Speed: 4.7ms preprocess, 7.7ms inference, 11.8ms postprocess per image at shape (1, 3, 416, 640)\n",
      "\n",
      "0: 416x640 11 cars, 1 bus, 7.4ms\n",
      "Speed: 2.8ms preprocess, 7.4ms inference, 1.6ms postprocess per image at shape (1, 3, 416, 640)\n",
      "\n",
      "0: 416x640 11 cars, 1 bus, 7.4ms\n",
      "Speed: 4.1ms preprocess, 7.4ms inference, 11.3ms postprocess per image at shape (1, 3, 416, 640)\n",
      "\n",
      "0: 416x640 11 cars, 1 bus, 7.5ms\n",
      "Speed: 4.3ms preprocess, 7.5ms inference, 11.8ms postprocess per image at shape (1, 3, 416, 640)\n",
      "\n",
      "0: 416x640 11 cars, 1 bus, 7.7ms\n",
      "Speed: 6.1ms preprocess, 7.7ms inference, 12.0ms postprocess per image at shape (1, 3, 416, 640)\n",
      "\n",
      "0: 416x640 11 cars, 1 bus, 7.2ms\n",
      "Speed: 2.8ms preprocess, 7.2ms inference, 1.5ms postprocess per image at shape (1, 3, 416, 640)\n",
      "\n",
      "0: 416x640 11 cars, 1 bus, 7.5ms\n",
      "Speed: 3.2ms preprocess, 7.5ms inference, 11.6ms postprocess per image at shape (1, 3, 416, 640)\n",
      "\n",
      "0: 416x640 11 cars, 1 bus, 7.5ms\n",
      "Speed: 4.2ms preprocess, 7.5ms inference, 11.7ms postprocess per image at shape (1, 3, 416, 640)\n",
      "\n",
      "0: 416x640 11 cars, 1 bus, 8.4ms\n",
      "Speed: 5.0ms preprocess, 8.4ms inference, 12.1ms postprocess per image at shape (1, 3, 416, 640)\n",
      "\n",
      "0: 416x640 11 cars, 1 bus, 7.8ms\n",
      "Speed: 2.8ms preprocess, 7.8ms inference, 1.4ms postprocess per image at shape (1, 3, 416, 640)\n",
      "\n",
      "0: 416x640 11 cars, 1 bus, 7.4ms\n",
      "Speed: 4.4ms preprocess, 7.4ms inference, 11.5ms postprocess per image at shape (1, 3, 416, 640)\n",
      "\n",
      "0: 416x640 11 cars, 1 bus, 7.4ms\n",
      "Speed: 3.1ms preprocess, 7.4ms inference, 11.8ms postprocess per image at shape (1, 3, 416, 640)\n",
      "\n",
      "0: 416x640 11 cars, 1 bus, 8.0ms\n",
      "Speed: 2.9ms preprocess, 8.0ms inference, 2.5ms postprocess per image at shape (1, 3, 416, 640)\n",
      "\n",
      "0: 416x640 11 cars, 1 bus, 7.6ms\n",
      "Speed: 5.0ms preprocess, 7.6ms inference, 12.2ms postprocess per image at shape (1, 3, 416, 640)\n",
      "\n",
      "0: 416x640 11 cars, 1 bus, 8.0ms\n",
      "Speed: 5.0ms preprocess, 8.0ms inference, 11.7ms postprocess per image at shape (1, 3, 416, 640)\n",
      "\n",
      "0: 416x640 12 cars, 1 bus, 7.6ms\n",
      "Speed: 4.7ms preprocess, 7.6ms inference, 11.6ms postprocess per image at shape (1, 3, 416, 640)\n",
      "\n",
      "0: 416x640 12 cars, 1 bus, 9.8ms\n",
      "Speed: 2.8ms preprocess, 9.8ms inference, 2.4ms postprocess per image at shape (1, 3, 416, 640)\n",
      "\n",
      "0: 416x640 12 cars, 1 bus, 7.6ms\n",
      "Speed: 3.4ms preprocess, 7.6ms inference, 11.9ms postprocess per image at shape (1, 3, 416, 640)\n",
      "\n",
      "0: 416x640 12 cars, 1 bus, 7.5ms\n",
      "Speed: 3.8ms preprocess, 7.5ms inference, 11.5ms postprocess per image at shape (1, 3, 416, 640)\n",
      "\n",
      "0: 416x640 13 cars, 1 bus, 9.6ms\n",
      "Speed: 5.1ms preprocess, 9.6ms inference, 11.6ms postprocess per image at shape (1, 3, 416, 640)\n",
      "\n",
      "0: 416x640 13 cars, 1 bus, 10.1ms\n",
      "Speed: 4.2ms preprocess, 10.1ms inference, 4.2ms postprocess per image at shape (1, 3, 416, 640)\n",
      "\n",
      "0: 416x640 13 cars, 1 bus, 7.3ms\n",
      "Speed: 4.7ms preprocess, 7.3ms inference, 1.5ms postprocess per image at shape (1, 3, 416, 640)\n",
      "\n",
      "0: 416x640 13 cars, 1 bus, 7.3ms\n",
      "Speed: 3.3ms preprocess, 7.3ms inference, 11.6ms postprocess per image at shape (1, 3, 416, 640)\n",
      "\n",
      "0: 416x640 13 cars, 1 bus, 7.5ms\n",
      "Speed: 4.0ms preprocess, 7.5ms inference, 11.5ms postprocess per image at shape (1, 3, 416, 640)\n",
      "\n",
      "0: 416x640 13 cars, 1 bus, 9.3ms\n",
      "Speed: 4.5ms preprocess, 9.3ms inference, 12.1ms postprocess per image at shape (1, 3, 416, 640)\n",
      "\n",
      "0: 416x640 13 cars, 1 bus, 7.3ms\n",
      "Speed: 2.8ms preprocess, 7.3ms inference, 1.6ms postprocess per image at shape (1, 3, 416, 640)\n",
      "\n",
      "0: 416x640 13 cars, 1 bus, 7.4ms\n",
      "Speed: 4.3ms preprocess, 7.4ms inference, 11.6ms postprocess per image at shape (1, 3, 416, 640)\n",
      "\n",
      "0: 416x640 13 cars, 1 bus, 7.5ms\n",
      "Speed: 3.4ms preprocess, 7.5ms inference, 11.6ms postprocess per image at shape (1, 3, 416, 640)\n",
      "\n",
      "0: 416x640 13 cars, 1 bus, 9.6ms\n",
      "Speed: 2.8ms preprocess, 9.6ms inference, 2.4ms postprocess per image at shape (1, 3, 416, 640)\n",
      "\n",
      "0: 416x640 13 cars, 1 bus, 7.4ms\n",
      "Speed: 4.3ms preprocess, 7.4ms inference, 12.0ms postprocess per image at shape (1, 3, 416, 640)\n",
      "\n",
      "0: 416x640 13 cars, 1 bus, 12.1ms\n",
      "Speed: 5.7ms preprocess, 12.1ms inference, 11.4ms postprocess per image at shape (1, 3, 416, 640)\n",
      "\n",
      "0: 416x640 13 cars, 1 bus, 9.7ms\n",
      "Speed: 5.1ms preprocess, 9.7ms inference, 11.4ms postprocess per image at shape (1, 3, 416, 640)\n",
      "\n",
      "0: 416x640 13 cars, 1 bus, 10.0ms\n",
      "Speed: 3.5ms preprocess, 10.0ms inference, 12.0ms postprocess per image at shape (1, 3, 416, 640)\n",
      "\n",
      "0: 416x640 12 cars, 1 bus, 14.3ms\n",
      "Speed: 4.1ms preprocess, 14.3ms inference, 11.5ms postprocess per image at shape (1, 3, 416, 640)\n",
      "\n",
      "0: 416x640 12 cars, 1 bus, 7.5ms\n",
      "Speed: 3.1ms preprocess, 7.5ms inference, 11.9ms postprocess per image at shape (1, 3, 416, 640)\n",
      "\n",
      "0: 416x640 12 cars, 1 bus, 10.1ms\n",
      "Speed: 4.7ms preprocess, 10.1ms inference, 2.4ms postprocess per image at shape (1, 3, 416, 640)\n",
      "\n",
      "0: 416x640 13 cars, 1 bus, 7.7ms\n",
      "Speed: 2.9ms preprocess, 7.7ms inference, 7.1ms postprocess per image at shape (1, 3, 416, 640)\n",
      "\n",
      "0: 416x640 12 cars, 1 bus, 9.7ms\n",
      "Speed: 4.7ms preprocess, 9.7ms inference, 11.7ms postprocess per image at shape (1, 3, 416, 640)\n",
      "\n",
      "0: 416x640 12 cars, 1 bus, 7.5ms\n",
      "Speed: 3.0ms preprocess, 7.5ms inference, 11.5ms postprocess per image at shape (1, 3, 416, 640)\n",
      "\n",
      "0: 416x640 12 cars, 1 bus, 7.6ms\n",
      "Speed: 4.0ms preprocess, 7.6ms inference, 12.0ms postprocess per image at shape (1, 3, 416, 640)\n",
      "\n",
      "0: 416x640 12 cars, 1 bus, 7.2ms\n",
      "Speed: 2.9ms preprocess, 7.2ms inference, 1.6ms postprocess per image at shape (1, 3, 416, 640)\n",
      "\n",
      "0: 416x640 12 cars, 1 bus, 7.6ms\n",
      "Speed: 4.2ms preprocess, 7.6ms inference, 11.5ms postprocess per image at shape (1, 3, 416, 640)\n",
      "\n",
      "0: 416x640 12 cars, 1 bus, 7.3ms\n",
      "Speed: 4.5ms preprocess, 7.3ms inference, 11.6ms postprocess per image at shape (1, 3, 416, 640)\n",
      "\n",
      "0: 416x640 11 cars, 1 bus, 1 truck, 7.7ms\n",
      "Speed: 7.0ms preprocess, 7.7ms inference, 12.0ms postprocess per image at shape (1, 3, 416, 640)\n",
      "\n",
      "0: 416x640 12 cars, 1 bus, 7.4ms\n",
      "Speed: 2.9ms preprocess, 7.4ms inference, 1.7ms postprocess per image at shape (1, 3, 416, 640)\n",
      "\n",
      "0: 416x640 12 cars, 1 bus, 7.4ms\n",
      "Speed: 4.9ms preprocess, 7.4ms inference, 11.7ms postprocess per image at shape (1, 3, 416, 640)\n",
      "\n",
      "0: 416x640 10 cars, 1 bus, 2 trucks, 7.3ms\n",
      "Speed: 4.0ms preprocess, 7.3ms inference, 11.5ms postprocess per image at shape (1, 3, 416, 640)\n",
      "\n",
      "0: 416x640 12 cars, 1 bus, 7.5ms\n",
      "Speed: 4.8ms preprocess, 7.5ms inference, 12.2ms postprocess per image at shape (1, 3, 416, 640)\n",
      "\n",
      "0: 416x640 11 cars, 1 bus, 1 truck, 7.2ms\n",
      "Speed: 2.9ms preprocess, 7.2ms inference, 11.3ms postprocess per image at shape (1, 3, 416, 640)\n",
      "\n",
      "0: 416x640 12 cars, 1 bus, 7.3ms\n",
      "Speed: 3.9ms preprocess, 7.3ms inference, 11.4ms postprocess per image at shape (1, 3, 416, 640)\n",
      "\n",
      "0: 416x640 11 cars, 1 bus, 1 truck, 8.1ms\n",
      "Speed: 4.0ms preprocess, 8.1ms inference, 9.5ms postprocess per image at shape (1, 3, 416, 640)\n",
      "\n",
      "0: 416x640 1 person, 11 cars, 1 bus, 7.5ms\n",
      "Speed: 4.1ms preprocess, 7.5ms inference, 11.9ms postprocess per image at shape (1, 3, 416, 640)\n",
      "\n",
      "0: 416x640 11 cars, 1 bus, 7.4ms\n",
      "Speed: 3.3ms preprocess, 7.4ms inference, 9.0ms postprocess per image at shape (1, 3, 416, 640)\n",
      "\n",
      "0: 416x640 11 cars, 1 bus, 9.8ms\n",
      "Speed: 4.2ms preprocess, 9.8ms inference, 11.7ms postprocess per image at shape (1, 3, 416, 640)\n",
      "\n",
      "0: 416x640 11 cars, 1 bus, 9.1ms\n",
      "Speed: 3.7ms preprocess, 9.1ms inference, 2.3ms postprocess per image at shape (1, 3, 416, 640)\n",
      "\n",
      "0: 416x640 11 cars, 1 bus, 7.7ms\n",
      "Speed: 4.5ms preprocess, 7.7ms inference, 11.9ms postprocess per image at shape (1, 3, 416, 640)\n",
      "\n",
      "0: 416x640 11 cars, 1 bus, 7.6ms\n",
      "Speed: 3.8ms preprocess, 7.6ms inference, 11.6ms postprocess per image at shape (1, 3, 416, 640)\n",
      "\n",
      "0: 416x640 11 cars, 1 bus, 7.3ms\n",
      "Speed: 4.1ms preprocess, 7.3ms inference, 11.1ms postprocess per image at shape (1, 3, 416, 640)\n",
      "\n",
      "0: 416x640 11 cars, 1 bus, 7.3ms\n",
      "Speed: 2.9ms preprocess, 7.3ms inference, 1.6ms postprocess per image at shape (1, 3, 416, 640)\n",
      "\n",
      "0: 416x640 11 cars, 1 bus, 7.6ms\n",
      "Speed: 4.1ms preprocess, 7.6ms inference, 11.7ms postprocess per image at shape (1, 3, 416, 640)\n",
      "\n",
      "0: 416x640 11 cars, 1 bus, 8.7ms\n",
      "Speed: 3.1ms preprocess, 8.7ms inference, 11.1ms postprocess per image at shape (1, 3, 416, 640)\n",
      "\n",
      "0: 416x640 10 cars, 1 bus, 9.8ms\n",
      "Speed: 4.4ms preprocess, 9.8ms inference, 11.7ms postprocess per image at shape (1, 3, 416, 640)\n",
      "\n",
      "0: 416x640 10 cars, 1 bus, 7.8ms\n",
      "Speed: 4.8ms preprocess, 7.8ms inference, 5.3ms postprocess per image at shape (1, 3, 416, 640)\n",
      "\n",
      "0: 416x640 10 cars, 1 bus, 7.5ms\n",
      "Speed: 4.8ms preprocess, 7.5ms inference, 12.0ms postprocess per image at shape (1, 3, 416, 640)\n",
      "\n",
      "0: 416x640 9 cars, 1 bus, 1 truck, 8.0ms\n",
      "Speed: 2.8ms preprocess, 8.0ms inference, 10.6ms postprocess per image at shape (1, 3, 416, 640)\n",
      "\n",
      "0: 416x640 10 cars, 1 bus, 9.5ms\n",
      "Speed: 3.3ms preprocess, 9.5ms inference, 11.5ms postprocess per image at shape (1, 3, 416, 640)\n",
      "\n",
      "0: 416x640 10 cars, 1 bus, 7.6ms\n",
      "Speed: 5.4ms preprocess, 7.6ms inference, 7.7ms postprocess per image at shape (1, 3, 416, 640)\n",
      "\n",
      "0: 416x640 10 cars, 1 bus, 7.7ms\n",
      "Speed: 4.9ms preprocess, 7.7ms inference, 12.0ms postprocess per image at shape (1, 3, 416, 640)\n",
      "\n",
      "0: 416x640 10 cars, 1 bus, 7.6ms\n",
      "Speed: 4.4ms preprocess, 7.6ms inference, 10.0ms postprocess per image at shape (1, 3, 416, 640)\n",
      "\n",
      "0: 416x640 9 cars, 1 bus, 1 truck, 7.3ms\n",
      "Speed: 3.4ms preprocess, 7.3ms inference, 11.5ms postprocess per image at shape (1, 3, 416, 640)\n",
      "\n",
      "0: 416x640 9 cars, 1 bus, 1 truck, 7.4ms\n",
      "Speed: 3.2ms preprocess, 7.4ms inference, 9.9ms postprocess per image at shape (1, 3, 416, 640)\n",
      "\n",
      "0: 416x640 10 cars, 1 bus, 7.5ms\n",
      "Speed: 3.7ms preprocess, 7.5ms inference, 12.1ms postprocess per image at shape (1, 3, 416, 640)\n",
      "\n",
      "0: 416x640 11 cars, 1 bus, 7.8ms\n",
      "Speed: 2.8ms preprocess, 7.8ms inference, 10.7ms postprocess per image at shape (1, 3, 416, 640)\n",
      "\n",
      "0: 416x640 11 cars, 1 bus, 7.4ms\n",
      "Speed: 3.7ms preprocess, 7.4ms inference, 11.5ms postprocess per image at shape (1, 3, 416, 640)\n",
      "\n",
      "0: 416x640 11 cars, 1 bus, 7.5ms\n",
      "Speed: 3.2ms preprocess, 7.5ms inference, 10.5ms postprocess per image at shape (1, 3, 416, 640)\n",
      "\n",
      "0: 416x640 10 cars, 1 bus, 1 truck, 10.8ms\n",
      "Speed: 4.3ms preprocess, 10.8ms inference, 12.2ms postprocess per image at shape (1, 3, 416, 640)\n",
      "\n",
      "0: 416x640 11 cars, 1 bus, 7.7ms\n",
      "Speed: 2.7ms preprocess, 7.7ms inference, 1.5ms postprocess per image at shape (1, 3, 416, 640)\n",
      "\n",
      "0: 416x640 11 cars, 1 bus, 7.3ms\n",
      "Speed: 4.2ms preprocess, 7.3ms inference, 11.7ms postprocess per image at shape (1, 3, 416, 640)\n",
      "\n",
      "0: 416x640 11 cars, 1 bus, 7.5ms\n",
      "Speed: 4.8ms preprocess, 7.5ms inference, 11.7ms postprocess per image at shape (1, 3, 416, 640)\n",
      "\n",
      "0: 416x640 11 cars, 1 bus, 8.4ms\n",
      "Speed: 4.4ms preprocess, 8.4ms inference, 12.1ms postprocess per image at shape (1, 3, 416, 640)\n",
      "\n",
      "0: 416x640 10 cars, 2 buss, 9.8ms\n",
      "Speed: 2.8ms preprocess, 9.8ms inference, 1.7ms postprocess per image at shape (1, 3, 416, 640)\n",
      "\n",
      "0: 416x640 9 cars, 1 bus, 1 truck, 7.5ms\n",
      "Speed: 3.6ms preprocess, 7.5ms inference, 11.8ms postprocess per image at shape (1, 3, 416, 640)\n",
      "\n",
      "0: 416x640 9 cars, 1 bus, 1 truck, 7.4ms\n",
      "Speed: 4.5ms preprocess, 7.4ms inference, 11.4ms postprocess per image at shape (1, 3, 416, 640)\n",
      "\n",
      "0: 416x640 9 cars, 1 bus, 1 truck, 9.0ms\n",
      "Speed: 4.8ms preprocess, 9.0ms inference, 11.9ms postprocess per image at shape (1, 3, 416, 640)\n",
      "\n",
      "0: 416x640 9 cars, 1 bus, 1 truck, 7.4ms\n",
      "Speed: 2.8ms preprocess, 7.4ms inference, 1.6ms postprocess per image at shape (1, 3, 416, 640)\n",
      "\n",
      "0: 416x640 9 cars, 2 buss, 12.0ms\n",
      "Speed: 5.3ms preprocess, 12.0ms inference, 11.7ms postprocess per image at shape (1, 3, 416, 640)\n",
      "\n",
      "0: 416x640 10 cars, 1 bus, 7.5ms\n",
      "Speed: 5.1ms preprocess, 7.5ms inference, 11.7ms postprocess per image at shape (1, 3, 416, 640)\n",
      "\n",
      "0: 416x640 10 cars, 1 bus, 9.9ms\n",
      "Speed: 4.4ms preprocess, 9.9ms inference, 12.1ms postprocess per image at shape (1, 3, 416, 640)\n",
      "\n",
      "0: 416x640 10 cars, 1 bus, 8.7ms\n",
      "Speed: 2.8ms preprocess, 8.7ms inference, 1.5ms postprocess per image at shape (1, 3, 416, 640)\n",
      "\n",
      "0: 416x640 10 cars, 1 bus, 7.5ms\n",
      "Speed: 3.2ms preprocess, 7.5ms inference, 11.4ms postprocess per image at shape (1, 3, 416, 640)\n",
      "\n",
      "0: 416x640 10 cars, 7.5ms\n",
      "Speed: 3.1ms preprocess, 7.5ms inference, 11.4ms postprocess per image at shape (1, 3, 416, 640)\n",
      "\n",
      "0: 416x640 10 cars, 7.3ms\n",
      "Speed: 2.7ms preprocess, 7.3ms inference, 1.6ms postprocess per image at shape (1, 3, 416, 640)\n",
      "\n",
      "0: 416x640 10 cars, 7.5ms\n",
      "Speed: 4.8ms preprocess, 7.5ms inference, 12.0ms postprocess per image at shape (1, 3, 416, 640)\n",
      "\n",
      "0: 416x640 10 cars, 7.4ms\n",
      "Speed: 2.8ms preprocess, 7.4ms inference, 9.6ms postprocess per image at shape (1, 3, 416, 640)\n",
      "\n",
      "0: 416x640 10 cars, 7.6ms\n",
      "Speed: 4.6ms preprocess, 7.6ms inference, 11.5ms postprocess per image at shape (1, 3, 416, 640)\n",
      "\n",
      "0: 416x640 10 cars, 7.6ms\n",
      "Speed: 4.1ms preprocess, 7.6ms inference, 11.5ms postprocess per image at shape (1, 3, 416, 640)\n",
      "\n",
      "0: 416x640 10 cars, 7.7ms\n",
      "Speed: 5.1ms preprocess, 7.7ms inference, 11.8ms postprocess per image at shape (1, 3, 416, 640)\n",
      "\n",
      "0: 416x640 10 cars, 7.4ms\n",
      "Speed: 2.8ms preprocess, 7.4ms inference, 1.4ms postprocess per image at shape (1, 3, 416, 640)\n",
      "\n",
      "0: 416x640 9 cars, 1 truck, 7.4ms\n",
      "Speed: 3.4ms preprocess, 7.4ms inference, 11.5ms postprocess per image at shape (1, 3, 416, 640)\n",
      "\n",
      "0: 416x640 9 cars, 1 truck, 7.5ms\n",
      "Speed: 5.0ms preprocess, 7.5ms inference, 11.8ms postprocess per image at shape (1, 3, 416, 640)\n",
      "\n",
      "0: 416x640 10 cars, 9.8ms\n",
      "Speed: 5.4ms preprocess, 9.8ms inference, 12.2ms postprocess per image at shape (1, 3, 416, 640)\n",
      "\n",
      "0: 416x640 11 cars, 7.3ms\n",
      "Speed: 2.9ms preprocess, 7.3ms inference, 3.1ms postprocess per image at shape (1, 3, 416, 640)\n",
      "\n",
      "0: 416x640 10 cars, 7.2ms\n",
      "Speed: 4.4ms preprocess, 7.2ms inference, 11.6ms postprocess per image at shape (1, 3, 416, 640)\n",
      "\n",
      "0: 416x640 9 cars, 7.4ms\n",
      "Speed: 3.7ms preprocess, 7.4ms inference, 11.8ms postprocess per image at shape (1, 3, 416, 640)\n",
      "\n",
      "0: 416x640 9 cars, 10.1ms\n",
      "Speed: 4.3ms preprocess, 10.1ms inference, 2.4ms postprocess per image at shape (1, 3, 416, 640)\n",
      "\n",
      "0: 416x640 9 cars, 7.4ms\n",
      "Speed: 3.3ms preprocess, 7.4ms inference, 11.9ms postprocess per image at shape (1, 3, 416, 640)\n",
      "\n",
      "0: 416x640 9 cars, 7.5ms\n",
      "Speed: 3.8ms preprocess, 7.5ms inference, 11.4ms postprocess per image at shape (1, 3, 416, 640)\n",
      "\n",
      "0: 416x640 8 cars, 1 truck, 7.4ms\n",
      "Speed: 4.9ms preprocess, 7.4ms inference, 11.5ms postprocess per image at shape (1, 3, 416, 640)\n",
      "\n",
      "0: 416x640 9 cars, 7.6ms\n",
      "Speed: 5.1ms preprocess, 7.6ms inference, 1.4ms postprocess per image at shape (1, 3, 416, 640)\n",
      "\n",
      "0: 416x640 9 cars, 8.3ms\n",
      "Speed: 4.8ms preprocess, 8.3ms inference, 12.0ms postprocess per image at shape (1, 3, 416, 640)\n",
      "\n",
      "0: 416x640 9 cars, 7.5ms\n",
      "Speed: 2.9ms preprocess, 7.5ms inference, 3.1ms postprocess per image at shape (1, 3, 416, 640)\n",
      "\n",
      "0: 416x640 9 cars, 7.4ms\n",
      "Speed: 4.1ms preprocess, 7.4ms inference, 11.6ms postprocess per image at shape (1, 3, 416, 640)\n",
      "\n",
      "0: 416x640 9 cars, 9.8ms\n",
      "Speed: 3.7ms preprocess, 9.8ms inference, 11.8ms postprocess per image at shape (1, 3, 416, 640)\n",
      "\n",
      "0: 416x640 9 cars, 10.4ms\n",
      "Speed: 4.9ms preprocess, 10.4ms inference, 2.4ms postprocess per image at shape (1, 3, 416, 640)\n",
      "\n",
      "0: 416x640 9 cars, 7.6ms\n",
      "Speed: 4.5ms preprocess, 7.6ms inference, 12.0ms postprocess per image at shape (1, 3, 416, 640)\n",
      "\n",
      "0: 416x640 8 cars, 1 truck, 9.3ms\n",
      "Speed: 3.8ms preprocess, 9.3ms inference, 11.5ms postprocess per image at shape (1, 3, 416, 640)\n",
      "\n",
      "0: 416x640 9 cars, 11.9ms\n",
      "Speed: 5.5ms preprocess, 11.9ms inference, 11.7ms postprocess per image at shape (1, 3, 416, 640)\n",
      "\n",
      "0: 416x640 9 cars, 10.2ms\n",
      "Speed: 4.6ms preprocess, 10.2ms inference, 2.4ms postprocess per image at shape (1, 3, 416, 640)\n",
      "\n",
      "0: 416x640 9 cars, 9.7ms\n",
      "Speed: 2.9ms preprocess, 9.7ms inference, 11.2ms postprocess per image at shape (1, 3, 416, 640)\n",
      "\n",
      "0: 416x640 10 cars, 9.5ms\n",
      "Speed: 3.2ms preprocess, 9.5ms inference, 11.3ms postprocess per image at shape (1, 3, 416, 640)\n",
      "\n",
      "0: 416x640 10 cars, 7.5ms\n",
      "Speed: 4.3ms preprocess, 7.5ms inference, 11.5ms postprocess per image at shape (1, 3, 416, 640)\n",
      "\n",
      "0: 416x640 10 cars, 9.4ms\n",
      "Speed: 2.8ms preprocess, 9.4ms inference, 2.4ms postprocess per image at shape (1, 3, 416, 640)\n",
      "\n",
      "0: 416x640 10 cars, 7.7ms\n",
      "Speed: 5.1ms preprocess, 7.7ms inference, 12.1ms postprocess per image at shape (1, 3, 416, 640)\n",
      "\n",
      "0: 416x640 10 cars, 7.7ms\n",
      "Speed: 3.9ms preprocess, 7.7ms inference, 11.5ms postprocess per image at shape (1, 3, 416, 640)\n",
      "\n",
      "0: 416x640 10 cars, 7.4ms\n",
      "Speed: 3.6ms preprocess, 7.4ms inference, 11.4ms postprocess per image at shape (1, 3, 416, 640)\n",
      "\n",
      "0: 416x640 10 cars, 9.3ms\n",
      "Speed: 3.6ms preprocess, 9.3ms inference, 12.2ms postprocess per image at shape (1, 3, 416, 640)\n",
      "\n",
      "0: 416x640 10 cars, 7.4ms\n",
      "Speed: 4.4ms preprocess, 7.4ms inference, 12.1ms postprocess per image at shape (1, 3, 416, 640)\n",
      "\n",
      "0: 416x640 10 cars, 7.3ms\n",
      "Speed: 4.2ms preprocess, 7.3ms inference, 2.9ms postprocess per image at shape (1, 3, 416, 640)\n",
      "\n",
      "0: 416x640 10 cars, 7.5ms\n",
      "Speed: 5.1ms preprocess, 7.5ms inference, 11.7ms postprocess per image at shape (1, 3, 416, 640)\n",
      "\n",
      "0: 416x640 10 cars, 7.3ms\n",
      "Speed: 3.1ms preprocess, 7.3ms inference, 11.5ms postprocess per image at shape (1, 3, 416, 640)\n",
      "\n",
      "0: 416x640 10 cars, 10.2ms\n",
      "Speed: 4.7ms preprocess, 10.2ms inference, 2.4ms postprocess per image at shape (1, 3, 416, 640)\n",
      "\n",
      "0: 416x640 10 cars, 7.5ms\n",
      "Speed: 3.2ms preprocess, 7.5ms inference, 11.9ms postprocess per image at shape (1, 3, 416, 640)\n",
      "\n",
      "0: 416x640 10 cars, 9.6ms\n",
      "Speed: 2.8ms preprocess, 9.6ms inference, 11.2ms postprocess per image at shape (1, 3, 416, 640)\n",
      "\n",
      "0: 416x640 10 cars, 9.7ms\n",
      "Speed: 4.5ms preprocess, 9.7ms inference, 11.4ms postprocess per image at shape (1, 3, 416, 640)\n",
      "\n",
      "0: 416x640 10 cars, 7.4ms\n",
      "Speed: 5.1ms preprocess, 7.4ms inference, 1.6ms postprocess per image at shape (1, 3, 416, 640)\n",
      "\n",
      "0: 416x640 10 cars, 7.6ms\n",
      "Speed: 3.9ms preprocess, 7.6ms inference, 12.0ms postprocess per image at shape (1, 3, 416, 640)\n",
      "\n",
      "0: 416x640 10 cars, 8.1ms\n",
      "Speed: 2.8ms preprocess, 8.1ms inference, 11.7ms postprocess per image at shape (1, 3, 416, 640)\n",
      "\n",
      "0: 416x640 10 cars, 7.5ms\n",
      "Speed: 3.2ms preprocess, 7.5ms inference, 11.4ms postprocess per image at shape (1, 3, 416, 640)\n",
      "\n",
      "0: 416x640 10 cars, 7.5ms\n",
      "Speed: 4.1ms preprocess, 7.5ms inference, 10.6ms postprocess per image at shape (1, 3, 416, 640)\n",
      "\n",
      "0: 416x640 9 cars, 7.7ms\n",
      "Speed: 4.1ms preprocess, 7.7ms inference, 12.1ms postprocess per image at shape (1, 3, 416, 640)\n",
      "\n",
      "0: 416x640 9 cars, 7.5ms\n",
      "Speed: 2.9ms preprocess, 7.5ms inference, 1.7ms postprocess per image at shape (1, 3, 416, 640)\n",
      "\n",
      "0: 416x640 9 cars, 7.4ms\n",
      "Speed: 3.2ms preprocess, 7.4ms inference, 11.7ms postprocess per image at shape (1, 3, 416, 640)\n",
      "\n",
      "0: 416x640 9 cars, 7.4ms\n",
      "Speed: 3.2ms preprocess, 7.4ms inference, 11.7ms postprocess per image at shape (1, 3, 416, 640)\n",
      "\n",
      "0: 416x640 9 cars, 7.3ms\n",
      "Speed: 2.8ms preprocess, 7.3ms inference, 1.5ms postprocess per image at shape (1, 3, 416, 640)\n",
      "\n",
      "0: 416x640 9 cars, 7.6ms\n",
      "Speed: 4.7ms preprocess, 7.6ms inference, 11.9ms postprocess per image at shape (1, 3, 416, 640)\n",
      "\n",
      "0: 416x640 9 cars, 7.3ms\n",
      "Speed: 2.9ms preprocess, 7.3ms inference, 1.6ms postprocess per image at shape (1, 3, 416, 640)\n",
      "\n",
      "0: 416x640 10 cars, 9.5ms\n",
      "Speed: 4.1ms preprocess, 9.5ms inference, 11.6ms postprocess per image at shape (1, 3, 416, 640)\n",
      "\n",
      "0: 416x640 9 cars, 7.4ms\n",
      "Speed: 4.2ms preprocess, 7.4ms inference, 11.7ms postprocess per image at shape (1, 3, 416, 640)\n",
      "\n",
      "0: 416x640 9 cars, 7.7ms\n",
      "Speed: 7.0ms preprocess, 7.7ms inference, 11.9ms postprocess per image at shape (1, 3, 416, 640)\n",
      "\n",
      "0: 416x640 10 cars, 7.3ms\n",
      "Speed: 2.9ms preprocess, 7.3ms inference, 1.6ms postprocess per image at shape (1, 3, 416, 640)\n",
      "\n",
      "0: 416x640 10 cars, 9.5ms\n",
      "Speed: 3.9ms preprocess, 9.5ms inference, 11.7ms postprocess per image at shape (1, 3, 416, 640)\n",
      "\n",
      "0: 416x640 10 cars, 9.6ms\n",
      "Speed: 4.1ms preprocess, 9.6ms inference, 11.7ms postprocess per image at shape (1, 3, 416, 640)\n",
      "\n",
      "0: 416x640 10 cars, 12.4ms\n",
      "Speed: 5.0ms preprocess, 12.4ms inference, 12.1ms postprocess per image at shape (1, 3, 416, 640)\n",
      "\n",
      "0: 416x640 10 cars, 7.4ms\n",
      "Speed: 2.8ms preprocess, 7.4ms inference, 2.8ms postprocess per image at shape (1, 3, 416, 640)\n",
      "\n",
      "0: 416x640 10 cars, 7.4ms\n",
      "Speed: 4.1ms preprocess, 7.4ms inference, 11.7ms postprocess per image at shape (1, 3, 416, 640)\n",
      "\n",
      "0: 416x640 10 cars, 9.4ms\n",
      "Speed: 4.0ms preprocess, 9.4ms inference, 11.6ms postprocess per image at shape (1, 3, 416, 640)\n",
      "\n",
      "0: 416x640 10 cars, 10.1ms\n",
      "Speed: 5.0ms preprocess, 10.1ms inference, 4.3ms postprocess per image at shape (1, 3, 416, 640)\n",
      "\n",
      "0: 416x640 10 cars, 7.6ms\n",
      "Speed: 3.9ms preprocess, 7.6ms inference, 4.9ms postprocess per image at shape (1, 3, 416, 640)\n",
      "\n",
      "0: 416x640 10 cars, 9.6ms\n",
      "Speed: 5.1ms preprocess, 9.6ms inference, 11.2ms postprocess per image at shape (1, 3, 416, 640)\n",
      "\n",
      "0: 416x640 11 cars, 7.5ms\n",
      "Speed: 4.1ms preprocess, 7.5ms inference, 11.6ms postprocess per image at shape (1, 3, 416, 640)\n",
      "\n",
      "0: 416x640 11 cars, 7.3ms\n",
      "Speed: 3.8ms preprocess, 7.3ms inference, 1.4ms postprocess per image at shape (1, 3, 416, 640)\n",
      "\n",
      "0: 416x640 11 cars, 7.8ms\n",
      "Speed: 5.0ms preprocess, 7.8ms inference, 11.8ms postprocess per image at shape (1, 3, 416, 640)\n",
      "\n",
      "0: 416x640 11 cars, 7.3ms\n",
      "Speed: 2.8ms preprocess, 7.3ms inference, 1.5ms postprocess per image at shape (1, 3, 416, 640)\n",
      "\n",
      "0: 416x640 11 cars, 7.4ms\n",
      "Speed: 5.1ms preprocess, 7.4ms inference, 11.6ms postprocess per image at shape (1, 3, 416, 640)\n",
      "\n",
      "0: 416x640 11 cars, 7.5ms\n",
      "Speed: 4.3ms preprocess, 7.5ms inference, 11.7ms postprocess per image at shape (1, 3, 416, 640)\n",
      "\n",
      "0: 416x640 11 cars, 7.6ms\n",
      "Speed: 4.2ms preprocess, 7.6ms inference, 12.1ms postprocess per image at shape (1, 3, 416, 640)\n",
      "\n",
      "0: 416x640 11 cars, 7.5ms\n",
      "Speed: 2.8ms preprocess, 7.5ms inference, 2.0ms postprocess per image at shape (1, 3, 416, 640)\n",
      "\n",
      "0: 416x640 12 cars, 9.6ms\n",
      "Speed: 3.7ms preprocess, 9.6ms inference, 11.4ms postprocess per image at shape (1, 3, 416, 640)\n",
      "\n",
      "0: 416x640 11 cars, 7.5ms\n",
      "Speed: 3.5ms preprocess, 7.5ms inference, 11.8ms postprocess per image at shape (1, 3, 416, 640)\n",
      "\n",
      "0: 416x640 11 cars, 7.6ms\n",
      "Speed: 4.8ms preprocess, 7.6ms inference, 12.0ms postprocess per image at shape (1, 3, 416, 640)\n",
      "\n",
      "0: 416x640 11 cars, 7.4ms\n",
      "Speed: 2.9ms preprocess, 7.4ms inference, 1.6ms postprocess per image at shape (1, 3, 416, 640)\n",
      "\n",
      "0: 416x640 11 cars, 7.3ms\n",
      "Speed: 5.0ms preprocess, 7.3ms inference, 11.5ms postprocess per image at shape (1, 3, 416, 640)\n",
      "\n",
      "0: 416x640 11 cars, 7.4ms\n",
      "Speed: 3.2ms preprocess, 7.4ms inference, 11.7ms postprocess per image at shape (1, 3, 416, 640)\n",
      "\n",
      "0: 416x640 11 cars, 10.1ms\n",
      "Speed: 4.3ms preprocess, 10.1ms inference, 10.4ms postprocess per image at shape (1, 3, 416, 640)\n",
      "\n",
      "0: 416x640 11 cars, 7.4ms\n",
      "Speed: 3.5ms preprocess, 7.4ms inference, 1.5ms postprocess per image at shape (1, 3, 416, 640)\n",
      "\n",
      "0: 416x640 11 cars, 7.4ms\n",
      "Speed: 3.0ms preprocess, 7.4ms inference, 11.6ms postprocess per image at shape (1, 3, 416, 640)\n",
      "\n",
      "0: 416x640 11 cars, 7.5ms\n",
      "Speed: 4.9ms preprocess, 7.5ms inference, 11.8ms postprocess per image at shape (1, 3, 416, 640)\n",
      "\n",
      "0: 416x640 11 cars, 7.4ms\n",
      "Speed: 2.8ms preprocess, 7.4ms inference, 1.6ms postprocess per image at shape (1, 3, 416, 640)\n",
      "\n",
      "0: 416x640 11 cars, 7.6ms\n",
      "Speed: 4.4ms preprocess, 7.6ms inference, 12.0ms postprocess per image at shape (1, 3, 416, 640)\n",
      "\n",
      "0: 416x640 11 cars, 8.6ms\n",
      "Speed: 2.9ms preprocess, 8.6ms inference, 11.1ms postprocess per image at shape (1, 3, 416, 640)\n",
      "\n",
      "0: 416x640 11 cars, 7.5ms\n",
      "Speed: 3.1ms preprocess, 7.5ms inference, 11.7ms postprocess per image at shape (1, 3, 416, 640)\n",
      "\n",
      "0: 416x640 11 cars, 7.7ms\n",
      "Speed: 4.2ms preprocess, 7.7ms inference, 9.4ms postprocess per image at shape (1, 3, 416, 640)\n",
      "\n",
      "0: 416x640 11 cars, 7.4ms\n",
      "Speed: 3.2ms preprocess, 7.4ms inference, 11.8ms postprocess per image at shape (1, 3, 416, 640)\n",
      "\n",
      "0: 416x640 11 cars, 8.4ms\n",
      "Speed: 3.1ms preprocess, 8.4ms inference, 9.7ms postprocess per image at shape (1, 3, 416, 640)\n",
      "\n",
      "0: 416x640 11 cars, 7.4ms\n",
      "Speed: 3.4ms preprocess, 7.4ms inference, 11.4ms postprocess per image at shape (1, 3, 416, 640)\n",
      "\n",
      "0: 416x640 11 cars, 7.3ms\n",
      "Speed: 4.5ms preprocess, 7.3ms inference, 9.9ms postprocess per image at shape (1, 3, 416, 640)\n",
      "\n",
      "0: 416x640 11 cars, 7.6ms\n",
      "Speed: 5.3ms preprocess, 7.6ms inference, 11.9ms postprocess per image at shape (1, 3, 416, 640)\n",
      "\n",
      "0: 416x640 11 cars, 9.2ms\n",
      "Speed: 2.8ms preprocess, 9.2ms inference, 11.1ms postprocess per image at shape (1, 3, 416, 640)\n",
      "\n",
      "0: 416x640 11 cars, 7.2ms\n",
      "Speed: 4.3ms preprocess, 7.2ms inference, 11.5ms postprocess per image at shape (1, 3, 416, 640)\n",
      "\n",
      "0: 416x640 11 cars, 7.3ms\n",
      "Speed: 3.5ms preprocess, 7.3ms inference, 11.3ms postprocess per image at shape (1, 3, 416, 640)\n",
      "\n",
      "0: 416x640 11 cars, 7.6ms\n",
      "Speed: 4.3ms preprocess, 7.6ms inference, 12.0ms postprocess per image at shape (1, 3, 416, 640)\n",
      "\n",
      "0: 416x640 11 cars, 8.6ms\n",
      "Speed: 2.8ms preprocess, 8.6ms inference, 11.1ms postprocess per image at shape (1, 3, 416, 640)\n",
      "\n",
      "0: 416x640 11 cars, 7.3ms\n",
      "Speed: 4.9ms preprocess, 7.3ms inference, 11.7ms postprocess per image at shape (1, 3, 416, 640)\n",
      "\n",
      "0: 416x640 11 cars, 7.5ms\n",
      "Speed: 3.5ms preprocess, 7.5ms inference, 12.2ms postprocess per image at shape (1, 3, 416, 640)\n",
      "\n",
      "0: 416x640 11 cars, 9.1ms\n",
      "Speed: 4.2ms preprocess, 9.1ms inference, 12.1ms postprocess per image at shape (1, 3, 416, 640)\n",
      "\n",
      "0: 416x640 11 cars, 7.3ms\n",
      "Speed: 2.8ms preprocess, 7.3ms inference, 2.8ms postprocess per image at shape (1, 3, 416, 640)\n",
      "\n",
      "0: 416x640 12 cars, 7.4ms\n",
      "Speed: 4.2ms preprocess, 7.4ms inference, 11.8ms postprocess per image at shape (1, 3, 416, 640)\n",
      "\n",
      "0: 416x640 12 cars, 7.5ms\n",
      "Speed: 4.2ms preprocess, 7.5ms inference, 11.7ms postprocess per image at shape (1, 3, 416, 640)\n",
      "\n",
      "0: 416x640 12 cars, 10.1ms\n",
      "Speed: 5.2ms preprocess, 10.1ms inference, 4.2ms postprocess per image at shape (1, 3, 416, 640)\n",
      "\n",
      "0: 416x640 12 cars, 7.5ms\n",
      "Speed: 3.0ms preprocess, 7.5ms inference, 4.8ms postprocess per image at shape (1, 3, 416, 640)\n",
      "\n",
      "0: 416x640 12 cars, 7.6ms\n",
      "Speed: 3.3ms preprocess, 7.6ms inference, 11.5ms postprocess per image at shape (1, 3, 416, 640)\n",
      "\n",
      "0: 416x640 12 cars, 7.5ms\n",
      "Speed: 4.2ms preprocess, 7.5ms inference, 11.4ms postprocess per image at shape (1, 3, 416, 640)\n",
      "\n",
      "0: 416x640 12 cars, 10.1ms\n",
      "Speed: 4.8ms preprocess, 10.1ms inference, 2.3ms postprocess per image at shape (1, 3, 416, 640)\n",
      "\n",
      "0: 416x640 12 cars, 7.4ms\n",
      "Speed: 4.2ms preprocess, 7.4ms inference, 11.9ms postprocess per image at shape (1, 3, 416, 640)\n",
      "\n",
      "0: 416x640 12 cars, 8.7ms\n",
      "Speed: 4.0ms preprocess, 8.7ms inference, 11.3ms postprocess per image at shape (1, 3, 416, 640)\n",
      "\n",
      "0: 416x640 12 cars, 7.7ms\n",
      "Speed: 4.8ms preprocess, 7.7ms inference, 11.7ms postprocess per image at shape (1, 3, 416, 640)\n",
      "\n",
      "0: 416x640 12 cars, 9.2ms\n",
      "Speed: 3.2ms preprocess, 9.2ms inference, 2.4ms postprocess per image at shape (1, 3, 416, 640)\n",
      "\n",
      "0: 416x640 12 cars, 7.7ms\n",
      "Speed: 4.3ms preprocess, 7.7ms inference, 12.0ms postprocess per image at shape (1, 3, 416, 640)\n",
      "\n",
      "0: 416x640 12 cars, 9.0ms\n",
      "Speed: 3.0ms preprocess, 9.0ms inference, 11.3ms postprocess per image at shape (1, 3, 416, 640)\n",
      "\n",
      "0: 416x640 12 cars, 7.4ms\n",
      "Speed: 3.6ms preprocess, 7.4ms inference, 11.5ms postprocess per image at shape (1, 3, 416, 640)\n",
      "\n",
      "0: 416x640 12 cars, 7.5ms\n",
      "Speed: 3.5ms preprocess, 7.5ms inference, 8.3ms postprocess per image at shape (1, 3, 416, 640)\n",
      "\n",
      "0: 416x640 12 cars, 7.7ms\n",
      "Speed: 3.8ms preprocess, 7.7ms inference, 11.7ms postprocess per image at shape (1, 3, 416, 640)\n",
      "\n",
      "0: 416x640 13 cars, 7.4ms\n",
      "Speed: 2.8ms preprocess, 7.4ms inference, 1.7ms postprocess per image at shape (1, 3, 416, 640)\n",
      "\n",
      "0: 416x640 13 cars, 7.5ms\n",
      "Speed: 4.7ms preprocess, 7.5ms inference, 11.6ms postprocess per image at shape (1, 3, 416, 640)\n",
      "\n",
      "0: 416x640 13 cars, 7.5ms\n",
      "Speed: 4.8ms preprocess, 7.5ms inference, 11.9ms postprocess per image at shape (1, 3, 416, 640)\n",
      "\n",
      "0: 416x640 13 cars, 7.7ms\n",
      "Speed: 4.5ms preprocess, 7.7ms inference, 12.0ms postprocess per image at shape (1, 3, 416, 640)\n",
      "\n",
      "0: 416x640 13 cars, 7.3ms\n",
      "Speed: 2.9ms preprocess, 7.3ms inference, 1.5ms postprocess per image at shape (1, 3, 416, 640)\n",
      "\n",
      "0: 416x640 13 cars, 7.5ms\n",
      "Speed: 5.1ms preprocess, 7.5ms inference, 11.4ms postprocess per image at shape (1, 3, 416, 640)\n",
      "\n",
      "0: 416x640 13 cars, 7.6ms\n",
      "Speed: 3.3ms preprocess, 7.6ms inference, 11.3ms postprocess per image at shape (1, 3, 416, 640)\n",
      "\n",
      "0: 416x640 13 cars, 7.6ms\n",
      "Speed: 3.6ms preprocess, 7.6ms inference, 11.8ms postprocess per image at shape (1, 3, 416, 640)\n",
      "\n",
      "0: 416x640 13 cars, 7.2ms\n",
      "Speed: 2.8ms preprocess, 7.2ms inference, 1.6ms postprocess per image at shape (1, 3, 416, 640)\n",
      "\n",
      "0: 416x640 13 cars, 7.5ms\n",
      "Speed: 3.4ms preprocess, 7.5ms inference, 11.3ms postprocess per image at shape (1, 3, 416, 640)\n",
      "\n",
      "0: 416x640 13 cars, 7.3ms\n",
      "Speed: 3.6ms preprocess, 7.3ms inference, 11.3ms postprocess per image at shape (1, 3, 416, 640)\n",
      "\n",
      "0: 416x640 13 cars, 7.6ms\n",
      "Speed: 3.7ms preprocess, 7.6ms inference, 12.0ms postprocess per image at shape (1, 3, 416, 640)\n",
      "\n",
      "0: 416x640 13 cars, 7.3ms\n",
      "Speed: 3.1ms preprocess, 7.3ms inference, 1.5ms postprocess per image at shape (1, 3, 416, 640)\n",
      "\n",
      "0: 416x640 13 cars, 7.4ms\n",
      "Speed: 5.2ms preprocess, 7.4ms inference, 11.3ms postprocess per image at shape (1, 3, 416, 640)\n",
      "\n",
      "0: 416x640 13 cars, 7.5ms\n",
      "Speed: 3.6ms preprocess, 7.5ms inference, 11.8ms postprocess per image at shape (1, 3, 416, 640)\n",
      "\n",
      "0: 416x640 13 cars, 10.1ms\n",
      "Speed: 4.9ms preprocess, 10.1ms inference, 2.4ms postprocess per image at shape (1, 3, 416, 640)\n",
      "\n",
      "0: 416x640 13 cars, 7.6ms\n",
      "Speed: 4.8ms preprocess, 7.6ms inference, 4.9ms postprocess per image at shape (1, 3, 416, 640)\n",
      "\n",
      "0: 416x640 13 cars, 9.5ms\n",
      "Speed: 4.1ms preprocess, 9.5ms inference, 11.4ms postprocess per image at shape (1, 3, 416, 640)\n",
      "\n",
      "0: 416x640 13 cars, 7.5ms\n",
      "Speed: 3.9ms preprocess, 7.5ms inference, 11.5ms postprocess per image at shape (1, 3, 416, 640)\n",
      "\n",
      "0: 416x640 13 cars, 10.3ms\n",
      "Speed: 4.2ms preprocess, 10.3ms inference, 4.0ms postprocess per image at shape (1, 3, 416, 640)\n",
      "\n",
      "0: 416x640 13 cars, 7.5ms\n",
      "Speed: 4.8ms preprocess, 7.5ms inference, 2.6ms postprocess per image at shape (1, 3, 416, 640)\n",
      "\n",
      "0: 416x640 12 cars, 1 truck, 7.4ms\n",
      "Speed: 3.2ms preprocess, 7.4ms inference, 11.5ms postprocess per image at shape (1, 3, 416, 640)\n",
      "\n",
      "0: 416x640 13 cars, 7.4ms\n",
      "Speed: 3.4ms preprocess, 7.4ms inference, 11.8ms postprocess per image at shape (1, 3, 416, 640)\n",
      "\n",
      "0: 416x640 12 cars, 10.1ms\n",
      "Speed: 4.4ms preprocess, 10.1ms inference, 2.3ms postprocess per image at shape (1, 3, 416, 640)\n",
      "\n",
      "0: 416x640 12 cars, 7.7ms\n",
      "Speed: 3.3ms preprocess, 7.7ms inference, 11.1ms postprocess per image at shape (1, 3, 416, 640)\n",
      "\n",
      "0: 416x640 12 cars, 7.4ms\n",
      "Speed: 4.9ms preprocess, 7.4ms inference, 11.5ms postprocess per image at shape (1, 3, 416, 640)\n",
      "\n",
      "0: 416x640 12 cars, 7.5ms\n",
      "Speed: 4.4ms preprocess, 7.5ms inference, 11.5ms postprocess per image at shape (1, 3, 416, 640)\n",
      "\n",
      "0: 416x640 12 cars, 10.3ms\n",
      "Speed: 5.0ms preprocess, 10.3ms inference, 2.4ms postprocess per image at shape (1, 3, 416, 640)\n",
      "\n",
      "0: 416x640 12 cars, 7.7ms\n",
      "Speed: 4.4ms preprocess, 7.7ms inference, 9.4ms postprocess per image at shape (1, 3, 416, 640)\n",
      "\n",
      "0: 416x640 12 cars, 7.4ms\n",
      "Speed: 5.1ms preprocess, 7.4ms inference, 11.5ms postprocess per image at shape (1, 3, 416, 640)\n",
      "\n",
      "0: 416x640 12 cars, 7.3ms\n",
      "Speed: 5.1ms preprocess, 7.3ms inference, 11.5ms postprocess per image at shape (1, 3, 416, 640)\n",
      "\n",
      "0: 416x640 12 cars, 7.3ms\n",
      "Speed: 2.7ms preprocess, 7.3ms inference, 1.5ms postprocess per image at shape (1, 3, 416, 640)\n",
      "\n",
      "0: 416x640 12 cars, 7.5ms\n",
      "Speed: 4.9ms preprocess, 7.5ms inference, 12.1ms postprocess per image at shape (1, 3, 416, 640)\n",
      "\n",
      "0: 416x640 12 cars, 9.2ms\n",
      "Speed: 2.8ms preprocess, 9.2ms inference, 11.6ms postprocess per image at shape (1, 3, 416, 640)\n",
      "\n",
      "0: 416x640 12 cars, 7.3ms\n",
      "Speed: 4.0ms preprocess, 7.3ms inference, 11.4ms postprocess per image at shape (1, 3, 416, 640)\n",
      "\n",
      "0: 416x640 12 cars, 8.8ms\n",
      "Speed: 4.7ms preprocess, 8.8ms inference, 9.9ms postprocess per image at shape (1, 3, 416, 640)\n",
      "\n",
      "0: 416x640 12 cars, 7.4ms\n",
      "Speed: 3.1ms preprocess, 7.4ms inference, 12.0ms postprocess per image at shape (1, 3, 416, 640)\n",
      "\n",
      "0: 416x640 12 cars, 8.3ms\n",
      "Speed: 2.8ms preprocess, 8.3ms inference, 11.4ms postprocess per image at shape (1, 3, 416, 640)\n",
      "\n",
      "0: 416x640 12 cars, 7.3ms\n",
      "Speed: 3.4ms preprocess, 7.3ms inference, 11.5ms postprocess per image at shape (1, 3, 416, 640)\n",
      "\n",
      "0: 416x640 12 cars, 9.6ms\n",
      "Speed: 4.9ms preprocess, 9.6ms inference, 9.9ms postprocess per image at shape (1, 3, 416, 640)\n",
      "\n",
      "0: 416x640 12 cars, 7.5ms\n",
      "Speed: 4.2ms preprocess, 7.5ms inference, 12.1ms postprocess per image at shape (1, 3, 416, 640)\n",
      "\n",
      "0: 416x640 12 cars, 9.3ms\n",
      "Speed: 3.0ms preprocess, 9.3ms inference, 8.6ms postprocess per image at shape (1, 3, 416, 640)\n",
      "\n",
      "0: 416x640 12 cars, 7.4ms\n",
      "Speed: 4.5ms preprocess, 7.4ms inference, 11.3ms postprocess per image at shape (1, 3, 416, 640)\n",
      "\n",
      "0: 416x640 12 cars, 7.5ms\n",
      "Speed: 3.4ms preprocess, 7.5ms inference, 9.9ms postprocess per image at shape (1, 3, 416, 640)\n",
      "\n",
      "0: 416x640 12 cars, 7.6ms\n",
      "Speed: 3.8ms preprocess, 7.6ms inference, 12.0ms postprocess per image at shape (1, 3, 416, 640)\n",
      "\n",
      "0: 416x640 12 cars, 7.9ms\n",
      "Speed: 2.8ms preprocess, 7.9ms inference, 9.4ms postprocess per image at shape (1, 3, 416, 640)\n",
      "\n",
      "0: 416x640 12 cars, 7.3ms\n",
      "Speed: 4.8ms preprocess, 7.3ms inference, 11.4ms postprocess per image at shape (1, 3, 416, 640)\n",
      "\n",
      "0: 416x640 12 cars, 7.4ms\n",
      "Speed: 4.6ms preprocess, 7.4ms inference, 10.3ms postprocess per image at shape (1, 3, 416, 640)\n",
      "\n",
      "0: 416x640 12 cars, 9.1ms\n",
      "Speed: 5.0ms preprocess, 9.1ms inference, 12.1ms postprocess per image at shape (1, 3, 416, 640)\n",
      "\n",
      "0: 416x640 12 cars, 1 truck, 7.4ms\n",
      "Speed: 2.8ms preprocess, 7.4ms inference, 2.5ms postprocess per image at shape (1, 3, 416, 640)\n",
      "\n",
      "0: 416x640 12 cars, 1 truck, 7.4ms\n",
      "Speed: 4.3ms preprocess, 7.4ms inference, 11.8ms postprocess per image at shape (1, 3, 416, 640)\n",
      "\n",
      "0: 416x640 12 cars, 1 bus, 7.6ms\n",
      "Speed: 3.8ms preprocess, 7.6ms inference, 11.7ms postprocess per image at shape (1, 3, 416, 640)\n",
      "\n",
      "0: 416x640 12 cars, 1 truck, 7.7ms\n",
      "Speed: 3.7ms preprocess, 7.7ms inference, 11.8ms postprocess per image at shape (1, 3, 416, 640)\n",
      "\n",
      "0: 416x640 12 cars, 1 truck, 7.3ms\n",
      "Speed: 2.8ms preprocess, 7.3ms inference, 1.6ms postprocess per image at shape (1, 3, 416, 640)\n",
      "\n",
      "0: 416x640 11 cars, 1 bus, 7.4ms\n",
      "Speed: 4.3ms preprocess, 7.4ms inference, 11.5ms postprocess per image at shape (1, 3, 416, 640)\n",
      "\n",
      "0: 416x640 11 cars, 1 truck, 7.3ms\n",
      "Speed: 4.2ms preprocess, 7.3ms inference, 11.3ms postprocess per image at shape (1, 3, 416, 640)\n",
      "\n",
      "0: 416x640 11 cars, 1 truck, 7.6ms\n",
      "Speed: 4.3ms preprocess, 7.6ms inference, 12.0ms postprocess per image at shape (1, 3, 416, 640)\n",
      "\n",
      "0: 416x640 11 cars, 1 truck, 7.2ms\n",
      "Speed: 2.8ms preprocess, 7.2ms inference, 1.5ms postprocess per image at shape (1, 3, 416, 640)\n",
      "\n",
      "0: 416x640 11 cars, 1 truck, 7.5ms\n",
      "Speed: 3.2ms preprocess, 7.5ms inference, 11.4ms postprocess per image at shape (1, 3, 416, 640)\n",
      "\n",
      "0: 416x640 11 cars, 1 bus, 7.3ms\n",
      "Speed: 4.3ms preprocess, 7.3ms inference, 11.6ms postprocess per image at shape (1, 3, 416, 640)\n",
      "\n",
      "0: 416x640 11 cars, 1 truck, 7.7ms\n",
      "Speed: 3.6ms preprocess, 7.7ms inference, 11.8ms postprocess per image at shape (1, 3, 416, 640)\n",
      "\n",
      "0: 416x640 11 cars, 1 bus, 7.3ms\n",
      "Speed: 2.8ms preprocess, 7.3ms inference, 1.5ms postprocess per image at shape (1, 3, 416, 640)\n",
      "\n",
      "0: 416x640 11 cars, 1 truck, 7.5ms\n",
      "Speed: 3.2ms preprocess, 7.5ms inference, 11.5ms postprocess per image at shape (1, 3, 416, 640)\n",
      "\n",
      "0: 416x640 11 cars, 1 truck, 7.4ms\n",
      "Speed: 3.3ms preprocess, 7.4ms inference, 11.6ms postprocess per image at shape (1, 3, 416, 640)\n",
      "\n",
      "0: 416x640 11 cars, 1 truck, 7.7ms\n",
      "Speed: 2.9ms preprocess, 7.7ms inference, 2.5ms postprocess per image at shape (1, 3, 416, 640)\n",
      "\n",
      "0: 416x640 11 cars, 1 truck, 7.6ms\n",
      "Speed: 3.1ms preprocess, 7.6ms inference, 12.0ms postprocess per image at shape (1, 3, 416, 640)\n",
      "\n",
      "0: 416x640 11 cars, 1 truck, 7.3ms\n",
      "Speed: 4.0ms preprocess, 7.3ms inference, 10.0ms postprocess per image at shape (1, 3, 416, 640)\n",
      "\n",
      "0: 416x640 11 cars, 1 truck, 7.3ms\n",
      "Speed: 3.9ms preprocess, 7.3ms inference, 11.5ms postprocess per image at shape (1, 3, 416, 640)\n",
      "\n",
      "0: 416x640 12 cars, 7.6ms\n",
      "Speed: 4.8ms preprocess, 7.6ms inference, 3.0ms postprocess per image at shape (1, 3, 416, 640)\n",
      "\n",
      "0: 416x640 11 cars, 1 truck, 7.5ms\n",
      "Speed: 3.4ms preprocess, 7.5ms inference, 12.0ms postprocess per image at shape (1, 3, 416, 640)\n",
      "\n",
      "0: 416x640 12 cars, 7.5ms\n",
      "Speed: 3.6ms preprocess, 7.5ms inference, 8.9ms postprocess per image at shape (1, 3, 416, 640)\n",
      "\n",
      "0: 416x640 11 cars, 1 truck, 7.4ms\n",
      "Speed: 3.8ms preprocess, 7.4ms inference, 11.5ms postprocess per image at shape (1, 3, 416, 640)\n",
      "\n",
      "0: 416x640 12 cars, 7.5ms\n",
      "Speed: 3.7ms preprocess, 7.5ms inference, 7.6ms postprocess per image at shape (1, 3, 416, 640)\n",
      "\n",
      "0: 416x640 12 cars, 7.5ms\n",
      "Speed: 3.4ms preprocess, 7.5ms inference, 11.9ms postprocess per image at shape (1, 3, 416, 640)\n",
      "\n",
      "0: 416x640 12 cars, 9.9ms\n",
      "Speed: 4.1ms preprocess, 9.9ms inference, 10.1ms postprocess per image at shape (1, 3, 416, 640)\n",
      "\n",
      "0: 416x640 12 cars, 9.4ms\n",
      "Speed: 3.3ms preprocess, 9.4ms inference, 11.2ms postprocess per image at shape (1, 3, 416, 640)\n",
      "\n",
      "0: 416x640 12 cars, 7.7ms\n",
      "Speed: 2.9ms preprocess, 7.7ms inference, 9.5ms postprocess per image at shape (1, 3, 416, 640)\n",
      "\n",
      "0: 416x640 12 cars, 7.5ms\n",
      "Speed: 5.1ms preprocess, 7.5ms inference, 12.0ms postprocess per image at shape (1, 3, 416, 640)\n",
      "\n",
      "0: 416x640 12 cars, 8.7ms\n",
      "Speed: 2.9ms preprocess, 8.7ms inference, 11.4ms postprocess per image at shape (1, 3, 416, 640)\n",
      "\n",
      "0: 416x640 11 cars, 1 truck, 7.5ms\n",
      "Speed: 3.3ms preprocess, 7.5ms inference, 11.3ms postprocess per image at shape (1, 3, 416, 640)\n",
      "\n",
      "0: 416x640 10 cars, 1 truck, 7.4ms\n",
      "Speed: 3.3ms preprocess, 7.4ms inference, 11.3ms postprocess per image at shape (1, 3, 416, 640)\n",
      "\n",
      "0: 416x640 9 cars, 1 truck, 10.1ms\n",
      "Speed: 4.8ms preprocess, 10.1ms inference, 4.2ms postprocess per image at shape (1, 3, 416, 640)\n",
      "\n",
      "0: 416x640 9 cars, 1 truck, 7.7ms\n",
      "Speed: 4.9ms preprocess, 7.7ms inference, 4.8ms postprocess per image at shape (1, 3, 416, 640)\n",
      "\n",
      "0: 416x640 9 cars, 9.6ms\n",
      "Speed: 3.1ms preprocess, 9.6ms inference, 11.6ms postprocess per image at shape (1, 3, 416, 640)\n",
      "\n",
      "0: 416x640 9 cars, 7.3ms\n",
      "Speed: 3.9ms preprocess, 7.3ms inference, 11.6ms postprocess per image at shape (1, 3, 416, 640)\n",
      "\n",
      "0: 416x640 9 cars, 10.1ms\n",
      "Speed: 4.6ms preprocess, 10.1ms inference, 2.4ms postprocess per image at shape (1, 3, 416, 640)\n",
      "\n",
      "0: 416x640 10 cars, 7.6ms\n",
      "Speed: 4.9ms preprocess, 7.6ms inference, 12.0ms postprocess per image at shape (1, 3, 416, 640)\n",
      "\n",
      "0: 416x640 11 cars, 8.4ms\n",
      "Speed: 4.9ms preprocess, 8.4ms inference, 11.5ms postprocess per image at shape (1, 3, 416, 640)\n",
      "\n",
      "0: 416x640 11 cars, 7.5ms\n",
      "Speed: 4.8ms preprocess, 7.5ms inference, 11.7ms postprocess per image at shape (1, 3, 416, 640)\n",
      "\n",
      "0: 416x640 11 cars, 10.1ms\n",
      "Speed: 4.9ms preprocess, 10.1ms inference, 2.4ms postprocess per image at shape (1, 3, 416, 640)\n",
      "\n",
      "0: 416x640 11 cars, 7.6ms\n",
      "Speed: 3.1ms preprocess, 7.6ms inference, 11.8ms postprocess per image at shape (1, 3, 416, 640)\n",
      "\n",
      "0: 416x640 11 cars, 7.4ms\n",
      "Speed: 3.1ms preprocess, 7.4ms inference, 11.6ms postprocess per image at shape (1, 3, 416, 640)\n",
      "\n",
      "0: 416x640 11 cars, 7.4ms\n",
      "Speed: 4.6ms preprocess, 7.4ms inference, 11.7ms postprocess per image at shape (1, 3, 416, 640)\n",
      "\n",
      "0: 416x640 11 cars, 10.2ms\n",
      "Speed: 4.4ms preprocess, 10.2ms inference, 2.4ms postprocess per image at shape (1, 3, 416, 640)\n",
      "\n",
      "0: 416x640 11 cars, 7.5ms\n",
      "Speed: 4.1ms preprocess, 7.5ms inference, 12.0ms postprocess per image at shape (1, 3, 416, 640)\n",
      "\n",
      "0: 416x640 11 cars, 7.4ms\n",
      "Speed: 3.5ms preprocess, 7.4ms inference, 11.3ms postprocess per image at shape (1, 3, 416, 640)\n",
      "\n",
      "0: 416x640 11 cars, 1 truck, 7.4ms\n",
      "Speed: 4.8ms preprocess, 7.4ms inference, 11.4ms postprocess per image at shape (1, 3, 416, 640)\n",
      "\n",
      "0: 416x640 11 cars, 1 truck, 7.4ms\n",
      "Speed: 3.5ms preprocess, 7.4ms inference, 1.5ms postprocess per image at shape (1, 3, 416, 640)\n",
      "\n",
      "0: 416x640 12 cars, 7.4ms\n",
      "Speed: 2.9ms preprocess, 7.4ms inference, 11.8ms postprocess per image at shape (1, 3, 416, 640)\n",
      "\n",
      "0: 416x640 12 cars, 7.5ms\n",
      "Speed: 3.2ms preprocess, 7.5ms inference, 11.1ms postprocess per image at shape (1, 3, 416, 640)\n",
      "\n",
      "0: 416x640 12 cars, 7.5ms\n",
      "Speed: 4.2ms preprocess, 7.5ms inference, 11.8ms postprocess per image at shape (1, 3, 416, 640)\n",
      "\n",
      "0: 416x640 11 cars, 8.7ms\n",
      "Speed: 3.3ms preprocess, 8.7ms inference, 2.4ms postprocess per image at shape (1, 3, 416, 640)\n",
      "\n",
      "0: 416x640 11 cars, 7.6ms\n",
      "Speed: 4.9ms preprocess, 7.6ms inference, 12.0ms postprocess per image at shape (1, 3, 416, 640)\n",
      "\n",
      "0: 416x640 11 cars, 8.1ms\n",
      "Speed: 3.5ms preprocess, 8.1ms inference, 11.5ms postprocess per image at shape (1, 3, 416, 640)\n",
      "\n",
      "0: 416x640 11 cars, 7.5ms\n",
      "Speed: 4.6ms preprocess, 7.5ms inference, 11.4ms postprocess per image at shape (1, 3, 416, 640)\n",
      "\n",
      "0: 416x640 10 cars, 1 truck, 9.1ms\n",
      "Speed: 3.1ms preprocess, 9.1ms inference, 2.5ms postprocess per image at shape (1, 3, 416, 640)\n",
      "\n",
      "0: 416x640 11 cars, 7.6ms\n",
      "Speed: 4.5ms preprocess, 7.6ms inference, 12.0ms postprocess per image at shape (1, 3, 416, 640)\n",
      "\n",
      "0: 416x640 11 cars, 7.4ms\n",
      "Speed: 3.3ms preprocess, 7.4ms inference, 11.7ms postprocess per image at shape (1, 3, 416, 640)\n",
      "\n",
      "0: 416x640 11 cars, 7.3ms\n",
      "Speed: 3.0ms preprocess, 7.3ms inference, 11.7ms postprocess per image at shape (1, 3, 416, 640)\n",
      "\n",
      "0: 416x640 11 cars, 7.7ms\n",
      "Speed: 4.2ms preprocess, 7.7ms inference, 3.0ms postprocess per image at shape (1, 3, 416, 640)\n",
      "\n",
      "0: 416x640 11 cars, 7.6ms\n",
      "Speed: 4.7ms preprocess, 7.6ms inference, 11.9ms postprocess per image at shape (1, 3, 416, 640)\n",
      "\n",
      "0: 416x640 11 cars, 9.2ms\n",
      "Speed: 2.9ms preprocess, 9.2ms inference, 9.5ms postprocess per image at shape (1, 3, 416, 640)\n",
      "\n",
      "0: 416x640 11 cars, 7.2ms\n",
      "Speed: 3.8ms preprocess, 7.2ms inference, 11.5ms postprocess per image at shape (1, 3, 416, 640)\n",
      "\n",
      "0: 416x640 11 cars, 7.4ms\n",
      "Speed: 4.8ms preprocess, 7.4ms inference, 10.6ms postprocess per image at shape (1, 3, 416, 640)\n",
      "\n",
      "0: 416x640 11 cars, 7.4ms\n",
      "Speed: 4.5ms preprocess, 7.4ms inference, 12.2ms postprocess per image at shape (1, 3, 416, 640)\n",
      "\n",
      "0: 416x640 11 cars, 8.6ms\n",
      "Speed: 2.8ms preprocess, 8.6ms inference, 1.5ms postprocess per image at shape (1, 3, 416, 640)\n",
      "\n",
      "0: 416x640 11 cars, 7.5ms\n",
      "Speed: 4.5ms preprocess, 7.5ms inference, 11.6ms postprocess per image at shape (1, 3, 416, 640)\n",
      "\n",
      "0: 416x640 11 cars, 7.5ms\n",
      "Speed: 3.4ms preprocess, 7.5ms inference, 11.7ms postprocess per image at shape (1, 3, 416, 640)\n",
      "\n",
      "0: 416x640 11 cars, 12.4ms\n",
      "Speed: 5.2ms preprocess, 12.4ms inference, 12.1ms postprocess per image at shape (1, 3, 416, 640)\n",
      "\n",
      "0: 416x640 11 cars, 7.3ms\n",
      "Speed: 2.8ms preprocess, 7.3ms inference, 2.8ms postprocess per image at shape (1, 3, 416, 640)\n",
      "\n",
      "0: 416x640 11 cars, 7.3ms\n",
      "Speed: 4.0ms preprocess, 7.3ms inference, 11.7ms postprocess per image at shape (1, 3, 416, 640)\n",
      "\n",
      "0: 416x640 11 cars, 9.5ms\n",
      "Speed: 4.7ms preprocess, 9.5ms inference, 11.8ms postprocess per image at shape (1, 3, 416, 640)\n",
      "\n",
      "0: 416x640 11 cars, 11.3ms\n",
      "Speed: 5.0ms preprocess, 11.3ms inference, 12.2ms postprocess per image at shape (1, 3, 416, 640)\n",
      "\n",
      "0: 416x640 11 cars, 7.4ms\n",
      "Speed: 2.8ms preprocess, 7.4ms inference, 2.5ms postprocess per image at shape (1, 3, 416, 640)\n",
      "\n",
      "0: 416x640 11 cars, 7.3ms\n",
      "Speed: 3.8ms preprocess, 7.3ms inference, 11.7ms postprocess per image at shape (1, 3, 416, 640)\n",
      "\n",
      "0: 416x640 11 cars, 7.2ms\n",
      "Speed: 3.4ms preprocess, 7.2ms inference, 11.4ms postprocess per image at shape (1, 3, 416, 640)\n",
      "\n",
      "0: 416x640 12 cars, 8.2ms\n",
      "Speed: 2.9ms preprocess, 8.2ms inference, 4.2ms postprocess per image at shape (1, 3, 416, 640)\n",
      "\n",
      "0: 416x640 12 cars, 7.3ms\n",
      "Speed: 5.1ms preprocess, 7.3ms inference, 1.9ms postprocess per image at shape (1, 3, 416, 640)\n",
      "\n",
      "0: 416x640 12 cars, 7.4ms\n",
      "Speed: 2.8ms preprocess, 7.4ms inference, 1.5ms postprocess per image at shape (1, 3, 416, 640)\n",
      "\n",
      "0: 416x640 12 cars, 7.7ms\n",
      "Speed: 3.8ms preprocess, 7.7ms inference, 12.2ms postprocess per image at shape (1, 3, 416, 640)\n",
      "\n",
      "0: 416x640 12 cars, 7.5ms\n",
      "Speed: 4.1ms preprocess, 7.5ms inference, 1.6ms postprocess per image at shape (1, 3, 416, 640)\n",
      "\n",
      "0: 416x640 12 cars, 7.4ms\n",
      "Speed: 2.8ms preprocess, 7.4ms inference, 1.6ms postprocess per image at shape (1, 3, 416, 640)\n",
      "\n",
      "0: 416x640 12 cars, 10.1ms\n",
      "Speed: 5.1ms preprocess, 10.1ms inference, 2.3ms postprocess per image at shape (1, 3, 416, 640)\n",
      "\n",
      "0: 416x640 12 cars, 7.6ms\n",
      "Speed: 3.0ms preprocess, 7.6ms inference, 12.2ms postprocess per image at shape (1, 3, 416, 640)\n",
      "\n",
      "0: 416x640 11 cars, 7.4ms\n",
      "Speed: 2.9ms preprocess, 7.4ms inference, 1.5ms postprocess per image at shape (1, 3, 416, 640)\n",
      "\n",
      "0: 416x640 11 cars, 10.1ms\n",
      "Speed: 3.0ms preprocess, 10.1ms inference, 2.3ms postprocess per image at shape (1, 3, 416, 640)\n",
      "\n",
      "0: 416x640 11 cars, 7.7ms\n",
      "Speed: 4.2ms preprocess, 7.7ms inference, 12.2ms postprocess per image at shape (1, 3, 416, 640)\n",
      "\n",
      "0: 416x640 11 cars, 7.4ms\n",
      "Speed: 3.1ms preprocess, 7.4ms inference, 1.5ms postprocess per image at shape (1, 3, 416, 640)\n",
      "\n",
      "0: 416x640 11 cars, 7.3ms\n",
      "Speed: 3.0ms preprocess, 7.3ms inference, 1.6ms postprocess per image at shape (1, 3, 416, 640)\n",
      "\n",
      "0: 416x640 11 cars, 9.4ms\n",
      "Speed: 4.7ms preprocess, 9.4ms inference, 12.4ms postprocess per image at shape (1, 3, 416, 640)\n",
      "\n",
      "0: 416x640 11 cars, 7.5ms\n",
      "Speed: 3.1ms preprocess, 7.5ms inference, 5.9ms postprocess per image at shape (1, 3, 416, 640)\n",
      "\n",
      "0: 416x640 11 cars, 7.4ms\n",
      "Speed: 2.8ms preprocess, 7.4ms inference, 1.5ms postprocess per image at shape (1, 3, 416, 640)\n",
      "\n",
      "0: 416x640 10 cars, 10.1ms\n",
      "Speed: 4.9ms preprocess, 10.1ms inference, 2.3ms postprocess per image at shape (1, 3, 416, 640)\n",
      "\n",
      "0: 416x640 10 cars, 7.8ms\n",
      "Speed: 3.3ms preprocess, 7.8ms inference, 11.8ms postprocess per image at shape (1, 3, 416, 640)\n",
      "\n",
      "0: 416x640 10 cars, 7.4ms\n",
      "Speed: 2.8ms preprocess, 7.4ms inference, 1.5ms postprocess per image at shape (1, 3, 416, 640)\n",
      "\n",
      "0: 416x640 10 cars, 7.4ms\n",
      "Speed: 2.8ms preprocess, 7.4ms inference, 2.5ms postprocess per image at shape (1, 3, 416, 640)\n",
      "\n",
      "0: 416x640 10 cars, 7.7ms\n",
      "Speed: 3.3ms preprocess, 7.7ms inference, 12.0ms postprocess per image at shape (1, 3, 416, 640)\n",
      "\n",
      "0: 416x640 10 cars, 7.5ms\n",
      "Speed: 2.8ms preprocess, 7.5ms inference, 1.6ms postprocess per image at shape (1, 3, 416, 640)\n",
      "\n",
      "0: 416x640 10 cars, 7.3ms\n",
      "Speed: 2.8ms preprocess, 7.3ms inference, 1.6ms postprocess per image at shape (1, 3, 416, 640)\n",
      "\n",
      "0: 416x640 10 cars, 9.1ms\n",
      "Speed: 5.3ms preprocess, 9.1ms inference, 12.4ms postprocess per image at shape (1, 3, 416, 640)\n",
      "\n",
      "0: 416x640 10 cars, 7.6ms\n",
      "Speed: 3.9ms preprocess, 7.6ms inference, 6.3ms postprocess per image at shape (1, 3, 416, 640)\n",
      "\n",
      "0: 416x640 10 cars, 7.5ms\n",
      "Speed: 2.9ms preprocess, 7.5ms inference, 1.6ms postprocess per image at shape (1, 3, 416, 640)\n",
      "\n",
      "0: 416x640 10 cars, 10.2ms\n",
      "Speed: 4.2ms preprocess, 10.2ms inference, 2.3ms postprocess per image at shape (1, 3, 416, 640)\n",
      "\n",
      "0: 416x640 10 cars, 7.7ms\n",
      "Speed: 4.6ms preprocess, 7.7ms inference, 11.9ms postprocess per image at shape (1, 3, 416, 640)\n",
      "\n",
      "0: 416x640 10 cars, 9.5ms\n",
      "Speed: 4.5ms preprocess, 9.5ms inference, 2.1ms postprocess per image at shape (1, 3, 416, 640)\n",
      "\n",
      "0: 416x640 10 cars, 7.3ms\n",
      "Speed: 3.1ms preprocess, 7.3ms inference, 1.5ms postprocess per image at shape (1, 3, 416, 640)\n",
      "\n",
      "0: 416x640 10 cars, 7.2ms\n",
      "Speed: 3.2ms preprocess, 7.2ms inference, 1.3ms postprocess per image at shape (1, 3, 416, 640)\n",
      "\n",
      "0: 416x640 10 cars, 7.7ms\n",
      "Speed: 4.1ms preprocess, 7.7ms inference, 12.1ms postprocess per image at shape (1, 3, 416, 640)\n",
      "\n",
      "0: 416x640 10 cars, 7.4ms\n",
      "Speed: 5.2ms preprocess, 7.4ms inference, 12.0ms postprocess per image at shape (1, 3, 416, 640)\n",
      "\n",
      "0: 416x640 10 cars, 7.4ms\n",
      "Speed: 2.8ms preprocess, 7.4ms inference, 1.5ms postprocess per image at shape (1, 3, 416, 640)\n",
      "\n",
      "0: 416x640 9 cars, 7.3ms\n",
      "Speed: 2.8ms preprocess, 7.3ms inference, 1.4ms postprocess per image at shape (1, 3, 416, 640)\n",
      "\n",
      "0: 416x640 9 cars, 8.6ms\n",
      "Speed: 4.3ms preprocess, 8.6ms inference, 11.6ms postprocess per image at shape (1, 3, 416, 640)\n",
      "\n",
      "0: 416x640 9 cars, 7.6ms\n",
      "Speed: 4.0ms preprocess, 7.6ms inference, 11.7ms postprocess per image at shape (1, 3, 416, 640)\n",
      "\n",
      "0: 416x640 9 cars, 7.3ms\n",
      "Speed: 2.8ms preprocess, 7.3ms inference, 1.6ms postprocess per image at shape (1, 3, 416, 640)\n",
      "\n",
      "0: 416x640 9 cars, 7.3ms\n",
      "Speed: 2.9ms preprocess, 7.3ms inference, 1.5ms postprocess per image at shape (1, 3, 416, 640)\n",
      "\n",
      "0: 416x640 9 cars, 10.1ms\n",
      "Speed: 4.5ms preprocess, 10.1ms inference, 2.3ms postprocess per image at shape (1, 3, 416, 640)\n",
      "\n",
      "0: 416x640 9 cars, 7.7ms\n",
      "Speed: 4.1ms preprocess, 7.7ms inference, 12.1ms postprocess per image at shape (1, 3, 416, 640)\n",
      "\n",
      "0: 416x640 9 cars, 7.3ms\n",
      "Speed: 2.8ms preprocess, 7.3ms inference, 1.5ms postprocess per image at shape (1, 3, 416, 640)\n",
      "\n",
      "0: 416x640 9 cars, 7.3ms\n",
      "Speed: 2.8ms preprocess, 7.3ms inference, 1.5ms postprocess per image at shape (1, 3, 416, 640)\n",
      "\n",
      "0: 416x640 9 cars, 9.3ms\n",
      "Speed: 2.8ms preprocess, 9.3ms inference, 2.3ms postprocess per image at shape (1, 3, 416, 640)\n",
      "\n",
      "0: 416x640 9 cars, 7.7ms\n",
      "Speed: 3.1ms preprocess, 7.7ms inference, 12.0ms postprocess per image at shape (1, 3, 416, 640)\n",
      "\n",
      "0: 416x640 9 cars, 7.7ms\n",
      "Speed: 3.5ms preprocess, 7.7ms inference, 11.9ms postprocess per image at shape (1, 3, 416, 640)\n",
      "\n",
      "0: 416x640 9 cars, 7.4ms\n",
      "Speed: 2.8ms preprocess, 7.4ms inference, 1.4ms postprocess per image at shape (1, 3, 416, 640)\n",
      "\n",
      "0: 416x640 9 cars, 7.4ms\n",
      "Speed: 2.8ms preprocess, 7.4ms inference, 1.5ms postprocess per image at shape (1, 3, 416, 640)\n",
      "\n",
      "0: 416x640 9 cars, 8.7ms\n",
      "Speed: 4.1ms preprocess, 8.7ms inference, 11.6ms postprocess per image at shape (1, 3, 416, 640)\n",
      "\n",
      "0: 416x640 9 cars, 7.6ms\n",
      "Speed: 4.2ms preprocess, 7.6ms inference, 11.9ms postprocess per image at shape (1, 3, 416, 640)\n",
      "\n",
      "0: 416x640 9 cars, 7.3ms\n",
      "Speed: 2.8ms preprocess, 7.3ms inference, 1.5ms postprocess per image at shape (1, 3, 416, 640)\n",
      "\n",
      "0: 416x640 9 cars, 7.3ms\n",
      "Speed: 2.8ms preprocess, 7.3ms inference, 1.4ms postprocess per image at shape (1, 3, 416, 640)\n",
      "\n",
      "0: 416x640 9 cars, 10.2ms\n",
      "Speed: 4.3ms preprocess, 10.2ms inference, 2.3ms postprocess per image at shape (1, 3, 416, 640)\n",
      "\n",
      "0: 416x640 9 cars, 9.8ms\n",
      "Speed: 4.3ms preprocess, 9.8ms inference, 12.1ms postprocess per image at shape (1, 3, 416, 640)\n",
      "\n",
      "0: 416x640 9 cars, 8.1ms\n",
      "Speed: 2.9ms preprocess, 8.1ms inference, 1.5ms postprocess per image at shape (1, 3, 416, 640)\n",
      "\n",
      "0: 416x640 9 cars, 7.4ms\n",
      "Speed: 2.8ms preprocess, 7.4ms inference, 1.5ms postprocess per image at shape (1, 3, 416, 640)\n",
      "\n",
      "0: 416x640 9 cars, 10.1ms\n",
      "Speed: 5.1ms preprocess, 10.1ms inference, 2.3ms postprocess per image at shape (1, 3, 416, 640)\n",
      "\n",
      "0: 416x640 10 cars, 7.8ms\n",
      "Speed: 3.7ms preprocess, 7.8ms inference, 12.3ms postprocess per image at shape (1, 3, 416, 640)\n",
      "\n",
      "0: 416x640 10 cars, 7.5ms\n",
      "Speed: 4.0ms preprocess, 7.5ms inference, 9.8ms postprocess per image at shape (1, 3, 416, 640)\n",
      "\n",
      "0: 416x640 10 cars, 7.5ms\n",
      "Speed: 2.8ms preprocess, 7.5ms inference, 1.4ms postprocess per image at shape (1, 3, 416, 640)\n",
      "\n",
      "0: 416x640 10 cars, 7.5ms\n",
      "Speed: 2.8ms preprocess, 7.5ms inference, 2.5ms postprocess per image at shape (1, 3, 416, 640)\n",
      "\n",
      "0: 416x640 10 cars, 7.7ms\n",
      "Speed: 4.2ms preprocess, 7.7ms inference, 12.2ms postprocess per image at shape (1, 3, 416, 640)\n",
      "\n",
      "0: 416x640 10 cars, 7.6ms\n",
      "Speed: 3.0ms preprocess, 7.6ms inference, 12.2ms postprocess per image at shape (1, 3, 416, 640)\n",
      "\n",
      "0: 416x640 10 cars, 7.4ms\n",
      "Speed: 2.8ms preprocess, 7.4ms inference, 1.6ms postprocess per image at shape (1, 3, 416, 640)\n",
      "\n",
      "0: 416x640 10 cars, 7.3ms\n",
      "Speed: 2.8ms preprocess, 7.3ms inference, 1.5ms postprocess per image at shape (1, 3, 416, 640)\n",
      "\n",
      "0: 416x640 10 cars, 8.6ms\n",
      "Speed: 5.1ms preprocess, 8.6ms inference, 11.7ms postprocess per image at shape (1, 3, 416, 640)\n",
      "\n",
      "0: 416x640 11 cars, 7.6ms\n",
      "Speed: 4.0ms preprocess, 7.6ms inference, 11.7ms postprocess per image at shape (1, 3, 416, 640)\n",
      "\n",
      "0: 416x640 11 cars, 1 bus, 7.3ms\n",
      "Speed: 3.0ms preprocess, 7.3ms inference, 1.5ms postprocess per image at shape (1, 3, 416, 640)\n",
      "\n",
      "0: 416x640 11 cars, 1 truck, 7.3ms\n",
      "Speed: 3.0ms preprocess, 7.3ms inference, 1.5ms postprocess per image at shape (1, 3, 416, 640)\n",
      "\n",
      "0: 416x640 11 cars, 1 truck, 10.2ms\n",
      "Speed: 4.3ms preprocess, 10.2ms inference, 2.3ms postprocess per image at shape (1, 3, 416, 640)\n",
      "\n",
      "0: 416x640 11 cars, 1 truck, 7.7ms\n",
      "Speed: 4.0ms preprocess, 7.7ms inference, 12.0ms postprocess per image at shape (1, 3, 416, 640)\n",
      "\n",
      "0: 416x640 11 cars, 1 truck, 10.4ms\n",
      "Speed: 4.2ms preprocess, 10.4ms inference, 1.5ms postprocess per image at shape (1, 3, 416, 640)\n",
      "\n",
      "0: 416x640 11 cars, 1 truck, 7.4ms\n",
      "Speed: 2.8ms preprocess, 7.4ms inference, 1.4ms postprocess per image at shape (1, 3, 416, 640)\n",
      "\n",
      "0: 416x640 11 cars, 7.4ms\n",
      "Speed: 5.5ms preprocess, 7.4ms inference, 12.3ms postprocess per image at shape (1, 3, 416, 640)\n",
      "\n",
      "0: 416x640 11 cars, 7.6ms\n",
      "Speed: 3.0ms preprocess, 7.6ms inference, 12.1ms postprocess per image at shape (1, 3, 416, 640)\n",
      "\n",
      "0: 416x640 11 cars, 7.4ms\n",
      "Speed: 2.9ms preprocess, 7.4ms inference, 1.6ms postprocess per image at shape (1, 3, 416, 640)\n",
      "\n",
      "0: 416x640 10 cars, 1 truck, 7.4ms\n",
      "Speed: 3.3ms preprocess, 7.4ms inference, 1.4ms postprocess per image at shape (1, 3, 416, 640)\n",
      "\n",
      "0: 416x640 11 cars, 9.7ms\n",
      "Speed: 4.6ms preprocess, 9.7ms inference, 12.2ms postprocess per image at shape (1, 3, 416, 640)\n",
      "\n",
      "0: 416x640 11 cars, 7.7ms\n",
      "Speed: 3.7ms preprocess, 7.7ms inference, 12.1ms postprocess per image at shape (1, 3, 416, 640)\n",
      "\n",
      "0: 416x640 11 cars, 7.4ms\n",
      "Speed: 3.5ms preprocess, 7.4ms inference, 1.5ms postprocess per image at shape (1, 3, 416, 640)\n",
      "\n",
      "0: 416x640 11 cars, 1 truck, 8.2ms\n",
      "Speed: 2.9ms preprocess, 8.2ms inference, 1.5ms postprocess per image at shape (1, 3, 416, 640)\n",
      "\n",
      "0: 416x640 12 cars, 1 truck, 9.6ms\n",
      "Speed: 3.6ms preprocess, 9.6ms inference, 12.0ms postprocess per image at shape (1, 3, 416, 640)\n",
      "\n",
      "0: 416x640 11 cars, 1 truck, 7.7ms\n",
      "Speed: 3.7ms preprocess, 7.7ms inference, 12.2ms postprocess per image at shape (1, 3, 416, 640)\n",
      "\n",
      "0: 416x640 11 cars, 1 truck, 7.4ms\n",
      "Speed: 2.9ms preprocess, 7.4ms inference, 1.5ms postprocess per image at shape (1, 3, 416, 640)\n",
      "\n",
      "0: 416x640 11 cars, 1 truck, 7.9ms\n",
      "Speed: 2.9ms preprocess, 7.9ms inference, 1.4ms postprocess per image at shape (1, 3, 416, 640)\n",
      "\n",
      "0: 416x640 10 cars, 2 trucks, 10.2ms\n",
      "Speed: 4.3ms preprocess, 10.2ms inference, 11.9ms postprocess per image at shape (1, 3, 416, 640)\n",
      "\n",
      "0: 416x640 11 cars, 1 truck, 7.6ms\n",
      "Speed: 5.1ms preprocess, 7.6ms inference, 11.6ms postprocess per image at shape (1, 3, 416, 640)\n",
      "\n",
      "0: 416x640 12 cars, 1 truck, 7.4ms\n",
      "Speed: 2.8ms preprocess, 7.4ms inference, 1.6ms postprocess per image at shape (1, 3, 416, 640)\n",
      "\n",
      "0: 416x640 12 cars, 1 truck, 10.1ms\n",
      "Speed: 5.0ms preprocess, 10.1ms inference, 2.3ms postprocess per image at shape (1, 3, 416, 640)\n",
      "\n",
      "0: 416x640 12 cars, 1 truck, 7.5ms\n",
      "Speed: 4.8ms preprocess, 7.5ms inference, 11.9ms postprocess per image at shape (1, 3, 416, 640)\n",
      "\n",
      "0: 416x640 12 cars, 1 truck, 7.4ms\n",
      "Speed: 2.8ms preprocess, 7.4ms inference, 1.6ms postprocess per image at shape (1, 3, 416, 640)\n",
      "\n",
      "0: 416x640 12 cars, 1 truck, 7.4ms\n",
      "Speed: 2.8ms preprocess, 7.4ms inference, 1.6ms postprocess per image at shape (1, 3, 416, 640)\n",
      "\n",
      "0: 416x640 12 cars, 1 truck, 10.1ms\n",
      "Speed: 5.1ms preprocess, 10.1ms inference, 2.3ms postprocess per image at shape (1, 3, 416, 640)\n",
      "\n",
      "0: 416x640 12 cars, 1 truck, 7.7ms\n",
      "Speed: 3.1ms preprocess, 7.7ms inference, 12.2ms postprocess per image at shape (1, 3, 416, 640)\n",
      "\n",
      "0: 416x640 12 cars, 1 truck, 7.5ms\n",
      "Speed: 2.8ms preprocess, 7.5ms inference, 1.5ms postprocess per image at shape (1, 3, 416, 640)\n",
      "\n",
      "0: 416x640 12 cars, 1 bus, 7.6ms\n",
      "Speed: 2.8ms preprocess, 7.6ms inference, 1.6ms postprocess per image at shape (1, 3, 416, 640)\n",
      "\n",
      "0: 416x640 12 cars, 1 truck, 10.1ms\n",
      "Speed: 4.9ms preprocess, 10.1ms inference, 2.2ms postprocess per image at shape (1, 3, 416, 640)\n",
      "\n",
      "0: 416x640 12 cars, 1 truck, 7.7ms\n",
      "Speed: 4.1ms preprocess, 7.7ms inference, 11.9ms postprocess per image at shape (1, 3, 416, 640)\n",
      "\n",
      "0: 416x640 12 cars, 1 truck, 7.4ms\n",
      "Speed: 2.8ms preprocess, 7.4ms inference, 1.7ms postprocess per image at shape (1, 3, 416, 640)\n",
      "\n",
      "0: 416x640 13 cars, 1 truck, 7.4ms\n",
      "Speed: 2.8ms preprocess, 7.4ms inference, 1.4ms postprocess per image at shape (1, 3, 416, 640)\n",
      "\n",
      "0: 416x640 13 cars, 1 bus, 10.1ms\n",
      "Speed: 4.9ms preprocess, 10.1ms inference, 2.3ms postprocess per image at shape (1, 3, 416, 640)\n",
      "\n",
      "0: 416x640 12 cars, 2 trucks, 7.6ms\n",
      "Speed: 4.5ms preprocess, 7.6ms inference, 12.2ms postprocess per image at shape (1, 3, 416, 640)\n",
      "\n",
      "0: 416x640 12 cars, 2 trucks, 7.3ms\n",
      "Speed: 2.9ms preprocess, 7.3ms inference, 2.2ms postprocess per image at shape (1, 3, 416, 640)\n",
      "\n",
      "0: 416x640 12 cars, 1 bus, 1 truck, 7.3ms\n",
      "Speed: 2.8ms preprocess, 7.3ms inference, 1.6ms postprocess per image at shape (1, 3, 416, 640)\n",
      "\n",
      "0: 416x640 12 cars, 1 bus, 1 truck, 10.2ms\n",
      "Speed: 5.0ms preprocess, 10.2ms inference, 2.3ms postprocess per image at shape (1, 3, 416, 640)\n",
      "\n",
      "0: 416x640 12 cars, 2 trucks, 7.7ms\n",
      "Speed: 5.0ms preprocess, 7.7ms inference, 12.1ms postprocess per image at shape (1, 3, 416, 640)\n",
      "\n",
      "0: 416x640 13 cars, 1 truck, 7.3ms\n",
      "Speed: 3.0ms preprocess, 7.3ms inference, 1.5ms postprocess per image at shape (1, 3, 416, 640)\n",
      "\n",
      "0: 416x640 13 cars, 1 bus, 7.3ms\n",
      "Speed: 2.8ms preprocess, 7.3ms inference, 1.4ms postprocess per image at shape (1, 3, 416, 640)\n",
      "\n",
      "0: 416x640 13 cars, 1 truck, 9.2ms\n",
      "Speed: 5.1ms preprocess, 9.2ms inference, 12.2ms postprocess per image at shape (1, 3, 416, 640)\n",
      "\n",
      "0: 416x640 13 cars, 1 truck, 7.7ms\n",
      "Speed: 2.9ms preprocess, 7.7ms inference, 12.2ms postprocess per image at shape (1, 3, 416, 640)\n",
      "\n",
      "0: 416x640 13 cars, 1 truck, 7.3ms\n",
      "Speed: 2.8ms preprocess, 7.3ms inference, 1.4ms postprocess per image at shape (1, 3, 416, 640)\n",
      "\n",
      "0: 416x640 13 cars, 1 truck, 7.3ms\n",
      "Speed: 2.8ms preprocess, 7.3ms inference, 1.7ms postprocess per image at shape (1, 3, 416, 640)\n",
      "\n",
      "0: 416x640 12 cars, 1 bus, 7.7ms\n",
      "Speed: 4.5ms preprocess, 7.7ms inference, 12.1ms postprocess per image at shape (1, 3, 416, 640)\n",
      "\n",
      "0: 416x640 12 cars, 1 bus, 9.8ms\n",
      "Speed: 4.6ms preprocess, 9.8ms inference, 6.2ms postprocess per image at shape (1, 3, 416, 640)\n",
      "\n",
      "0: 416x640 12 cars, 1 truck, 7.3ms\n",
      "Speed: 2.8ms preprocess, 7.3ms inference, 1.5ms postprocess per image at shape (1, 3, 416, 640)\n",
      "\n",
      "0: 416x640 12 cars, 1 bus, 10.2ms\n",
      "Speed: 2.7ms preprocess, 10.2ms inference, 2.3ms postprocess per image at shape (1, 3, 416, 640)\n",
      "\n",
      "0: 416x640 12 cars, 1 bus, 7.7ms\n",
      "Speed: 3.6ms preprocess, 7.7ms inference, 12.3ms postprocess per image at shape (1, 3, 416, 640)\n",
      "\n",
      "0: 416x640 12 cars, 1 bus, 7.3ms\n",
      "Speed: 3.8ms preprocess, 7.3ms inference, 2.1ms postprocess per image at shape (1, 3, 416, 640)\n",
      "\n",
      "0: 416x640 12 cars, 1 truck, 7.3ms\n",
      "Speed: 2.8ms preprocess, 7.3ms inference, 1.5ms postprocess per image at shape (1, 3, 416, 640)\n",
      "\n",
      "0: 416x640 12 cars, 1 truck, 9.5ms\n",
      "Speed: 2.8ms preprocess, 9.5ms inference, 2.4ms postprocess per image at shape (1, 3, 416, 640)\n",
      "\n",
      "0: 416x640 12 cars, 1 bus, 7.6ms\n",
      "Speed: 5.0ms preprocess, 7.6ms inference, 12.2ms postprocess per image at shape (1, 3, 416, 640)\n",
      "\n",
      "0: 416x640 11 cars, 1 bus, 1 truck, 7.5ms\n",
      "Speed: 2.8ms preprocess, 7.5ms inference, 1.6ms postprocess per image at shape (1, 3, 416, 640)\n",
      "\n",
      "0: 416x640 11 cars, 2 trucks, 7.4ms\n",
      "Speed: 2.8ms preprocess, 7.4ms inference, 1.5ms postprocess per image at shape (1, 3, 416, 640)\n",
      "\n",
      "0: 416x640 11 cars, 2 trucks, 7.4ms\n",
      "Speed: 2.8ms preprocess, 7.4ms inference, 1.4ms postprocess per image at shape (1, 3, 416, 640)\n",
      "\n",
      "0: 416x640 12 cars, 1 bus, 1 truck, 7.9ms\n",
      "Speed: 2.8ms preprocess, 7.9ms inference, 1.4ms postprocess per image at shape (1, 3, 416, 640)\n",
      "\n",
      "0: 416x640 13 cars, 1 bus, 7.3ms\n",
      "Speed: 3.2ms preprocess, 7.3ms inference, 1.4ms postprocess per image at shape (1, 3, 416, 640)\n",
      "\n",
      "0: 416x640 12 cars, 1 bus, 1 truck, 10.5ms\n",
      "Speed: 2.8ms preprocess, 10.5ms inference, 2.1ms postprocess per image at shape (1, 3, 416, 640)\n",
      "\n",
      "0: 416x640 11 cars, 1 bus, 1 truck, 7.3ms\n",
      "Speed: 2.8ms preprocess, 7.3ms inference, 1.4ms postprocess per image at shape (1, 3, 416, 640)\n",
      "\n",
      "0: 416x640 12 cars, 1 bus, 7.4ms\n",
      "Speed: 2.8ms preprocess, 7.4ms inference, 1.4ms postprocess per image at shape (1, 3, 416, 640)\n",
      "\n",
      "0: 416x640 12 cars, 1 bus, 7.4ms\n",
      "Speed: 2.8ms preprocess, 7.4ms inference, 1.4ms postprocess per image at shape (1, 3, 416, 640)\n",
      "\n",
      "0: 416x640 12 cars, 1 bus, 7.4ms\n",
      "Speed: 2.9ms preprocess, 7.4ms inference, 1.4ms postprocess per image at shape (1, 3, 416, 640)\n",
      "\n",
      "0: 416x640 11 cars, 2 trucks, 7.3ms\n",
      "Speed: 2.9ms preprocess, 7.3ms inference, 1.4ms postprocess per image at shape (1, 3, 416, 640)\n",
      "\n",
      "0: 416x640 12 cars, 1 bus, 7.4ms\n",
      "Speed: 2.8ms preprocess, 7.4ms inference, 1.4ms postprocess per image at shape (1, 3, 416, 640)\n",
      "\n",
      "0: 416x640 12 cars, 1 bus, 7.3ms\n",
      "Speed: 4.5ms preprocess, 7.3ms inference, 1.4ms postprocess per image at shape (1, 3, 416, 640)\n",
      "\n",
      "0: 416x640 12 cars, 1 bus, 7.5ms\n",
      "Speed: 3.5ms preprocess, 7.5ms inference, 11.9ms postprocess per image at shape (1, 3, 416, 640)\n",
      "\n",
      "0: 416x640 12 cars, 1 bus, 8.8ms\n",
      "Speed: 2.9ms preprocess, 8.8ms inference, 8.6ms postprocess per image at shape (1, 3, 416, 640)\n",
      "\n",
      "0: 416x640 12 cars, 1 bus, 7.3ms\n",
      "Speed: 3.4ms preprocess, 7.3ms inference, 11.5ms postprocess per image at shape (1, 3, 416, 640)\n",
      "\n",
      "0: 416x640 12 cars, 1 bus, 7.6ms\n",
      "Speed: 3.1ms preprocess, 7.6ms inference, 7.6ms postprocess per image at shape (1, 3, 416, 640)\n",
      "\n",
      "0: 416x640 12 cars, 1 bus, 7.4ms\n",
      "Speed: 3.3ms preprocess, 7.4ms inference, 12.0ms postprocess per image at shape (1, 3, 416, 640)\n",
      "\n",
      "0: 416x640 11 cars, 1 bus, 1 truck, 9.4ms\n",
      "Speed: 2.8ms preprocess, 9.4ms inference, 9.9ms postprocess per image at shape (1, 3, 416, 640)\n",
      "\n",
      "0: 416x640 11 cars, 1 bus, 1 truck, 7.5ms\n",
      "Speed: 5.2ms preprocess, 7.5ms inference, 11.7ms postprocess per image at shape (1, 3, 416, 640)\n",
      "\n",
      "0: 416x640 12 cars, 1 bus, 9.5ms\n",
      "Speed: 2.9ms preprocess, 9.5ms inference, 2.4ms postprocess per image at shape (1, 3, 416, 640)\n",
      "\n",
      "0: 416x640 11 cars, 1 bus, 1 truck, 7.6ms\n",
      "Speed: 3.0ms preprocess, 7.6ms inference, 12.0ms postprocess per image at shape (1, 3, 416, 640)\n",
      "\n",
      "0: 416x640 11 cars, 2 trucks, 7.5ms\n",
      "Speed: 4.7ms preprocess, 7.5ms inference, 11.6ms postprocess per image at shape (1, 3, 416, 640)\n",
      "\n",
      "0: 416x640 12 cars, 1 truck, 7.5ms\n",
      "Speed: 5.1ms preprocess, 7.5ms inference, 11.8ms postprocess per image at shape (1, 3, 416, 640)\n",
      "\n",
      "0: 416x640 11 cars, 2 trucks, 10.1ms\n",
      "Speed: 4.7ms preprocess, 10.1ms inference, 2.4ms postprocess per image at shape (1, 3, 416, 640)\n",
      "\n",
      "0: 416x640 11 cars, 2 trucks, 7.7ms\n",
      "Speed: 3.8ms preprocess, 7.7ms inference, 9.9ms postprocess per image at shape (1, 3, 416, 640)\n",
      "\n",
      "0: 416x640 11 cars, 2 trucks, 9.6ms\n",
      "Speed: 3.0ms preprocess, 9.6ms inference, 11.6ms postprocess per image at shape (1, 3, 416, 640)\n",
      "\n",
      "0: 416x640 12 cars, 2 trucks, 7.5ms\n",
      "Speed: 5.1ms preprocess, 7.5ms inference, 11.6ms postprocess per image at shape (1, 3, 416, 640)\n",
      "\n",
      "0: 416x640 11 cars, 1 bus, 1 truck, 7.5ms\n",
      "Speed: 2.9ms preprocess, 7.5ms inference, 1.6ms postprocess per image at shape (1, 3, 416, 640)\n",
      "\n",
      "0: 416x640 11 cars, 1 bus, 1 truck, 7.6ms\n",
      "Speed: 2.9ms preprocess, 7.6ms inference, 11.9ms postprocess per image at shape (1, 3, 416, 640)\n",
      "\n",
      "0: 416x640 11 cars, 2 trucks, 9.3ms\n",
      "Speed: 3.0ms preprocess, 9.3ms inference, 10.6ms postprocess per image at shape (1, 3, 416, 640)\n",
      "\n",
      "0: 416x640 12 cars, 1 truck, 7.5ms\n",
      "Speed: 3.5ms preprocess, 7.5ms inference, 11.4ms postprocess per image at shape (1, 3, 416, 640)\n",
      "\n",
      "0: 416x640 12 cars, 1 truck, 7.7ms\n",
      "Speed: 5.0ms preprocess, 7.7ms inference, 5.2ms postprocess per image at shape (1, 3, 416, 640)\n",
      "\n",
      "0: 416x640 13 cars, 7.7ms\n",
      "Speed: 5.0ms preprocess, 7.7ms inference, 11.9ms postprocess per image at shape (1, 3, 416, 640)\n",
      "\n",
      "0: 416x640 12 cars, 1 truck, 8.9ms\n",
      "Speed: 4.7ms preprocess, 8.9ms inference, 11.8ms postprocess per image at shape (1, 3, 416, 640)\n",
      "\n",
      "0: 416x640 12 cars, 1 truck, 7.3ms\n",
      "Speed: 4.8ms preprocess, 7.3ms inference, 11.5ms postprocess per image at shape (1, 3, 416, 640)\n",
      "\n",
      "0: 416x640 10 cars, 3 trucks, 9.9ms\n",
      "Speed: 3.1ms preprocess, 9.9ms inference, 2.5ms postprocess per image at shape (1, 3, 416, 640)\n",
      "\n",
      "0: 416x640 11 cars, 2 trucks, 7.6ms\n",
      "Speed: 4.6ms preprocess, 7.6ms inference, 12.0ms postprocess per image at shape (1, 3, 416, 640)\n",
      "\n",
      "0: 416x640 12 cars, 1 truck, 7.4ms\n",
      "Speed: 4.9ms preprocess, 7.4ms inference, 11.4ms postprocess per image at shape (1, 3, 416, 640)\n",
      "\n",
      "0: 416x640 11 cars, 2 trucks, 7.4ms\n",
      "Speed: 4.7ms preprocess, 7.4ms inference, 11.8ms postprocess per image at shape (1, 3, 416, 640)\n",
      "\n",
      "0: 416x640 12 cars, 1 bus, 1 truck, 10.0ms\n",
      "Speed: 4.6ms preprocess, 10.0ms inference, 4.3ms postprocess per image at shape (1, 3, 416, 640)\n",
      "\n",
      "0: 416x640 13 cars, 1 truck, 7.5ms\n",
      "Speed: 4.3ms preprocess, 7.5ms inference, 1.6ms postprocess per image at shape (1, 3, 416, 640)\n",
      "\n",
      "0: 416x640 13 cars, 1 truck, 7.6ms\n",
      "Speed: 4.3ms preprocess, 7.6ms inference, 11.7ms postprocess per image at shape (1, 3, 416, 640)\n",
      "\n",
      "0: 416x640 13 cars, 1 truck, 7.5ms\n",
      "Speed: 3.5ms preprocess, 7.5ms inference, 11.5ms postprocess per image at shape (1, 3, 416, 640)\n",
      "\n",
      "0: 416x640 13 cars, 1 truck, 9.4ms\n",
      "Speed: 2.8ms preprocess, 9.4ms inference, 2.4ms postprocess per image at shape (1, 3, 416, 640)\n",
      "\n",
      "0: 416x640 13 cars, 1 truck, 7.5ms\n",
      "Speed: 3.4ms preprocess, 7.5ms inference, 12.0ms postprocess per image at shape (1, 3, 416, 640)\n",
      "\n",
      "0: 416x640 12 cars, 1 bus, 1 truck, 7.3ms\n",
      "Speed: 3.6ms preprocess, 7.3ms inference, 11.3ms postprocess per image at shape (1, 3, 416, 640)\n",
      "\n",
      "0: 416x640 13 cars, 1 truck, 9.7ms\n",
      "Speed: 3.0ms preprocess, 9.7ms inference, 11.8ms postprocess per image at shape (1, 3, 416, 640)\n",
      "\n",
      "0: 416x640 12 cars, 2 trucks, 7.4ms\n",
      "Speed: 5.1ms preprocess, 7.4ms inference, 12.2ms postprocess per image at shape (1, 3, 416, 640)\n",
      "\n",
      "0: 416x640 13 cars, 1 truck, 7.6ms\n",
      "Speed: 2.9ms preprocess, 7.6ms inference, 1.7ms postprocess per image at shape (1, 3, 416, 640)\n",
      "\n",
      "0: 416x640 14 cars, 1 truck, 7.3ms\n",
      "Speed: 3.4ms preprocess, 7.3ms inference, 11.5ms postprocess per image at shape (1, 3, 416, 640)\n",
      "\n",
      "0: 416x640 13 cars, 1 bus, 1 truck, 7.3ms\n",
      "Speed: 4.4ms preprocess, 7.3ms inference, 11.5ms postprocess per image at shape (1, 3, 416, 640)\n",
      "\n",
      "0: 416x640 13 cars, 1 bus, 1 truck, 7.5ms\n",
      "Speed: 4.5ms preprocess, 7.5ms inference, 12.0ms postprocess per image at shape (1, 3, 416, 640)\n",
      "\n",
      "0: 416x640 13 cars, 1 bus, 1 truck, 7.3ms\n",
      "Speed: 2.9ms preprocess, 7.3ms inference, 1.6ms postprocess per image at shape (1, 3, 416, 640)\n",
      "\n",
      "0: 416x640 14 cars, 1 truck, 7.3ms\n",
      "Speed: 4.7ms preprocess, 7.3ms inference, 11.5ms postprocess per image at shape (1, 3, 416, 640)\n",
      "\n",
      "0: 416x640 14 cars, 1 truck, 7.4ms\n",
      "Speed: 3.8ms preprocess, 7.4ms inference, 10.3ms postprocess per image at shape (1, 3, 416, 640)\n",
      "\n",
      "0: 416x640 13 cars, 2 trucks, 7.6ms\n",
      "Speed: 4.1ms preprocess, 7.6ms inference, 11.9ms postprocess per image at shape (1, 3, 416, 640)\n",
      "\n",
      "0: 416x640 14 cars, 1 truck, 7.2ms\n",
      "Speed: 3.3ms preprocess, 7.2ms inference, 11.8ms postprocess per image at shape (1, 3, 416, 640)\n",
      "\n",
      "0: 416x640 14 cars, 2 trucks, 7.5ms\n",
      "Speed: 4.9ms preprocess, 7.5ms inference, 11.7ms postprocess per image at shape (1, 3, 416, 640)\n",
      "\n",
      "0: 416x640 14 cars, 2 trucks, 7.3ms\n",
      "Speed: 2.8ms preprocess, 7.3ms inference, 1.6ms postprocess per image at shape (1, 3, 416, 640)\n",
      "\n",
      "0: 416x640 15 cars, 2 trucks, 7.4ms\n",
      "Speed: 4.8ms preprocess, 7.4ms inference, 12.1ms postprocess per image at shape (1, 3, 416, 640)\n",
      "\n",
      "0: 416x640 15 cars, 2 trucks, 8.2ms\n",
      "Speed: 3.6ms preprocess, 8.2ms inference, 11.6ms postprocess per image at shape (1, 3, 416, 640)\n",
      "\n",
      "0: 416x640 15 cars, 2 trucks, 7.4ms\n",
      "Speed: 5.0ms preprocess, 7.4ms inference, 11.5ms postprocess per image at shape (1, 3, 416, 640)\n",
      "\n",
      "0: 416x640 15 cars, 2 trucks, 10.1ms\n",
      "Speed: 4.8ms preprocess, 10.1ms inference, 4.2ms postprocess per image at shape (1, 3, 416, 640)\n",
      "\n",
      "0: 416x640 15 cars, 2 trucks, 7.3ms\n",
      "Speed: 2.8ms preprocess, 7.3ms inference, 3.1ms postprocess per image at shape (1, 3, 416, 640)\n",
      "\n",
      "0: 416x640 15 cars, 1 bus, 7.5ms\n",
      "Speed: 3.2ms preprocess, 7.5ms inference, 11.6ms postprocess per image at shape (1, 3, 416, 640)\n",
      "\n",
      "0: 416x640 15 cars, 1 bus, 7.5ms\n",
      "Speed: 4.1ms preprocess, 7.5ms inference, 11.6ms postprocess per image at shape (1, 3, 416, 640)\n",
      "\n",
      "0: 416x640 15 cars, 1 truck, 7.5ms\n",
      "Speed: 3.3ms preprocess, 7.5ms inference, 12.2ms postprocess per image at shape (1, 3, 416, 640)\n",
      "\n",
      "0: 416x640 16 cars, 7.3ms\n",
      "Speed: 2.9ms preprocess, 7.3ms inference, 1.6ms postprocess per image at shape (1, 3, 416, 640)\n",
      "\n",
      "0: 416x640 15 cars, 1 bus, 7.6ms\n",
      "Speed: 3.4ms preprocess, 7.6ms inference, 11.3ms postprocess per image at shape (1, 3, 416, 640)\n",
      "\n",
      "0: 416x640 16 cars, 7.6ms\n",
      "Speed: 4.2ms preprocess, 7.6ms inference, 11.8ms postprocess per image at shape (1, 3, 416, 640)\n",
      "\n",
      "0: 416x640 17 cars, 7.5ms\n",
      "Speed: 3.4ms preprocess, 7.5ms inference, 11.9ms postprocess per image at shape (1, 3, 416, 640)\n",
      "\n",
      "0: 416x640 17 cars, 8.4ms\n",
      "Speed: 5.0ms preprocess, 8.4ms inference, 11.4ms postprocess per image at shape (1, 3, 416, 640)\n",
      "\n",
      "0: 416x640 15 cars, 7.6ms\n",
      "Speed: 3.3ms preprocess, 7.6ms inference, 11.7ms postprocess per image at shape (1, 3, 416, 640)\n",
      "\n",
      "0: 416x640 15 cars, 7.4ms\n",
      "Speed: 2.8ms preprocess, 7.4ms inference, 1.6ms postprocess per image at shape (1, 3, 416, 640)\n",
      "\n",
      "0: 416x640 15 cars, 7.6ms\n",
      "Speed: 4.9ms preprocess, 7.6ms inference, 12.0ms postprocess per image at shape (1, 3, 416, 640)\n",
      "\n",
      "0: 416x640 15 cars, 9.4ms\n",
      "Speed: 4.6ms preprocess, 9.4ms inference, 9.7ms postprocess per image at shape (1, 3, 416, 640)\n",
      "\n",
      "0: 416x640 15 cars, 7.4ms\n",
      "Speed: 4.0ms preprocess, 7.4ms inference, 11.6ms postprocess per image at shape (1, 3, 416, 640)\n",
      "\n",
      "0: 416x640 15 cars, 9.2ms\n",
      "Speed: 3.2ms preprocess, 9.2ms inference, 2.5ms postprocess per image at shape (1, 3, 416, 640)\n",
      "\n",
      "0: 416x640 15 cars, 7.6ms\n",
      "Speed: 5.0ms preprocess, 7.6ms inference, 12.0ms postprocess per image at shape (1, 3, 416, 640)\n",
      "\n",
      "0: 416x640 15 cars, 7.5ms\n",
      "Speed: 3.1ms preprocess, 7.5ms inference, 11.6ms postprocess per image at shape (1, 3, 416, 640)\n",
      "\n",
      "0: 416x640 15 cars, 7.5ms\n",
      "Speed: 5.2ms preprocess, 7.5ms inference, 11.7ms postprocess per image at shape (1, 3, 416, 640)\n",
      "\n",
      "0: 416x640 15 cars, 10.1ms\n",
      "Speed: 4.3ms preprocess, 10.1ms inference, 2.4ms postprocess per image at shape (1, 3, 416, 640)\n",
      "\n",
      "0: 416x640 15 cars, 7.4ms\n",
      "Speed: 4.1ms preprocess, 7.4ms inference, 2.4ms postprocess per image at shape (1, 3, 416, 640)\n",
      "\n",
      "0: 416x640 15 cars, 7.3ms\n",
      "Speed: 3.0ms preprocess, 7.3ms inference, 11.5ms postprocess per image at shape (1, 3, 416, 640)\n",
      "\n",
      "0: 416x640 15 cars, 7.3ms\n",
      "Speed: 3.8ms preprocess, 7.3ms inference, 11.8ms postprocess per image at shape (1, 3, 416, 640)\n",
      "\n",
      "0: 416x640 15 cars, 10.8ms\n",
      "Speed: 5.0ms preprocess, 10.8ms inference, 12.2ms postprocess per image at shape (1, 3, 416, 640)\n",
      "\n",
      "0: 416x640 15 cars, 7.3ms\n",
      "Speed: 2.8ms preprocess, 7.3ms inference, 1.6ms postprocess per image at shape (1, 3, 416, 640)\n",
      "\n",
      "0: 416x640 13 cars, 1 truck, 7.5ms\n",
      "Speed: 3.9ms preprocess, 7.5ms inference, 11.6ms postprocess per image at shape (1, 3, 416, 640)\n",
      "\n",
      "0: 416x640 14 cars, 7.5ms\n",
      "Speed: 4.3ms preprocess, 7.5ms inference, 11.8ms postprocess per image at shape (1, 3, 416, 640)\n",
      "\n",
      "0: 416x640 14 cars, 8.6ms\n",
      "Speed: 3.1ms preprocess, 8.6ms inference, 2.4ms postprocess per image at shape (1, 3, 416, 640)\n",
      "\n",
      "0: 416x640 15 cars, 7.5ms\n",
      "Speed: 3.9ms preprocess, 7.5ms inference, 11.8ms postprocess per image at shape (1, 3, 416, 640)\n",
      "\n",
      "0: 416x640 14 cars, 1 truck, 7.5ms\n",
      "Speed: 4.1ms preprocess, 7.5ms inference, 11.5ms postprocess per image at shape (1, 3, 416, 640)\n",
      "\n",
      "0: 416x640 15 cars, 1 truck, 7.4ms\n",
      "Speed: 3.4ms preprocess, 7.4ms inference, 11.8ms postprocess per image at shape (1, 3, 416, 640)\n",
      "\n",
      "0: 416x640 16 cars, 10.1ms\n",
      "Speed: 4.4ms preprocess, 10.1ms inference, 2.5ms postprocess per image at shape (1, 3, 416, 640)\n",
      "\n",
      "0: 416x640 16 cars, 7.6ms\n",
      "Speed: 4.0ms preprocess, 7.6ms inference, 2.8ms postprocess per image at shape (1, 3, 416, 640)\n",
      "\n",
      "0: 416x640 16 cars, 12.0ms\n",
      "Speed: 4.6ms preprocess, 12.0ms inference, 11.4ms postprocess per image at shape (1, 3, 416, 640)\n",
      "\n",
      "0: 416x640 16 cars, 7.4ms\n",
      "Speed: 4.5ms preprocess, 7.4ms inference, 10.6ms postprocess per image at shape (1, 3, 416, 640)\n",
      "\n",
      "0: 416x640 16 cars, 7.6ms\n",
      "Speed: 5.0ms preprocess, 7.6ms inference, 11.8ms postprocess per image at shape (1, 3, 416, 640)\n",
      "\n",
      "0: 416x640 17 cars, 9.4ms\n",
      "Speed: 2.8ms preprocess, 9.4ms inference, 10.7ms postprocess per image at shape (1, 3, 416, 640)\n",
      "\n",
      "0: 416x640 17 cars, 7.3ms\n",
      "Speed: 4.8ms preprocess, 7.3ms inference, 11.6ms postprocess per image at shape (1, 3, 416, 640)\n",
      "\n",
      "0: 416x640 16 cars, 10.4ms\n",
      "Speed: 2.8ms preprocess, 10.4ms inference, 2.5ms postprocess per image at shape (1, 3, 416, 640)\n",
      "\n",
      "0: 416x640 16 cars, 7.5ms\n",
      "Speed: 4.9ms preprocess, 7.5ms inference, 11.8ms postprocess per image at shape (1, 3, 416, 640)\n",
      "\n",
      "0: 416x640 16 cars, 7.5ms\n",
      "Speed: 4.5ms preprocess, 7.5ms inference, 11.7ms postprocess per image at shape (1, 3, 416, 640)\n",
      "\n",
      "0: 416x640 16 cars, 12.1ms\n",
      "Speed: 5.3ms preprocess, 12.1ms inference, 11.9ms postprocess per image at shape (1, 3, 416, 640)\n",
      "\n",
      "0: 416x640 16 cars, 10.2ms\n",
      "Speed: 4.7ms preprocess, 10.2ms inference, 2.4ms postprocess per image at shape (1, 3, 416, 640)\n",
      "\n",
      "0: 416x640 16 cars, 7.7ms\n",
      "Speed: 4.4ms preprocess, 7.7ms inference, 9.9ms postprocess per image at shape (1, 3, 416, 640)\n",
      "\n",
      "0: 416x640 16 cars, 7.4ms\n",
      "Speed: 3.3ms preprocess, 7.4ms inference, 11.6ms postprocess per image at shape (1, 3, 416, 640)\n",
      "\n",
      "0: 416x640 16 cars, 7.5ms\n",
      "Speed: 4.5ms preprocess, 7.5ms inference, 11.5ms postprocess per image at shape (1, 3, 416, 640)\n",
      "\n",
      "0: 416x640 16 cars, 7.7ms\n",
      "Speed: 4.0ms preprocess, 7.7ms inference, 11.8ms postprocess per image at shape (1, 3, 416, 640)\n",
      "\n",
      "0: 416x640 16 cars, 10.0ms\n",
      "Speed: 3.8ms preprocess, 10.0ms inference, 10.8ms postprocess per image at shape (1, 3, 416, 640)\n",
      "\n",
      "0: 416x640 16 cars, 7.4ms\n",
      "Speed: 4.9ms preprocess, 7.4ms inference, 11.7ms postprocess per image at shape (1, 3, 416, 640)\n",
      "\n",
      "0: 416x640 15 cars, 8.9ms\n",
      "Speed: 3.2ms preprocess, 8.9ms inference, 2.4ms postprocess per image at shape (1, 3, 416, 640)\n",
      "\n",
      "0: 416x640 15 cars, 7.5ms\n",
      "Speed: 4.3ms preprocess, 7.5ms inference, 12.0ms postprocess per image at shape (1, 3, 416, 640)\n",
      "\n",
      "0: 416x640 15 cars, 7.5ms\n",
      "Speed: 3.0ms preprocess, 7.5ms inference, 11.6ms postprocess per image at shape (1, 3, 416, 640)\n",
      "\n",
      "0: 416x640 16 cars, 9.6ms\n",
      "Speed: 4.8ms preprocess, 9.6ms inference, 11.6ms postprocess per image at shape (1, 3, 416, 640)\n",
      "\n",
      "0: 416x640 17 cars, 10.1ms\n",
      "Speed: 4.5ms preprocess, 10.1ms inference, 4.2ms postprocess per image at shape (1, 3, 416, 640)\n",
      "\n",
      "0: 416x640 17 cars, 7.5ms\n",
      "Speed: 3.1ms preprocess, 7.5ms inference, 3.0ms postprocess per image at shape (1, 3, 416, 640)\n",
      "\n",
      "0: 416x640 16 cars, 7.4ms\n",
      "Speed: 3.2ms preprocess, 7.4ms inference, 11.5ms postprocess per image at shape (1, 3, 416, 640)\n",
      "\n",
      "0: 416x640 16 cars, 7.5ms\n",
      "Speed: 3.0ms preprocess, 7.5ms inference, 11.5ms postprocess per image at shape (1, 3, 416, 640)\n",
      "\n",
      "0: 416x640 16 cars, 8.6ms\n",
      "Speed: 3.0ms preprocess, 8.6ms inference, 2.4ms postprocess per image at shape (1, 3, 416, 640)\n",
      "\n",
      "0: 416x640 16 cars, 7.6ms\n",
      "Speed: 5.2ms preprocess, 7.6ms inference, 12.0ms postprocess per image at shape (1, 3, 416, 640)\n",
      "\n",
      "0: 416x640 1 person, 16 cars, 7.4ms\n",
      "Speed: 3.8ms preprocess, 7.4ms inference, 11.5ms postprocess per image at shape (1, 3, 416, 640)\n",
      "\n",
      "0: 416x640 1 person, 16 cars, 7.4ms\n",
      "Speed: 5.2ms preprocess, 7.4ms inference, 11.5ms postprocess per image at shape (1, 3, 416, 640)\n",
      "\n",
      "0: 416x640 1 person, 16 cars, 7.7ms\n",
      "Speed: 4.9ms preprocess, 7.7ms inference, 11.9ms postprocess per image at shape (1, 3, 416, 640)\n",
      "\n",
      "0: 416x640 1 person, 16 cars, 7.5ms\n",
      "Speed: 2.9ms preprocess, 7.5ms inference, 1.6ms postprocess per image at shape (1, 3, 416, 640)\n",
      "\n",
      "0: 416x640 1 person, 16 cars, 7.5ms\n",
      "Speed: 3.2ms preprocess, 7.5ms inference, 11.5ms postprocess per image at shape (1, 3, 416, 640)\n",
      "\n",
      "0: 416x640 1 person, 16 cars, 9.4ms\n",
      "Speed: 3.6ms preprocess, 9.4ms inference, 11.9ms postprocess per image at shape (1, 3, 416, 640)\n",
      "\n",
      "0: 416x640 1 person, 16 cars, 7.7ms\n",
      "Speed: 4.2ms preprocess, 7.7ms inference, 11.9ms postprocess per image at shape (1, 3, 416, 640)\n",
      "\n",
      "0: 416x640 1 person, 16 cars, 8.3ms\n",
      "Speed: 5.1ms preprocess, 8.3ms inference, 11.4ms postprocess per image at shape (1, 3, 416, 640)\n",
      "\n",
      "0: 416x640 1 person, 16 cars, 7.5ms\n",
      "Speed: 5.0ms preprocess, 7.5ms inference, 11.4ms postprocess per image at shape (1, 3, 416, 640)\n",
      "\n",
      "0: 416x640 1 person, 16 cars, 9.9ms\n",
      "Speed: 4.7ms preprocess, 9.9ms inference, 12.2ms postprocess per image at shape (1, 3, 416, 640)\n",
      "\n",
      "0: 416x640 1 person, 16 cars, 7.4ms\n",
      "Speed: 2.9ms preprocess, 7.4ms inference, 1.8ms postprocess per image at shape (1, 3, 416, 640)\n",
      "\n",
      "0: 416x640 1 person, 16 cars, 7.4ms\n",
      "Speed: 3.2ms preprocess, 7.4ms inference, 11.3ms postprocess per image at shape (1, 3, 416, 640)\n",
      "\n",
      "0: 416x640 1 person, 16 cars, 7.4ms\n",
      "Speed: 3.6ms preprocess, 7.4ms inference, 11.0ms postprocess per image at shape (1, 3, 416, 640)\n",
      "\n",
      "0: 416x640 1 person, 16 cars, 8.1ms\n",
      "Speed: 4.3ms preprocess, 8.1ms inference, 12.1ms postprocess per image at shape (1, 3, 416, 640)\n",
      "\n",
      "0: 416x640 1 person, 16 cars, 7.3ms\n",
      "Speed: 2.8ms preprocess, 7.3ms inference, 1.7ms postprocess per image at shape (1, 3, 416, 640)\n",
      "\n",
      "0: 416x640 1 person, 16 cars, 9.7ms\n",
      "Speed: 5.1ms preprocess, 9.7ms inference, 11.6ms postprocess per image at shape (1, 3, 416, 640)\n",
      "\n",
      "0: 416x640 1 person, 16 cars, 7.4ms\n",
      "Speed: 3.5ms preprocess, 7.4ms inference, 10.6ms postprocess per image at shape (1, 3, 416, 640)\n",
      "\n",
      "0: 416x640 1 person, 16 cars, 10.0ms\n",
      "Speed: 4.5ms preprocess, 10.0ms inference, 12.1ms postprocess per image at shape (1, 3, 416, 640)\n",
      "\n",
      "0: 416x640 1 person, 16 cars, 8.3ms\n",
      "Speed: 4.2ms preprocess, 8.3ms inference, 11.7ms postprocess per image at shape (1, 3, 416, 640)\n",
      "\n",
      "0: 416x640 1 person, 16 cars, 7.3ms\n",
      "Speed: 4.0ms preprocess, 7.3ms inference, 11.8ms postprocess per image at shape (1, 3, 416, 640)\n",
      "\n",
      "0: 416x640 1 person, 16 cars, 10.1ms\n",
      "Speed: 4.2ms preprocess, 10.1ms inference, 2.4ms postprocess per image at shape (1, 3, 416, 640)\n",
      "\n",
      "0: 416x640 1 person, 16 cars, 7.5ms\n",
      "Speed: 3.3ms preprocess, 7.5ms inference, 2.5ms postprocess per image at shape (1, 3, 416, 640)\n",
      "\n",
      "0: 416x640 1 person, 16 cars, 7.3ms\n",
      "Speed: 4.7ms preprocess, 7.3ms inference, 11.6ms postprocess per image at shape (1, 3, 416, 640)\n",
      "\n",
      "0: 416x640 1 person, 16 cars, 7.4ms\n",
      "Speed: 4.6ms preprocess, 7.4ms inference, 11.6ms postprocess per image at shape (1, 3, 416, 640)\n",
      "\n",
      "0: 416x640 1 person, 16 cars, 7.6ms\n",
      "Speed: 4.9ms preprocess, 7.6ms inference, 12.2ms postprocess per image at shape (1, 3, 416, 640)\n",
      "\n",
      "0: 416x640 1 person, 16 cars, 11.0ms\n",
      "Speed: 3.1ms preprocess, 11.0ms inference, 9.0ms postprocess per image at shape (1, 3, 416, 640)\n",
      "\n",
      "0: 416x640 1 person, 16 cars, 7.5ms\n",
      "Speed: 3.9ms preprocess, 7.5ms inference, 11.6ms postprocess per image at shape (1, 3, 416, 640)\n",
      "\n",
      "0: 416x640 1 person, 16 cars, 7.5ms\n",
      "Speed: 3.0ms preprocess, 7.5ms inference, 1.6ms postprocess per image at shape (1, 3, 416, 640)\n",
      "\n",
      "0: 416x640 1 person, 16 cars, 10.0ms\n",
      "Speed: 4.2ms preprocess, 10.0ms inference, 12.0ms postprocess per image at shape (1, 3, 416, 640)\n",
      "\n",
      "0: 416x640 1 person, 15 cars, 7.4ms\n",
      "Speed: 3.2ms preprocess, 7.4ms inference, 11.6ms postprocess per image at shape (1, 3, 416, 640)\n",
      "\n",
      "0: 416x640 1 person, 15 cars, 9.6ms\n",
      "Speed: 3.8ms preprocess, 9.6ms inference, 11.7ms postprocess per image at shape (1, 3, 416, 640)\n",
      "\n",
      "0: 416x640 1 person, 15 cars, 1 truck, 10.2ms\n",
      "Speed: 4.9ms preprocess, 10.2ms inference, 4.2ms postprocess per image at shape (1, 3, 416, 640)\n",
      "\n",
      "0: 416x640 1 person, 15 cars, 1 truck, 7.3ms\n",
      "Speed: 2.8ms preprocess, 7.3ms inference, 2.9ms postprocess per image at shape (1, 3, 416, 640)\n",
      "\n",
      "0: 416x640 1 person, 15 cars, 1 truck, 7.7ms\n",
      "Speed: 5.1ms preprocess, 7.7ms inference, 11.7ms postprocess per image at shape (1, 3, 416, 640)\n",
      "\n",
      "0: 416x640 1 person, 15 cars, 1 bus, 9.7ms\n",
      "Speed: 4.6ms preprocess, 9.7ms inference, 11.7ms postprocess per image at shape (1, 3, 416, 640)\n",
      "\n",
      "0: 416x640 1 person, 15 cars, 1 bus, 9.8ms\n",
      "Speed: 5.1ms preprocess, 9.8ms inference, 12.1ms postprocess per image at shape (1, 3, 416, 640)\n",
      "\n",
      "0: 416x640 1 person, 15 cars, 1 bus, 9.4ms\n",
      "Speed: 5.1ms preprocess, 9.4ms inference, 9.8ms postprocess per image at shape (1, 3, 416, 640)\n",
      "\n",
      "0: 416x640 1 person, 15 cars, 1 bus, 7.6ms\n",
      "Speed: 3.9ms preprocess, 7.6ms inference, 11.6ms postprocess per image at shape (1, 3, 416, 640)\n",
      "\n",
      "0: 416x640 1 person, 15 cars, 1 bus, 10.1ms\n",
      "Speed: 4.3ms preprocess, 10.1ms inference, 3.0ms postprocess per image at shape (1, 3, 416, 640)\n",
      "\n",
      "0: 416x640 1 person, 15 cars, 1 bus, 9.0ms\n",
      "Speed: 3.2ms preprocess, 9.0ms inference, 1.7ms postprocess per image at shape (1, 3, 416, 640)\n",
      "\n",
      "0: 416x640 1 person, 15 cars, 1 truck, 9.7ms\n",
      "Speed: 3.7ms preprocess, 9.7ms inference, 11.5ms postprocess per image at shape (1, 3, 416, 640)\n",
      "\n",
      "0: 416x640 1 person, 15 cars, 1 bus, 8.6ms\n",
      "Speed: 4.0ms preprocess, 8.6ms inference, 1.7ms postprocess per image at shape (1, 3, 416, 640)\n",
      "\n",
      "0: 416x640 1 person, 15 cars, 1 bus, 9.9ms\n",
      "Speed: 4.3ms preprocess, 9.9ms inference, 11.6ms postprocess per image at shape (1, 3, 416, 640)\n",
      "\n",
      "0: 416x640 1 person, 16 cars, 9.5ms\n",
      "Speed: 4.1ms preprocess, 9.5ms inference, 11.6ms postprocess per image at shape (1, 3, 416, 640)\n",
      "\n",
      "0: 416x640 1 person, 15 cars, 1 truck, 9.8ms\n",
      "Speed: 4.4ms preprocess, 9.8ms inference, 11.5ms postprocess per image at shape (1, 3, 416, 640)\n",
      "\n",
      "0: 416x640 1 person, 15 cars, 1 truck, 7.5ms\n",
      "Speed: 3.4ms preprocess, 7.5ms inference, 12.0ms postprocess per image at shape (1, 3, 416, 640)\n",
      "\n",
      "0: 416x640 1 person, 15 cars, 1 bus, 9.2ms\n",
      "Speed: 2.8ms preprocess, 9.2ms inference, 10.7ms postprocess per image at shape (1, 3, 416, 640)\n",
      "\n",
      "0: 416x640 1 person, 15 cars, 1 truck, 9.7ms\n",
      "Speed: 4.3ms preprocess, 9.7ms inference, 11.7ms postprocess per image at shape (1, 3, 416, 640)\n",
      "\n",
      "0: 416x640 16 cars, 10.3ms\n",
      "Speed: 2.8ms preprocess, 10.3ms inference, 2.4ms postprocess per image at shape (1, 3, 416, 640)\n",
      "\n",
      "0: 416x640 15 cars, 1 truck, 7.6ms\n",
      "Speed: 4.5ms preprocess, 7.6ms inference, 12.0ms postprocess per image at shape (1, 3, 416, 640)\n",
      "\n",
      "0: 416x640 15 cars, 1 truck, 9.8ms\n",
      "Speed: 3.3ms preprocess, 9.8ms inference, 11.7ms postprocess per image at shape (1, 3, 416, 640)\n",
      "\n",
      "0: 416x640 16 cars, 1 truck, 7.5ms\n",
      "Speed: 3.3ms preprocess, 7.5ms inference, 11.8ms postprocess per image at shape (1, 3, 416, 640)\n",
      "\n",
      "0: 416x640 16 cars, 7.7ms\n",
      "Speed: 4.0ms preprocess, 7.7ms inference, 11.8ms postprocess per image at shape (1, 3, 416, 640)\n",
      "\n",
      "0: 416x640 16 cars, 7.4ms\n",
      "Speed: 2.8ms preprocess, 7.4ms inference, 1.5ms postprocess per image at shape (1, 3, 416, 640)\n",
      "\n",
      "0: 416x640 16 cars, 7.5ms\n",
      "Speed: 4.4ms preprocess, 7.5ms inference, 11.7ms postprocess per image at shape (1, 3, 416, 640)\n",
      "\n",
      "0: 416x640 16 cars, 7.5ms\n",
      "Speed: 3.2ms preprocess, 7.5ms inference, 10.2ms postprocess per image at shape (1, 3, 416, 640)\n",
      "\n",
      "0: 416x640 15 cars, 7.4ms\n",
      "Speed: 4.5ms preprocess, 7.4ms inference, 12.2ms postprocess per image at shape (1, 3, 416, 640)\n",
      "\n",
      "0: 416x640 14 cars, 1 truck, 7.4ms\n",
      "Speed: 2.8ms preprocess, 7.4ms inference, 1.6ms postprocess per image at shape (1, 3, 416, 640)\n",
      "\n",
      "0: 416x640 14 cars, 1 truck, 7.4ms\n",
      "Speed: 3.6ms preprocess, 7.4ms inference, 11.6ms postprocess per image at shape (1, 3, 416, 640)\n",
      "\n",
      "0: 416x640 15 cars, 7.5ms\n",
      "Speed: 3.0ms preprocess, 7.5ms inference, 11.6ms postprocess per image at shape (1, 3, 416, 640)\n",
      "\n",
      "0: 416x640 14 cars, 1 truck, 7.5ms\n",
      "Speed: 5.2ms preprocess, 7.5ms inference, 11.8ms postprocess per image at shape (1, 3, 416, 640)\n",
      "\n",
      "0: 416x640 15 cars, 8.7ms\n",
      "Speed: 2.8ms preprocess, 8.7ms inference, 9.0ms postprocess per image at shape (1, 3, 416, 640)\n",
      "\n",
      "0: 416x640 15 cars, 7.4ms\n",
      "Speed: 5.0ms preprocess, 7.4ms inference, 11.5ms postprocess per image at shape (1, 3, 416, 640)\n",
      "\n",
      "0: 416x640 15 cars, 8.6ms\n",
      "Speed: 4.3ms preprocess, 8.6ms inference, 2.4ms postprocess per image at shape (1, 3, 416, 640)\n",
      "\n",
      "0: 416x640 15 cars, 9.9ms\n",
      "Speed: 4.6ms preprocess, 9.9ms inference, 11.6ms postprocess per image at shape (1, 3, 416, 640)\n",
      "\n",
      "0: 416x640 15 cars, 9.5ms\n",
      "Speed: 5.3ms preprocess, 9.5ms inference, 11.3ms postprocess per image at shape (1, 3, 416, 640)\n",
      "\n",
      "0: 416x640 15 cars, 9.6ms\n",
      "Speed: 4.7ms preprocess, 9.6ms inference, 9.6ms postprocess per image at shape (1, 3, 416, 640)\n",
      "\n",
      "0: 416x640 15 cars, 7.6ms\n",
      "Speed: 4.3ms preprocess, 7.6ms inference, 12.0ms postprocess per image at shape (1, 3, 416, 640)\n",
      "\n",
      "0: 416x640 16 cars, 7.4ms\n",
      "Speed: 4.6ms preprocess, 7.4ms inference, 11.4ms postprocess per image at shape (1, 3, 416, 640)\n",
      "\n",
      "0: 416x640 14 cars, 2 trucks, 7.3ms\n",
      "Speed: 3.8ms preprocess, 7.3ms inference, 11.3ms postprocess per image at shape (1, 3, 416, 640)\n",
      "\n",
      "0: 416x640 16 cars, 7.5ms\n",
      "Speed: 4.2ms preprocess, 7.5ms inference, 1.6ms postprocess per image at shape (1, 3, 416, 640)\n",
      "\n",
      "0: 416x640 16 cars, 7.7ms\n",
      "Speed: 4.6ms preprocess, 7.7ms inference, 12.2ms postprocess per image at shape (1, 3, 416, 640)\n",
      "\n",
      "0: 416x640 1 person, 16 cars, 7.5ms\n",
      "Speed: 4.5ms preprocess, 7.5ms inference, 11.5ms postprocess per image at shape (1, 3, 416, 640)\n",
      "\n",
      "0: 416x640 1 person, 16 cars, 7.6ms\n",
      "Speed: 5.0ms preprocess, 7.6ms inference, 11.7ms postprocess per image at shape (1, 3, 416, 640)\n",
      "\n",
      "0: 416x640 1 person, 15 cars, 9.0ms\n",
      "Speed: 4.9ms preprocess, 9.0ms inference, 12.1ms postprocess per image at shape (1, 3, 416, 640)\n",
      "\n",
      "0: 416x640 1 person, 15 cars, 7.3ms\n",
      "Speed: 2.9ms preprocess, 7.3ms inference, 1.5ms postprocess per image at shape (1, 3, 416, 640)\n",
      "\n",
      "0: 416x640 1 person, 15 cars, 7.4ms\n",
      "Speed: 4.2ms preprocess, 7.4ms inference, 11.3ms postprocess per image at shape (1, 3, 416, 640)\n",
      "\n",
      "0: 416x640 1 person, 15 cars, 7.5ms\n",
      "Speed: 3.4ms preprocess, 7.5ms inference, 11.2ms postprocess per image at shape (1, 3, 416, 640)\n",
      "\n",
      "0: 416x640 1 person, 15 cars, 7.5ms\n",
      "Speed: 4.1ms preprocess, 7.5ms inference, 11.7ms postprocess per image at shape (1, 3, 416, 640)\n",
      "\n",
      "0: 416x640 1 person, 15 cars, 7.6ms\n",
      "Speed: 3.3ms preprocess, 7.6ms inference, 11.4ms postprocess per image at shape (1, 3, 416, 640)\n",
      "\n",
      "0: 416x640 1 person, 15 cars, 7.4ms\n",
      "Speed: 4.6ms preprocess, 7.4ms inference, 11.6ms postprocess per image at shape (1, 3, 416, 640)\n",
      "\n",
      "0: 416x640 1 person, 15 cars, 9.8ms\n",
      "Speed: 2.8ms preprocess, 9.8ms inference, 2.3ms postprocess per image at shape (1, 3, 416, 640)\n",
      "\n",
      "0: 416x640 1 person, 15 cars, 7.7ms\n",
      "Speed: 5.0ms preprocess, 7.7ms inference, 11.9ms postprocess per image at shape (1, 3, 416, 640)\n",
      "\n",
      "0: 416x640 1 person, 15 cars, 12.2ms\n",
      "Speed: 6.3ms preprocess, 12.2ms inference, 11.6ms postprocess per image at shape (1, 3, 416, 640)\n",
      "\n",
      "0: 416x640 1 person, 15 cars, 7.5ms\n",
      "Speed: 4.2ms preprocess, 7.5ms inference, 10.3ms postprocess per image at shape (1, 3, 416, 640)\n",
      "\n",
      "0: 416x640 1 person, 15 cars, 7.5ms\n",
      "Speed: 4.6ms preprocess, 7.5ms inference, 12.2ms postprocess per image at shape (1, 3, 416, 640)\n",
      "\n",
      "0: 416x640 1 person, 15 cars, 7.4ms\n",
      "Speed: 4.1ms preprocess, 7.4ms inference, 9.5ms postprocess per image at shape (1, 3, 416, 640)\n",
      "\n",
      "0: 416x640 2 persons, 15 cars, 9.6ms\n",
      "Speed: 4.6ms preprocess, 9.6ms inference, 11.4ms postprocess per image at shape (1, 3, 416, 640)\n",
      "\n",
      "0: 416x640 2 persons, 15 cars, 12.2ms\n",
      "Speed: 6.0ms preprocess, 12.2ms inference, 12.0ms postprocess per image at shape (1, 3, 416, 640)\n",
      "\n",
      "0: 416x640 2 persons, 15 cars, 9.0ms\n",
      "Speed: 2.9ms preprocess, 9.0ms inference, 11.4ms postprocess per image at shape (1, 3, 416, 640)\n",
      "\n",
      "0: 416x640 2 persons, 15 cars, 9.6ms\n",
      "Speed: 3.2ms preprocess, 9.6ms inference, 11.6ms postprocess per image at shape (1, 3, 416, 640)\n",
      "\n",
      "0: 416x640 2 persons, 15 cars, 11.4ms\n",
      "Speed: 6.2ms preprocess, 11.4ms inference, 12.1ms postprocess per image at shape (1, 3, 416, 640)\n",
      "\n",
      "0: 416x640 2 persons, 14 cars, 8.3ms\n",
      "Speed: 2.8ms preprocess, 8.3ms inference, 10.8ms postprocess per image at shape (1, 3, 416, 640)\n",
      "\n",
      "0: 416x640 2 persons, 14 cars, 7.3ms\n",
      "Speed: 4.5ms preprocess, 7.3ms inference, 11.7ms postprocess per image at shape (1, 3, 416, 640)\n",
      "\n",
      "0: 416x640 2 persons, 13 cars, 8.9ms\n",
      "Speed: 3.9ms preprocess, 8.9ms inference, 2.4ms postprocess per image at shape (1, 3, 416, 640)\n",
      "\n",
      "0: 416x640 2 persons, 13 cars, 7.5ms\n",
      "Speed: 5.2ms preprocess, 7.5ms inference, 12.0ms postprocess per image at shape (1, 3, 416, 640)\n",
      "\n",
      "0: 416x640 2 persons, 13 cars, 7.4ms\n",
      "Speed: 5.1ms preprocess, 7.4ms inference, 11.3ms postprocess per image at shape (1, 3, 416, 640)\n",
      "\n",
      "0: 416x640 2 persons, 13 cars, 7.5ms\n",
      "Speed: 3.2ms preprocess, 7.5ms inference, 11.7ms postprocess per image at shape (1, 3, 416, 640)\n",
      "\n",
      "0: 416x640 2 persons, 13 cars, 7.5ms\n",
      "Speed: 2.9ms preprocess, 7.5ms inference, 2.4ms postprocess per image at shape (1, 3, 416, 640)\n",
      "\n",
      "0: 416x640 2 persons, 13 cars, 9.9ms\n",
      "Speed: 4.0ms preprocess, 9.9ms inference, 12.0ms postprocess per image at shape (1, 3, 416, 640)\n",
      "\n",
      "0: 416x640 2 persons, 13 cars, 7.5ms\n",
      "Speed: 5.1ms preprocess, 7.5ms inference, 11.3ms postprocess per image at shape (1, 3, 416, 640)\n",
      "\n",
      "0: 416x640 2 persons, 13 cars, 9.7ms\n",
      "Speed: 5.3ms preprocess, 9.7ms inference, 11.7ms postprocess per image at shape (1, 3, 416, 640)\n",
      "\n",
      "0: 416x640 2 persons, 13 cars, 10.9ms\n",
      "Speed: 4.2ms preprocess, 10.9ms inference, 12.1ms postprocess per image at shape (1, 3, 416, 640)\n",
      "\n",
      "0: 416x640 2 persons, 12 cars, 7.7ms\n",
      "Speed: 2.8ms preprocess, 7.7ms inference, 1.6ms postprocess per image at shape (1, 3, 416, 640)\n",
      "\n",
      "0: 416x640 2 persons, 12 cars, 7.5ms\n",
      "Speed: 4.6ms preprocess, 7.5ms inference, 11.6ms postprocess per image at shape (1, 3, 416, 640)\n",
      "\n",
      "0: 416x640 2 persons, 12 cars, 7.5ms\n",
      "Speed: 5.0ms preprocess, 7.5ms inference, 11.7ms postprocess per image at shape (1, 3, 416, 640)\n",
      "\n",
      "0: 416x640 2 persons, 12 cars, 7.6ms\n",
      "Speed: 3.6ms preprocess, 7.6ms inference, 12.1ms postprocess per image at shape (1, 3, 416, 640)\n",
      "\n",
      "0: 416x640 2 persons, 12 cars, 7.4ms\n",
      "Speed: 3.2ms preprocess, 7.4ms inference, 1.6ms postprocess per image at shape (1, 3, 416, 640)\n",
      "\n",
      "0: 416x640 2 persons, 12 cars, 9.8ms\n",
      "Speed: 6.2ms preprocess, 9.8ms inference, 11.2ms postprocess per image at shape (1, 3, 416, 640)\n",
      "\n",
      "0: 416x640 2 persons, 12 cars, 8.8ms\n",
      "Speed: 4.0ms preprocess, 8.8ms inference, 9.7ms postprocess per image at shape (1, 3, 416, 640)\n",
      "\n",
      "0: 416x640 2 persons, 12 cars, 7.5ms\n",
      "Speed: 3.9ms preprocess, 7.5ms inference, 12.1ms postprocess per image at shape (1, 3, 416, 640)\n",
      "\n",
      "0: 416x640 2 persons, 12 cars, 7.5ms\n",
      "Speed: 4.7ms preprocess, 7.5ms inference, 11.8ms postprocess per image at shape (1, 3, 416, 640)\n",
      "\n",
      "0: 416x640 2 persons, 12 cars, 9.7ms\n",
      "Speed: 3.4ms preprocess, 9.7ms inference, 11.4ms postprocess per image at shape (1, 3, 416, 640)\n",
      "\n",
      "0: 416x640 2 persons, 12 cars, 7.6ms\n",
      "Speed: 3.4ms preprocess, 7.6ms inference, 8.3ms postprocess per image at shape (1, 3, 416, 640)\n",
      "\n",
      "0: 416x640 2 persons, 12 cars, 7.7ms\n",
      "Speed: 6.8ms preprocess, 7.7ms inference, 12.0ms postprocess per image at shape (1, 3, 416, 640)\n",
      "\n",
      "0: 416x640 2 persons, 13 cars, 7.4ms\n",
      "Speed: 2.9ms preprocess, 7.4ms inference, 1.5ms postprocess per image at shape (1, 3, 416, 640)\n",
      "\n",
      "0: 416x640 2 persons, 13 cars, 7.4ms\n",
      "Speed: 5.1ms preprocess, 7.4ms inference, 11.8ms postprocess per image at shape (1, 3, 416, 640)\n",
      "\n",
      "0: 416x640 2 persons, 13 cars, 7.5ms\n",
      "Speed: 4.5ms preprocess, 7.5ms inference, 11.7ms postprocess per image at shape (1, 3, 416, 640)\n",
      "\n",
      "0: 416x640 2 persons, 13 cars, 7.6ms\n",
      "Speed: 5.1ms preprocess, 7.6ms inference, 11.8ms postprocess per image at shape (1, 3, 416, 640)\n",
      "\n",
      "0: 416x640 2 persons, 13 cars, 1 bus, 7.4ms\n",
      "Speed: 4.0ms preprocess, 7.4ms inference, 11.7ms postprocess per image at shape (1, 3, 416, 640)\n",
      "\n",
      "0: 416x640 2 persons, 13 cars, 1 bus, 7.3ms\n",
      "Speed: 4.3ms preprocess, 7.3ms inference, 11.5ms postprocess per image at shape (1, 3, 416, 640)\n",
      "\n",
      "0: 416x640 2 persons, 13 cars, 1 truck, 9.7ms\n",
      "Speed: 3.5ms preprocess, 9.7ms inference, 2.4ms postprocess per image at shape (1, 3, 416, 640)\n",
      "\n",
      "0: 416x640 2 persons, 13 cars, 1 truck, 7.5ms\n",
      "Speed: 3.5ms preprocess, 7.5ms inference, 12.0ms postprocess per image at shape (1, 3, 416, 640)\n",
      "\n",
      "0: 416x640 2 persons, 13 cars, 1 truck, 7.4ms\n",
      "Speed: 3.3ms preprocess, 7.4ms inference, 11.6ms postprocess per image at shape (1, 3, 416, 640)\n",
      "\n",
      "0: 416x640 2 persons, 12 cars, 2 trucks, 7.5ms\n",
      "Speed: 3.9ms preprocess, 7.5ms inference, 11.7ms postprocess per image at shape (1, 3, 416, 640)\n",
      "\n",
      "0: 416x640 2 persons, 13 cars, 1 truck, 9.1ms\n",
      "Speed: 4.4ms preprocess, 9.1ms inference, 12.1ms postprocess per image at shape (1, 3, 416, 640)\n",
      "\n",
      "0: 416x640 3 persons, 13 cars, 1 truck, 7.3ms\n",
      "Speed: 2.9ms preprocess, 7.3ms inference, 1.6ms postprocess per image at shape (1, 3, 416, 640)\n",
      "\n",
      "0: 416x640 3 persons, 13 cars, 1 truck, 9.6ms\n",
      "Speed: 4.1ms preprocess, 9.6ms inference, 11.5ms postprocess per image at shape (1, 3, 416, 640)\n",
      "\n",
      "0: 416x640 3 persons, 13 cars, 1 truck, 10.2ms\n",
      "Speed: 6.2ms preprocess, 10.2ms inference, 5.9ms postprocess per image at shape (1, 3, 416, 640)\n",
      "\n",
      "0: 416x640 3 persons, 13 cars, 1 truck, 7.6ms\n",
      "Speed: 4.3ms preprocess, 7.6ms inference, 12.0ms postprocess per image at shape (1, 3, 416, 640)\n",
      "\n",
      "0: 416x640 3 persons, 13 cars, 1 bus, 7.4ms\n",
      "Speed: 2.8ms preprocess, 7.4ms inference, 9.9ms postprocess per image at shape (1, 3, 416, 640)\n",
      "\n",
      "0: 416x640 3 persons, 13 cars, 1 bus, 7.3ms\n",
      "Speed: 5.0ms preprocess, 7.3ms inference, 11.5ms postprocess per image at shape (1, 3, 416, 640)\n",
      "\n",
      "0: 416x640 3 persons, 13 cars, 1 truck, 8.8ms\n",
      "Speed: 3.5ms preprocess, 8.8ms inference, 2.4ms postprocess per image at shape (1, 3, 416, 640)\n",
      "\n",
      "0: 416x640 3 persons, 13 cars, 1 truck, 7.6ms\n",
      "Speed: 4.7ms preprocess, 7.6ms inference, 12.0ms postprocess per image at shape (1, 3, 416, 640)\n",
      "\n",
      "0: 416x640 3 persons, 13 cars, 1 truck, 7.3ms\n",
      "Speed: 3.4ms preprocess, 7.3ms inference, 11.7ms postprocess per image at shape (1, 3, 416, 640)\n",
      "\n",
      "0: 416x640 3 persons, 13 cars, 1 truck, 7.4ms\n",
      "Speed: 3.1ms preprocess, 7.4ms inference, 11.8ms postprocess per image at shape (1, 3, 416, 640)\n",
      "\n",
      "0: 416x640 3 persons, 13 cars, 1 truck, 7.4ms\n",
      "Speed: 4.9ms preprocess, 7.4ms inference, 12.2ms postprocess per image at shape (1, 3, 416, 640)\n",
      "\n",
      "0: 416x640 3 persons, 13 cars, 1 truck, 7.6ms\n",
      "Speed: 2.9ms preprocess, 7.6ms inference, 1.8ms postprocess per image at shape (1, 3, 416, 640)\n",
      "\n",
      "0: 416x640 3 persons, 13 cars, 1 truck, 7.4ms\n",
      "Speed: 3.8ms preprocess, 7.4ms inference, 11.5ms postprocess per image at shape (1, 3, 416, 640)\n",
      "\n",
      "0: 416x640 3 persons, 13 cars, 1 truck, 7.3ms\n",
      "Speed: 4.4ms preprocess, 7.3ms inference, 10.0ms postprocess per image at shape (1, 3, 416, 640)\n",
      "\n",
      "0: 416x640 3 persons, 13 cars, 1 truck, 7.6ms\n",
      "Speed: 3.3ms preprocess, 7.6ms inference, 12.1ms postprocess per image at shape (1, 3, 416, 640)\n",
      "\n",
      "0: 416x640 3 persons, 13 cars, 1 truck, 9.3ms\n",
      "Speed: 4.7ms preprocess, 9.3ms inference, 11.6ms postprocess per image at shape (1, 3, 416, 640)\n",
      "\n",
      "0: 416x640 3 persons, 13 cars, 1 truck, 9.7ms\n",
      "Speed: 5.0ms preprocess, 9.7ms inference, 11.4ms postprocess per image at shape (1, 3, 416, 640)\n",
      "\n",
      "0: 416x640 3 persons, 13 cars, 1 truck, 7.3ms\n",
      "Speed: 2.7ms preprocess, 7.3ms inference, 1.7ms postprocess per image at shape (1, 3, 416, 640)\n",
      "\n",
      "0: 416x640 3 persons, 13 cars, 1 truck, 7.4ms\n",
      "Speed: 4.7ms preprocess, 7.4ms inference, 11.8ms postprocess per image at shape (1, 3, 416, 640)\n",
      "\n",
      "0: 416x640 3 persons, 13 cars, 1 truck, 7.5ms\n",
      "Speed: 4.0ms preprocess, 7.5ms inference, 11.4ms postprocess per image at shape (1, 3, 416, 640)\n",
      "\n",
      "0: 416x640 3 persons, 13 cars, 1 truck, 7.4ms\n",
      "Speed: 4.8ms preprocess, 7.4ms inference, 11.7ms postprocess per image at shape (1, 3, 416, 640)\n",
      "\n",
      "0: 416x640 3 persons, 13 cars, 1 truck, 10.2ms\n",
      "Speed: 2.9ms preprocess, 10.2ms inference, 2.4ms postprocess per image at shape (1, 3, 416, 640)\n",
      "\n",
      "0: 416x640 3 persons, 13 cars, 1 truck, 7.5ms\n",
      "Speed: 4.0ms preprocess, 7.5ms inference, 11.9ms postprocess per image at shape (1, 3, 416, 640)\n",
      "\n",
      "0: 416x640 3 persons, 12 cars, 1 truck, 7.4ms\n",
      "Speed: 4.6ms preprocess, 7.4ms inference, 11.6ms postprocess per image at shape (1, 3, 416, 640)\n",
      "\n",
      "0: 416x640 3 persons, 12 cars, 1 truck, 7.5ms\n",
      "Speed: 3.8ms preprocess, 7.5ms inference, 11.6ms postprocess per image at shape (1, 3, 416, 640)\n",
      "\n",
      "0: 416x640 3 persons, 11 cars, 1 truck, 7.5ms\n",
      "Speed: 4.5ms preprocess, 7.5ms inference, 11.9ms postprocess per image at shape (1, 3, 416, 640)\n",
      "\n",
      "0: 416x640 3 persons, 11 cars, 1 truck, 7.3ms\n",
      "Speed: 3.2ms preprocess, 7.3ms inference, 1.5ms postprocess per image at shape (1, 3, 416, 640)\n",
      "\n",
      "0: 416x640 3 persons, 11 cars, 1 truck, 9.7ms\n",
      "Speed: 5.0ms preprocess, 9.7ms inference, 11.4ms postprocess per image at shape (1, 3, 416, 640)\n",
      "\n",
      "0: 416x640 3 persons, 11 cars, 1 truck, 7.5ms\n",
      "Speed: 4.0ms preprocess, 7.5ms inference, 11.6ms postprocess per image at shape (1, 3, 416, 640)\n",
      "\n",
      "0: 416x640 3 persons, 10 cars, 1 truck, 7.7ms\n",
      "Speed: 3.8ms preprocess, 7.7ms inference, 12.1ms postprocess per image at shape (1, 3, 416, 640)\n",
      "\n",
      "0: 416x640 3 persons, 9 cars, 1 truck, 9.2ms\n",
      "Speed: 2.8ms preprocess, 9.2ms inference, 9.4ms postprocess per image at shape (1, 3, 416, 640)\n",
      "\n",
      "0: 416x640 3 persons, 9 cars, 1 truck, 9.8ms\n",
      "Speed: 3.2ms preprocess, 9.8ms inference, 11.4ms postprocess per image at shape (1, 3, 416, 640)\n",
      "\n",
      "0: 416x640 3 persons, 9 cars, 1 truck, 7.7ms\n",
      "Speed: 5.0ms preprocess, 7.7ms inference, 9.9ms postprocess per image at shape (1, 3, 416, 640)\n",
      "\n",
      "0: 416x640 3 persons, 10 cars, 1 truck, 8.2ms\n",
      "Speed: 5.0ms preprocess, 8.2ms inference, 11.9ms postprocess per image at shape (1, 3, 416, 640)\n",
      "\n",
      "0: 416x640 3 persons, 10 cars, 1 truck, 8.3ms\n",
      "Speed: 3.4ms preprocess, 8.3ms inference, 1.8ms postprocess per image at shape (1, 3, 416, 640)\n",
      "\n",
      "0: 416x640 3 persons, 9 cars, 1 truck, 9.9ms\n",
      "Speed: 3.8ms preprocess, 9.9ms inference, 11.5ms postprocess per image at shape (1, 3, 416, 640)\n",
      "\n",
      "0: 416x640 3 persons, 9 cars, 1 truck, 7.4ms\n",
      "Speed: 3.6ms preprocess, 7.4ms inference, 10.3ms postprocess per image at shape (1, 3, 416, 640)\n",
      "\n",
      "0: 416x640 3 persons, 9 cars, 1 truck, 7.8ms\n",
      "Speed: 3.4ms preprocess, 7.8ms inference, 11.9ms postprocess per image at shape (1, 3, 416, 640)\n",
      "\n",
      "0: 416x640 3 persons, 9 cars, 1 truck, 8.1ms\n",
      "Speed: 3.1ms preprocess, 8.1ms inference, 11.3ms postprocess per image at shape (1, 3, 416, 640)\n",
      "\n",
      "0: 416x640 3 persons, 9 cars, 1 truck, 9.8ms\n",
      "Speed: 4.9ms preprocess, 9.8ms inference, 11.6ms postprocess per image at shape (1, 3, 416, 640)\n",
      "\n",
      "0: 416x640 3 persons, 9 cars, 1 truck, 7.7ms\n",
      "Speed: 4.2ms preprocess, 7.7ms inference, 9.5ms postprocess per image at shape (1, 3, 416, 640)\n",
      "\n",
      "0: 416x640 3 persons, 9 cars, 1 truck, 7.6ms\n",
      "Speed: 4.2ms preprocess, 7.6ms inference, 12.1ms postprocess per image at shape (1, 3, 416, 640)\n",
      "\n",
      "0: 416x640 3 persons, 9 cars, 1 truck, 7.5ms\n",
      "Speed: 4.7ms preprocess, 7.5ms inference, 11.6ms postprocess per image at shape (1, 3, 416, 640)\n",
      "\n",
      "0: 416x640 3 persons, 9 cars, 1 truck, 7.4ms\n",
      "Speed: 4.9ms preprocess, 7.4ms inference, 11.4ms postprocess per image at shape (1, 3, 416, 640)\n",
      "\n",
      "0: 416x640 3 persons, 9 cars, 1 truck, 10.3ms\n",
      "Speed: 2.9ms preprocess, 10.3ms inference, 2.4ms postprocess per image at shape (1, 3, 416, 640)\n",
      "\n",
      "0: 416x640 3 persons, 8 cars, 1 truck, 7.5ms\n",
      "Speed: 3.5ms preprocess, 7.5ms inference, 12.3ms postprocess per image at shape (1, 3, 416, 640)\n",
      "\n",
      "0: 416x640 3 persons, 8 cars, 1 truck, 7.6ms\n",
      "Speed: 4.8ms preprocess, 7.6ms inference, 11.4ms postprocess per image at shape (1, 3, 416, 640)\n",
      "\n",
      "0: 416x640 3 persons, 7 cars, 2 trucks, 7.4ms\n",
      "Speed: 3.5ms preprocess, 7.4ms inference, 11.5ms postprocess per image at shape (1, 3, 416, 640)\n",
      "\n",
      "0: 416x640 3 persons, 7 cars, 3 trucks, 7.6ms\n",
      "Speed: 2.9ms preprocess, 7.6ms inference, 1.6ms postprocess per image at shape (1, 3, 416, 640)\n",
      "\n",
      "0: 416x640 3 persons, 8 cars, 2 trucks, 7.6ms\n",
      "Speed: 4.6ms preprocess, 7.6ms inference, 12.1ms postprocess per image at shape (1, 3, 416, 640)\n",
      "\n",
      "0: 416x640 3 persons, 8 cars, 2 trucks, 9.7ms\n",
      "Speed: 4.1ms preprocess, 9.7ms inference, 11.5ms postprocess per image at shape (1, 3, 416, 640)\n",
      "\n",
      "0: 416x640 3 persons, 7 cars, 1 truck, 7.5ms\n",
      "Speed: 5.1ms preprocess, 7.5ms inference, 11.5ms postprocess per image at shape (1, 3, 416, 640)\n",
      "\n",
      "0: 416x640 3 persons, 7 cars, 1 truck, 7.3ms\n",
      "Speed: 3.0ms preprocess, 7.3ms inference, 1.8ms postprocess per image at shape (1, 3, 416, 640)\n",
      "\n",
      "0: 416x640 3 persons, 7 cars, 1 truck, 7.6ms\n",
      "Speed: 4.0ms preprocess, 7.6ms inference, 12.0ms postprocess per image at shape (1, 3, 416, 640)\n",
      "\n",
      "0: 416x640 3 persons, 7 cars, 1 truck, 9.5ms\n",
      "Speed: 4.6ms preprocess, 9.5ms inference, 9.8ms postprocess per image at shape (1, 3, 416, 640)\n",
      "\n",
      "0: 416x640 3 persons, 7 cars, 1 truck, 9.5ms\n",
      "Speed: 3.9ms preprocess, 9.5ms inference, 11.4ms postprocess per image at shape (1, 3, 416, 640)\n",
      "\n",
      "0: 416x640 3 persons, 7 cars, 1 truck, 7.3ms\n",
      "Speed: 4.0ms preprocess, 7.3ms inference, 1.4ms postprocess per image at shape (1, 3, 416, 640)\n",
      "\n",
      "0: 416x640 3 persons, 7 cars, 1 truck, 7.6ms\n",
      "Speed: 3.5ms preprocess, 7.6ms inference, 11.9ms postprocess per image at shape (1, 3, 416, 640)\n",
      "\n",
      "0: 416x640 3 persons, 7 cars, 1 truck, 9.9ms\n",
      "Speed: 4.1ms preprocess, 9.9ms inference, 10.5ms postprocess per image at shape (1, 3, 416, 640)\n",
      "\n",
      "0: 416x640 3 persons, 7 cars, 1 truck, 7.4ms\n",
      "Speed: 4.9ms preprocess, 7.4ms inference, 11.5ms postprocess per image at shape (1, 3, 416, 640)\n",
      "\n",
      "0: 416x640 3 persons, 6 cars, 1 bus, 7.6ms\n",
      "Speed: 3.2ms preprocess, 7.6ms inference, 7.8ms postprocess per image at shape (1, 3, 416, 640)\n",
      "\n",
      "0: 416x640 3 persons, 6 cars, 1 truck, 7.6ms\n",
      "Speed: 4.7ms preprocess, 7.6ms inference, 11.9ms postprocess per image at shape (1, 3, 416, 640)\n",
      "\n",
      "0: 416x640 3 persons, 6 cars, 1 truck, 7.5ms\n",
      "Speed: 3.2ms preprocess, 7.5ms inference, 9.1ms postprocess per image at shape (1, 3, 416, 640)\n",
      "\n",
      "0: 416x640 3 persons, 6 cars, 1 bus, 9.7ms\n",
      "Speed: 4.9ms preprocess, 9.7ms inference, 11.2ms postprocess per image at shape (1, 3, 416, 640)\n",
      "\n",
      "0: 416x640 3 persons, 6 cars, 1 truck, 8.5ms\n",
      "Speed: 4.8ms preprocess, 8.5ms inference, 9.9ms postprocess per image at shape (1, 3, 416, 640)\n",
      "\n",
      "0: 416x640 3 persons, 6 cars, 1 truck, 8.3ms\n",
      "Speed: 4.6ms preprocess, 8.3ms inference, 12.0ms postprocess per image at shape (1, 3, 416, 640)\n",
      "\n",
      "0: 416x640 3 persons, 6 cars, 1 truck, 7.3ms\n",
      "Speed: 2.9ms preprocess, 7.3ms inference, 1.6ms postprocess per image at shape (1, 3, 416, 640)\n",
      "\n",
      "0: 416x640 3 persons, 6 cars, 1 truck, 9.8ms\n",
      "Speed: 4.0ms preprocess, 9.8ms inference, 11.5ms postprocess per image at shape (1, 3, 416, 640)\n",
      "\n",
      "0: 416x640 3 persons, 6 cars, 2 trucks, 7.5ms\n",
      "Speed: 3.7ms preprocess, 7.5ms inference, 11.4ms postprocess per image at shape (1, 3, 416, 640)\n",
      "\n",
      "0: 416x640 3 persons, 6 cars, 1 bus, 1 truck, 9.1ms\n",
      "Speed: 4.3ms preprocess, 9.1ms inference, 12.1ms postprocess per image at shape (1, 3, 416, 640)\n",
      "\n",
      "0: 416x640 3 persons, 6 cars, 1 bus, 1 truck, 7.3ms\n",
      "Speed: 2.9ms preprocess, 7.3ms inference, 1.5ms postprocess per image at shape (1, 3, 416, 640)\n",
      "\n",
      "0: 416x640 3 persons, 6 cars, 1 bus, 1 truck, 7.3ms\n",
      "Speed: 4.5ms preprocess, 7.3ms inference, 11.6ms postprocess per image at shape (1, 3, 416, 640)\n",
      "\n",
      "0: 416x640 3 persons, 6 cars, 2 trucks, 7.5ms\n",
      "Speed: 5.0ms preprocess, 7.5ms inference, 11.7ms postprocess per image at shape (1, 3, 416, 640)\n",
      "\n",
      "0: 416x640 3 persons, 6 cars, 1 bus, 1 truck, 11.3ms\n",
      "Speed: 4.3ms preprocess, 11.3ms inference, 12.2ms postprocess per image at shape (1, 3, 416, 640)\n",
      "\n",
      "0: 416x640 3 persons, 8 cars, 1 bus, 1 truck, 8.4ms\n",
      "Speed: 2.8ms preprocess, 8.4ms inference, 1.5ms postprocess per image at shape (1, 3, 416, 640)\n",
      "\n",
      "0: 416x640 3 persons, 8 cars, 1 bus, 1 truck, 7.5ms\n",
      "Speed: 4.9ms preprocess, 7.5ms inference, 11.7ms postprocess per image at shape (1, 3, 416, 640)\n",
      "\n",
      "0: 416x640 3 persons, 8 cars, 1 bus, 1 truck, 7.5ms\n",
      "Speed: 4.9ms preprocess, 7.5ms inference, 11.8ms postprocess per image at shape (1, 3, 416, 640)\n",
      "\n",
      "0: 416x640 3 persons, 7 cars, 3 buss, 7.7ms\n",
      "Speed: 3.4ms preprocess, 7.7ms inference, 11.8ms postprocess per image at shape (1, 3, 416, 640)\n",
      "\n",
      "0: 416x640 3 persons, 8 cars, 1 bus, 1 truck, 7.4ms\n",
      "Speed: 2.8ms preprocess, 7.4ms inference, 1.5ms postprocess per image at shape (1, 3, 416, 640)\n",
      "\n",
      "0: 416x640 3 persons, 8 cars, 1 bus, 1 truck, 9.7ms\n",
      "Speed: 4.8ms preprocess, 9.7ms inference, 11.2ms postprocess per image at shape (1, 3, 416, 640)\n",
      "\n",
      "0: 416x640 3 persons, 8 cars, 1 bus, 1 truck, 7.4ms\n",
      "Speed: 4.8ms preprocess, 7.4ms inference, 11.7ms postprocess per image at shape (1, 3, 416, 640)\n",
      "\n",
      "0: 416x640 3 persons, 8 cars, 1 bus, 1 truck, 10.1ms\n",
      "Speed: 4.2ms preprocess, 10.1ms inference, 2.4ms postprocess per image at shape (1, 3, 416, 640)\n",
      "\n",
      "0: 416x640 3 persons, 8 cars, 1 bus, 1 truck, 8.9ms\n",
      "Speed: 5.0ms preprocess, 8.9ms inference, 1.6ms postprocess per image at shape (1, 3, 416, 640)\n",
      "\n",
      "0: 416x640 3 persons, 8 cars, 1 bus, 1 truck, 7.5ms\n",
      "Speed: 3.5ms preprocess, 7.5ms inference, 11.5ms postprocess per image at shape (1, 3, 416, 640)\n",
      "\n",
      "0: 416x640 3 persons, 8 cars, 1 bus, 1 truck, 9.7ms\n",
      "Speed: 4.5ms preprocess, 9.7ms inference, 11.8ms postprocess per image at shape (1, 3, 416, 640)\n",
      "\n",
      "0: 416x640 3 persons, 8 cars, 1 bus, 1 truck, 9.1ms\n",
      "Speed: 4.4ms preprocess, 9.1ms inference, 12.1ms postprocess per image at shape (1, 3, 416, 640)\n",
      "\n",
      "0: 416x640 3 persons, 8 cars, 1 bus, 1 truck, 7.3ms\n",
      "Speed: 3.0ms preprocess, 7.3ms inference, 1.5ms postprocess per image at shape (1, 3, 416, 640)\n",
      "\n",
      "0: 416x640 3 persons, 8 cars, 1 bus, 1 truck, 7.7ms\n",
      "Speed: 3.7ms preprocess, 7.7ms inference, 11.6ms postprocess per image at shape (1, 3, 416, 640)\n",
      "\n",
      "0: 416x640 3 persons, 8 cars, 1 bus, 1 truck, 7.6ms\n",
      "Speed: 4.2ms preprocess, 7.6ms inference, 11.8ms postprocess per image at shape (1, 3, 416, 640)\n",
      "\n",
      "0: 416x640 3 persons, 8 cars, 1 bus, 1 truck, 7.5ms\n",
      "Speed: 3.7ms preprocess, 7.5ms inference, 11.9ms postprocess per image at shape (1, 3, 416, 640)\n",
      "\n",
      "0: 416x640 3 persons, 8 cars, 2 buss, 7.2ms\n",
      "Speed: 2.9ms preprocess, 7.2ms inference, 1.6ms postprocess per image at shape (1, 3, 416, 640)\n",
      "\n",
      "0: 416x640 3 persons, 8 cars, 1 bus, 1 truck, 7.4ms\n",
      "Speed: 3.8ms preprocess, 7.4ms inference, 11.7ms postprocess per image at shape (1, 3, 416, 640)\n",
      "\n",
      "0: 416x640 3 persons, 8 cars, 2 trucks, 7.5ms\n",
      "Speed: 4.2ms preprocess, 7.5ms inference, 11.7ms postprocess per image at shape (1, 3, 416, 640)\n",
      "\n",
      "0: 416x640 3 persons, 8 cars, 2 trucks, 7.8ms\n",
      "Speed: 4.7ms preprocess, 7.8ms inference, 12.1ms postprocess per image at shape (1, 3, 416, 640)\n",
      "\n",
      "0: 416x640 3 persons, 8 cars, 1 bus, 1 truck, 8.7ms\n",
      "Speed: 2.8ms preprocess, 8.7ms inference, 11.3ms postprocess per image at shape (1, 3, 416, 640)\n",
      "\n",
      "0: 416x640 3 persons, 8 cars, 2 trucks, 7.5ms\n",
      "Speed: 4.3ms preprocess, 7.5ms inference, 11.5ms postprocess per image at shape (1, 3, 416, 640)\n",
      "\n",
      "0: 416x640 3 persons, 8 cars, 2 trucks, 7.7ms\n",
      "Speed: 4.7ms preprocess, 7.7ms inference, 3.5ms postprocess per image at shape (1, 3, 416, 640)\n",
      "\n",
      "0: 416x640 3 persons, 8 cars, 2 trucks, 7.4ms\n",
      "Speed: 3.4ms preprocess, 7.4ms inference, 12.1ms postprocess per image at shape (1, 3, 416, 640)\n",
      "\n",
      "0: 416x640 3 persons, 8 cars, 2 trucks, 7.4ms\n",
      "Speed: 2.9ms preprocess, 7.4ms inference, 1.6ms postprocess per image at shape (1, 3, 416, 640)\n",
      "\n",
      "0: 416x640 3 persons, 8 cars, 2 buss, 7.5ms\n",
      "Speed: 4.8ms preprocess, 7.5ms inference, 11.6ms postprocess per image at shape (1, 3, 416, 640)\n",
      "\n",
      "0: 416x640 3 persons, 8 cars, 2 trucks, 7.6ms\n",
      "Speed: 4.7ms preprocess, 7.6ms inference, 10.1ms postprocess per image at shape (1, 3, 416, 640)\n",
      "\n",
      "0: 416x640 3 persons, 8 cars, 2 trucks, 7.6ms\n",
      "Speed: 4.9ms preprocess, 7.6ms inference, 12.0ms postprocess per image at shape (1, 3, 416, 640)\n",
      "\n",
      "0: 416x640 3 persons, 8 cars, 2 trucks, 7.4ms\n",
      "Speed: 2.8ms preprocess, 7.4ms inference, 1.6ms postprocess per image at shape (1, 3, 416, 640)\n",
      "\n",
      "0: 416x640 3 persons, 8 cars, 2 trucks, 9.7ms\n",
      "Speed: 4.6ms preprocess, 9.7ms inference, 11.4ms postprocess per image at shape (1, 3, 416, 640)\n",
      "\n",
      "0: 416x640 3 persons, 8 cars, 2 trucks, 7.4ms\n",
      "Speed: 4.9ms preprocess, 7.4ms inference, 11.4ms postprocess per image at shape (1, 3, 416, 640)\n",
      "\n",
      "0: 416x640 3 persons, 8 cars, 2 trucks, 7.6ms\n",
      "Speed: 3.7ms preprocess, 7.6ms inference, 12.0ms postprocess per image at shape (1, 3, 416, 640)\n",
      "\n",
      "0: 416x640 3 persons, 9 cars, 1 bus, 1 truck, 9.4ms\n",
      "Speed: 2.9ms preprocess, 9.4ms inference, 10.9ms postprocess per image at shape (1, 3, 416, 640)\n",
      "\n",
      "0: 416x640 3 persons, 9 cars, 1 bus, 1 truck, 7.3ms\n",
      "Speed: 3.3ms preprocess, 7.3ms inference, 11.6ms postprocess per image at shape (1, 3, 416, 640)\n",
      "\n",
      "0: 416x640 3 persons, 9 cars, 2 trucks, 7.6ms\n",
      "Speed: 5.0ms preprocess, 7.6ms inference, 2.5ms postprocess per image at shape (1, 3, 416, 640)\n",
      "\n",
      "0: 416x640 3 persons, 10 cars, 2 trucks, 7.7ms\n",
      "Speed: 3.6ms preprocess, 7.7ms inference, 12.2ms postprocess per image at shape (1, 3, 416, 640)\n",
      "\n",
      "0: 416x640 3 persons, 11 cars, 2 trucks, 7.5ms\n",
      "Speed: 3.6ms preprocess, 7.5ms inference, 11.6ms postprocess per image at shape (1, 3, 416, 640)\n",
      "\n",
      "0: 416x640 3 persons, 11 cars, 1 truck, 9.7ms\n",
      "Speed: 5.0ms preprocess, 9.7ms inference, 11.4ms postprocess per image at shape (1, 3, 416, 640)\n",
      "\n",
      "0: 416x640 3 persons, 11 cars, 1 bus, 7.3ms\n",
      "Speed: 2.9ms preprocess, 7.3ms inference, 1.5ms postprocess per image at shape (1, 3, 416, 640)\n",
      "\n",
      "0: 416x640 3 persons, 11 cars, 1 bus, 7.7ms\n",
      "Speed: 3.8ms preprocess, 7.7ms inference, 12.3ms postprocess per image at shape (1, 3, 416, 640)\n",
      "\n",
      "0: 416x640 3 persons, 11 cars, 1 truck, 7.9ms\n",
      "Speed: 5.0ms preprocess, 7.9ms inference, 11.4ms postprocess per image at shape (1, 3, 416, 640)\n",
      "\n",
      "0: 416x640 3 persons, 11 cars, 1 truck, 7.3ms\n",
      "Speed: 4.9ms preprocess, 7.3ms inference, 11.6ms postprocess per image at shape (1, 3, 416, 640)\n",
      "\n",
      "0: 416x640 3 persons, 11 cars, 1 truck, 10.1ms\n",
      "Speed: 4.7ms preprocess, 10.1ms inference, 2.4ms postprocess per image at shape (1, 3, 416, 640)\n",
      "\n",
      "0: 416x640 3 persons, 10 cars, 2 trucks, 7.6ms\n",
      "Speed: 4.2ms preprocess, 7.6ms inference, 5.0ms postprocess per image at shape (1, 3, 416, 640)\n",
      "\n",
      "0: 416x640 3 persons, 10 cars, 2 trucks, 7.3ms\n",
      "Speed: 4.4ms preprocess, 7.3ms inference, 11.8ms postprocess per image at shape (1, 3, 416, 640)\n",
      "\n",
      "0: 416x640 3 persons, 10 cars, 1 bus, 1 truck, 7.5ms\n",
      "Speed: 3.6ms preprocess, 7.5ms inference, 11.4ms postprocess per image at shape (1, 3, 416, 640)\n",
      "\n",
      "0: 416x640 3 persons, 11 cars, 1 truck, 9.1ms\n",
      "Speed: 4.2ms preprocess, 9.1ms inference, 12.0ms postprocess per image at shape (1, 3, 416, 640)\n",
      "\n",
      "0: 416x640 3 persons, 11 cars, 1 truck, 7.4ms\n",
      "Speed: 2.8ms preprocess, 7.4ms inference, 1.5ms postprocess per image at shape (1, 3, 416, 640)\n",
      "\n",
      "0: 416x640 3 persons, 10 cars, 2 trucks, 7.4ms\n",
      "Speed: 3.4ms preprocess, 7.4ms inference, 11.5ms postprocess per image at shape (1, 3, 416, 640)\n",
      "\n",
      "0: 416x640 3 persons, 10 cars, 2 trucks, 7.5ms\n",
      "Speed: 3.5ms preprocess, 7.5ms inference, 11.5ms postprocess per image at shape (1, 3, 416, 640)\n",
      "\n",
      "0: 416x640 3 persons, 10 cars, 2 trucks, 7.6ms\n",
      "Speed: 4.9ms preprocess, 7.6ms inference, 12.1ms postprocess per image at shape (1, 3, 416, 640)\n",
      "\n",
      "0: 416x640 3 persons, 9 cars, 1 truck, 7.5ms\n",
      "Speed: 3.2ms preprocess, 7.5ms inference, 10.8ms postprocess per image at shape (1, 3, 416, 640)\n",
      "\n",
      "0: 416x640 3 persons, 9 cars, 1 truck, 7.3ms\n",
      "Speed: 4.5ms preprocess, 7.3ms inference, 11.3ms postprocess per image at shape (1, 3, 416, 640)\n",
      "\n",
      "0: 416x640 3 persons, 9 cars, 1 truck, 8.3ms\n",
      "Speed: 4.6ms preprocess, 8.3ms inference, 9.9ms postprocess per image at shape (1, 3, 416, 640)\n",
      "\n",
      "0: 416x640 3 persons, 9 cars, 1 truck, 7.6ms\n",
      "Speed: 7.2ms preprocess, 7.6ms inference, 12.0ms postprocess per image at shape (1, 3, 416, 640)\n",
      "\n",
      "0: 416x640 3 persons, 8 cars, 2 trucks, 7.4ms\n",
      "Speed: 2.8ms preprocess, 7.4ms inference, 1.7ms postprocess per image at shape (1, 3, 416, 640)\n",
      "\n",
      "0: 416x640 3 persons, 8 cars, 2 trucks, 7.5ms\n",
      "Speed: 3.3ms preprocess, 7.5ms inference, 11.6ms postprocess per image at shape (1, 3, 416, 640)\n",
      "\n",
      "0: 416x640 3 persons, 8 cars, 2 trucks, 7.5ms\n",
      "Speed: 4.1ms preprocess, 7.5ms inference, 11.8ms postprocess per image at shape (1, 3, 416, 640)\n",
      "\n",
      "0: 416x640 3 persons, 8 cars, 2 trucks, 7.7ms\n",
      "Speed: 4.1ms preprocess, 7.7ms inference, 12.0ms postprocess per image at shape (1, 3, 416, 640)\n",
      "\n",
      "0: 416x640 3 persons, 9 cars, 1 truck, 7.5ms\n",
      "Speed: 3.8ms preprocess, 7.5ms inference, 1.6ms postprocess per image at shape (1, 3, 416, 640)\n",
      "\n",
      "0: 416x640 3 persons, 9 cars, 1 truck, 7.3ms\n",
      "Speed: 3.7ms preprocess, 7.3ms inference, 11.5ms postprocess per image at shape (1, 3, 416, 640)\n",
      "\n",
      "0: 416x640 3 persons, 9 cars, 1 truck, 7.5ms\n",
      "Speed: 3.4ms preprocess, 7.5ms inference, 11.4ms postprocess per image at shape (1, 3, 416, 640)\n",
      "\n",
      "0: 416x640 3 persons, 9 cars, 1 truck, 7.7ms\n",
      "Speed: 4.9ms preprocess, 7.7ms inference, 11.8ms postprocess per image at shape (1, 3, 416, 640)\n",
      "\n",
      "0: 416x640 3 persons, 9 cars, 1 truck, 7.3ms\n",
      "Speed: 2.9ms preprocess, 7.3ms inference, 1.7ms postprocess per image at shape (1, 3, 416, 640)\n",
      "\n",
      "0: 416x640 3 persons, 9 cars, 1 truck, 7.5ms\n",
      "Speed: 3.6ms preprocess, 7.5ms inference, 11.5ms postprocess per image at shape (1, 3, 416, 640)\n",
      "\n",
      "0: 416x640 3 persons, 9 cars, 1 truck, 7.5ms\n",
      "Speed: 3.2ms preprocess, 7.5ms inference, 11.8ms postprocess per image at shape (1, 3, 416, 640)\n",
      "\n",
      "0: 416x640 3 persons, 9 cars, 1 truck, 7.6ms\n",
      "Speed: 4.7ms preprocess, 7.6ms inference, 12.2ms postprocess per image at shape (1, 3, 416, 640)\n",
      "\n",
      "0: 416x640 3 persons, 9 cars, 1 truck, 7.3ms\n",
      "Speed: 2.8ms preprocess, 7.3ms inference, 1.5ms postprocess per image at shape (1, 3, 416, 640)\n",
      "\n",
      "0: 416x640 3 persons, 9 cars, 1 truck, 7.5ms\n",
      "Speed: 4.4ms preprocess, 7.5ms inference, 11.6ms postprocess per image at shape (1, 3, 416, 640)\n",
      "\n",
      "0: 416x640 3 persons, 10 cars, 1 truck, 7.4ms\n",
      "Speed: 4.1ms preprocess, 7.4ms inference, 11.7ms postprocess per image at shape (1, 3, 416, 640)\n",
      "\n",
      "0: 416x640 3 persons, 9 cars, 2 trucks, 10.1ms\n",
      "Speed: 5.1ms preprocess, 10.1ms inference, 2.4ms postprocess per image at shape (1, 3, 416, 640)\n",
      "\n",
      "0: 416x640 3 persons, 10 cars, 1 truck, 7.5ms\n",
      "Speed: 4.9ms preprocess, 7.5ms inference, 11.6ms postprocess per image at shape (1, 3, 416, 640)\n",
      "\n",
      "0: 416x640 3 persons, 8 cars, 2 trucks, 7.4ms\n",
      "Speed: 5.0ms preprocess, 7.4ms inference, 11.6ms postprocess per image at shape (1, 3, 416, 640)\n",
      "\n",
      "0: 416x640 3 persons, 9 cars, 1 truck, 7.4ms\n",
      "Speed: 4.1ms preprocess, 7.4ms inference, 11.6ms postprocess per image at shape (1, 3, 416, 640)\n",
      "\n",
      "0: 416x640 3 persons, 9 cars, 1 bus, 10.1ms\n",
      "Speed: 4.4ms preprocess, 10.1ms inference, 2.4ms postprocess per image at shape (1, 3, 416, 640)\n",
      "\n",
      "0: 416x640 3 persons, 9 cars, 1 truck, 8.3ms\n",
      "Speed: 4.9ms preprocess, 8.3ms inference, 1.7ms postprocess per image at shape (1, 3, 416, 640)\n",
      "\n",
      "0: 416x640 3 persons, 9 cars, 1 truck, 7.4ms\n",
      "Speed: 4.8ms preprocess, 7.4ms inference, 11.7ms postprocess per image at shape (1, 3, 416, 640)\n",
      "\n",
      "0: 416x640 3 persons, 9 cars, 1 truck, 7.4ms\n",
      "Speed: 3.8ms preprocess, 7.4ms inference, 11.4ms postprocess per image at shape (1, 3, 416, 640)\n",
      "\n",
      "0: 416x640 3 persons, 9 cars, 1 truck, 10.2ms\n",
      "Speed: 4.4ms preprocess, 10.2ms inference, 11.9ms postprocess per image at shape (1, 3, 416, 640)\n",
      "\n",
      "0: 416x640 3 persons, 9 cars, 1 truck, 9.6ms\n",
      "Speed: 4.0ms preprocess, 9.6ms inference, 9.9ms postprocess per image at shape (1, 3, 416, 640)\n",
      "\n",
      "0: 416x640 3 persons, 9 cars, 1 truck, 9.8ms\n",
      "Speed: 5.4ms preprocess, 9.8ms inference, 11.6ms postprocess per image at shape (1, 3, 416, 640)\n",
      "\n",
      "0: 416x640 3 persons, 9 cars, 1 truck, 10.2ms\n",
      "Speed: 5.1ms preprocess, 10.2ms inference, 2.5ms postprocess per image at shape (1, 3, 416, 640)\n",
      "\n",
      "0: 416x640 3 persons, 10 cars, 1 truck, 7.5ms\n",
      "Speed: 4.0ms preprocess, 7.5ms inference, 11.8ms postprocess per image at shape (1, 3, 416, 640)\n",
      "\n",
      "0: 416x640 3 persons, 10 cars, 1 truck, 7.4ms\n",
      "Speed: 4.3ms preprocess, 7.4ms inference, 11.7ms postprocess per image at shape (1, 3, 416, 640)\n",
      "\n",
      "0: 416x640 3 persons, 9 cars, 1 truck, 7.4ms\n",
      "Speed: 4.6ms preprocess, 7.4ms inference, 11.9ms postprocess per image at shape (1, 3, 416, 640)\n",
      "\n",
      "0: 416x640 4 persons, 9 cars, 1 truck, 9.2ms\n",
      "Speed: 3.0ms preprocess, 9.2ms inference, 2.4ms postprocess per image at shape (1, 3, 416, 640)\n",
      "\n",
      "0: 416x640 4 persons, 9 cars, 1 truck, 7.5ms\n",
      "Speed: 3.8ms preprocess, 7.5ms inference, 11.9ms postprocess per image at shape (1, 3, 416, 640)\n",
      "\n",
      "0: 416x640 4 persons, 9 cars, 1 truck, 9.7ms\n",
      "Speed: 5.0ms preprocess, 9.7ms inference, 11.5ms postprocess per image at shape (1, 3, 416, 640)\n",
      "\n",
      "0: 416x640 4 persons, 9 cars, 1 truck, 7.3ms\n",
      "Speed: 4.5ms preprocess, 7.3ms inference, 11.9ms postprocess per image at shape (1, 3, 416, 640)\n",
      "\n",
      "0: 416x640 4 persons, 9 cars, 1 truck, 7.6ms\n",
      "Speed: 4.4ms preprocess, 7.6ms inference, 12.1ms postprocess per image at shape (1, 3, 416, 640)\n",
      "\n",
      "0: 416x640 4 persons, 9 cars, 1 bus, 7.3ms\n",
      "Speed: 2.8ms preprocess, 7.3ms inference, 1.5ms postprocess per image at shape (1, 3, 416, 640)\n",
      "\n",
      "0: 416x640 4 persons, 9 cars, 1 truck, 7.4ms\n",
      "Speed: 4.6ms preprocess, 7.4ms inference, 11.7ms postprocess per image at shape (1, 3, 416, 640)\n",
      "\n",
      "0: 416x640 4 persons, 9 cars, 1 truck, 7.5ms\n",
      "Speed: 4.5ms preprocess, 7.5ms inference, 11.5ms postprocess per image at shape (1, 3, 416, 640)\n",
      "\n",
      "0: 416x640 4 persons, 10 cars, 1 truck, 9.0ms\n",
      "Speed: 4.4ms preprocess, 9.0ms inference, 11.9ms postprocess per image at shape (1, 3, 416, 640)\n",
      "\n",
      "0: 416x640 4 persons, 10 cars, 1 truck, 7.4ms\n",
      "Speed: 3.1ms preprocess, 7.4ms inference, 1.5ms postprocess per image at shape (1, 3, 416, 640)\n",
      "\n",
      "0: 416x640 4 persons, 10 cars, 1 bus, 7.3ms\n",
      "Speed: 4.2ms preprocess, 7.3ms inference, 11.6ms postprocess per image at shape (1, 3, 416, 640)\n",
      "\n",
      "0: 416x640 4 persons, 10 cars, 1 bus, 9.8ms\n",
      "Speed: 5.0ms preprocess, 9.8ms inference, 10.2ms postprocess per image at shape (1, 3, 416, 640)\n",
      "\n",
      "0: 416x640 4 persons, 10 cars, 1 truck, 7.5ms\n",
      "Speed: 3.3ms preprocess, 7.5ms inference, 12.1ms postprocess per image at shape (1, 3, 416, 640)\n",
      "\n",
      "0: 416x640 4 persons, 10 cars, 1 truck, 8.0ms\n",
      "Speed: 3.5ms preprocess, 8.0ms inference, 8.4ms postprocess per image at shape (1, 3, 416, 640)\n",
      "\n",
      "0: 416x640 4 persons, 10 cars, 1 bus, 7.4ms\n",
      "Speed: 3.5ms preprocess, 7.4ms inference, 11.5ms postprocess per image at shape (1, 3, 416, 640)\n",
      "\n",
      "0: 416x640 4 persons, 10 cars, 1 truck, 7.8ms\n",
      "Speed: 4.5ms preprocess, 7.8ms inference, 5.7ms postprocess per image at shape (1, 3, 416, 640)\n",
      "\n",
      "0: 416x640 4 persons, 10 cars, 1 truck, 7.6ms\n",
      "Speed: 3.5ms preprocess, 7.6ms inference, 12.0ms postprocess per image at shape (1, 3, 416, 640)\n",
      "\n",
      "0: 416x640 4 persons, 10 cars, 1 bus, 7.3ms\n",
      "Speed: 2.9ms preprocess, 7.3ms inference, 1.6ms postprocess per image at shape (1, 3, 416, 640)\n",
      "\n",
      "0: 416x640 4 persons, 10 cars, 1 bus, 7.6ms\n",
      "Speed: 3.5ms preprocess, 7.6ms inference, 11.6ms postprocess per image at shape (1, 3, 416, 640)\n",
      "\n",
      "0: 416x640 4 persons, 10 cars, 1 truck, 7.4ms\n",
      "Speed: 3.3ms preprocess, 7.4ms inference, 10.2ms postprocess per image at shape (1, 3, 416, 640)\n",
      "\n",
      "0: 416x640 4 persons, 10 cars, 1 bus, 7.7ms\n",
      "Speed: 3.6ms preprocess, 7.7ms inference, 12.1ms postprocess per image at shape (1, 3, 416, 640)\n",
      "\n",
      "0: 416x640 4 persons, 10 cars, 1 bus, 8.8ms\n",
      "Speed: 2.9ms preprocess, 8.8ms inference, 9.8ms postprocess per image at shape (1, 3, 416, 640)\n",
      "\n",
      "0: 416x640 4 persons, 10 cars, 1 truck, 7.4ms\n",
      "Speed: 4.6ms preprocess, 7.4ms inference, 11.5ms postprocess per image at shape (1, 3, 416, 640)\n",
      "\n",
      "0: 416x640 4 persons, 10 cars, 1 truck, 9.6ms\n",
      "Speed: 4.5ms preprocess, 9.6ms inference, 1.4ms postprocess per image at shape (1, 3, 416, 640)\n",
      "\n",
      "0: 416x640 4 persons, 10 cars, 1 bus, 7.6ms\n",
      "Speed: 2.9ms preprocess, 7.6ms inference, 12.0ms postprocess per image at shape (1, 3, 416, 640)\n",
      "\n",
      "0: 416x640 4 persons, 10 cars, 1 bus, 8.0ms\n",
      "Speed: 4.4ms preprocess, 8.0ms inference, 11.6ms postprocess per image at shape (1, 3, 416, 640)\n",
      "\n",
      "0: 416x640 4 persons, 10 cars, 1 bus, 7.5ms\n",
      "Speed: 4.7ms preprocess, 7.5ms inference, 11.5ms postprocess per image at shape (1, 3, 416, 640)\n",
      "\n",
      "0: 416x640 4 persons, 11 cars, 1 truck, 10.1ms\n",
      "Speed: 2.9ms preprocess, 10.1ms inference, 2.4ms postprocess per image at shape (1, 3, 416, 640)\n",
      "\n",
      "0: 416x640 3 persons, 11 cars, 1 truck, 7.5ms\n",
      "Speed: 4.7ms preprocess, 7.5ms inference, 12.2ms postprocess per image at shape (1, 3, 416, 640)\n",
      "\n",
      "0: 416x640 3 persons, 11 cars, 1 truck, 7.5ms\n",
      "Speed: 4.1ms preprocess, 7.5ms inference, 11.7ms postprocess per image at shape (1, 3, 416, 640)\n",
      "\n",
      "0: 416x640 3 persons, 11 cars, 1 truck, 9.6ms\n",
      "Speed: 5.1ms preprocess, 9.6ms inference, 11.7ms postprocess per image at shape (1, 3, 416, 640)\n",
      "\n",
      "0: 416x640 3 persons, 11 cars, 1 truck, 7.4ms\n",
      "Speed: 3.5ms preprocess, 7.4ms inference, 1.6ms postprocess per image at shape (1, 3, 416, 640)\n",
      "\n",
      "0: 416x640 3 persons, 11 cars, 1 truck, 10.0ms\n",
      "Speed: 3.4ms preprocess, 10.0ms inference, 11.9ms postprocess per image at shape (1, 3, 416, 640)\n",
      "\n",
      "0: 416x640 3 persons, 11 cars, 1 bus, 8.4ms\n",
      "Speed: 4.1ms preprocess, 8.4ms inference, 11.8ms postprocess per image at shape (1, 3, 416, 640)\n",
      "\n",
      "0: 416x640 3 persons, 11 cars, 1 truck, 9.8ms\n",
      "Speed: 4.3ms preprocess, 9.8ms inference, 11.5ms postprocess per image at shape (1, 3, 416, 640)\n",
      "\n",
      "0: 416x640 3 persons, 11 cars, 1 bus, 10.2ms\n",
      "Speed: 4.5ms preprocess, 10.2ms inference, 2.4ms postprocess per image at shape (1, 3, 416, 640)\n",
      "\n",
      "0: 416x640 3 persons, 11 cars, 1 bus, 9.8ms\n",
      "Speed: 5.2ms preprocess, 9.8ms inference, 7.2ms postprocess per image at shape (1, 3, 416, 640)\n",
      "\n",
      "0: 416x640 2 persons, 11 cars, 1 bus, 7.4ms\n",
      "Speed: 5.0ms preprocess, 7.4ms inference, 11.5ms postprocess per image at shape (1, 3, 416, 640)\n",
      "\n",
      "0: 416x640 2 persons, 10 cars, 1 bus, 9.8ms\n",
      "Speed: 5.3ms preprocess, 9.8ms inference, 11.9ms postprocess per image at shape (1, 3, 416, 640)\n",
      "\n",
      "0: 416x640 2 persons, 10 cars, 1 bus, 8.3ms\n",
      "Speed: 4.5ms preprocess, 8.3ms inference, 12.1ms postprocess per image at shape (1, 3, 416, 640)\n",
      "\n",
      "0: 416x640 2 persons, 10 cars, 1 bus, 7.6ms\n",
      "Speed: 3.7ms preprocess, 7.6ms inference, 1.6ms postprocess per image at shape (1, 3, 416, 640)\n",
      "\n",
      "0: 416x640 2 persons, 10 cars, 1 bus, 7.5ms\n",
      "Speed: 5.0ms preprocess, 7.5ms inference, 11.6ms postprocess per image at shape (1, 3, 416, 640)\n",
      "\n",
      "0: 416x640 2 persons, 10 cars, 1 bus, 9.9ms\n",
      "Speed: 4.8ms preprocess, 9.9ms inference, 11.8ms postprocess per image at shape (1, 3, 416, 640)\n",
      "\n",
      "0: 416x640 2 persons, 10 cars, 1 truck, 10.0ms\n",
      "Speed: 4.6ms preprocess, 10.0ms inference, 11.9ms postprocess per image at shape (1, 3, 416, 640)\n",
      "\n",
      "0: 416x640 2 persons, 10 cars, 1 bus, 9.8ms\n",
      "Speed: 5.0ms preprocess, 9.8ms inference, 8.6ms postprocess per image at shape (1, 3, 416, 640)\n",
      "\n",
      "0: 416x640 2 persons, 10 cars, 1 bus, 9.6ms\n",
      "Speed: 4.4ms preprocess, 9.6ms inference, 11.5ms postprocess per image at shape (1, 3, 416, 640)\n",
      "\n",
      "0: 416x640 2 persons, 11 cars, 1 bus, 8.4ms\n",
      "Speed: 3.1ms preprocess, 8.4ms inference, 1.8ms postprocess per image at shape (1, 3, 416, 640)\n",
      "\n",
      "0: 416x640 2 persons, 11 cars, 1 truck, 12.5ms\n",
      "Speed: 5.4ms preprocess, 12.5ms inference, 12.2ms postprocess per image at shape (1, 3, 416, 640)\n",
      "\n",
      "0: 416x640 2 persons, 10 cars, 1 truck, 7.5ms\n",
      "Speed: 3.9ms preprocess, 7.5ms inference, 11.7ms postprocess per image at shape (1, 3, 416, 640)\n",
      "\n",
      "0: 416x640 2 persons, 10 cars, 1 truck, 7.4ms\n",
      "Speed: 3.6ms preprocess, 7.4ms inference, 11.6ms postprocess per image at shape (1, 3, 416, 640)\n",
      "\n",
      "0: 416x640 2 persons, 11 cars, 10.2ms\n",
      "Speed: 4.2ms preprocess, 10.2ms inference, 2.4ms postprocess per image at shape (1, 3, 416, 640)\n",
      "\n",
      "0: 416x640 2 persons, 11 cars, 7.5ms\n",
      "Speed: 4.1ms preprocess, 7.5ms inference, 11.6ms postprocess per image at shape (1, 3, 416, 640)\n",
      "\n",
      "0: 416x640 2 persons, 11 cars, 9.6ms\n",
      "Speed: 4.0ms preprocess, 9.6ms inference, 11.6ms postprocess per image at shape (1, 3, 416, 640)\n",
      "\n",
      "0: 416x640 2 persons, 11 cars, 9.8ms\n",
      "Speed: 4.7ms preprocess, 9.8ms inference, 11.7ms postprocess per image at shape (1, 3, 416, 640)\n",
      "\n",
      "0: 416x640 2 persons, 11 cars, 7.5ms\n",
      "Speed: 3.1ms preprocess, 7.5ms inference, 12.4ms postprocess per image at shape (1, 3, 416, 640)\n",
      "\n",
      "0: 416x640 2 persons, 10 cars, 7.2ms\n",
      "Speed: 2.8ms preprocess, 7.2ms inference, 1.5ms postprocess per image at shape (1, 3, 416, 640)\n",
      "\n",
      "0: 416x640 2 persons, 9 cars, 1 bus, 7.3ms\n",
      "Speed: 4.2ms preprocess, 7.3ms inference, 11.4ms postprocess per image at shape (1, 3, 416, 640)\n",
      "\n",
      "0: 416x640 2 persons, 9 cars, 1 bus, 7.6ms\n",
      "Speed: 4.2ms preprocess, 7.6ms inference, 11.7ms postprocess per image at shape (1, 3, 416, 640)\n",
      "\n",
      "0: 416x640 2 persons, 9 cars, 1 bus, 7.6ms\n",
      "Speed: 4.3ms preprocess, 7.6ms inference, 12.2ms postprocess per image at shape (1, 3, 416, 640)\n",
      "\n",
      "0: 416x640 2 persons, 9 cars, 1 bus, 7.2ms\n",
      "Speed: 2.9ms preprocess, 7.2ms inference, 1.5ms postprocess per image at shape (1, 3, 416, 640)\n",
      "\n",
      "0: 416x640 2 persons, 10 cars, 1 bus, 7.4ms\n",
      "Speed: 3.8ms preprocess, 7.4ms inference, 11.4ms postprocess per image at shape (1, 3, 416, 640)\n",
      "\n",
      "0: 416x640 2 persons, 10 cars, 1 bus, 7.5ms\n",
      "Speed: 3.4ms preprocess, 7.5ms inference, 11.7ms postprocess per image at shape (1, 3, 416, 640)\n",
      "\n",
      "0: 416x640 2 persons, 10 cars, 1 bus, 10.2ms\n",
      "Speed: 4.4ms preprocess, 10.2ms inference, 2.4ms postprocess per image at shape (1, 3, 416, 640)\n",
      "\n",
      "0: 416x640 2 persons, 10 cars, 1 bus, 7.6ms\n",
      "Speed: 3.8ms preprocess, 7.6ms inference, 11.8ms postprocess per image at shape (1, 3, 416, 640)\n",
      "\n",
      "0: 416x640 2 persons, 10 cars, 1 bus, 7.3ms\n",
      "Speed: 4.0ms preprocess, 7.3ms inference, 11.7ms postprocess per image at shape (1, 3, 416, 640)\n",
      "\n",
      "0: 416x640 2 persons, 10 cars, 1 bus, 7.5ms\n",
      "Speed: 3.5ms preprocess, 7.5ms inference, 11.7ms postprocess per image at shape (1, 3, 416, 640)\n",
      "\n",
      "0: 416x640 2 persons, 10 cars, 1 truck, 10.1ms\n",
      "Speed: 4.3ms preprocess, 10.1ms inference, 2.4ms postprocess per image at shape (1, 3, 416, 640)\n",
      "\n",
      "0: 416x640 2 persons, 9 cars, 2 trucks, 7.5ms\n",
      "Speed: 4.0ms preprocess, 7.5ms inference, 7.0ms postprocess per image at shape (1, 3, 416, 640)\n",
      "\n",
      "0: 416x640 2 persons, 10 cars, 1 bus, 7.4ms\n",
      "Speed: 3.9ms preprocess, 7.4ms inference, 11.7ms postprocess per image at shape (1, 3, 416, 640)\n",
      "\n",
      "0: 416x640 2 persons, 10 cars, 1 truck, 7.5ms\n",
      "Speed: 4.7ms preprocess, 7.5ms inference, 11.9ms postprocess per image at shape (1, 3, 416, 640)\n",
      "\n",
      "0: 416x640 2 persons, 10 cars, 1 bus, 10.1ms\n",
      "Speed: 4.5ms preprocess, 10.1ms inference, 2.4ms postprocess per image at shape (1, 3, 416, 640)\n",
      "\n",
      "0: 416x640 2 persons, 10 cars, 1 bus, 7.5ms\n",
      "Speed: 4.0ms preprocess, 7.5ms inference, 4.4ms postprocess per image at shape (1, 3, 416, 640)\n",
      "\n",
      "0: 416x640 2 persons, 11 cars, 7.4ms\n",
      "Speed: 4.9ms preprocess, 7.4ms inference, 11.4ms postprocess per image at shape (1, 3, 416, 640)\n",
      "\n",
      "0: 416x640 2 persons, 11 cars, 7.4ms\n",
      "Speed: 3.4ms preprocess, 7.4ms inference, 11.7ms postprocess per image at shape (1, 3, 416, 640)\n",
      "\n",
      "0: 416x640 2 persons, 11 cars, 10.1ms\n",
      "Speed: 5.0ms preprocess, 10.1ms inference, 4.2ms postprocess per image at shape (1, 3, 416, 640)\n",
      "\n",
      "0: 416x640 2 persons, 11 cars, 7.4ms\n",
      "Speed: 3.6ms preprocess, 7.4ms inference, 2.5ms postprocess per image at shape (1, 3, 416, 640)\n",
      "\n",
      "0: 416x640 2 persons, 10 cars, 1 bus, 7.4ms\n",
      "Speed: 3.2ms preprocess, 7.4ms inference, 11.5ms postprocess per image at shape (1, 3, 416, 640)\n",
      "\n",
      "0: 416x640 2 persons, 10 cars, 1 bus, 7.4ms\n",
      "Speed: 3.4ms preprocess, 7.4ms inference, 11.5ms postprocess per image at shape (1, 3, 416, 640)\n",
      "\n",
      "0: 416x640 2 persons, 10 cars, 1 bus, 7.1ms\n",
      "Speed: 3.1ms preprocess, 7.1ms inference, 1.5ms postprocess per image at shape (1, 3, 416, 640)\n",
      "\n",
      "0: 416x640 2 persons, 11 cars, 1 bus, 7.5ms\n",
      "Speed: 4.4ms preprocess, 7.5ms inference, 12.0ms postprocess per image at shape (1, 3, 416, 640)\n",
      "\n",
      "0: 416x640 2 persons, 11 cars, 1 bus, 7.6ms\n",
      "Speed: 4.4ms preprocess, 7.6ms inference, 9.4ms postprocess per image at shape (1, 3, 416, 640)\n",
      "\n",
      "0: 416x640 2 persons, 11 cars, 1 bus, 7.5ms\n",
      "Speed: 3.9ms preprocess, 7.5ms inference, 11.7ms postprocess per image at shape (1, 3, 416, 640)\n",
      "\n",
      "0: 416x640 2 persons, 11 cars, 1 bus, 8.6ms\n",
      "Speed: 3.9ms preprocess, 8.6ms inference, 2.4ms postprocess per image at shape (1, 3, 416, 640)\n",
      "\n",
      "0: 416x640 2 persons, 10 cars, 2 buss, 7.7ms\n",
      "Speed: 2.8ms preprocess, 7.7ms inference, 12.1ms postprocess per image at shape (1, 3, 416, 640)\n",
      "\n",
      "0: 416x640 2 persons, 12 cars, 8.2ms\n",
      "Speed: 4.6ms preprocess, 8.2ms inference, 11.5ms postprocess per image at shape (1, 3, 416, 640)\n",
      "\n",
      "0: 416x640 2 persons, 12 cars, 7.4ms\n",
      "Speed: 4.7ms preprocess, 7.4ms inference, 11.6ms postprocess per image at shape (1, 3, 416, 640)\n",
      "\n",
      "0: 416x640 2 persons, 12 cars, 10.1ms\n",
      "Speed: 5.0ms preprocess, 10.1ms inference, 2.4ms postprocess per image at shape (1, 3, 416, 640)\n",
      "\n",
      "0: 416x640 2 persons, 12 cars, 7.5ms\n",
      "Speed: 4.6ms preprocess, 7.5ms inference, 4.8ms postprocess per image at shape (1, 3, 416, 640)\n",
      "\n",
      "0: 416x640 2 persons, 12 cars, 7.5ms\n",
      "Speed: 3.8ms preprocess, 7.5ms inference, 11.5ms postprocess per image at shape (1, 3, 416, 640)\n",
      "\n",
      "0: 416x640 2 persons, 12 cars, 7.4ms\n",
      "Speed: 4.0ms preprocess, 7.4ms inference, 11.8ms postprocess per image at shape (1, 3, 416, 640)\n",
      "\n",
      "0: 416x640 2 persons, 12 cars, 10.7ms\n",
      "Speed: 5.1ms preprocess, 10.7ms inference, 12.0ms postprocess per image at shape (1, 3, 416, 640)\n",
      "\n",
      "0: 416x640 2 persons, 12 cars, 7.3ms\n",
      "Speed: 2.9ms preprocess, 7.3ms inference, 1.5ms postprocess per image at shape (1, 3, 416, 640)\n",
      "\n",
      "0: 416x640 2 persons, 12 cars, 7.6ms\n",
      "Speed: 4.0ms preprocess, 7.6ms inference, 11.7ms postprocess per image at shape (1, 3, 416, 640)\n",
      "\n",
      "0: 416x640 2 persons, 12 cars, 7.6ms\n",
      "Speed: 5.1ms preprocess, 7.6ms inference, 11.7ms postprocess per image at shape (1, 3, 416, 640)\n",
      "\n",
      "0: 416x640 1 person, 12 cars, 10.1ms\n",
      "Speed: 5.1ms preprocess, 10.1ms inference, 2.4ms postprocess per image at shape (1, 3, 416, 640)\n",
      "\n",
      "0: 416x640 1 person, 12 cars, 7.4ms\n",
      "Speed: 3.1ms preprocess, 7.4ms inference, 4.5ms postprocess per image at shape (1, 3, 416, 640)\n",
      "\n",
      "0: 416x640 1 person, 12 cars, 7.5ms\n",
      "Speed: 3.5ms preprocess, 7.5ms inference, 11.4ms postprocess per image at shape (1, 3, 416, 640)\n",
      "\n",
      "0: 416x640 1 person, 12 cars, 7.4ms\n",
      "Speed: 3.2ms preprocess, 7.4ms inference, 11.7ms postprocess per image at shape (1, 3, 416, 640)\n",
      "\n",
      "0: 416x640 1 person, 12 cars, 10.1ms\n",
      "Speed: 4.4ms preprocess, 10.1ms inference, 2.4ms postprocess per image at shape (1, 3, 416, 640)\n",
      "\n",
      "0: 416x640 1 person, 12 cars, 7.7ms\n",
      "Speed: 3.9ms preprocess, 7.7ms inference, 9.4ms postprocess per image at shape (1, 3, 416, 640)\n",
      "\n",
      "0: 416x640 13 cars, 7.3ms\n",
      "Speed: 5.3ms preprocess, 7.3ms inference, 11.5ms postprocess per image at shape (1, 3, 416, 640)\n",
      "\n",
      "0: 416x640 13 cars, 7.4ms\n",
      "Speed: 5.2ms preprocess, 7.4ms inference, 11.6ms postprocess per image at shape (1, 3, 416, 640)\n",
      "\n",
      "0: 416x640 13 cars, 10.2ms\n",
      "Speed: 5.0ms preprocess, 10.2ms inference, 2.4ms postprocess per image at shape (1, 3, 416, 640)\n",
      "\n",
      "0: 416x640 13 cars, 7.5ms\n",
      "Speed: 3.8ms preprocess, 7.5ms inference, 9.5ms postprocess per image at shape (1, 3, 416, 640)\n",
      "\n",
      "0: 416x640 1 person, 12 cars, 7.3ms\n",
      "Speed: 3.4ms preprocess, 7.3ms inference, 11.5ms postprocess per image at shape (1, 3, 416, 640)\n",
      "\n",
      "0: 416x640 12 cars, 7.4ms\n",
      "Speed: 5.1ms preprocess, 7.4ms inference, 11.6ms postprocess per image at shape (1, 3, 416, 640)\n",
      "\n",
      "0: 416x640 12 cars, 10.1ms\n",
      "Speed: 5.4ms preprocess, 10.1ms inference, 2.4ms postprocess per image at shape (1, 3, 416, 640)\n",
      "\n",
      "0: 416x640 2 persons, 11 cars, 7.6ms\n",
      "Speed: 4.1ms preprocess, 7.6ms inference, 9.6ms postprocess per image at shape (1, 3, 416, 640)\n",
      "\n",
      "0: 416x640 2 persons, 11 cars, 7.4ms\n",
      "Speed: 3.6ms preprocess, 7.4ms inference, 11.5ms postprocess per image at shape (1, 3, 416, 640)\n",
      "\n",
      "0: 416x640 2 persons, 11 cars, 7.3ms\n",
      "Speed: 3.2ms preprocess, 7.3ms inference, 11.8ms postprocess per image at shape (1, 3, 416, 640)\n",
      "\n",
      "0: 416x640 2 persons, 11 cars, 7.2ms\n",
      "Speed: 3.6ms preprocess, 7.2ms inference, 1.6ms postprocess per image at shape (1, 3, 416, 640)\n",
      "\n",
      "0: 416x640 2 persons, 11 cars, 7.6ms\n",
      "Speed: 3.7ms preprocess, 7.6ms inference, 11.9ms postprocess per image at shape (1, 3, 416, 640)\n",
      "\n",
      "0: 416x640 2 persons, 11 cars, 7.5ms\n",
      "Speed: 5.0ms preprocess, 7.5ms inference, 11.0ms postprocess per image at shape (1, 3, 416, 640)\n",
      "\n",
      "0: 416x640 1 person, 12 cars, 7.3ms\n",
      "Speed: 4.0ms preprocess, 7.3ms inference, 11.5ms postprocess per image at shape (1, 3, 416, 640)\n",
      "\n",
      "0: 416x640 1 person, 11 cars, 7.8ms\n",
      "Speed: 4.0ms preprocess, 7.8ms inference, 5.5ms postprocess per image at shape (1, 3, 416, 640)\n",
      "\n",
      "0: 416x640 1 person, 11 cars, 7.5ms\n",
      "Speed: 3.5ms preprocess, 7.5ms inference, 12.2ms postprocess per image at shape (1, 3, 416, 640)\n",
      "\n",
      "0: 416x640 1 person, 11 cars, 7.5ms\n",
      "Speed: 4.0ms preprocess, 7.5ms inference, 9.1ms postprocess per image at shape (1, 3, 416, 640)\n",
      "\n",
      "0: 416x640 1 person, 10 cars, 7.5ms\n",
      "Speed: 3.9ms preprocess, 7.5ms inference, 11.4ms postprocess per image at shape (1, 3, 416, 640)\n",
      "\n",
      "0: 416x640 1 person, 10 cars, 9.2ms\n",
      "Speed: 4.6ms preprocess, 9.2ms inference, 9.5ms postprocess per image at shape (1, 3, 416, 640)\n",
      "\n",
      "0: 416x640 1 person, 10 cars, 7.4ms\n",
      "Speed: 4.0ms preprocess, 7.4ms inference, 12.0ms postprocess per image at shape (1, 3, 416, 640)\n",
      "\n",
      "0: 416x640 1 person, 10 cars, 7.9ms\n",
      "Speed: 2.8ms preprocess, 7.9ms inference, 9.6ms postprocess per image at shape (1, 3, 416, 640)\n",
      "\n",
      "0: 416x640 1 person, 10 cars, 7.4ms\n",
      "Speed: 3.2ms preprocess, 7.4ms inference, 11.4ms postprocess per image at shape (1, 3, 416, 640)\n",
      "\n",
      "0: 416x640 1 person, 10 cars, 7.3ms\n",
      "Speed: 3.6ms preprocess, 7.3ms inference, 10.4ms postprocess per image at shape (1, 3, 416, 640)\n",
      "\n",
      "0: 416x640 1 person, 11 cars, 7.6ms\n",
      "Speed: 4.0ms preprocess, 7.6ms inference, 11.9ms postprocess per image at shape (1, 3, 416, 640)\n",
      "\n",
      "0: 416x640 1 person, 11 cars, 7.2ms\n",
      "Speed: 2.8ms preprocess, 7.2ms inference, 1.5ms postprocess per image at shape (1, 3, 416, 640)\n",
      "\n",
      "0: 416x640 1 person, 11 cars, 7.5ms\n",
      "Speed: 4.3ms preprocess, 7.5ms inference, 11.5ms postprocess per image at shape (1, 3, 416, 640)\n",
      "\n",
      "0: 416x640 1 person, 11 cars, 7.6ms\n",
      "Speed: 4.2ms preprocess, 7.6ms inference, 11.6ms postprocess per image at shape (1, 3, 416, 640)\n",
      "\n",
      "0: 416x640 1 person, 11 cars, 10.1ms\n",
      "Speed: 5.0ms preprocess, 10.1ms inference, 2.4ms postprocess per image at shape (1, 3, 416, 640)\n",
      "\n",
      "0: 416x640 1 person, 11 cars, 7.6ms\n",
      "Speed: 4.9ms preprocess, 7.6ms inference, 4.9ms postprocess per image at shape (1, 3, 416, 640)\n",
      "\n",
      "0: 416x640 1 person, 11 cars, 7.3ms\n",
      "Speed: 4.6ms preprocess, 7.3ms inference, 11.4ms postprocess per image at shape (1, 3, 416, 640)\n",
      "\n",
      "0: 416x640 1 person, 11 cars, 7.6ms\n",
      "Speed: 5.1ms preprocess, 7.6ms inference, 11.6ms postprocess per image at shape (1, 3, 416, 640)\n",
      "\n",
      "0: 416x640 1 person, 11 cars, 10.2ms\n",
      "Speed: 5.1ms preprocess, 10.2ms inference, 4.2ms postprocess per image at shape (1, 3, 416, 640)\n",
      "\n",
      "0: 416x640 1 person, 11 cars, 7.5ms\n",
      "Speed: 5.0ms preprocess, 7.5ms inference, 2.7ms postprocess per image at shape (1, 3, 416, 640)\n",
      "\n",
      "0: 416x640 1 person, 11 cars, 7.5ms\n",
      "Speed: 5.1ms preprocess, 7.5ms inference, 11.4ms postprocess per image at shape (1, 3, 416, 640)\n",
      "\n",
      "0: 416x640 1 person, 10 cars, 7.6ms\n",
      "Speed: 4.0ms preprocess, 7.6ms inference, 11.8ms postprocess per image at shape (1, 3, 416, 640)\n",
      "\n",
      "0: 416x640 1 person, 10 cars, 10.2ms\n",
      "Speed: 4.5ms preprocess, 10.2ms inference, 2.4ms postprocess per image at shape (1, 3, 416, 640)\n",
      "\n",
      "0: 416x640 1 person, 10 cars, 7.5ms\n",
      "Speed: 3.8ms preprocess, 7.5ms inference, 11.1ms postprocess per image at shape (1, 3, 416, 640)\n",
      "\n",
      "0: 416x640 1 person, 10 cars, 7.5ms\n",
      "Speed: 5.0ms preprocess, 7.5ms inference, 11.4ms postprocess per image at shape (1, 3, 416, 640)\n",
      "\n",
      "0: 416x640 1 person, 10 cars, 7.5ms\n",
      "Speed: 4.1ms preprocess, 7.5ms inference, 11.6ms postprocess per image at shape (1, 3, 416, 640)\n",
      "\n",
      "0: 416x640 1 person, 9 cars, 1 bus, 7.3ms\n",
      "Speed: 3.1ms preprocess, 7.3ms inference, 1.3ms postprocess per image at shape (1, 3, 416, 640)\n",
      "\n",
      "0: 416x640 1 person, 9 cars, 1 bus, 7.6ms\n",
      "Speed: 5.3ms preprocess, 7.6ms inference, 12.0ms postprocess per image at shape (1, 3, 416, 640)\n",
      "\n",
      "0: 416x640 1 person, 9 cars, 1 bus, 7.5ms\n",
      "Speed: 3.8ms preprocess, 7.5ms inference, 11.7ms postprocess per image at shape (1, 3, 416, 640)\n",
      "\n",
      "0: 416x640 1 person, 9 cars, 1 bus, 7.4ms\n",
      "Speed: 4.1ms preprocess, 7.4ms inference, 11.5ms postprocess per image at shape (1, 3, 416, 640)\n",
      "\n",
      "0: 416x640 1 person, 10 cars, 8.4ms\n",
      "Speed: 5.4ms preprocess, 8.4ms inference, 10.1ms postprocess per image at shape (1, 3, 416, 640)\n",
      "\n",
      "0: 416x640 1 person, 10 cars, 7.7ms\n",
      "Speed: 6.9ms preprocess, 7.7ms inference, 11.9ms postprocess per image at shape (1, 3, 416, 640)\n",
      "\n",
      "0: 416x640 1 person, 10 cars, 7.4ms\n",
      "Speed: 3.1ms preprocess, 7.4ms inference, 1.5ms postprocess per image at shape (1, 3, 416, 640)\n",
      "\n",
      "0: 416x640 1 person, 10 cars, 7.4ms\n",
      "Speed: 4.6ms preprocess, 7.4ms inference, 11.5ms postprocess per image at shape (1, 3, 416, 640)\n",
      "\n",
      "0: 416x640 1 person, 10 cars, 7.5ms\n",
      "Speed: 5.4ms preprocess, 7.5ms inference, 11.8ms postprocess per image at shape (1, 3, 416, 640)\n",
      "\n",
      "0: 416x640 1 person, 10 cars, 10.8ms\n",
      "Speed: 4.7ms preprocess, 10.8ms inference, 12.1ms postprocess per image at shape (1, 3, 416, 640)\n",
      "\n",
      "0: 416x640 1 person, 10 cars, 10.0ms\n",
      "Speed: 5.7ms preprocess, 10.0ms inference, 1.8ms postprocess per image at shape (1, 3, 416, 640)\n",
      "\n",
      "0: 416x640 1 person, 9 cars, 1 bus, 7.4ms\n",
      "Speed: 3.3ms preprocess, 7.4ms inference, 11.6ms postprocess per image at shape (1, 3, 416, 640)\n",
      "\n",
      "0: 416x640 1 person, 10 cars, 7.4ms\n",
      "Speed: 3.1ms preprocess, 7.4ms inference, 11.7ms postprocess per image at shape (1, 3, 416, 640)\n",
      "\n",
      "0: 416x640 1 person, 10 cars, 12.4ms\n",
      "Speed: 5.1ms preprocess, 12.4ms inference, 12.1ms postprocess per image at shape (1, 3, 416, 640)\n",
      "\n",
      "0: 416x640 1 person, 10 cars, 7.3ms\n",
      "Speed: 2.9ms preprocess, 7.3ms inference, 3.0ms postprocess per image at shape (1, 3, 416, 640)\n",
      "\n",
      "0: 416x640 1 person, 10 cars, 9.6ms\n",
      "Speed: 4.8ms preprocess, 9.6ms inference, 11.5ms postprocess per image at shape (1, 3, 416, 640)\n",
      "\n",
      "0: 416x640 1 person, 11 cars, 7.5ms\n",
      "Speed: 5.2ms preprocess, 7.5ms inference, 11.8ms postprocess per image at shape (1, 3, 416, 640)\n",
      "\n",
      "0: 416x640 1 person, 11 cars, 9.8ms\n",
      "Speed: 5.1ms preprocess, 9.8ms inference, 12.1ms postprocess per image at shape (1, 3, 416, 640)\n",
      "\n",
      "0: 416x640 1 person, 11 cars, 8.0ms\n",
      "Speed: 2.8ms preprocess, 8.0ms inference, 1.5ms postprocess per image at shape (1, 3, 416, 640)\n",
      "\n",
      "0: 416x640 1 person, 11 cars, 9.6ms\n",
      "Speed: 4.5ms preprocess, 9.6ms inference, 11.7ms postprocess per image at shape (1, 3, 416, 640)\n",
      "\n",
      "0: 416x640 1 person, 11 cars, 7.4ms\n",
      "Speed: 4.2ms preprocess, 7.4ms inference, 11.7ms postprocess per image at shape (1, 3, 416, 640)\n",
      "\n",
      "0: 416x640 1 person, 11 cars, 7.4ms\n",
      "Speed: 3.0ms preprocess, 7.4ms inference, 1.4ms postprocess per image at shape (1, 3, 416, 640)\n",
      "\n",
      "0: 416x640 1 person, 11 cars, 7.5ms\n",
      "Speed: 4.5ms preprocess, 7.5ms inference, 11.8ms postprocess per image at shape (1, 3, 416, 640)\n",
      "\n",
      "0: 416x640 1 person, 11 cars, 9.3ms\n",
      "Speed: 4.1ms preprocess, 9.3ms inference, 11.7ms postprocess per image at shape (1, 3, 416, 640)\n",
      "\n",
      "0: 416x640 12 cars, 7.4ms\n",
      "Speed: 4.3ms preprocess, 7.4ms inference, 11.6ms postprocess per image at shape (1, 3, 416, 640)\n",
      "\n",
      "0: 416x640 1 person, 11 cars, 7.3ms\n",
      "Speed: 3.9ms preprocess, 7.3ms inference, 1.6ms postprocess per image at shape (1, 3, 416, 640)\n",
      "\n",
      "0: 416x640 11 cars, 7.5ms\n",
      "Speed: 4.8ms preprocess, 7.5ms inference, 11.8ms postprocess per image at shape (1, 3, 416, 640)\n",
      "\n",
      "0: 416x640 11 cars, 8.9ms\n",
      "Speed: 4.9ms preprocess, 8.9ms inference, 11.6ms postprocess per image at shape (1, 3, 416, 640)\n",
      "\n",
      "0: 416x640 11 cars, 7.6ms\n",
      "Speed: 2.9ms preprocess, 7.6ms inference, 11.6ms postprocess per image at shape (1, 3, 416, 640)\n",
      "\n",
      "0: 416x640 11 cars, 7.6ms\n",
      "Speed: 3.6ms preprocess, 7.6ms inference, 7.6ms postprocess per image at shape (1, 3, 416, 640)\n",
      "\n",
      "0: 416x640 11 cars, 7.5ms\n",
      "Speed: 4.8ms preprocess, 7.5ms inference, 11.8ms postprocess per image at shape (1, 3, 416, 640)\n",
      "\n",
      "0: 416x640 11 cars, 7.4ms\n",
      "Speed: 4.1ms preprocess, 7.4ms inference, 10.1ms postprocess per image at shape (1, 3, 416, 640)\n",
      "\n",
      "0: 416x640 11 cars, 7.3ms\n",
      "Speed: 3.3ms preprocess, 7.3ms inference, 11.4ms postprocess per image at shape (1, 3, 416, 640)\n",
      "\n",
      "0: 416x640 11 cars, 7.3ms\n",
      "Speed: 3.3ms preprocess, 7.3ms inference, 10.7ms postprocess per image at shape (1, 3, 416, 640)\n",
      "\n",
      "0: 416x640 11 cars, 7.8ms\n",
      "Speed: 3.5ms preprocess, 7.8ms inference, 11.8ms postprocess per image at shape (1, 3, 416, 640)\n",
      "\n",
      "0: 416x640 11 cars, 7.4ms\n",
      "Speed: 3.1ms preprocess, 7.4ms inference, 10.2ms postprocess per image at shape (1, 3, 416, 640)\n",
      "\n",
      "0: 416x640 11 cars, 9.5ms\n",
      "Speed: 5.1ms preprocess, 9.5ms inference, 11.6ms postprocess per image at shape (1, 3, 416, 640)\n",
      "\n",
      "0: 416x640 10 cars, 7.6ms\n",
      "Speed: 3.3ms preprocess, 7.6ms inference, 11.0ms postprocess per image at shape (1, 3, 416, 640)\n",
      "\n",
      "0: 416x640 10 cars, 12.5ms\n",
      "Speed: 4.8ms preprocess, 12.5ms inference, 12.1ms postprocess per image at shape (1, 3, 416, 640)\n",
      "\n",
      "0: 416x640 10 cars, 7.4ms\n",
      "Speed: 2.9ms preprocess, 7.4ms inference, 2.6ms postprocess per image at shape (1, 3, 416, 640)\n",
      "\n",
      "0: 416x640 10 cars, 7.4ms\n",
      "Speed: 3.1ms preprocess, 7.4ms inference, 11.4ms postprocess per image at shape (1, 3, 416, 640)\n",
      "\n",
      "0: 416x640 10 cars, 7.5ms\n",
      "Speed: 3.9ms preprocess, 7.5ms inference, 11.6ms postprocess per image at shape (1, 3, 416, 640)\n",
      "\n",
      "0: 416x640 11 cars, 10.2ms\n",
      "Speed: 5.0ms preprocess, 10.2ms inference, 2.5ms postprocess per image at shape (1, 3, 416, 640)\n",
      "\n",
      "0: 416x640 11 cars, 11.4ms\n",
      "Speed: 5.8ms preprocess, 11.4ms inference, 2.0ms postprocess per image at shape (1, 3, 416, 640)\n",
      "\n",
      "0: 416x640 11 cars, 9.8ms\n",
      "Speed: 4.7ms preprocess, 9.8ms inference, 11.6ms postprocess per image at shape (1, 3, 416, 640)\n",
      "\n",
      "0: 416x640 11 cars, 1 bus, 9.7ms\n",
      "Speed: 4.8ms preprocess, 9.7ms inference, 11.6ms postprocess per image at shape (1, 3, 416, 640)\n",
      "\n",
      "0: 416x640 11 cars, 1 bus, 12.4ms\n",
      "Speed: 4.2ms preprocess, 12.4ms inference, 11.9ms postprocess per image at shape (1, 3, 416, 640)\n",
      "\n",
      "0: 416x640 11 cars, 1 bus, 9.7ms\n",
      "Speed: 3.5ms preprocess, 9.7ms inference, 11.7ms postprocess per image at shape (1, 3, 416, 640)\n",
      "\n",
      "0: 416x640 11 cars, 1 bus, 9.7ms\n",
      "Speed: 5.1ms preprocess, 9.7ms inference, 11.5ms postprocess per image at shape (1, 3, 416, 640)\n",
      "\n",
      "0: 416x640 11 cars, 1 bus, 7.6ms\n",
      "Speed: 4.1ms preprocess, 7.6ms inference, 11.8ms postprocess per image at shape (1, 3, 416, 640)\n",
      "\n",
      "0: 416x640 11 cars, 1 bus, 7.2ms\n",
      "Speed: 2.8ms preprocess, 7.2ms inference, 1.6ms postprocess per image at shape (1, 3, 416, 640)\n",
      "\n",
      "0: 416x640 11 cars, 1 bus, 7.5ms\n",
      "Speed: 3.6ms preprocess, 7.5ms inference, 11.5ms postprocess per image at shape (1, 3, 416, 640)\n",
      "\n",
      "0: 416x640 11 cars, 1 bus, 9.8ms\n",
      "Speed: 6.0ms preprocess, 9.8ms inference, 10.3ms postprocess per image at shape (1, 3, 416, 640)\n",
      "\n",
      "0: 416x640 11 cars, 1 bus, 7.5ms\n",
      "Speed: 4.8ms preprocess, 7.5ms inference, 12.0ms postprocess per image at shape (1, 3, 416, 640)\n",
      "\n",
      "0: 416x640 1 person, 10 cars, 1 bus, 7.3ms\n",
      "Speed: 2.8ms preprocess, 7.3ms inference, 2.4ms postprocess per image at shape (1, 3, 416, 640)\n",
      "\n",
      "0: 416x640 10 cars, 1 bus, 7.5ms\n",
      "Speed: 4.0ms preprocess, 7.5ms inference, 11.4ms postprocess per image at shape (1, 3, 416, 640)\n",
      "\n",
      "0: 416x640 10 cars, 1 bus, 7.4ms\n",
      "Speed: 4.4ms preprocess, 7.4ms inference, 11.5ms postprocess per image at shape (1, 3, 416, 640)\n",
      "\n",
      "0: 416x640 10 cars, 1 bus, 9.9ms\n",
      "Speed: 5.2ms preprocess, 9.9ms inference, 12.0ms postprocess per image at shape (1, 3, 416, 640)\n",
      "\n",
      "0: 416x640 10 cars, 1 bus, 9.9ms\n",
      "Speed: 4.2ms preprocess, 9.9ms inference, 11.5ms postprocess per image at shape (1, 3, 416, 640)\n",
      "\n",
      "0: 416x640 10 cars, 1 bus, 7.5ms\n",
      "Speed: 4.5ms preprocess, 7.5ms inference, 11.5ms postprocess per image at shape (1, 3, 416, 640)\n",
      "\n",
      "0: 416x640 10 cars, 1 bus, 9.4ms\n",
      "Speed: 4.0ms preprocess, 9.4ms inference, 2.3ms postprocess per image at shape (1, 3, 416, 640)\n",
      "\n",
      "0: 416x640 10 cars, 1 bus, 7.5ms\n",
      "Speed: 3.6ms preprocess, 7.5ms inference, 11.7ms postprocess per image at shape (1, 3, 416, 640)\n",
      "\n",
      "0: 416x640 10 cars, 1 bus, 7.6ms\n",
      "Speed: 4.3ms preprocess, 7.6ms inference, 11.6ms postprocess per image at shape (1, 3, 416, 640)\n",
      "\n",
      "0: 416x640 10 cars, 1 bus, 7.4ms\n",
      "Speed: 3.6ms preprocess, 7.4ms inference, 11.4ms postprocess per image at shape (1, 3, 416, 640)\n",
      "\n",
      "0: 416x640 10 cars, 1 bus, 8.5ms\n",
      "Speed: 3.5ms preprocess, 8.5ms inference, 9.9ms postprocess per image at shape (1, 3, 416, 640)\n",
      "\n",
      "0: 416x640 10 cars, 1 bus, 7.6ms\n",
      "Speed: 4.6ms preprocess, 7.6ms inference, 12.1ms postprocess per image at shape (1, 3, 416, 640)\n",
      "\n",
      "0: 416x640 10 cars, 1 truck, 8.7ms\n",
      "Speed: 3.1ms preprocess, 8.7ms inference, 11.1ms postprocess per image at shape (1, 3, 416, 640)\n",
      "\n",
      "0: 416x640 10 cars, 1 bus, 7.4ms\n",
      "Speed: 5.3ms preprocess, 7.4ms inference, 11.5ms postprocess per image at shape (1, 3, 416, 640)\n",
      "\n",
      "0: 416x640 9 cars, 1 bus, 9.6ms\n",
      "Speed: 5.3ms preprocess, 9.6ms inference, 11.9ms postprocess per image at shape (1, 3, 416, 640)\n",
      "\n",
      "0: 416x640 9 cars, 1 bus, 9.3ms\n",
      "Speed: 4.8ms preprocess, 9.3ms inference, 12.0ms postprocess per image at shape (1, 3, 416, 640)\n",
      "\n",
      "0: 416x640 9 cars, 1 bus, 7.3ms\n",
      "Speed: 2.9ms preprocess, 7.3ms inference, 3.0ms postprocess per image at shape (1, 3, 416, 640)\n",
      "\n",
      "0: 416x640 9 cars, 1 bus, 7.4ms\n",
      "Speed: 3.6ms preprocess, 7.4ms inference, 11.7ms postprocess per image at shape (1, 3, 416, 640)\n",
      "\n",
      "0: 416x640 9 cars, 1 bus, 7.2ms\n",
      "Speed: 4.3ms preprocess, 7.2ms inference, 11.4ms postprocess per image at shape (1, 3, 416, 640)\n",
      "\n",
      "0: 416x640 9 cars, 1 bus, 10.1ms\n",
      "Speed: 4.6ms preprocess, 10.1ms inference, 2.4ms postprocess per image at shape (1, 3, 416, 640)\n",
      "\n",
      "0: 416x640 9 cars, 1 bus, 7.5ms\n",
      "Speed: 4.5ms preprocess, 7.5ms inference, 11.8ms postprocess per image at shape (1, 3, 416, 640)\n",
      "\n",
      "0: 416x640 8 cars, 1 bus, 9.8ms\n",
      "Speed: 5.1ms preprocess, 9.8ms inference, 11.4ms postprocess per image at shape (1, 3, 416, 640)\n",
      "\n",
      "0: 416x640 8 cars, 1 bus, 7.5ms\n",
      "Speed: 3.6ms preprocess, 7.5ms inference, 11.3ms postprocess per image at shape (1, 3, 416, 640)\n",
      "\n",
      "0: 416x640 8 cars, 1 bus, 9.2ms\n",
      "Speed: 4.1ms preprocess, 9.2ms inference, 2.4ms postprocess per image at shape (1, 3, 416, 640)\n",
      "\n",
      "0: 416x640 8 cars, 1 truck, 7.6ms\n",
      "Speed: 3.7ms preprocess, 7.6ms inference, 12.0ms postprocess per image at shape (1, 3, 416, 640)\n",
      "\n",
      "0: 416x640 8 cars, 1 truck, 9.4ms\n",
      "Speed: 4.5ms preprocess, 9.4ms inference, 11.6ms postprocess per image at shape (1, 3, 416, 640)\n",
      "\n",
      "0: 416x640 8 cars, 1 bus, 7.4ms\n",
      "Speed: 3.2ms preprocess, 7.4ms inference, 11.4ms postprocess per image at shape (1, 3, 416, 640)\n",
      "\n",
      "0: 416x640 8 cars, 1 bus, 9.7ms\n",
      "Speed: 4.9ms preprocess, 9.7ms inference, 9.5ms postprocess per image at shape (1, 3, 416, 640)\n",
      "\n",
      "0: 416x640 8 cars, 1 bus, 7.5ms\n",
      "Speed: 3.5ms preprocess, 7.5ms inference, 12.0ms postprocess per image at shape (1, 3, 416, 640)\n",
      "\n",
      "0: 416x640 8 cars, 1 bus, 8.6ms\n",
      "Speed: 3.1ms preprocess, 8.6ms inference, 11.6ms postprocess per image at shape (1, 3, 416, 640)\n",
      "\n",
      "0: 416x640 8 cars, 1 bus, 7.4ms\n",
      "Speed: 3.4ms preprocess, 7.4ms inference, 11.5ms postprocess per image at shape (1, 3, 416, 640)\n",
      "\n",
      "0: 416x640 8 cars, 1 bus, 7.4ms\n",
      "Speed: 3.2ms preprocess, 7.4ms inference, 11.8ms postprocess per image at shape (1, 3, 416, 640)\n",
      "\n",
      "0: 416x640 8 cars, 1 bus, 10.2ms\n",
      "Speed: 4.5ms preprocess, 10.2ms inference, 2.4ms postprocess per image at shape (1, 3, 416, 640)\n",
      "\n",
      "0: 416x640 8 cars, 1 bus, 7.6ms\n",
      "Speed: 3.4ms preprocess, 7.6ms inference, 11.8ms postprocess per image at shape (1, 3, 416, 640)\n",
      "\n",
      "0: 416x640 8 cars, 1 bus, 7.5ms\n",
      "Speed: 5.1ms preprocess, 7.5ms inference, 11.6ms postprocess per image at shape (1, 3, 416, 640)\n",
      "\n",
      "0: 416x640 8 cars, 1 bus, 7.5ms\n",
      "Speed: 3.8ms preprocess, 7.5ms inference, 11.5ms postprocess per image at shape (1, 3, 416, 640)\n",
      "\n",
      "0: 416x640 8 cars, 1 bus, 7.7ms\n",
      "Speed: 3.5ms preprocess, 7.7ms inference, 3.0ms postprocess per image at shape (1, 3, 416, 640)\n",
      "\n",
      "0: 416x640 9 cars, 1 bus, 7.6ms\n",
      "Speed: 5.1ms preprocess, 7.6ms inference, 12.0ms postprocess per image at shape (1, 3, 416, 640)\n",
      "\n",
      "0: 416x640 8 cars, 1 bus, 1 truck, 8.2ms\n",
      "Speed: 2.8ms preprocess, 8.2ms inference, 10.7ms postprocess per image at shape (1, 3, 416, 640)\n",
      "\n",
      "0: 416x640 8 cars, 1 bus, 1 truck, 7.5ms\n",
      "Speed: 3.2ms preprocess, 7.5ms inference, 11.3ms postprocess per image at shape (1, 3, 416, 640)\n",
      "\n",
      "0: 416x640 8 cars, 1 bus, 1 truck, 7.5ms\n",
      "Speed: 3.3ms preprocess, 7.5ms inference, 11.0ms postprocess per image at shape (1, 3, 416, 640)\n",
      "\n",
      "0: 416x640 8 cars, 1 bus, 1 truck, 7.7ms\n",
      "Speed: 5.3ms preprocess, 7.7ms inference, 12.0ms postprocess per image at shape (1, 3, 416, 640)\n",
      "\n",
      "0: 416x640 8 cars, 2 buss, 7.4ms\n",
      "Speed: 3.0ms preprocess, 7.4ms inference, 1.5ms postprocess per image at shape (1, 3, 416, 640)\n",
      "\n",
      "0: 416x640 9 cars, 1 bus, 7.5ms\n",
      "Speed: 3.4ms preprocess, 7.5ms inference, 11.6ms postprocess per image at shape (1, 3, 416, 640)\n",
      "\n",
      "0: 416x640 8 cars, 2 buss, 7.5ms\n",
      "Speed: 3.3ms preprocess, 7.5ms inference, 11.7ms postprocess per image at shape (1, 3, 416, 640)\n",
      "\n",
      "0: 416x640 8 cars, 1 bus, 1 truck, 9.1ms\n",
      "Speed: 4.4ms preprocess, 9.1ms inference, 11.9ms postprocess per image at shape (1, 3, 416, 640)\n",
      "\n",
      "0: 416x640 8 cars, 1 bus, 1 truck, 7.7ms\n",
      "Speed: 2.8ms preprocess, 7.7ms inference, 1.4ms postprocess per image at shape (1, 3, 416, 640)\n",
      "\n",
      "0: 416x640 8 cars, 1 bus, 1 truck, 7.4ms\n",
      "Speed: 3.7ms preprocess, 7.4ms inference, 11.5ms postprocess per image at shape (1, 3, 416, 640)\n",
      "\n",
      "0: 416x640 8 cars, 2 buss, 7.2ms\n",
      "Speed: 5.2ms preprocess, 7.2ms inference, 11.7ms postprocess per image at shape (1, 3, 416, 640)\n",
      "\n",
      "0: 416x640 8 cars, 2 buss, 7.2ms\n",
      "Speed: 2.9ms preprocess, 7.2ms inference, 1.5ms postprocess per image at shape (1, 3, 416, 640)\n",
      "\n",
      "0: 416x640 8 cars, 2 buss, 7.7ms\n",
      "Speed: 3.4ms preprocess, 7.7ms inference, 11.9ms postprocess per image at shape (1, 3, 416, 640)\n",
      "\n",
      "0: 416x640 8 cars, 2 buss, 7.2ms\n",
      "Speed: 2.8ms preprocess, 7.2ms inference, 1.4ms postprocess per image at shape (1, 3, 416, 640)\n",
      "\n",
      "0: 416x640 7 cars, 2 buss, 7.5ms\n",
      "Speed: 3.2ms preprocess, 7.5ms inference, 11.6ms postprocess per image at shape (1, 3, 416, 640)\n",
      "\n",
      "0: 416x640 7 cars, 2 buss, 7.5ms\n",
      "Speed: 3.7ms preprocess, 7.5ms inference, 11.8ms postprocess per image at shape (1, 3, 416, 640)\n",
      "\n",
      "0: 416x640 7 cars, 2 buss, 10.2ms\n",
      "Speed: 4.3ms preprocess, 10.2ms inference, 2.4ms postprocess per image at shape (1, 3, 416, 640)\n",
      "\n",
      "0: 416x640 7 cars, 2 buss, 7.7ms\n",
      "Speed: 4.1ms preprocess, 7.7ms inference, 9.1ms postprocess per image at shape (1, 3, 416, 640)\n",
      "\n",
      "0: 416x640 7 cars, 2 buss, 7.5ms\n",
      "Speed: 3.1ms preprocess, 7.5ms inference, 11.7ms postprocess per image at shape (1, 3, 416, 640)\n",
      "\n",
      "0: 416x640 7 cars, 1 bus, 1 truck, 7.6ms\n",
      "Speed: 4.8ms preprocess, 7.6ms inference, 11.5ms postprocess per image at shape (1, 3, 416, 640)\n",
      "\n",
      "0: 416x640 8 cars, 1 bus, 8.4ms\n",
      "Speed: 4.8ms preprocess, 8.4ms inference, 2.4ms postprocess per image at shape (1, 3, 416, 640)\n",
      "\n",
      "0: 416x640 7 cars, 2 buss, 7.6ms\n",
      "Speed: 3.6ms preprocess, 7.6ms inference, 12.0ms postprocess per image at shape (1, 3, 416, 640)\n",
      "\n",
      "0: 416x640 8 cars, 1 bus, 1 truck, 7.5ms\n",
      "Speed: 3.9ms preprocess, 7.5ms inference, 11.3ms postprocess per image at shape (1, 3, 416, 640)\n",
      "\n",
      "0: 416x640 7 cars, 2 buss, 7.3ms\n",
      "Speed: 5.1ms preprocess, 7.3ms inference, 11.5ms postprocess per image at shape (1, 3, 416, 640)\n",
      "\n",
      "0: 416x640 7 cars, 2 buss, 7.4ms\n",
      "Speed: 4.0ms preprocess, 7.4ms inference, 10.2ms postprocess per image at shape (1, 3, 416, 640)\n",
      "\n",
      "0: 416x640 8 cars, 2 buss, 7.7ms\n",
      "Speed: 4.1ms preprocess, 7.7ms inference, 11.8ms postprocess per image at shape (1, 3, 416, 640)\n",
      "\n",
      "0: 416x640 8 cars, 1 bus, 1 truck, 7.7ms\n",
      "Speed: 3.1ms preprocess, 7.7ms inference, 1.5ms postprocess per image at shape (1, 3, 416, 640)\n",
      "\n",
      "0: 416x640 8 cars, 2 buss, 7.4ms\n",
      "Speed: 5.1ms preprocess, 7.4ms inference, 11.5ms postprocess per image at shape (1, 3, 416, 640)\n",
      "\n",
      "0: 416x640 8 cars, 2 buss, 7.6ms\n",
      "Speed: 5.2ms preprocess, 7.6ms inference, 11.7ms postprocess per image at shape (1, 3, 416, 640)\n",
      "\n",
      "0: 416x640 8 cars, 2 buss, 9.2ms\n",
      "Speed: 3.0ms preprocess, 9.2ms inference, 2.4ms postprocess per image at shape (1, 3, 416, 640)\n",
      "\n",
      "0: 416x640 8 cars, 2 buss, 7.5ms\n",
      "Speed: 4.9ms preprocess, 7.5ms inference, 11.8ms postprocess per image at shape (1, 3, 416, 640)\n",
      "\n",
      "0: 416x640 8 cars, 2 buss, 7.2ms\n",
      "Speed: 3.8ms preprocess, 7.2ms inference, 11.6ms postprocess per image at shape (1, 3, 416, 640)\n",
      "\n",
      "0: 416x640 8 cars, 2 buss, 7.3ms\n",
      "Speed: 4.3ms preprocess, 7.3ms inference, 11.6ms postprocess per image at shape (1, 3, 416, 640)\n",
      "\n",
      "0: 416x640 8 cars, 2 buss, 7.6ms\n",
      "Speed: 5.0ms preprocess, 7.6ms inference, 5.2ms postprocess per image at shape (1, 3, 416, 640)\n",
      "\n",
      "0: 416x640 8 cars, 2 buss, 7.6ms\n",
      "Speed: 4.6ms preprocess, 7.6ms inference, 12.0ms postprocess per image at shape (1, 3, 416, 640)\n",
      "\n",
      "0: 416x640 8 cars, 2 buss, 7.1ms\n",
      "Speed: 2.9ms preprocess, 7.1ms inference, 11.4ms postprocess per image at shape (1, 3, 416, 640)\n",
      "\n",
      "0: 416x640 8 cars, 2 buss, 7.2ms\n",
      "Speed: 4.7ms preprocess, 7.2ms inference, 11.4ms postprocess per image at shape (1, 3, 416, 640)\n",
      "\n",
      "0: 416x640 8 cars, 2 buss, 7.4ms\n",
      "Speed: 4.7ms preprocess, 7.4ms inference, 11.3ms postprocess per image at shape (1, 3, 416, 640)\n",
      "\n",
      "0: 416x640 8 cars, 2 buss, 7.5ms\n",
      "Speed: 4.9ms preprocess, 7.5ms inference, 12.1ms postprocess per image at shape (1, 3, 416, 640)\n",
      "\n",
      "0: 416x640 8 cars, 1 bus, 1 truck, 7.4ms\n",
      "Speed: 2.8ms preprocess, 7.4ms inference, 1.5ms postprocess per image at shape (1, 3, 416, 640)\n",
      "\n",
      "0: 416x640 8 cars, 2 buss, 9.6ms\n",
      "Speed: 4.3ms preprocess, 9.6ms inference, 11.4ms postprocess per image at shape (1, 3, 416, 640)\n",
      "\n",
      "0: 416x640 8 cars, 2 buss, 7.4ms\n",
      "Speed: 3.7ms preprocess, 7.4ms inference, 11.6ms postprocess per image at shape (1, 3, 416, 640)\n",
      "\n",
      "0: 416x640 8 cars, 2 buss, 9.0ms\n",
      "Speed: 4.3ms preprocess, 9.0ms inference, 11.9ms postprocess per image at shape (1, 3, 416, 640)\n",
      "\n",
      "0: 416x640 8 cars, 2 buss, 8.7ms\n",
      "Speed: 2.9ms preprocess, 8.7ms inference, 1.5ms postprocess per image at shape (1, 3, 416, 640)\n",
      "\n",
      "0: 416x640 8 cars, 2 buss, 7.4ms\n",
      "Speed: 3.7ms preprocess, 7.4ms inference, 11.6ms postprocess per image at shape (1, 3, 416, 640)\n",
      "\n",
      "0: 416x640 8 cars, 2 buss, 7.4ms\n",
      "Speed: 4.3ms preprocess, 7.4ms inference, 11.5ms postprocess per image at shape (1, 3, 416, 640)\n",
      "\n",
      "0: 416x640 8 cars, 2 buss, 8.4ms\n",
      "Speed: 3.6ms preprocess, 8.4ms inference, 1.8ms postprocess per image at shape (1, 3, 416, 640)\n",
      "\n",
      "0: 416x640 8 cars, 2 buss, 9.8ms\n",
      "Speed: 5.6ms preprocess, 9.8ms inference, 12.2ms postprocess per image at shape (1, 3, 416, 640)\n",
      "\n",
      "0: 416x640 8 cars, 2 buss, 9.7ms\n",
      "Speed: 5.3ms preprocess, 9.7ms inference, 11.2ms postprocess per image at shape (1, 3, 416, 640)\n",
      "\n",
      "0: 416x640 8 cars, 2 buss, 9.7ms\n",
      "Speed: 5.1ms preprocess, 9.7ms inference, 11.7ms postprocess per image at shape (1, 3, 416, 640)\n",
      "\n",
      "0: 416x640 1 person, 8 cars, 2 buss, 9.0ms\n",
      "Speed: 5.4ms preprocess, 9.0ms inference, 12.1ms postprocess per image at shape (1, 3, 416, 640)\n",
      "\n",
      "0: 416x640 1 person, 8 cars, 2 buss, 7.6ms\n",
      "Speed: 2.8ms preprocess, 7.6ms inference, 2.7ms postprocess per image at shape (1, 3, 416, 640)\n",
      "\n",
      "0: 416x640 1 person, 8 cars, 2 buss, 9.5ms\n",
      "Speed: 3.7ms preprocess, 9.5ms inference, 11.6ms postprocess per image at shape (1, 3, 416, 640)\n",
      "\n",
      "0: 416x640 1 person, 8 cars, 2 buss, 7.5ms\n",
      "Speed: 4.4ms preprocess, 7.5ms inference, 11.8ms postprocess per image at shape (1, 3, 416, 640)\n",
      "\n",
      "0: 416x640 1 person, 8 cars, 2 buss, 12.4ms\n",
      "Speed: 5.1ms preprocess, 12.4ms inference, 12.1ms postprocess per image at shape (1, 3, 416, 640)\n",
      "\n",
      "0: 416x640 1 person, 8 cars, 2 buss, 8.2ms\n",
      "Speed: 2.8ms preprocess, 8.2ms inference, 1.5ms postprocess per image at shape (1, 3, 416, 640)\n",
      "\n",
      "0: 416x640 1 person, 8 cars, 2 buss, 9.8ms\n",
      "Speed: 5.1ms preprocess, 9.8ms inference, 11.8ms postprocess per image at shape (1, 3, 416, 640)\n",
      "\n",
      "0: 416x640 1 person, 7 cars, 2 buss, 9.7ms\n",
      "Speed: 5.4ms preprocess, 9.7ms inference, 11.7ms postprocess per image at shape (1, 3, 416, 640)\n",
      "\n",
      "0: 416x640 1 person, 7 cars, 2 buss, 7.6ms\n",
      "Speed: 6.8ms preprocess, 7.6ms inference, 11.9ms postprocess per image at shape (1, 3, 416, 640)\n",
      "\n",
      "0: 416x640 1 person, 7 cars, 2 buss, 8.1ms\n",
      "Speed: 2.8ms preprocess, 8.1ms inference, 1.4ms postprocess per image at shape (1, 3, 416, 640)\n",
      "\n",
      "0: 416x640 1 person, 7 cars, 2 buss, 9.6ms\n",
      "Speed: 4.6ms preprocess, 9.6ms inference, 11.6ms postprocess per image at shape (1, 3, 416, 640)\n",
      "\n",
      "0: 416x640 1 person, 7 cars, 2 buss, 7.4ms\n",
      "Speed: 5.7ms preprocess, 7.4ms inference, 11.7ms postprocess per image at shape (1, 3, 416, 640)\n",
      "\n",
      "0: 416x640 1 person, 6 cars, 2 buss, 7.7ms\n",
      "Speed: 2.9ms preprocess, 7.7ms inference, 1.3ms postprocess per image at shape (1, 3, 416, 640)\n",
      "\n",
      "0: 416x640 1 person, 6 cars, 2 buss, 9.9ms\n",
      "Speed: 3.1ms preprocess, 9.9ms inference, 12.0ms postprocess per image at shape (1, 3, 416, 640)\n",
      "\n",
      "0: 416x640 1 person, 6 cars, 2 buss, 7.4ms\n",
      "Speed: 3.1ms preprocess, 7.4ms inference, 10.6ms postprocess per image at shape (1, 3, 416, 640)\n",
      "\n",
      "0: 416x640 1 person, 6 cars, 2 buss, 7.3ms\n",
      "Speed: 4.1ms preprocess, 7.3ms inference, 11.5ms postprocess per image at shape (1, 3, 416, 640)\n",
      "\n",
      "0: 416x640 1 person, 6 cars, 2 buss, 7.6ms\n",
      "Speed: 4.2ms preprocess, 7.6ms inference, 10.4ms postprocess per image at shape (1, 3, 416, 640)\n",
      "\n",
      "0: 416x640 1 person, 6 cars, 2 buss, 7.7ms\n",
      "Speed: 4.2ms preprocess, 7.7ms inference, 11.8ms postprocess per image at shape (1, 3, 416, 640)\n",
      "\n",
      "0: 416x640 1 person, 6 cars, 2 buss, 7.5ms\n",
      "Speed: 2.9ms preprocess, 7.5ms inference, 1.5ms postprocess per image at shape (1, 3, 416, 640)\n",
      "\n",
      "0: 416x640 1 person, 5 cars, 3 buss, 7.5ms\n",
      "Speed: 5.6ms preprocess, 7.5ms inference, 11.7ms postprocess per image at shape (1, 3, 416, 640)\n",
      "\n",
      "0: 416x640 1 person, 5 cars, 2 buss, 1 truck, 9.8ms\n",
      "Speed: 5.1ms preprocess, 9.8ms inference, 11.5ms postprocess per image at shape (1, 3, 416, 640)\n",
      "\n",
      "0: 416x640 1 person, 5 cars, 2 buss, 1 truck, 8.3ms\n",
      "Speed: 4.8ms preprocess, 8.3ms inference, 11.9ms postprocess per image at shape (1, 3, 416, 640)\n",
      "\n",
      "0: 416x640 1 person, 5 cars, 2 buss, 1 truck, 7.7ms\n",
      "Speed: 2.8ms preprocess, 7.7ms inference, 1.5ms postprocess per image at shape (1, 3, 416, 640)\n",
      "\n",
      "0: 416x640 1 person, 5 cars, 2 buss, 1 truck, 7.3ms\n",
      "Speed: 3.4ms preprocess, 7.3ms inference, 11.4ms postprocess per image at shape (1, 3, 416, 640)\n",
      "\n",
      "0: 416x640 1 person, 5 cars, 2 buss, 1 truck, 9.8ms\n",
      "Speed: 3.2ms preprocess, 9.8ms inference, 11.8ms postprocess per image at shape (1, 3, 416, 640)\n",
      "\n",
      "0: 416x640 1 person, 5 cars, 2 buss, 1 truck, 10.4ms\n",
      "Speed: 2.8ms preprocess, 10.4ms inference, 2.5ms postprocess per image at shape (1, 3, 416, 640)\n",
      "\n",
      "0: 416x640 1 person, 5 cars, 2 buss, 1 truck, 7.8ms\n",
      "Speed: 3.7ms preprocess, 7.8ms inference, 12.0ms postprocess per image at shape (1, 3, 416, 640)\n",
      "\n",
      "0: 416x640 1 person, 5 cars, 2 buss, 1 truck, 9.3ms\n",
      "Speed: 3.6ms preprocess, 9.3ms inference, 11.3ms postprocess per image at shape (1, 3, 416, 640)\n",
      "\n",
      "0: 416x640 1 person, 5 cars, 2 buss, 1 truck, 9.5ms\n",
      "Speed: 3.1ms preprocess, 9.5ms inference, 11.4ms postprocess per image at shape (1, 3, 416, 640)\n",
      "\n",
      "0: 416x640 1 person, 6 cars, 2 buss, 7.7ms\n",
      "Speed: 4.0ms preprocess, 7.7ms inference, 3.7ms postprocess per image at shape (1, 3, 416, 640)\n",
      "\n",
      "0: 416x640 1 person, 6 cars, 2 buss, 7.7ms\n",
      "Speed: 6.4ms preprocess, 7.7ms inference, 12.0ms postprocess per image at shape (1, 3, 416, 640)\n",
      "\n",
      "0: 416x640 1 person, 6 cars, 2 buss, 7.7ms\n",
      "Speed: 3.1ms preprocess, 7.7ms inference, 1.6ms postprocess per image at shape (1, 3, 416, 640)\n",
      "\n",
      "0: 416x640 1 person, 6 cars, 2 buss, 9.5ms\n",
      "Speed: 3.2ms preprocess, 9.5ms inference, 11.6ms postprocess per image at shape (1, 3, 416, 640)\n",
      "\n",
      "0: 416x640 1 person, 6 cars, 2 buss, 7.5ms\n",
      "Speed: 5.4ms preprocess, 7.5ms inference, 11.6ms postprocess per image at shape (1, 3, 416, 640)\n",
      "\n",
      "0: 416x640 1 person, 6 cars, 2 buss, 10.3ms\n",
      "Speed: 4.3ms preprocess, 10.3ms inference, 10.1ms postprocess per image at shape (1, 3, 416, 640)\n",
      "\n",
      "0: 416x640 1 person, 6 cars, 2 buss, 7.2ms\n",
      "Speed: 4.7ms preprocess, 7.2ms inference, 1.5ms postprocess per image at shape (1, 3, 416, 640)\n",
      "\n",
      "0: 416x640 1 person, 6 cars, 2 buss, 7.3ms\n",
      "Speed: 4.0ms preprocess, 7.3ms inference, 11.5ms postprocess per image at shape (1, 3, 416, 640)\n",
      "\n",
      "0: 416x640 1 person, 5 cars, 2 buss, 1 truck, 7.3ms\n",
      "Speed: 4.5ms preprocess, 7.3ms inference, 11.5ms postprocess per image at shape (1, 3, 416, 640)\n",
      "\n",
      "0: 416x640 1 person, 5 cars, 2 buss, 1 truck, 10.1ms\n",
      "Speed: 3.0ms preprocess, 10.1ms inference, 2.4ms postprocess per image at shape (1, 3, 416, 640)\n",
      "\n",
      "0: 416x640 1 person, 6 cars, 2 buss, 12.1ms\n",
      "Speed: 5.0ms preprocess, 12.1ms inference, 11.8ms postprocess per image at shape (1, 3, 416, 640)\n",
      "\n",
      "0: 416x640 1 person, 6 cars, 2 buss, 7.5ms\n",
      "Speed: 4.6ms preprocess, 7.5ms inference, 11.6ms postprocess per image at shape (1, 3, 416, 640)\n",
      "\n",
      "0: 416x640 1 person, 6 cars, 2 buss, 9.7ms\n",
      "Speed: 4.7ms preprocess, 9.7ms inference, 11.7ms postprocess per image at shape (1, 3, 416, 640)\n",
      "\n",
      "0: 416x640 1 person, 7 cars, 2 buss, 10.2ms\n",
      "Speed: 5.2ms preprocess, 10.2ms inference, 10.2ms postprocess per image at shape (1, 3, 416, 640)\n",
      "\n",
      "0: 416x640 1 person, 8 cars, 2 buss, 7.4ms\n",
      "Speed: 3.7ms preprocess, 7.4ms inference, 1.5ms postprocess per image at shape (1, 3, 416, 640)\n",
      "\n",
      "0: 416x640 1 person, 8 cars, 2 buss, 7.4ms\n",
      "Speed: 3.2ms preprocess, 7.4ms inference, 11.7ms postprocess per image at shape (1, 3, 416, 640)\n",
      "\n",
      "0: 416x640 1 person, 8 cars, 2 buss, 7.4ms\n",
      "Speed: 4.8ms preprocess, 7.4ms inference, 11.8ms postprocess per image at shape (1, 3, 416, 640)\n",
      "\n",
      "0: 416x640 1 person, 7 cars, 2 buss, 1 truck, 7.1ms\n",
      "Speed: 2.9ms preprocess, 7.1ms inference, 1.7ms postprocess per image at shape (1, 3, 416, 640)\n",
      "\n",
      "0: 416x640 1 person, 7 cars, 2 buss, 1 truck, 7.7ms\n",
      "Speed: 4.7ms preprocess, 7.7ms inference, 12.0ms postprocess per image at shape (1, 3, 416, 640)\n",
      "\n",
      "0: 416x640 1 person, 7 cars, 2 buss, 1 truck, 7.2ms\n",
      "Speed: 3.0ms preprocess, 7.2ms inference, 1.5ms postprocess per image at shape (1, 3, 416, 640)\n",
      "\n",
      "0: 416x640 1 person, 7 cars, 3 buss, 7.5ms\n",
      "Speed: 3.2ms preprocess, 7.5ms inference, 11.4ms postprocess per image at shape (1, 3, 416, 640)\n",
      "\n",
      "0: 416x640 1 person, 7 cars, 3 buss, 7.4ms\n",
      "Speed: 5.1ms preprocess, 7.4ms inference, 11.2ms postprocess per image at shape (1, 3, 416, 640)\n",
      "\n",
      "0: 416x640 1 person, 7 cars, 3 buss, 7.5ms\n",
      "Speed: 2.9ms preprocess, 7.5ms inference, 12.1ms postprocess per image at shape (1, 3, 416, 640)\n",
      "\n",
      "0: 416x640 1 person, 7 cars, 2 buss, 1 truck, 7.2ms\n",
      "Speed: 2.9ms preprocess, 7.2ms inference, 1.3ms postprocess per image at shape (1, 3, 416, 640)\n",
      "\n",
      "0: 416x640 1 person, 7 cars, 3 buss, 7.5ms\n",
      "Speed: 5.3ms preprocess, 7.5ms inference, 11.4ms postprocess per image at shape (1, 3, 416, 640)\n",
      "\n",
      "0: 416x640 1 person, 7 cars, 3 buss, 7.4ms\n",
      "Speed: 3.4ms preprocess, 7.4ms inference, 11.5ms postprocess per image at shape (1, 3, 416, 640)\n",
      "\n",
      "0: 416x640 1 person, 8 cars, 2 buss, 8.3ms\n",
      "Speed: 4.4ms preprocess, 8.3ms inference, 11.9ms postprocess per image at shape (1, 3, 416, 640)\n",
      "\n",
      "0: 416x640 1 person, 7 cars, 2 buss, 1 truck, 7.1ms\n",
      "Speed: 3.2ms preprocess, 7.1ms inference, 1.5ms postprocess per image at shape (1, 3, 416, 640)\n",
      "\n",
      "0: 416x640 1 person, 8 cars, 2 buss, 7.5ms\n",
      "Speed: 5.0ms preprocess, 7.5ms inference, 11.4ms postprocess per image at shape (1, 3, 416, 640)\n",
      "\n",
      "0: 416x640 1 person, 7 cars, 3 buss, 7.5ms\n",
      "Speed: 5.1ms preprocess, 7.5ms inference, 11.8ms postprocess per image at shape (1, 3, 416, 640)\n",
      "\n",
      "0: 416x640 6 cars, 2 buss, 1 truck, 10.8ms\n",
      "Speed: 5.1ms preprocess, 10.8ms inference, 12.1ms postprocess per image at shape (1, 3, 416, 640)\n",
      "\n",
      "0: 416x640 6 cars, 3 buss, 7.1ms\n",
      "Speed: 3.8ms preprocess, 7.1ms inference, 2.7ms postprocess per image at shape (1, 3, 416, 640)\n",
      "\n",
      "0: 416x640 7 cars, 1 bus, 1 truck, 7.5ms\n",
      "Speed: 3.1ms preprocess, 7.5ms inference, 11.5ms postprocess per image at shape (1, 3, 416, 640)\n",
      "\n",
      "0: 416x640 7 cars, 1 bus, 1 truck, 7.4ms\n",
      "Speed: 4.7ms preprocess, 7.4ms inference, 11.5ms postprocess per image at shape (1, 3, 416, 640)\n",
      "\n",
      "0: 416x640 6 cars, 2 buss, 1 truck, 7.2ms\n",
      "Speed: 2.7ms preprocess, 7.2ms inference, 1.5ms postprocess per image at shape (1, 3, 416, 640)\n",
      "\n",
      "0: 416x640 7 cars, 1 bus, 1 truck, 7.7ms\n",
      "Speed: 4.4ms preprocess, 7.7ms inference, 11.8ms postprocess per image at shape (1, 3, 416, 640)\n",
      "\n",
      "0: 416x640 7 cars, 1 bus, 1 truck, 7.1ms\n",
      "Speed: 2.8ms preprocess, 7.1ms inference, 1.6ms postprocess per image at shape (1, 3, 416, 640)\n",
      "\n",
      "0: 416x640 8 cars, 1 bus, 1 truck, 7.4ms\n",
      "Speed: 3.8ms preprocess, 7.4ms inference, 11.6ms postprocess per image at shape (1, 3, 416, 640)\n",
      "\n",
      "0: 416x640 9 cars, 1 bus, 1 truck, 7.5ms\n",
      "Speed: 4.3ms preprocess, 7.5ms inference, 11.8ms postprocess per image at shape (1, 3, 416, 640)\n",
      "\n",
      "0: 416x640 9 cars, 2 buss, 11.3ms\n",
      "Speed: 4.5ms preprocess, 11.3ms inference, 12.1ms postprocess per image at shape (1, 3, 416, 640)\n",
      "\n",
      "0: 416x640 8 cars, 3 buss, 8.6ms\n",
      "Speed: 3.5ms preprocess, 8.6ms inference, 1.4ms postprocess per image at shape (1, 3, 416, 640)\n",
      "\n",
      "0: 416x640 8 cars, 2 buss, 1 truck, 9.8ms\n",
      "Speed: 4.0ms preprocess, 9.8ms inference, 11.5ms postprocess per image at shape (1, 3, 416, 640)\n",
      "\n",
      "0: 416x640 9 cars, 1 bus, 1 truck, 9.6ms\n",
      "Speed: 3.9ms preprocess, 9.6ms inference, 11.5ms postprocess per image at shape (1, 3, 416, 640)\n",
      "\n",
      "0: 416x640 9 cars, 1 bus, 1 truck, 7.6ms\n",
      "Speed: 3.8ms preprocess, 7.6ms inference, 12.1ms postprocess per image at shape (1, 3, 416, 640)\n",
      "\n",
      "0: 416x640 9 cars, 2 buss, 7.4ms\n",
      "Speed: 3.6ms preprocess, 7.4ms inference, 1.6ms postprocess per image at shape (1, 3, 416, 640)\n",
      "\n",
      "0: 416x640 9 cars, 1 bus, 1 truck, 7.5ms\n",
      "Speed: 5.1ms preprocess, 7.5ms inference, 11.5ms postprocess per image at shape (1, 3, 416, 640)\n",
      "\n",
      "0: 416x640 9 cars, 1 bus, 1 truck, 7.5ms\n",
      "Speed: 3.8ms preprocess, 7.5ms inference, 11.3ms postprocess per image at shape (1, 3, 416, 640)\n",
      "\n",
      "0: 416x640 8 cars, 3 buss, 8.2ms\n",
      "Speed: 4.5ms preprocess, 8.2ms inference, 12.1ms postprocess per image at shape (1, 3, 416, 640)\n",
      "\n",
      "0: 416x640 8 cars, 1 bus, 2 trucks, 7.4ms\n",
      "Speed: 2.8ms preprocess, 7.4ms inference, 1.5ms postprocess per image at shape (1, 3, 416, 640)\n",
      "\n",
      "0: 416x640 8 cars, 2 buss, 1 truck, 7.2ms\n",
      "Speed: 3.1ms preprocess, 7.2ms inference, 11.7ms postprocess per image at shape (1, 3, 416, 640)\n",
      "\n",
      "0: 416x640 8 cars, 1 bus, 1 truck, 7.5ms\n",
      "Speed: 5.2ms preprocess, 7.5ms inference, 11.6ms postprocess per image at shape (1, 3, 416, 640)\n",
      "\n",
      "0: 416x640 7 cars, 2 buss, 1 truck, 7.3ms\n",
      "Speed: 2.9ms preprocess, 7.3ms inference, 1.5ms postprocess per image at shape (1, 3, 416, 640)\n",
      "\n",
      "0: 416x640 8 cars, 2 buss, 7.5ms\n",
      "Speed: 4.6ms preprocess, 7.5ms inference, 11.8ms postprocess per image at shape (1, 3, 416, 640)\n",
      "\n",
      "0: 416x640 8 cars, 2 buss, 8.4ms\n",
      "Speed: 2.9ms preprocess, 8.4ms inference, 10.9ms postprocess per image at shape (1, 3, 416, 640)\n",
      "\n",
      "0: 416x640 8 cars, 2 buss, 7.4ms\n",
      "Speed: 4.9ms preprocess, 7.4ms inference, 11.3ms postprocess per image at shape (1, 3, 416, 640)\n",
      "\n",
      "0: 416x640 8 cars, 2 buss, 7.5ms\n",
      "Speed: 3.3ms preprocess, 7.5ms inference, 10.4ms postprocess per image at shape (1, 3, 416, 640)\n",
      "\n",
      "0: 416x640 8 cars, 2 buss, 7.6ms\n",
      "Speed: 4.1ms preprocess, 7.6ms inference, 11.6ms postprocess per image at shape (1, 3, 416, 640)\n",
      "\n",
      "0: 416x640 7 cars, 2 buss, 1 truck, 7.8ms\n",
      "Speed: 2.8ms preprocess, 7.8ms inference, 11.4ms postprocess per image at shape (1, 3, 416, 640)\n",
      "\n",
      "0: 416x640 8 cars, 2 buss, 7.3ms\n",
      "Speed: 5.1ms preprocess, 7.3ms inference, 11.4ms postprocess per image at shape (1, 3, 416, 640)\n",
      "\n",
      "0: 416x640 7 cars, 3 buss, 8.5ms\n",
      "Speed: 3.4ms preprocess, 8.5ms inference, 9.9ms postprocess per image at shape (1, 3, 416, 640)\n",
      "\n",
      "0: 416x640 7 cars, 2 buss, 1 truck, 7.6ms\n",
      "Speed: 5.0ms preprocess, 7.6ms inference, 11.9ms postprocess per image at shape (1, 3, 416, 640)\n",
      "\n",
      "0: 416x640 7 cars, 2 buss, 1 truck, 8.3ms\n",
      "Speed: 2.8ms preprocess, 8.3ms inference, 1.6ms postprocess per image at shape (1, 3, 416, 640)\n",
      "\n",
      "0: 416x640 7 cars, 2 buss, 1 truck, 7.5ms\n",
      "Speed: 4.8ms preprocess, 7.5ms inference, 11.3ms postprocess per image at shape (1, 3, 416, 640)\n",
      "\n",
      "0: 416x640 8 cars, 2 buss, 7.4ms\n",
      "Speed: 4.7ms preprocess, 7.4ms inference, 11.6ms postprocess per image at shape (1, 3, 416, 640)\n",
      "\n",
      "0: 416x640 8 cars, 2 buss, 7.7ms\n",
      "Speed: 3.0ms preprocess, 7.7ms inference, 11.8ms postprocess per image at shape (1, 3, 416, 640)\n",
      "\n",
      "0: 416x640 8 cars, 2 buss, 7.4ms\n",
      "Speed: 2.8ms preprocess, 7.4ms inference, 1.5ms postprocess per image at shape (1, 3, 416, 640)\n",
      "\n",
      "0: 416x640 8 cars, 2 buss, 7.5ms\n",
      "Speed: 3.9ms preprocess, 7.5ms inference, 11.6ms postprocess per image at shape (1, 3, 416, 640)\n",
      "\n",
      "0: 416x640 7 cars, 2 buss, 1 truck, 7.4ms\n",
      "Speed: 4.4ms preprocess, 7.4ms inference, 11.6ms postprocess per image at shape (1, 3, 416, 640)\n",
      "\n",
      "0: 416x640 8 cars, 1 bus, 1 truck, 7.4ms\n",
      "Speed: 2.9ms preprocess, 7.4ms inference, 1.5ms postprocess per image at shape (1, 3, 416, 640)\n",
      "\n",
      "0: 416x640 8 cars, 1 bus, 1 truck, 7.8ms\n",
      "Speed: 3.3ms preprocess, 7.8ms inference, 12.0ms postprocess per image at shape (1, 3, 416, 640)\n",
      "\n",
      "0: 416x640 8 cars, 1 bus, 1 truck, 7.5ms\n",
      "Speed: 2.8ms preprocess, 7.5ms inference, 1.5ms postprocess per image at shape (1, 3, 416, 640)\n",
      "\n",
      "0: 416x640 8 cars, 1 bus, 1 truck, 7.4ms\n",
      "Speed: 4.9ms preprocess, 7.4ms inference, 11.5ms postprocess per image at shape (1, 3, 416, 640)\n",
      "Video frame is empty or video processing has been successfully completed.\n"
     ]
    }
   ],
   "source": [
    "import cv2\n",
    "\n",
    "from ultralytics import YOLO, solutions\n",
    "\n",
    "model = YOLO(\"yolov8n.pt\")\n",
    "cap = cv2.VideoCapture(\"./pred.mp4\")\n",
    "assert cap.isOpened(), \"Error reading video file\"\n",
    "w, h, fps = (int(cap.get(x)) for x in (cv2.CAP_PROP_FRAME_WIDTH, cv2.CAP_PROP_FRAME_HEIGHT, cv2.CAP_PROP_FPS))\n",
    "\n",
    "# Video writer\n",
    "video_writer = cv2.VideoWriter(\"heatmap_output.avi\", cv2.VideoWriter_fourcc(*\"mp4v\"), fps, (w, h))\n",
    "\n",
    "# Init heatmap\n",
    "heatmap_obj = solutions.Heatmap(\n",
    "    colormap=cv2.COLORMAP_PARULA,\n",
    "    view_img=True,\n",
    "    shape=\"circle\",\n",
    "    classes_names=model.names,\n",
    ")\n",
    "\n",
    "while cap.isOpened():\n",
    "    success, im0 = cap.read()\n",
    "    if not success:\n",
    "        print(\"Video frame is empty or video processing has been successfully completed.\")\n",
    "        break\n",
    "    tracks = model.track(im0, persist=True, show=False)\n",
    "\n",
    "    im0 = heatmap_obj.generate_heatmap(im0, tracks)\n",
    "    video_writer.write(im0)\n",
    "\n",
    "cap.release()\n",
    "video_writer.release()\n",
    "cv2.destroyAllWindows()"
   ]
  },
  {
   "cell_type": "code",
   "execution_count": null,
   "metadata": {},
   "outputs": [],
   "source": []
  },
  {
   "cell_type": "code",
   "execution_count": null,
   "metadata": {},
   "outputs": [],
   "source": [
    "from ultralytics import YOLO\n",
    "\n",
    "# 创建\n",
    "model = YOLO(\"./ultralytics/cfg/models/v8/My/yolov8-C2f-Faster.yaml\")\n",
    "\n",
    "# Load a pretrained YOLO model (recommended for training)\n",
    "model = YOLO(\"./yolov8n.pt\")\n",
    "\n",
    "results = model.train(data=\"/home/ubuntu/文档/GitHub/DL大作业/vehicle-dataset.yaml\", epochs=20, task = 'detect')\n",
    "\n",
    "# Evaluate the model's performance on the validation set\n",
    "results = model.val()\n",
    "\n",
    "# Export the model to ONNX format\n",
    "success = model.export(format=\"onnx\")"
   ]
  },
  {
   "cell_type": "code",
   "execution_count": 1,
   "metadata": {},
   "outputs": [
    {
     "name": "stdout",
     "output_type": "stream",
     "text": [
      "WARNING ⚠️ no model scale passed. Assuming scale='n'.\n",
      "New https://pypi.org/project/ultralytics/8.2.45 available 😃 Update with 'pip install -U ultralytics'\n",
      "Ultralytics YOLOv8.2.31 🚀 Python-3.10.14 torch-2.3.1+cu121 CUDA:0 (NVIDIA P102-100, 10150MiB)\n",
      "\u001b[34m\u001b[1mengine/trainer: \u001b[0mtask=detect, mode=train, model=./ultralytics/cfg/models/v8/My/yolov8_boost.yaml, data=/home/ubuntu/文档/GitHub/DL大作业/vehicle-dataset.yaml, epochs=40, time=None, patience=100, batch=16, imgsz=640, save=True, save_period=-1, cache=False, device=None, workers=8, project=None, name=train259, exist_ok=False, pretrained=True, optimizer=auto, verbose=True, seed=0, deterministic=True, single_cls=False, rect=False, cos_lr=False, close_mosaic=10, resume=False, amp=True, fraction=1.0, profile=False, freeze=None, multi_scale=False, overlap_mask=True, mask_ratio=4, dropout=0.0, val=True, split=val, save_json=False, save_hybrid=False, conf=None, iou=0.7, max_det=300, half=False, dnn=False, plots=True, source=None, vid_stride=1, stream_buffer=False, visualize=False, augment=False, agnostic_nms=False, classes=None, retina_masks=False, embed=None, show=False, save_frames=False, save_txt=False, save_conf=False, save_crop=False, show_labels=True, show_conf=True, show_boxes=True, line_width=None, format=torchscript, keras=False, optimize=False, int8=False, dynamic=False, simplify=False, opset=None, workspace=4, nms=False, lr0=0.01, lrf=0.01, momentum=0.937, weight_decay=0.0005, warmup_epochs=3.0, warmup_momentum=0.8, warmup_bias_lr=0.1, box=7.5, cls=0.5, dfl=1.5, pose=12.0, kobj=1.0, label_smoothing=0.0, nbs=64, hsv_h=0.015, hsv_s=0.7, hsv_v=0.4, degrees=0.0, translate=0.1, scale=0.5, shear=0.0, perspective=0.0, flipud=0.0, fliplr=0.5, bgr=0.0, mosaic=1.0, mixup=0.0, copy_paste=0.0, auto_augment=randaugment, erasing=0.4, crop_fraction=1.0, cfg=None, tracker=botsort.yaml, save_dir=runs/detect/train259\n",
      "WARNING ⚠️ no model scale passed. Assuming scale='n'.\n",
      "\n",
      "                   from  n    params  module                                       arguments                     \n",
      "  0                  -1  1       464  ultralytics.nn.modules.conv.Conv             [3, 16, 3, 2]                 \n",
      "  1                  -1  1      4672  ultralytics.nn.modules.conv.Conv             [16, 32, 3, 2]                \n",
      "  2                  -1  1      5536  ultralytics.nn.modules.block.C2f_ScConv      [32, 32, True]                \n",
      "  3                  -1  1     18560  ultralytics.nn.modules.conv.Conv             [32, 64, 3, 2]                \n",
      "  4                  -1  2     43456  ultralytics.nn.modules.block.C2f_ScConv      [64, 64, True]                \n",
      "  5                  -1  1     73984  ultralytics.nn.modules.conv.Conv             [64, 128, 3, 2]               \n",
      "  6                  -1  2    172160  ultralytics.nn.modules.block.C2f_ScConv      [128, 128, True]              \n",
      "  7                  -1  1    295424  ultralytics.nn.modules.conv.Conv             [128, 256, 3, 2]              \n",
      "  8                  -1  1    342656  ultralytics.nn.modules.block.C2f_ScConv      [256, 256, True]              \n",
      "  9                  -1  1    164608  ultralytics.nn.modules.block.SimSPPF         [256, 256, 5]                 \n",
      " 10                  -1  1         0  torch.nn.modules.upsampling.Upsample         [None, 2, 'nearest']          \n",
      " 11             [-1, 6]  1         0  ultralytics.nn.modules.conv.Concat           [1]                           \n",
      " 12                  -1  1    118848  ultralytics.nn.modules.block.C2f_ScConv      [384, 128]                    \n",
      " 13                  -1  1         0  torch.nn.modules.upsampling.Upsample         [None, 2, 'nearest']          \n",
      " 14             [-1, 4]  1         0  ultralytics.nn.modules.conv.Concat           [1]                           \n",
      " 15                  -1  1     29920  ultralytics.nn.modules.block.C2f_ScConv      [192, 64]                     \n",
      " 16                  -1  1         3  ultralytics.nn.attention.attention.ECAAttention[256]                         \n",
      " 17                  -1  1     36992  ultralytics.nn.modules.conv.Conv             [64, 64, 3, 2]                \n",
      " 18            [-1, 12]  1         0  ultralytics.nn.modules.conv.Concat           [1]                           \n",
      " 19                  -1  1     94272  ultralytics.nn.modules.block.C2f_ScConv      [192, 128]                    \n",
      " 20                  -1  1         3  ultralytics.nn.attention.attention.ECAAttention[512]                         \n",
      " 21                  -1  1    147712  ultralytics.nn.modules.conv.Conv             [128, 128, 3, 2]              \n",
      " 22             [-1, 9]  1         0  ultralytics.nn.modules.conv.Concat           [1]                           \n",
      " 23                  -1  1    375424  ultralytics.nn.modules.block.C2f_ScConv      [384, 256]                    \n",
      " 24                  -1  1         3  ultralytics.nn.attention.attention.ECAAttention[1024]                        \n",
      " 25        [16, 20, 24]  1    393442  ultralytics.nn.modules.head.Detect           [6, [64, 128, 256]]           \n",
      "YOLOv8_boost summary: 385 layers, 2318139 parameters, 2318123 gradients, 6.1 GFLOPs\n",
      "\n",
      "\u001b[34m\u001b[1mTensorBoard: \u001b[0mStart with 'tensorboard --logdir runs/detect/train259', view at http://localhost:6006/\n"
     ]
    },
    {
     "name": "stderr",
     "output_type": "stream",
     "text": [
      "Failed to detect the name of this notebook, you can set it manually with the WANDB_NOTEBOOK_NAME environment variable to enable code saving.\n",
      "\u001b[34m\u001b[1mwandb\u001b[0m: Currently logged in as: \u001b[33m3339811384\u001b[0m. Use \u001b[1m`wandb login --relogin`\u001b[0m to force relogin\n"
     ]
    },
    {
     "data": {
      "text/html": [
       "wandb version 0.17.3 is available!  To upgrade, please run:\n",
       " $ pip install wandb --upgrade"
      ],
      "text/plain": [
       "<IPython.core.display.HTML object>"
      ]
     },
     "metadata": {},
     "output_type": "display_data"
    },
    {
     "data": {
      "text/html": [
       "Tracking run with wandb version 0.17.1"
      ],
      "text/plain": [
       "<IPython.core.display.HTML object>"
      ]
     },
     "metadata": {},
     "output_type": "display_data"
    },
    {
     "data": {
      "text/html": [
       "Run data is saved locally in <code>/home/ubuntu/文档/GitHub/DL大作业/wandb/run-20240627_152155-afp4ngwg</code>"
      ],
      "text/plain": [
       "<IPython.core.display.HTML object>"
      ]
     },
     "metadata": {},
     "output_type": "display_data"
    },
    {
     "data": {
      "text/html": [
       "Syncing run <strong><a href='https://wandb.ai/3339811384/YOLOv8/runs/afp4ngwg' target=\"_blank\">train259</a></strong> to <a href='https://wandb.ai/3339811384/YOLOv8' target=\"_blank\">Weights & Biases</a> (<a href='https://wandb.me/run' target=\"_blank\">docs</a>)<br/>"
      ],
      "text/plain": [
       "<IPython.core.display.HTML object>"
      ]
     },
     "metadata": {},
     "output_type": "display_data"
    },
    {
     "data": {
      "text/html": [
       " View project at <a href='https://wandb.ai/3339811384/YOLOv8' target=\"_blank\">https://wandb.ai/3339811384/YOLOv8</a>"
      ],
      "text/plain": [
       "<IPython.core.display.HTML object>"
      ]
     },
     "metadata": {},
     "output_type": "display_data"
    },
    {
     "data": {
      "text/html": [
       " View run at <a href='https://wandb.ai/3339811384/YOLOv8/runs/afp4ngwg' target=\"_blank\">https://wandb.ai/3339811384/YOLOv8/runs/afp4ngwg</a>"
      ],
      "text/plain": [
       "<IPython.core.display.HTML object>"
      ]
     },
     "metadata": {},
     "output_type": "display_data"
    },
    {
     "name": "stdout",
     "output_type": "stream",
     "text": [
      "Freezing layer 'model.25.dfl.conv.weight'\n",
      "\u001b[34m\u001b[1mAMP: \u001b[0mrunning Automatic Mixed Precision (AMP) checks with YOLOv8n...\n",
      "\u001b[34m\u001b[1mAMP: \u001b[0mchecks passed ✅\n"
     ]
    },
    {
     "name": "stderr",
     "output_type": "stream",
     "text": [
      "\u001b[34m\u001b[1mtrain: \u001b[0mScanning /home/ubuntu/文档/GitHub/DL大作业/datasets/Vehicle/labels/train.cache... 8865 images, 0 backgrounds, 0 corrupt: 100%|██████████| 8865/8865 [00:00<?, ?it/s]"
     ]
    },
    {
     "name": "stdout",
     "output_type": "stream",
     "text": [
      "\u001b[34m\u001b[1mtrain: \u001b[0mWARNING ⚠️ /home/ubuntu/文档/GitHub/DL大作业/datasets/Vehicle/images/train/vehicle_0006145.jpg: 1 duplicate labels removed\n"
     ]
    },
    {
     "name": "stderr",
     "output_type": "stream",
     "text": [
      "\n",
      "\u001b[34m\u001b[1mval: \u001b[0mScanning /home/ubuntu/文档/GitHub/DL大作业/datasets/Vehicle/labels/val.cache... 985 images, 0 backgrounds, 0 corrupt: 100%|██████████| 985/985 [00:00<?, ?it/s]\n"
     ]
    },
    {
     "name": "stdout",
     "output_type": "stream",
     "text": [
      "Plotting labels to runs/detect/train259/labels.jpg... \n",
      "\u001b[34m\u001b[1moptimizer:\u001b[0m 'optimizer=auto' found, ignoring 'lr0=0.01' and 'momentum=0.937' and determining best 'optimizer', 'lr0' and 'momentum' automatically... \n",
      "\u001b[34m\u001b[1moptimizer:\u001b[0m AdamW(lr=0.001, momentum=0.9) with parameter groups 63 weight(decay=0.0), 143 weight(decay=0.0005), 79 bias(decay=0.0)\n",
      "\u001b[34m\u001b[1mTensorBoard: \u001b[0mmodel graph visualization added ✅\n",
      "Image sizes 640 train, 640 val\n",
      "Using 8 dataloader workers\n",
      "Logging results to \u001b[1mruns/detect/train259\u001b[0m\n",
      "Starting training for 40 epochs...\n",
      "\n",
      "      Epoch    GPU_mem   box_loss   cls_loss   dfl_loss  Instances       Size\n"
     ]
    },
    {
     "name": "stderr",
     "output_type": "stream",
     "text": [
      "       1/40      2.73G      2.413      3.463      3.389          2        640: 100%|██████████| 555/555 [11:01<00:00,  1.19s/it]\n",
      "                 Class     Images  Instances      Box(P          R      mAP50  mAP50-95): 100%|██████████| 31/31 [00:34<00:00,  1.13s/it]"
     ]
    },
    {
     "name": "stdout",
     "output_type": "stream",
     "text": [
      "                   all        985       1004      0.255      0.438      0.287       0.18\n"
     ]
    },
    {
     "name": "stderr",
     "output_type": "stream",
     "text": [
      "\n"
     ]
    },
    {
     "name": "stdout",
     "output_type": "stream",
     "text": [
      "\n",
      "      Epoch    GPU_mem   box_loss   cls_loss   dfl_loss  Instances       Size\n"
     ]
    },
    {
     "name": "stderr",
     "output_type": "stream",
     "text": [
      "       2/40      2.75G      1.186      1.683       1.69          1        640: 100%|██████████| 555/555 [10:47<00:00,  1.17s/it]\n",
      "                 Class     Images  Instances      Box(P          R      mAP50  mAP50-95): 100%|██████████| 31/31 [00:33<00:00,  1.09s/it]"
     ]
    },
    {
     "name": "stdout",
     "output_type": "stream",
     "text": [
      "                   all        985       1004      0.516      0.759      0.637      0.515\n"
     ]
    },
    {
     "name": "stderr",
     "output_type": "stream",
     "text": [
      "\n"
     ]
    },
    {
     "name": "stdout",
     "output_type": "stream",
     "text": [
      "\n",
      "      Epoch    GPU_mem   box_loss   cls_loss   dfl_loss  Instances       Size\n"
     ]
    },
    {
     "name": "stderr",
     "output_type": "stream",
     "text": [
      "       3/40      2.74G     0.8367      1.138        1.3          1        640: 100%|██████████| 555/555 [10:38<00:00,  1.15s/it]\n",
      "                 Class     Images  Instances      Box(P          R      mAP50  mAP50-95): 100%|██████████| 31/31 [00:33<00:00,  1.08s/it]"
     ]
    },
    {
     "name": "stdout",
     "output_type": "stream",
     "text": [
      "                   all        985       1004      0.497      0.756      0.683      0.585\n"
     ]
    },
    {
     "name": "stderr",
     "output_type": "stream",
     "text": [
      "\n"
     ]
    },
    {
     "name": "stdout",
     "output_type": "stream",
     "text": [
      "\n",
      "      Epoch    GPU_mem   box_loss   cls_loss   dfl_loss  Instances       Size\n"
     ]
    },
    {
     "name": "stderr",
     "output_type": "stream",
     "text": [
      "       4/40      2.73G      0.722     0.9497      1.194          2        640: 100%|██████████| 555/555 [10:37<00:00,  1.15s/it]\n",
      "                 Class     Images  Instances      Box(P          R      mAP50  mAP50-95): 100%|██████████| 31/31 [00:33<00:00,  1.08s/it]"
     ]
    },
    {
     "name": "stdout",
     "output_type": "stream",
     "text": [
      "                   all        985       1004      0.657      0.765      0.762      0.676\n"
     ]
    },
    {
     "name": "stderr",
     "output_type": "stream",
     "text": [
      "\n"
     ]
    },
    {
     "name": "stdout",
     "output_type": "stream",
     "text": [
      "\n",
      "      Epoch    GPU_mem   box_loss   cls_loss   dfl_loss  Instances       Size\n"
     ]
    },
    {
     "name": "stderr",
     "output_type": "stream",
     "text": [
      "       5/40      2.74G     0.6412     0.8403       1.13          5        640: 100%|██████████| 555/555 [10:25<00:00,  1.13s/it]\n",
      "                 Class     Images  Instances      Box(P          R      mAP50  mAP50-95): 100%|██████████| 31/31 [00:31<00:00,  1.01s/it]"
     ]
    },
    {
     "name": "stdout",
     "output_type": "stream",
     "text": [
      "                   all        985       1004      0.657      0.712      0.747       0.65\n"
     ]
    },
    {
     "name": "stderr",
     "output_type": "stream",
     "text": [
      "\n"
     ]
    },
    {
     "name": "stdout",
     "output_type": "stream",
     "text": [
      "\n",
      "      Epoch    GPU_mem   box_loss   cls_loss   dfl_loss  Instances       Size\n"
     ]
    },
    {
     "name": "stderr",
     "output_type": "stream",
     "text": [
      "       6/40      2.74G     0.5928      0.767      1.094          1        640: 100%|██████████| 555/555 [10:35<00:00,  1.15s/it]\n",
      "                 Class     Images  Instances      Box(P          R      mAP50  mAP50-95): 100%|██████████| 31/31 [00:33<00:00,  1.09s/it]"
     ]
    },
    {
     "name": "stdout",
     "output_type": "stream",
     "text": [
      "                   all        985       1004        0.7      0.854      0.865      0.751\n"
     ]
    },
    {
     "name": "stderr",
     "output_type": "stream",
     "text": [
      "\n"
     ]
    },
    {
     "name": "stdout",
     "output_type": "stream",
     "text": [
      "\n",
      "      Epoch    GPU_mem   box_loss   cls_loss   dfl_loss  Instances       Size\n"
     ]
    },
    {
     "name": "stderr",
     "output_type": "stream",
     "text": [
      "       7/40      2.74G     0.5504     0.7139       1.06          2        640: 100%|██████████| 555/555 [10:44<00:00,  1.16s/it]\n",
      "                 Class     Images  Instances      Box(P          R      mAP50  mAP50-95): 100%|██████████| 31/31 [00:33<00:00,  1.07s/it]"
     ]
    },
    {
     "name": "stdout",
     "output_type": "stream",
     "text": [
      "                   all        985       1004      0.767      0.853      0.893      0.808\n"
     ]
    },
    {
     "name": "stderr",
     "output_type": "stream",
     "text": [
      "\n"
     ]
    },
    {
     "name": "stdout",
     "output_type": "stream",
     "text": [
      "\n",
      "      Epoch    GPU_mem   box_loss   cls_loss   dfl_loss  Instances       Size\n"
     ]
    },
    {
     "name": "stderr",
     "output_type": "stream",
     "text": [
      "       8/40      2.73G     0.5248     0.6648      1.044          1        640: 100%|██████████| 555/555 [10:29<00:00,  1.13s/it]\n",
      "                 Class     Images  Instances      Box(P          R      mAP50  mAP50-95): 100%|██████████| 31/31 [00:28<00:00,  1.08it/s]"
     ]
    },
    {
     "name": "stdout",
     "output_type": "stream",
     "text": [
      "                   all        985       1004      0.829       0.85      0.902      0.817\n"
     ]
    },
    {
     "name": "stderr",
     "output_type": "stream",
     "text": [
      "\n"
     ]
    },
    {
     "name": "stdout",
     "output_type": "stream",
     "text": [
      "\n",
      "      Epoch    GPU_mem   box_loss   cls_loss   dfl_loss  Instances       Size\n"
     ]
    },
    {
     "name": "stderr",
     "output_type": "stream",
     "text": [
      "       9/40      2.74G     0.5078     0.6302       1.03          1        640: 100%|██████████| 555/555 [10:52<00:00,  1.18s/it]\n",
      "                 Class     Images  Instances      Box(P          R      mAP50  mAP50-95): 100%|██████████| 31/31 [00:32<00:00,  1.04s/it]"
     ]
    },
    {
     "name": "stdout",
     "output_type": "stream",
     "text": [
      "                   all        985       1004      0.858      0.877      0.928      0.834\n"
     ]
    },
    {
     "name": "stderr",
     "output_type": "stream",
     "text": [
      "\n"
     ]
    },
    {
     "name": "stdout",
     "output_type": "stream",
     "text": [
      "\n",
      "      Epoch    GPU_mem   box_loss   cls_loss   dfl_loss  Instances       Size\n"
     ]
    },
    {
     "name": "stderr",
     "output_type": "stream",
     "text": [
      "      10/40      2.74G     0.4841     0.6058      1.013          2        640: 100%|██████████| 555/555 [10:38<00:00,  1.15s/it]\n",
      "                 Class     Images  Instances      Box(P          R      mAP50  mAP50-95): 100%|██████████| 31/31 [00:32<00:00,  1.06s/it]"
     ]
    },
    {
     "name": "stdout",
     "output_type": "stream",
     "text": [
      "                   all        985       1004      0.871      0.868      0.921      0.859\n"
     ]
    },
    {
     "name": "stderr",
     "output_type": "stream",
     "text": [
      "\n"
     ]
    },
    {
     "name": "stdout",
     "output_type": "stream",
     "text": [
      "\n",
      "      Epoch    GPU_mem   box_loss   cls_loss   dfl_loss  Instances       Size\n"
     ]
    },
    {
     "name": "stderr",
     "output_type": "stream",
     "text": [
      "      11/40      2.74G      0.474     0.5839      1.008          2        640: 100%|██████████| 555/555 [10:39<00:00,  1.15s/it]\n",
      "                 Class     Images  Instances      Box(P          R      mAP50  mAP50-95): 100%|██████████| 31/31 [00:32<00:00,  1.06s/it]"
     ]
    },
    {
     "name": "stdout",
     "output_type": "stream",
     "text": [
      "                   all        985       1004      0.907      0.883      0.949      0.892\n"
     ]
    },
    {
     "name": "stderr",
     "output_type": "stream",
     "text": [
      "\n"
     ]
    },
    {
     "name": "stdout",
     "output_type": "stream",
     "text": [
      "\n",
      "      Epoch    GPU_mem   box_loss   cls_loss   dfl_loss  Instances       Size\n"
     ]
    },
    {
     "name": "stderr",
     "output_type": "stream",
     "text": [
      "      12/40      2.73G     0.4555     0.5607      0.995          2        640: 100%|██████████| 555/555 [10:36<00:00,  1.15s/it]\n",
      "                 Class     Images  Instances      Box(P          R      mAP50  mAP50-95): 100%|██████████| 31/31 [00:32<00:00,  1.04s/it]"
     ]
    },
    {
     "name": "stdout",
     "output_type": "stream",
     "text": [
      "                   all        985       1004      0.934      0.866      0.962      0.897\n"
     ]
    },
    {
     "name": "stderr",
     "output_type": "stream",
     "text": [
      "\n"
     ]
    },
    {
     "name": "stdout",
     "output_type": "stream",
     "text": [
      "\n",
      "      Epoch    GPU_mem   box_loss   cls_loss   dfl_loss  Instances       Size\n"
     ]
    },
    {
     "name": "stderr",
     "output_type": "stream",
     "text": [
      "      13/40      2.74G     0.4476     0.5348     0.9885          1        640: 100%|██████████| 555/555 [09:02<00:00,  1.02it/s]\n",
      "                 Class     Images  Instances      Box(P          R      mAP50  mAP50-95): 100%|██████████| 31/31 [00:17<00:00,  1.82it/s]"
     ]
    },
    {
     "name": "stdout",
     "output_type": "stream",
     "text": [
      "                   all        985       1004      0.912      0.884       0.95      0.893\n"
     ]
    },
    {
     "name": "stderr",
     "output_type": "stream",
     "text": [
      "\n"
     ]
    },
    {
     "name": "stdout",
     "output_type": "stream",
     "text": [
      "\n",
      "      Epoch    GPU_mem   box_loss   cls_loss   dfl_loss  Instances       Size\n"
     ]
    },
    {
     "name": "stderr",
     "output_type": "stream",
     "text": [
      "      14/40      2.74G     0.4379     0.5218     0.9817          3        640: 100%|██████████| 555/555 [08:13<00:00,  1.12it/s]\n",
      "                 Class     Images  Instances      Box(P          R      mAP50  mAP50-95): 100%|██████████| 31/31 [00:16<00:00,  1.85it/s]"
     ]
    },
    {
     "name": "stdout",
     "output_type": "stream",
     "text": [
      "                   all        985       1004      0.918      0.925      0.966      0.922\n"
     ]
    },
    {
     "name": "stderr",
     "output_type": "stream",
     "text": [
      "\n"
     ]
    },
    {
     "name": "stdout",
     "output_type": "stream",
     "text": [
      "\n",
      "      Epoch    GPU_mem   box_loss   cls_loss   dfl_loss  Instances       Size\n"
     ]
    },
    {
     "name": "stderr",
     "output_type": "stream",
     "text": [
      "      15/40      2.74G     0.4239     0.5086     0.9731          3        640: 100%|██████████| 555/555 [08:13<00:00,  1.12it/s]\n",
      "                 Class     Images  Instances      Box(P          R      mAP50  mAP50-95): 100%|██████████| 31/31 [00:16<00:00,  1.86it/s]"
     ]
    },
    {
     "name": "stdout",
     "output_type": "stream",
     "text": [
      "                   all        985       1004      0.916      0.922      0.965      0.902\n"
     ]
    },
    {
     "name": "stderr",
     "output_type": "stream",
     "text": [
      "\n"
     ]
    },
    {
     "name": "stdout",
     "output_type": "stream",
     "text": [
      "\n",
      "      Epoch    GPU_mem   box_loss   cls_loss   dfl_loss  Instances       Size\n"
     ]
    },
    {
     "name": "stderr",
     "output_type": "stream",
     "text": [
      "      16/40      2.73G     0.4204     0.4975      0.973          4        640: 100%|██████████| 555/555 [08:13<00:00,  1.12it/s]\n",
      "                 Class     Images  Instances      Box(P          R      mAP50  mAP50-95): 100%|██████████| 31/31 [00:16<00:00,  1.86it/s]"
     ]
    },
    {
     "name": "stdout",
     "output_type": "stream",
     "text": [
      "                   all        985       1004      0.942      0.899      0.966      0.919\n"
     ]
    },
    {
     "name": "stderr",
     "output_type": "stream",
     "text": [
      "\n"
     ]
    },
    {
     "name": "stdout",
     "output_type": "stream",
     "text": [
      "\n",
      "      Epoch    GPU_mem   box_loss   cls_loss   dfl_loss  Instances       Size\n"
     ]
    },
    {
     "name": "stderr",
     "output_type": "stream",
     "text": [
      "      17/40      2.74G     0.4131     0.4834     0.9711          2        640: 100%|██████████| 555/555 [08:13<00:00,  1.12it/s]\n",
      "                 Class     Images  Instances      Box(P          R      mAP50  mAP50-95): 100%|██████████| 31/31 [00:16<00:00,  1.86it/s]"
     ]
    },
    {
     "name": "stdout",
     "output_type": "stream",
     "text": [
      "                   all        985       1004      0.929       0.92      0.971      0.931\n"
     ]
    },
    {
     "name": "stderr",
     "output_type": "stream",
     "text": [
      "\n"
     ]
    },
    {
     "name": "stdout",
     "output_type": "stream",
     "text": [
      "\n",
      "      Epoch    GPU_mem   box_loss   cls_loss   dfl_loss  Instances       Size\n"
     ]
    },
    {
     "name": "stderr",
     "output_type": "stream",
     "text": [
      "      18/40      2.74G     0.4084     0.4799     0.9659          0        640: 100%|██████████| 555/555 [08:06<00:00,  1.14it/s]\n",
      "                 Class     Images  Instances      Box(P          R      mAP50  mAP50-95): 100%|██████████| 31/31 [00:16<00:00,  1.87it/s]"
     ]
    },
    {
     "name": "stdout",
     "output_type": "stream",
     "text": [
      "                   all        985       1004       0.92      0.894      0.956      0.893\n"
     ]
    },
    {
     "name": "stderr",
     "output_type": "stream",
     "text": [
      "\n"
     ]
    },
    {
     "name": "stdout",
     "output_type": "stream",
     "text": [
      "\n",
      "      Epoch    GPU_mem   box_loss   cls_loss   dfl_loss  Instances       Size\n"
     ]
    },
    {
     "name": "stderr",
     "output_type": "stream",
     "text": [
      "      19/40      2.74G     0.3981     0.4678     0.9611          2        640: 100%|██████████| 555/555 [08:06<00:00,  1.14it/s]\n",
      "                 Class     Images  Instances      Box(P          R      mAP50  mAP50-95): 100%|██████████| 31/31 [00:16<00:00,  1.89it/s]"
     ]
    },
    {
     "name": "stdout",
     "output_type": "stream",
     "text": [
      "                   all        985       1004      0.952      0.914      0.975      0.937\n"
     ]
    },
    {
     "name": "stderr",
     "output_type": "stream",
     "text": [
      "\n"
     ]
    },
    {
     "name": "stdout",
     "output_type": "stream",
     "text": [
      "\n",
      "      Epoch    GPU_mem   box_loss   cls_loss   dfl_loss  Instances       Size\n"
     ]
    },
    {
     "name": "stderr",
     "output_type": "stream",
     "text": [
      "      20/40      2.73G     0.3918     0.4502     0.9582          2        640: 100%|██████████| 555/555 [08:13<00:00,  1.13it/s]\n",
      "                 Class     Images  Instances      Box(P          R      mAP50  mAP50-95): 100%|██████████| 31/31 [00:16<00:00,  1.86it/s]"
     ]
    },
    {
     "name": "stdout",
     "output_type": "stream",
     "text": [
      "                   all        985       1004      0.939      0.915       0.97      0.931\n"
     ]
    },
    {
     "name": "stderr",
     "output_type": "stream",
     "text": [
      "\n"
     ]
    },
    {
     "name": "stdout",
     "output_type": "stream",
     "text": [
      "\n",
      "      Epoch    GPU_mem   box_loss   cls_loss   dfl_loss  Instances       Size\n"
     ]
    },
    {
     "name": "stderr",
     "output_type": "stream",
     "text": [
      "      21/40      2.74G     0.3871     0.4471      0.955          4        640: 100%|██████████| 555/555 [04:01<00:00,  2.29it/s]\n",
      "                 Class     Images  Instances      Box(P          R      mAP50  mAP50-95): 100%|██████████| 31/31 [00:08<00:00,  3.57it/s]"
     ]
    },
    {
     "name": "stdout",
     "output_type": "stream",
     "text": [
      "                   all        985       1004      0.964      0.913      0.973      0.935\n"
     ]
    },
    {
     "name": "stderr",
     "output_type": "stream",
     "text": [
      "\n"
     ]
    },
    {
     "name": "stdout",
     "output_type": "stream",
     "text": [
      "\n",
      "      Epoch    GPU_mem   box_loss   cls_loss   dfl_loss  Instances       Size\n"
     ]
    },
    {
     "name": "stderr",
     "output_type": "stream",
     "text": [
      "      22/40      2.74G     0.3798      0.435     0.9451          1        640: 100%|██████████| 555/555 [03:43<00:00,  2.48it/s]\n",
      "                 Class     Images  Instances      Box(P          R      mAP50  mAP50-95): 100%|██████████| 31/31 [00:08<00:00,  3.53it/s]"
     ]
    },
    {
     "name": "stdout",
     "output_type": "stream",
     "text": [
      "                   all        985       1004      0.939      0.921       0.97      0.938\n"
     ]
    },
    {
     "name": "stderr",
     "output_type": "stream",
     "text": [
      "\n"
     ]
    },
    {
     "name": "stdout",
     "output_type": "stream",
     "text": [
      "\n",
      "      Epoch    GPU_mem   box_loss   cls_loss   dfl_loss  Instances       Size\n"
     ]
    },
    {
     "name": "stderr",
     "output_type": "stream",
     "text": [
      "      23/40      2.74G      0.378     0.4352     0.9484          3        640: 100%|██████████| 555/555 [03:43<00:00,  2.48it/s]\n",
      "                 Class     Images  Instances      Box(P          R      mAP50  mAP50-95): 100%|██████████| 31/31 [00:08<00:00,  3.54it/s]"
     ]
    },
    {
     "name": "stdout",
     "output_type": "stream",
     "text": [
      "                   all        985       1004      0.933      0.911      0.968      0.934\n"
     ]
    },
    {
     "name": "stderr",
     "output_type": "stream",
     "text": [
      "\n"
     ]
    },
    {
     "name": "stdout",
     "output_type": "stream",
     "text": [
      "\n",
      "      Epoch    GPU_mem   box_loss   cls_loss   dfl_loss  Instances       Size\n"
     ]
    },
    {
     "name": "stderr",
     "output_type": "stream",
     "text": [
      "      24/40      2.73G     0.3714     0.4162     0.9416          2        640: 100%|██████████| 555/555 [03:43<00:00,  2.48it/s]\n",
      "                 Class     Images  Instances      Box(P          R      mAP50  mAP50-95): 100%|██████████| 31/31 [00:08<00:00,  3.56it/s]"
     ]
    },
    {
     "name": "stdout",
     "output_type": "stream",
     "text": [
      "                   all        985       1004      0.926      0.932      0.974      0.938\n"
     ]
    },
    {
     "name": "stderr",
     "output_type": "stream",
     "text": [
      "\n"
     ]
    },
    {
     "name": "stdout",
     "output_type": "stream",
     "text": [
      "\n",
      "      Epoch    GPU_mem   box_loss   cls_loss   dfl_loss  Instances       Size\n"
     ]
    },
    {
     "name": "stderr",
     "output_type": "stream",
     "text": [
      "      25/40      2.74G     0.3633     0.4103     0.9393          4        640: 100%|██████████| 555/555 [03:43<00:00,  2.48it/s]\n",
      "                 Class     Images  Instances      Box(P          R      mAP50  mAP50-95): 100%|██████████| 31/31 [00:08<00:00,  3.55it/s]"
     ]
    },
    {
     "name": "stdout",
     "output_type": "stream",
     "text": [
      "                   all        985       1004      0.942      0.922      0.973      0.933\n"
     ]
    },
    {
     "name": "stderr",
     "output_type": "stream",
     "text": [
      "\n"
     ]
    },
    {
     "name": "stdout",
     "output_type": "stream",
     "text": [
      "\n",
      "      Epoch    GPU_mem   box_loss   cls_loss   dfl_loss  Instances       Size\n"
     ]
    },
    {
     "name": "stderr",
     "output_type": "stream",
     "text": [
      "      26/40      2.74G     0.3661     0.4086     0.9388          2        640: 100%|██████████| 555/555 [03:43<00:00,  2.48it/s]\n",
      "                 Class     Images  Instances      Box(P          R      mAP50  mAP50-95): 100%|██████████| 31/31 [00:08<00:00,  3.54it/s]"
     ]
    },
    {
     "name": "stdout",
     "output_type": "stream",
     "text": [
      "                   all        985       1004      0.934      0.937      0.965      0.925\n"
     ]
    },
    {
     "name": "stderr",
     "output_type": "stream",
     "text": [
      "\n"
     ]
    },
    {
     "name": "stdout",
     "output_type": "stream",
     "text": [
      "\n",
      "      Epoch    GPU_mem   box_loss   cls_loss   dfl_loss  Instances       Size\n"
     ]
    },
    {
     "name": "stderr",
     "output_type": "stream",
     "text": [
      "      27/40      2.74G     0.3613      0.403     0.9409          2        640: 100%|██████████| 555/555 [03:43<00:00,  2.48it/s]\n",
      "                 Class     Images  Instances      Box(P          R      mAP50  mAP50-95): 100%|██████████| 31/31 [00:08<00:00,  3.55it/s]"
     ]
    },
    {
     "name": "stdout",
     "output_type": "stream",
     "text": [
      "                   all        985       1004      0.968      0.922      0.975      0.945\n"
     ]
    },
    {
     "name": "stderr",
     "output_type": "stream",
     "text": [
      "\n"
     ]
    },
    {
     "name": "stdout",
     "output_type": "stream",
     "text": [
      "\n",
      "      Epoch    GPU_mem   box_loss   cls_loss   dfl_loss  Instances       Size\n"
     ]
    },
    {
     "name": "stderr",
     "output_type": "stream",
     "text": [
      "      28/40      2.73G     0.3582     0.3995      0.936          4        640: 100%|██████████| 555/555 [03:43<00:00,  2.48it/s]\n",
      "                 Class     Images  Instances      Box(P          R      mAP50  mAP50-95): 100%|██████████| 31/31 [00:08<00:00,  3.54it/s]"
     ]
    },
    {
     "name": "stdout",
     "output_type": "stream",
     "text": [
      "                   all        985       1004      0.956      0.942      0.977      0.943\n"
     ]
    },
    {
     "name": "stderr",
     "output_type": "stream",
     "text": [
      "\n"
     ]
    },
    {
     "name": "stdout",
     "output_type": "stream",
     "text": [
      "\n",
      "      Epoch    GPU_mem   box_loss   cls_loss   dfl_loss  Instances       Size\n"
     ]
    },
    {
     "name": "stderr",
     "output_type": "stream",
     "text": [
      "      29/40      2.74G     0.3531     0.3886     0.9341          2        640: 100%|██████████| 555/555 [03:43<00:00,  2.48it/s]\n",
      "                 Class     Images  Instances      Box(P          R      mAP50  mAP50-95): 100%|██████████| 31/31 [00:08<00:00,  3.54it/s]"
     ]
    },
    {
     "name": "stdout",
     "output_type": "stream",
     "text": [
      "                   all        985       1004      0.967      0.912      0.977      0.945\n"
     ]
    },
    {
     "name": "stderr",
     "output_type": "stream",
     "text": [
      "\n"
     ]
    },
    {
     "name": "stdout",
     "output_type": "stream",
     "text": [
      "\n",
      "      Epoch    GPU_mem   box_loss   cls_loss   dfl_loss  Instances       Size\n"
     ]
    },
    {
     "name": "stderr",
     "output_type": "stream",
     "text": [
      "      30/40      2.74G      0.349      0.384     0.9329          4        640: 100%|██████████| 555/555 [03:43<00:00,  2.48it/s]\n",
      "                 Class     Images  Instances      Box(P          R      mAP50  mAP50-95): 100%|██████████| 31/31 [00:08<00:00,  3.55it/s]"
     ]
    },
    {
     "name": "stdout",
     "output_type": "stream",
     "text": [
      "                   all        985       1004      0.956      0.937      0.975      0.943\n"
     ]
    },
    {
     "name": "stderr",
     "output_type": "stream",
     "text": [
      "\n"
     ]
    },
    {
     "name": "stdout",
     "output_type": "stream",
     "text": [
      "Closing dataloader mosaic\n",
      "\n",
      "      Epoch    GPU_mem   box_loss   cls_loss   dfl_loss  Instances       Size\n"
     ]
    },
    {
     "name": "stderr",
     "output_type": "stream",
     "text": [
      "      31/40      2.74G     0.2717     0.2788     0.8409          1        640: 100%|██████████| 555/555 [03:44<00:00,  2.48it/s]\n",
      "                 Class     Images  Instances      Box(P          R      mAP50  mAP50-95): 100%|██████████| 31/31 [00:08<00:00,  3.53it/s]"
     ]
    },
    {
     "name": "stdout",
     "output_type": "stream",
     "text": [
      "                   all        985       1004      0.953      0.929      0.979      0.948\n"
     ]
    },
    {
     "name": "stderr",
     "output_type": "stream",
     "text": [
      "\n"
     ]
    },
    {
     "name": "stdout",
     "output_type": "stream",
     "text": [
      "\n",
      "      Epoch    GPU_mem   box_loss   cls_loss   dfl_loss  Instances       Size\n"
     ]
    },
    {
     "name": "stderr",
     "output_type": "stream",
     "text": [
      "      32/40      2.73G     0.2668     0.2741     0.8403          1        640: 100%|██████████| 555/555 [03:43<00:00,  2.48it/s]\n",
      "                 Class     Images  Instances      Box(P          R      mAP50  mAP50-95): 100%|██████████| 31/31 [00:08<00:00,  3.56it/s]"
     ]
    },
    {
     "name": "stdout",
     "output_type": "stream",
     "text": [
      "                   all        985       1004      0.951       0.91      0.977      0.949\n"
     ]
    },
    {
     "name": "stderr",
     "output_type": "stream",
     "text": [
      "\n"
     ]
    },
    {
     "name": "stdout",
     "output_type": "stream",
     "text": [
      "\n",
      "      Epoch    GPU_mem   box_loss   cls_loss   dfl_loss  Instances       Size\n"
     ]
    },
    {
     "name": "stderr",
     "output_type": "stream",
     "text": [
      "      33/40      2.74G     0.2711     0.2702     0.8472          1        640: 100%|██████████| 555/555 [03:43<00:00,  2.48it/s]\n",
      "                 Class     Images  Instances      Box(P          R      mAP50  mAP50-95): 100%|██████████| 31/31 [00:08<00:00,  3.54it/s]"
     ]
    },
    {
     "name": "stdout",
     "output_type": "stream",
     "text": [
      "                   all        985       1004      0.928      0.948      0.978      0.951\n"
     ]
    },
    {
     "name": "stderr",
     "output_type": "stream",
     "text": [
      "\n"
     ]
    },
    {
     "name": "stdout",
     "output_type": "stream",
     "text": [
      "\n",
      "      Epoch    GPU_mem   box_loss   cls_loss   dfl_loss  Instances       Size\n"
     ]
    },
    {
     "name": "stderr",
     "output_type": "stream",
     "text": [
      "      34/40      2.74G     0.2585     0.2557     0.8387          1        640: 100%|██████████| 555/555 [03:43<00:00,  2.49it/s]\n",
      "                 Class     Images  Instances      Box(P          R      mAP50  mAP50-95): 100%|██████████| 31/31 [00:08<00:00,  3.56it/s]"
     ]
    },
    {
     "name": "stdout",
     "output_type": "stream",
     "text": [
      "                   all        985       1004      0.942      0.936      0.978      0.954\n"
     ]
    },
    {
     "name": "stderr",
     "output_type": "stream",
     "text": [
      "\n"
     ]
    },
    {
     "name": "stdout",
     "output_type": "stream",
     "text": [
      "\n",
      "      Epoch    GPU_mem   box_loss   cls_loss   dfl_loss  Instances       Size\n"
     ]
    },
    {
     "name": "stderr",
     "output_type": "stream",
     "text": [
      "      35/40      2.74G     0.2559     0.2492     0.8362          1        640: 100%|██████████| 555/555 [03:43<00:00,  2.48it/s]\n",
      "                 Class     Images  Instances      Box(P          R      mAP50  mAP50-95): 100%|██████████| 31/31 [00:08<00:00,  3.54it/s]"
     ]
    },
    {
     "name": "stdout",
     "output_type": "stream",
     "text": [
      "                   all        985       1004      0.953      0.946       0.98      0.952\n"
     ]
    },
    {
     "name": "stderr",
     "output_type": "stream",
     "text": [
      "\n"
     ]
    },
    {
     "name": "stdout",
     "output_type": "stream",
     "text": [
      "\n",
      "      Epoch    GPU_mem   box_loss   cls_loss   dfl_loss  Instances       Size\n"
     ]
    },
    {
     "name": "stderr",
     "output_type": "stream",
     "text": [
      "      36/40      2.73G     0.2538     0.2429     0.8329          1        640: 100%|██████████| 555/555 [03:43<00:00,  2.48it/s]\n",
      "                 Class     Images  Instances      Box(P          R      mAP50  mAP50-95): 100%|██████████| 31/31 [00:08<00:00,  3.55it/s]"
     ]
    },
    {
     "name": "stdout",
     "output_type": "stream",
     "text": [
      "                   all        985       1004      0.959      0.925      0.977       0.95\n"
     ]
    },
    {
     "name": "stderr",
     "output_type": "stream",
     "text": [
      "\n"
     ]
    },
    {
     "name": "stdout",
     "output_type": "stream",
     "text": [
      "\n",
      "      Epoch    GPU_mem   box_loss   cls_loss   dfl_loss  Instances       Size\n"
     ]
    },
    {
     "name": "stderr",
     "output_type": "stream",
     "text": [
      "      37/40      2.74G     0.2499     0.2362     0.8328          1        640: 100%|██████████| 555/555 [03:43<00:00,  2.48it/s]\n",
      "                 Class     Images  Instances      Box(P          R      mAP50  mAP50-95): 100%|██████████| 31/31 [00:08<00:00,  3.54it/s]"
     ]
    },
    {
     "name": "stdout",
     "output_type": "stream",
     "text": [
      "                   all        985       1004      0.947      0.949       0.98      0.954\n"
     ]
    },
    {
     "name": "stderr",
     "output_type": "stream",
     "text": [
      "\n"
     ]
    },
    {
     "name": "stdout",
     "output_type": "stream",
     "text": [
      "\n",
      "      Epoch    GPU_mem   box_loss   cls_loss   dfl_loss  Instances       Size\n"
     ]
    },
    {
     "name": "stderr",
     "output_type": "stream",
     "text": [
      "      38/40      2.74G      0.247     0.2326     0.8323          1        640: 100%|██████████| 555/555 [03:43<00:00,  2.49it/s]\n",
      "                 Class     Images  Instances      Box(P          R      mAP50  mAP50-95): 100%|██████████| 31/31 [00:08<00:00,  3.56it/s]"
     ]
    },
    {
     "name": "stdout",
     "output_type": "stream",
     "text": [
      "                   all        985       1004      0.956      0.934       0.98      0.955\n"
     ]
    },
    {
     "name": "stderr",
     "output_type": "stream",
     "text": [
      "\n"
     ]
    },
    {
     "name": "stdout",
     "output_type": "stream",
     "text": [
      "\n",
      "      Epoch    GPU_mem   box_loss   cls_loss   dfl_loss  Instances       Size\n"
     ]
    },
    {
     "name": "stderr",
     "output_type": "stream",
     "text": [
      "      39/40      2.74G     0.2443     0.2279     0.8325          1        640: 100%|██████████| 555/555 [03:43<00:00,  2.48it/s]\n",
      "                 Class     Images  Instances      Box(P          R      mAP50  mAP50-95): 100%|██████████| 31/31 [00:08<00:00,  3.55it/s]"
     ]
    },
    {
     "name": "stdout",
     "output_type": "stream",
     "text": [
      "                   all        985       1004      0.958      0.944      0.981      0.956\n"
     ]
    },
    {
     "name": "stderr",
     "output_type": "stream",
     "text": [
      "\n"
     ]
    },
    {
     "name": "stdout",
     "output_type": "stream",
     "text": [
      "\n",
      "      Epoch    GPU_mem   box_loss   cls_loss   dfl_loss  Instances       Size\n"
     ]
    },
    {
     "name": "stderr",
     "output_type": "stream",
     "text": [
      "      40/40      2.73G     0.2422      0.221     0.8318          1        640: 100%|██████████| 555/555 [03:43<00:00,  2.48it/s]\n",
      "                 Class     Images  Instances      Box(P          R      mAP50  mAP50-95): 100%|██████████| 31/31 [00:08<00:00,  3.54it/s]"
     ]
    },
    {
     "name": "stdout",
     "output_type": "stream",
     "text": [
      "                   all        985       1004      0.955      0.942      0.981      0.956\n"
     ]
    },
    {
     "name": "stderr",
     "output_type": "stream",
     "text": [
      "\n"
     ]
    },
    {
     "name": "stdout",
     "output_type": "stream",
     "text": [
      "\n",
      "40 epochs completed in 4.696 hours.\n",
      "Optimizer stripped from runs/detect/train259/weights/last.pt, 4.9MB\n",
      "Optimizer stripped from runs/detect/train259/weights/best.pt, 4.9MB\n",
      "\n",
      "Validating runs/detect/train259/weights/best.pt...\n",
      "Ultralytics YOLOv8.2.31 🚀 Python-3.10.14 torch-2.3.1+cu121 CUDA:0 (NVIDIA P102-100, 10150MiB)\n",
      "YOLOv8_boost summary (fused): 324 layers, 2313563 parameters, 0 gradients, 6.0 GFLOPs\n"
     ]
    },
    {
     "name": "stderr",
     "output_type": "stream",
     "text": [
      "                 Class     Images  Instances      Box(P          R      mAP50  mAP50-95): 100%|██████████| 31/31 [00:09<00:00,  3.21it/s]\n"
     ]
    },
    {
     "name": "stdout",
     "output_type": "stream",
     "text": [
      "                   all        985       1004      0.958      0.944      0.981      0.956\n",
      "                   SUV        204        205      0.957      0.917      0.976      0.951\n",
      "                 Sedan        589        600      0.969      0.972      0.989       0.97\n",
      "              Micorbus         48         48      0.932      0.958      0.973      0.943\n",
      "               Minivan        150        151      0.972       0.93      0.983       0.96\n",
      "Speed: 1.6ms preprocess, 4.6ms inference, 0.0ms loss, 1.0ms postprocess per image\n",
      "Results saved to \u001b[1mruns/detect/train259\u001b[0m\n"
     ]
    },
    {
     "data": {
      "application/vnd.jupyter.widget-view+json": {
       "model_id": "0d5aafae6aca40ac83936af2f8e6ae8d",
       "version_major": 2,
       "version_minor": 0
      },
      "text/plain": [
       "VBox(children=(Label(value='9.816 MB of 10.858 MB uploaded\\r'), FloatProgress(value=0.904082791169038, max=1.0…"
      ]
     },
     "metadata": {},
     "output_type": "display_data"
    },
    {
     "data": {
      "text/html": [
       "<style>\n",
       "    table.wandb td:nth-child(1) { padding: 0 10px; text-align: left ; width: auto;} td:nth-child(2) {text-align: left ; width: 100%}\n",
       "    .wandb-row { display: flex; flex-direction: row; flex-wrap: wrap; justify-content: flex-start; width: 100% }\n",
       "    .wandb-col { display: flex; flex-direction: column; flex-basis: 100%; flex: 1; padding: 10px; }\n",
       "    </style>\n",
       "<div class=\"wandb-row\"><div class=\"wandb-col\"><h3>Run history:</h3><br/><table class=\"wandb\"><tr><td>lr/pg0</td><td>▃▆███▇▇▇▇▇▆▆▆▆▆▆▅▅▅▅▅▄▄▄▄▄▃▃▃▃▃▃▂▂▂▂▂▁▁▁</td></tr><tr><td>lr/pg1</td><td>▃▆███▇▇▇▇▇▆▆▆▆▆▆▅▅▅▅▅▄▄▄▄▄▃▃▃▃▃▃▂▂▂▂▂▁▁▁</td></tr><tr><td>lr/pg2</td><td>▃▆███▇▇▇▇▇▆▆▆▆▆▆▅▅▅▅▅▄▄▄▄▄▃▃▃▃▃▃▂▂▂▂▂▁▁▁</td></tr><tr><td>metrics/mAP50(B)</td><td>▁▅▅▆▆▇▇▇▇▇██████████████████████████████</td></tr><tr><td>metrics/mAP50-95(B)</td><td>▁▄▅▅▅▆▇▇▇▇▇▇▇████▇██████████████████████</td></tr><tr><td>metrics/precision(B)</td><td>▁▄▃▅▅▅▆▇▇▇▇█▇█▇█████████████████████████</td></tr><tr><td>metrics/recall(B)</td><td>▁▅▅▅▅▇▇▇▇▇▇▇▇██▇█▇████▇█████▇██▇████████</td></tr><tr><td>model/GFLOPs</td><td>▁</td></tr><tr><td>model/parameters</td><td>▁</td></tr><tr><td>model/speed_PyTorch(ms)</td><td>▁</td></tr><tr><td>train/box_loss</td><td>█▄▃▃▂▂▂▂▂▂▂▂▂▂▂▂▂▂▂▁▁▁▁▁▁▁▁▁▁▁▁▁▁▁▁▁▁▁▁▁</td></tr><tr><td>train/cls_loss</td><td>█▄▃▃▂▂▂▂▂▂▂▂▂▂▂▂▂▂▂▁▁▁▁▁▁▁▁▁▁▁▁▁▁▁▁▁▁▁▁▁</td></tr><tr><td>train/dfl_loss</td><td>█▃▂▂▂▂▂▂▂▁▁▁▁▁▁▁▁▁▁▁▁▁▁▁▁▁▁▁▁▁▁▁▁▁▁▁▁▁▁▁</td></tr><tr><td>val/box_loss</td><td>█▄▃▂▃▂▂▂▂▂▂▁▁▁▁▁▁▁▁▁▁▁▁▁▁▁▁▁▁▁▁▁▁▁▁▁▁▁▁▁</td></tr><tr><td>val/cls_loss</td><td>█▄▄▃▃▂▂▂▂▂▂▂▂▁▁▁▁▁▁▁▁▁▁▁▁▁▁▁▁▁▁▁▁▁▁▁▁▁▁▁</td></tr><tr><td>val/dfl_loss</td><td>█▃▂▂▂▂▂▁▁▁▁▁▁▁▁▁▁▁▁▁▁▁▁▁▁▁▁▁▁▁▁▁▁▁▁▁▁▁▁▁</td></tr></table><br/></div><div class=\"wandb-col\"><h3>Run summary:</h3><br/><table class=\"wandb\"><tr><td>lr/pg0</td><td>3e-05</td></tr><tr><td>lr/pg1</td><td>3e-05</td></tr><tr><td>lr/pg2</td><td>3e-05</td></tr><tr><td>metrics/mAP50(B)</td><td>0.9805</td></tr><tr><td>metrics/mAP50-95(B)</td><td>0.95622</td></tr><tr><td>metrics/precision(B)</td><td>0.95762</td></tr><tr><td>metrics/recall(B)</td><td>0.94421</td></tr><tr><td>model/GFLOPs</td><td>6.083</td></tr><tr><td>model/parameters</td><td>2318139</td></tr><tr><td>model/speed_PyTorch(ms)</td><td>13.543</td></tr><tr><td>train/box_loss</td><td>0.24225</td></tr><tr><td>train/cls_loss</td><td>0.22099</td></tr><tr><td>train/dfl_loss</td><td>0.83181</td></tr><tr><td>val/box_loss</td><td>0.25138</td></tr><tr><td>val/cls_loss</td><td>0.24536</td></tr><tr><td>val/dfl_loss</td><td>0.78972</td></tr></table><br/></div></div>"
      ],
      "text/plain": [
       "<IPython.core.display.HTML object>"
      ]
     },
     "metadata": {},
     "output_type": "display_data"
    },
    {
     "data": {
      "text/html": [
       " View run <strong style=\"color:#cdcd00\">train259</strong> at: <a href='https://wandb.ai/3339811384/YOLOv8/runs/afp4ngwg' target=\"_blank\">https://wandb.ai/3339811384/YOLOv8/runs/afp4ngwg</a><br/> View project at: <a href='https://wandb.ai/3339811384/YOLOv8' target=\"_blank\">https://wandb.ai/3339811384/YOLOv8</a><br/>Synced 6 W&B file(s), 24 media file(s), 5 artifact file(s) and 0 other file(s)"
      ],
      "text/plain": [
       "<IPython.core.display.HTML object>"
      ]
     },
     "metadata": {},
     "output_type": "display_data"
    },
    {
     "data": {
      "text/html": [
       "Find logs at: <code>./wandb/run-20240627_152155-afp4ngwg/logs</code>"
      ],
      "text/plain": [
       "<IPython.core.display.HTML object>"
      ]
     },
     "metadata": {},
     "output_type": "display_data"
    },
    {
     "name": "stdout",
     "output_type": "stream",
     "text": [
      "Ultralytics YOLOv8.2.31 🚀 Python-3.10.14 torch-2.3.1+cu121 CUDA:0 (NVIDIA P102-100, 10150MiB)\n",
      "YOLOv8_boost summary (fused): 324 layers, 2313563 parameters, 0 gradients, 6.0 GFLOPs\n"
     ]
    },
    {
     "name": "stderr",
     "output_type": "stream",
     "text": [
      "\u001b[34m\u001b[1mval: \u001b[0mScanning /home/ubuntu/文档/GitHub/DL大作业/datasets/Vehicle/labels/val.cache... 985 images, 0 backgrounds, 0 corrupt: 100%|██████████| 985/985 [00:00<?, ?it/s]\n",
      "                 Class     Images  Instances      Box(P          R      mAP50  mAP50-95): 100%|██████████| 62/62 [00:09<00:00,  6.48it/s]\n"
     ]
    },
    {
     "name": "stdout",
     "output_type": "stream",
     "text": [
      "                   all        985       1004      0.952      0.938      0.981      0.958\n",
      "                   SUV        204        205      0.946      0.934      0.978      0.955\n",
      "                 Sedan        589        600       0.97      0.973      0.989      0.973\n",
      "              Micorbus         48         48      0.925      0.917      0.976      0.943\n",
      "               Minivan        150        151      0.967      0.927      0.983       0.96\n",
      "Speed: 1.3ms preprocess, 4.4ms inference, 0.0ms loss, 1.0ms postprocess per image\n",
      "Results saved to \u001b[1mruns/detect/train2592\u001b[0m\n",
      "Ultralytics YOLOv8.2.31 🚀 Python-3.10.14 torch-2.3.1+cu121 CPU (Intel Xeon E5-2680 v4 2.40GHz)\n",
      "\n",
      "\u001b[34m\u001b[1mPyTorch:\u001b[0m starting from 'runs/detect/train259/weights/best.pt' with input shape (1, 3, 640, 640) BCHW and output shape(s) (1, 10, 8400) (4.7 MB)\n",
      "\n",
      "\u001b[34m\u001b[1mONNX:\u001b[0m starting export with onnx 1.16.1 opset 17...\n",
      "\u001b[34m\u001b[1mONNX:\u001b[0m export success ✅ 7.1s, saved as 'runs/detect/train259/weights/best.onnx' (9.5 MB)\n",
      "\n",
      "Export complete (8.7s)\n",
      "Results saved to \u001b[1m/home/ubuntu/文档/GitHub/DL大作业/runs/detect/train259/weights\u001b[0m\n",
      "Predict:         yolo predict task=detect model=runs/detect/train259/weights/best.onnx imgsz=640  \n",
      "Validate:        yolo val task=detect model=runs/detect/train259/weights/best.onnx imgsz=640 data=/home/ubuntu/文档/GitHub/DL大作业/vehicle-dataset.yaml  \n",
      "Visualize:       https://netron.app\n"
     ]
    }
   ],
   "source": [
    "from ultralytics import YOLO\n",
    "\n",
    "# 创建\n",
    "model = YOLO(\"./ultralytics/cfg/models/v8/My/yolov8_boost.yaml\")\n",
    "\n",
    "results = model.train(data=\"/home/ubuntu/文档/GitHub/DL大作业/vehicle-dataset.yaml\", epochs=40)\n",
    "\n",
    "# Evaluate the model's performance on the validation set\n",
    "results = model.val()\n",
    "\n",
    "# Export the model to ONNX format\n",
    "success = model.export(format=\"onnx\")"
   ]
  },
  {
   "cell_type": "code",
   "execution_count": 2,
   "metadata": {},
   "outputs": [
    {
     "name": "stdout",
     "output_type": "stream",
     "text": [
      "WARNING ⚠️ no model scale passed. Assuming scale='n'.\n",
      "Ultralytics YOLOv8.2.31 🚀 Python-3.10.14 torch-2.3.1+cu121 CUDA:0 (NVIDIA P102-100, 10150MiB)\n",
      "\u001b[34m\u001b[1mengine/trainer: \u001b[0mtask=detect, mode=train, model=./ultralytics/cfg/models/v8/My/yolov8_boost.yaml, data=/home/ubuntu/文档/GitHub/DL大作业/vehicle-dataset.yaml, epochs=80, time=None, patience=100, batch=16, imgsz=640, save=True, save_period=-1, cache=False, device=None, workers=8, project=None, name=train261, exist_ok=False, pretrained=True, optimizer=auto, verbose=True, seed=0, deterministic=True, single_cls=False, rect=False, cos_lr=False, close_mosaic=10, resume=False, amp=True, fraction=1.0, profile=False, freeze=None, multi_scale=False, overlap_mask=True, mask_ratio=4, dropout=0.0, val=True, split=val, save_json=False, save_hybrid=False, conf=None, iou=0.7, max_det=300, half=False, dnn=False, plots=True, source=None, vid_stride=1, stream_buffer=False, visualize=False, augment=False, agnostic_nms=False, classes=None, retina_masks=False, embed=None, show=False, save_frames=False, save_txt=False, save_conf=False, save_crop=False, show_labels=True, show_conf=True, show_boxes=True, line_width=None, format=torchscript, keras=False, optimize=False, int8=False, dynamic=False, simplify=False, opset=None, workspace=4, nms=False, lr0=0.01, lrf=0.01, momentum=0.937, weight_decay=0.0005, warmup_epochs=3.0, warmup_momentum=0.8, warmup_bias_lr=0.1, box=7.5, cls=0.5, dfl=1.5, pose=12.0, kobj=1.0, label_smoothing=0.0, nbs=64, hsv_h=0.015, hsv_s=0.7, hsv_v=0.4, degrees=0.0, translate=0.1, scale=0.5, shear=0.0, perspective=0.0, flipud=0.0, fliplr=0.5, bgr=0.0, mosaic=1.0, mixup=0.0, copy_paste=0.0, auto_augment=randaugment, erasing=0.4, crop_fraction=1.0, cfg=None, tracker=botsort.yaml, save_dir=runs/detect/train261\n",
      "WARNING ⚠️ no model scale passed. Assuming scale='n'.\n",
      "\n",
      "                   from  n    params  module                                       arguments                     \n",
      "  0                  -1  1       464  ultralytics.nn.modules.conv.Conv             [3, 16, 3, 2]                 \n",
      "  1                  -1  1      4672  ultralytics.nn.modules.conv.Conv             [16, 32, 3, 2]                \n",
      "  2                  -1  1      5536  ultralytics.nn.modules.block.C2f_ScConv      [32, 32, True]                \n",
      "  3                  -1  1     18560  ultralytics.nn.modules.conv.Conv             [32, 64, 3, 2]                \n",
      "  4                  -1  2     43456  ultralytics.nn.modules.block.C2f_ScConv      [64, 64, True]                \n",
      "  5                  -1  1     73984  ultralytics.nn.modules.conv.Conv             [64, 128, 3, 2]               \n",
      "  6                  -1  2    172160  ultralytics.nn.modules.block.C2f_ScConv      [128, 128, True]              \n",
      "  7                  -1  1    295424  ultralytics.nn.modules.conv.Conv             [128, 256, 3, 2]              \n",
      "  8                  -1  1    342656  ultralytics.nn.modules.block.C2f_ScConv      [256, 256, True]              \n",
      "  9                  -1  1    164608  ultralytics.nn.modules.block.SimSPPF         [256, 256, 5]                 \n",
      " 10                  -1  1         0  torch.nn.modules.upsampling.Upsample         [None, 2, 'nearest']          \n",
      " 11             [-1, 6]  1         0  ultralytics.nn.modules.conv.Concat           [1]                           \n",
      " 12                  -1  1    118848  ultralytics.nn.modules.block.C2f_ScConv      [384, 128]                    \n",
      " 13                  -1  1         0  torch.nn.modules.upsampling.Upsample         [None, 2, 'nearest']          \n",
      " 14             [-1, 4]  1         0  ultralytics.nn.modules.conv.Concat           [1]                           \n",
      " 15                  -1  1     29920  ultralytics.nn.modules.block.C2f_ScConv      [192, 64]                     \n",
      " 16                  -1  1         3  ultralytics.nn.attention.attention.ECAAttention[256]                         \n",
      " 17                  -1  1     36992  ultralytics.nn.modules.conv.Conv             [64, 64, 3, 2]                \n",
      " 18            [-1, 12]  1         0  ultralytics.nn.modules.conv.Concat           [1]                           \n",
      " 19                  -1  1     94272  ultralytics.nn.modules.block.C2f_ScConv      [192, 128]                    \n",
      " 20                  -1  1         3  ultralytics.nn.attention.attention.ECAAttention[512]                         \n",
      " 21                  -1  1    147712  ultralytics.nn.modules.conv.Conv             [128, 128, 3, 2]              \n",
      " 22             [-1, 9]  1         0  ultralytics.nn.modules.conv.Concat           [1]                           \n",
      " 23                  -1  1    375424  ultralytics.nn.modules.block.C2f_ScConv      [384, 256]                    \n",
      " 24                  -1  1         3  ultralytics.nn.attention.attention.ECAAttention[1024]                        \n",
      " 25        [16, 20, 24]  1    393442  ultralytics.nn.modules.head.Detect           [6, [64, 128, 256]]           \n",
      "YOLOv8_boost summary: 385 layers, 2318139 parameters, 2318123 gradients, 6.1 GFLOPs\n",
      "\n",
      "\u001b[34m\u001b[1mTensorBoard: \u001b[0mStart with 'tensorboard --logdir runs/detect/train261', view at http://localhost:6006/\n"
     ]
    },
    {
     "data": {
      "text/html": [
       "Tracking run with wandb version 0.17.1"
      ],
      "text/plain": [
       "<IPython.core.display.HTML object>"
      ]
     },
     "metadata": {},
     "output_type": "display_data"
    },
    {
     "data": {
      "text/html": [
       "Run data is saved locally in <code>/home/ubuntu/文档/GitHub/DL大作业/wandb/run-20240627_212022-fwr7xgs7</code>"
      ],
      "text/plain": [
       "<IPython.core.display.HTML object>"
      ]
     },
     "metadata": {},
     "output_type": "display_data"
    },
    {
     "data": {
      "text/html": [
       "Syncing run <strong><a href='https://wandb.ai/3339811384/YOLOv8/runs/fwr7xgs7' target=\"_blank\">train261</a></strong> to <a href='https://wandb.ai/3339811384/YOLOv8' target=\"_blank\">Weights & Biases</a> (<a href='https://wandb.me/run' target=\"_blank\">docs</a>)<br/>"
      ],
      "text/plain": [
       "<IPython.core.display.HTML object>"
      ]
     },
     "metadata": {},
     "output_type": "display_data"
    },
    {
     "data": {
      "text/html": [
       " View project at <a href='https://wandb.ai/3339811384/YOLOv8' target=\"_blank\">https://wandb.ai/3339811384/YOLOv8</a>"
      ],
      "text/plain": [
       "<IPython.core.display.HTML object>"
      ]
     },
     "metadata": {},
     "output_type": "display_data"
    },
    {
     "data": {
      "text/html": [
       " View run at <a href='https://wandb.ai/3339811384/YOLOv8/runs/fwr7xgs7' target=\"_blank\">https://wandb.ai/3339811384/YOLOv8/runs/fwr7xgs7</a>"
      ],
      "text/plain": [
       "<IPython.core.display.HTML object>"
      ]
     },
     "metadata": {},
     "output_type": "display_data"
    },
    {
     "name": "stdout",
     "output_type": "stream",
     "text": [
      "Freezing layer 'model.25.dfl.conv.weight'\n",
      "\u001b[34m\u001b[1mAMP: \u001b[0mrunning Automatic Mixed Precision (AMP) checks with YOLOv8n...\n",
      "\u001b[34m\u001b[1mAMP: \u001b[0mchecks passed ✅\n"
     ]
    },
    {
     "name": "stderr",
     "output_type": "stream",
     "text": [
      "\u001b[34m\u001b[1mtrain: \u001b[0mScanning /home/ubuntu/文档/GitHub/DL大作业/datasets/Vehicle/labels/train.cache... 8865 images, 0 backgrounds, 0 corrupt: 100%|██████████| 8865/8865 [00:00<?, ?it/s]"
     ]
    },
    {
     "name": "stdout",
     "output_type": "stream",
     "text": [
      "\u001b[34m\u001b[1mtrain: \u001b[0mWARNING ⚠️ /home/ubuntu/文档/GitHub/DL大作业/datasets/Vehicle/images/train/vehicle_0006145.jpg: 1 duplicate labels removed\n"
     ]
    },
    {
     "name": "stderr",
     "output_type": "stream",
     "text": [
      "\n",
      "\u001b[34m\u001b[1mval: \u001b[0mScanning /home/ubuntu/文档/GitHub/DL大作业/datasets/Vehicle/labels/val.cache... 985 images, 0 backgrounds, 0 corrupt: 100%|██████████| 985/985 [00:00<?, ?it/s]\n"
     ]
    },
    {
     "name": "stdout",
     "output_type": "stream",
     "text": [
      "Plotting labels to runs/detect/train261/labels.jpg... \n",
      "\u001b[34m\u001b[1moptimizer:\u001b[0m 'optimizer=auto' found, ignoring 'lr0=0.01' and 'momentum=0.937' and determining best 'optimizer', 'lr0' and 'momentum' automatically... \n",
      "\u001b[34m\u001b[1moptimizer:\u001b[0m SGD(lr=0.01, momentum=0.9) with parameter groups 63 weight(decay=0.0), 143 weight(decay=0.0005), 79 bias(decay=0.0)\n",
      "\u001b[34m\u001b[1mTensorBoard: \u001b[0mmodel graph visualization added ✅\n",
      "Image sizes 640 train, 640 val\n",
      "Using 8 dataloader workers\n",
      "Logging results to \u001b[1mruns/detect/train261\u001b[0m\n",
      "Starting training for 80 epochs...\n",
      "\n",
      "      Epoch    GPU_mem   box_loss   cls_loss   dfl_loss  Instances       Size\n"
     ]
    },
    {
     "name": "stderr",
     "output_type": "stream",
     "text": [
      "       1/80      2.74G      2.764      4.081      4.007          2        640: 100%|██████████| 555/555 [03:48<00:00,  2.43it/s]\n",
      "                 Class     Images  Instances      Box(P          R      mAP50  mAP50-95): 100%|██████████| 31/31 [00:11<00:00,  2.72it/s]"
     ]
    },
    {
     "name": "stdout",
     "output_type": "stream",
     "text": [
      "                   all        985       1004      0.136      0.155      0.123     0.0544\n"
     ]
    },
    {
     "name": "stderr",
     "output_type": "stream",
     "text": [
      "\n"
     ]
    },
    {
     "name": "stdout",
     "output_type": "stream",
     "text": [
      "\n",
      "      Epoch    GPU_mem   box_loss   cls_loss   dfl_loss  Instances       Size\n"
     ]
    },
    {
     "name": "stderr",
     "output_type": "stream",
     "text": [
      "       2/80      2.75G      1.884      2.564      2.664          1        640: 100%|██████████| 555/555 [03:44<00:00,  2.47it/s]\n",
      "                 Class     Images  Instances      Box(P          R      mAP50  mAP50-95): 100%|██████████| 31/31 [00:08<00:00,  3.46it/s]"
     ]
    },
    {
     "name": "stdout",
     "output_type": "stream",
     "text": [
      "                   all        985       1004      0.351      0.516      0.357      0.248\n"
     ]
    },
    {
     "name": "stderr",
     "output_type": "stream",
     "text": [
      "\n"
     ]
    },
    {
     "name": "stdout",
     "output_type": "stream",
     "text": [
      "\n",
      "      Epoch    GPU_mem   box_loss   cls_loss   dfl_loss  Instances       Size\n"
     ]
    },
    {
     "name": "stderr",
     "output_type": "stream",
     "text": [
      "       3/80      2.73G      1.131      1.607      1.749          1        640: 100%|██████████| 555/555 [03:43<00:00,  2.49it/s]\n",
      "                 Class     Images  Instances      Box(P          R      mAP50  mAP50-95): 100%|██████████| 31/31 [00:09<00:00,  3.43it/s]"
     ]
    },
    {
     "name": "stdout",
     "output_type": "stream",
     "text": [
      "                   all        985       1004      0.545      0.608      0.544      0.402\n"
     ]
    },
    {
     "name": "stderr",
     "output_type": "stream",
     "text": [
      "\n"
     ]
    },
    {
     "name": "stdout",
     "output_type": "stream",
     "text": [
      "\n",
      "      Epoch    GPU_mem   box_loss   cls_loss   dfl_loss  Instances       Size\n"
     ]
    },
    {
     "name": "stderr",
     "output_type": "stream",
     "text": [
      "       4/80      2.73G     0.8459      1.174      1.413          2        640: 100%|██████████| 555/555 [03:42<00:00,  2.49it/s]\n",
      "                 Class     Images  Instances      Box(P          R      mAP50  mAP50-95): 100%|██████████| 31/31 [00:08<00:00,  3.50it/s]"
     ]
    },
    {
     "name": "stdout",
     "output_type": "stream",
     "text": [
      "                   all        985       1004      0.489       0.65      0.556      0.418\n"
     ]
    },
    {
     "name": "stderr",
     "output_type": "stream",
     "text": [
      "\n"
     ]
    },
    {
     "name": "stdout",
     "output_type": "stream",
     "text": [
      "\n",
      "      Epoch    GPU_mem   box_loss   cls_loss   dfl_loss  Instances       Size\n"
     ]
    },
    {
     "name": "stderr",
     "output_type": "stream",
     "text": [
      "       5/80      2.73G     0.7103     0.9578      1.268          5        640: 100%|██████████| 555/555 [03:42<00:00,  2.50it/s]\n",
      "                 Class     Images  Instances      Box(P          R      mAP50  mAP50-95): 100%|██████████| 31/31 [00:08<00:00,  3.52it/s]"
     ]
    },
    {
     "name": "stdout",
     "output_type": "stream",
     "text": [
      "                   all        985       1004      0.548      0.691      0.692      0.583\n"
     ]
    },
    {
     "name": "stderr",
     "output_type": "stream",
     "text": [
      "\n"
     ]
    },
    {
     "name": "stdout",
     "output_type": "stream",
     "text": [
      "\n",
      "      Epoch    GPU_mem   box_loss   cls_loss   dfl_loss  Instances       Size\n"
     ]
    },
    {
     "name": "stderr",
     "output_type": "stream",
     "text": [
      "       6/80      2.73G     0.6421     0.8381      1.205          1        640: 100%|██████████| 555/555 [03:42<00:00,  2.50it/s]\n",
      "                 Class     Images  Instances      Box(P          R      mAP50  mAP50-95): 100%|██████████| 31/31 [00:08<00:00,  3.54it/s]"
     ]
    },
    {
     "name": "stdout",
     "output_type": "stream",
     "text": [
      "                   all        985       1004      0.684       0.82      0.809      0.666\n"
     ]
    },
    {
     "name": "stderr",
     "output_type": "stream",
     "text": [
      "\n"
     ]
    },
    {
     "name": "stdout",
     "output_type": "stream",
     "text": [
      "\n",
      "      Epoch    GPU_mem   box_loss   cls_loss   dfl_loss  Instances       Size\n"
     ]
    },
    {
     "name": "stderr",
     "output_type": "stream",
     "text": [
      "       7/80      2.73G     0.6041     0.7711      1.165          2        640: 100%|██████████| 555/555 [03:42<00:00,  2.50it/s]\n",
      "                 Class     Images  Instances      Box(P          R      mAP50  mAP50-95): 100%|██████████| 31/31 [00:08<00:00,  3.52it/s]"
     ]
    },
    {
     "name": "stdout",
     "output_type": "stream",
     "text": [
      "                   all        985       1004      0.858       0.73      0.845      0.739\n"
     ]
    },
    {
     "name": "stderr",
     "output_type": "stream",
     "text": [
      "\n"
     ]
    },
    {
     "name": "stdout",
     "output_type": "stream",
     "text": [
      "\n",
      "      Epoch    GPU_mem   box_loss   cls_loss   dfl_loss  Instances       Size\n"
     ]
    },
    {
     "name": "stderr",
     "output_type": "stream",
     "text": [
      "       8/80      2.72G     0.5722     0.7275      1.135          1        640: 100%|██████████| 555/555 [03:42<00:00,  2.50it/s]\n",
      "                 Class     Images  Instances      Box(P          R      mAP50  mAP50-95): 100%|██████████| 31/31 [00:08<00:00,  3.55it/s]"
     ]
    },
    {
     "name": "stdout",
     "output_type": "stream",
     "text": [
      "                   all        985       1004      0.746      0.616      0.707       0.56\n"
     ]
    },
    {
     "name": "stderr",
     "output_type": "stream",
     "text": [
      "\n"
     ]
    },
    {
     "name": "stdout",
     "output_type": "stream",
     "text": [
      "\n",
      "      Epoch    GPU_mem   box_loss   cls_loss   dfl_loss  Instances       Size\n"
     ]
    },
    {
     "name": "stderr",
     "output_type": "stream",
     "text": [
      "       9/80      2.73G     0.5514     0.6821      1.117          1        640: 100%|██████████| 555/555 [03:42<00:00,  2.50it/s]\n",
      "                 Class     Images  Instances      Box(P          R      mAP50  mAP50-95): 100%|██████████| 31/31 [00:08<00:00,  3.55it/s]"
     ]
    },
    {
     "name": "stdout",
     "output_type": "stream",
     "text": [
      "                   all        985       1004      0.812       0.85      0.906      0.799\n"
     ]
    },
    {
     "name": "stderr",
     "output_type": "stream",
     "text": [
      "\n"
     ]
    },
    {
     "name": "stdout",
     "output_type": "stream",
     "text": [
      "\n",
      "      Epoch    GPU_mem   box_loss   cls_loss   dfl_loss  Instances       Size\n"
     ]
    },
    {
     "name": "stderr",
     "output_type": "stream",
     "text": [
      "      10/80      2.73G     0.5276     0.6443      1.096          2        640: 100%|██████████| 555/555 [03:42<00:00,  2.50it/s]\n",
      "                 Class     Images  Instances      Box(P          R      mAP50  mAP50-95): 100%|██████████| 31/31 [00:08<00:00,  3.55it/s]"
     ]
    },
    {
     "name": "stdout",
     "output_type": "stream",
     "text": [
      "                   all        985       1004      0.772      0.815      0.882      0.792\n"
     ]
    },
    {
     "name": "stderr",
     "output_type": "stream",
     "text": [
      "\n"
     ]
    },
    {
     "name": "stdout",
     "output_type": "stream",
     "text": [
      "\n",
      "      Epoch    GPU_mem   box_loss   cls_loss   dfl_loss  Instances       Size\n"
     ]
    },
    {
     "name": "stderr",
     "output_type": "stream",
     "text": [
      "      11/80      2.73G     0.5131     0.6166      1.086          2        640: 100%|██████████| 555/555 [03:42<00:00,  2.50it/s]\n",
      "                 Class     Images  Instances      Box(P          R      mAP50  mAP50-95): 100%|██████████| 31/31 [00:08<00:00,  3.52it/s]"
     ]
    },
    {
     "name": "stdout",
     "output_type": "stream",
     "text": [
      "                   all        985       1004      0.786      0.812      0.857      0.769\n"
     ]
    },
    {
     "name": "stderr",
     "output_type": "stream",
     "text": [
      "\n"
     ]
    },
    {
     "name": "stdout",
     "output_type": "stream",
     "text": [
      "\n",
      "      Epoch    GPU_mem   box_loss   cls_loss   dfl_loss  Instances       Size\n"
     ]
    },
    {
     "name": "stderr",
     "output_type": "stream",
     "text": [
      "      12/80      2.72G     0.4997     0.5939      1.071          2        640: 100%|██████████| 555/555 [03:42<00:00,  2.50it/s]\n",
      "                 Class     Images  Instances      Box(P          R      mAP50  mAP50-95): 100%|██████████| 31/31 [00:08<00:00,  3.52it/s]"
     ]
    },
    {
     "name": "stdout",
     "output_type": "stream",
     "text": [
      "                   all        985       1004      0.838       0.83      0.909      0.819\n"
     ]
    },
    {
     "name": "stderr",
     "output_type": "stream",
     "text": [
      "\n"
     ]
    },
    {
     "name": "stdout",
     "output_type": "stream",
     "text": [
      "\n",
      "      Epoch    GPU_mem   box_loss   cls_loss   dfl_loss  Instances       Size\n"
     ]
    },
    {
     "name": "stderr",
     "output_type": "stream",
     "text": [
      "      13/80      2.75G     0.4917     0.5778      1.063          1        640: 100%|██████████| 555/555 [03:42<00:00,  2.50it/s]\n",
      "                 Class     Images  Instances      Box(P          R      mAP50  mAP50-95): 100%|██████████| 31/31 [00:08<00:00,  3.53it/s]"
     ]
    },
    {
     "name": "stdout",
     "output_type": "stream",
     "text": [
      "                   all        985       1004      0.873      0.831      0.898       0.79\n"
     ]
    },
    {
     "name": "stderr",
     "output_type": "stream",
     "text": [
      "\n"
     ]
    },
    {
     "name": "stdout",
     "output_type": "stream",
     "text": [
      "\n",
      "      Epoch    GPU_mem   box_loss   cls_loss   dfl_loss  Instances       Size\n"
     ]
    },
    {
     "name": "stderr",
     "output_type": "stream",
     "text": [
      "      14/80      2.73G     0.4839     0.5651       1.06          3        640: 100%|██████████| 555/555 [03:42<00:00,  2.49it/s]\n",
      "                 Class     Images  Instances      Box(P          R      mAP50  mAP50-95): 100%|██████████| 31/31 [00:08<00:00,  3.57it/s]"
     ]
    },
    {
     "name": "stdout",
     "output_type": "stream",
     "text": [
      "                   all        985       1004      0.802      0.871      0.911      0.832\n"
     ]
    },
    {
     "name": "stderr",
     "output_type": "stream",
     "text": [
      "\n"
     ]
    },
    {
     "name": "stdout",
     "output_type": "stream",
     "text": [
      "\n",
      "      Epoch    GPU_mem   box_loss   cls_loss   dfl_loss  Instances       Size\n"
     ]
    },
    {
     "name": "stderr",
     "output_type": "stream",
     "text": [
      "      15/80      2.75G     0.4721     0.5451      1.049          3        640: 100%|██████████| 555/555 [03:42<00:00,  2.50it/s]\n",
      "                 Class     Images  Instances      Box(P          R      mAP50  mAP50-95): 100%|██████████| 31/31 [00:08<00:00,  3.51it/s]"
     ]
    },
    {
     "name": "stdout",
     "output_type": "stream",
     "text": [
      "                   all        985       1004      0.862      0.888      0.939      0.875\n"
     ]
    },
    {
     "name": "stderr",
     "output_type": "stream",
     "text": [
      "\n"
     ]
    },
    {
     "name": "stdout",
     "output_type": "stream",
     "text": [
      "\n",
      "      Epoch    GPU_mem   box_loss   cls_loss   dfl_loss  Instances       Size\n"
     ]
    },
    {
     "name": "stderr",
     "output_type": "stream",
     "text": [
      "      16/80      2.72G     0.4644     0.5319      1.047          4        640: 100%|██████████| 555/555 [03:42<00:00,  2.50it/s]\n",
      "                 Class     Images  Instances      Box(P          R      mAP50  mAP50-95): 100%|██████████| 31/31 [00:08<00:00,  3.53it/s]"
     ]
    },
    {
     "name": "stdout",
     "output_type": "stream",
     "text": [
      "                   all        985       1004      0.872      0.896      0.936      0.858\n"
     ]
    },
    {
     "name": "stderr",
     "output_type": "stream",
     "text": [
      "\n"
     ]
    },
    {
     "name": "stdout",
     "output_type": "stream",
     "text": [
      "\n",
      "      Epoch    GPU_mem   box_loss   cls_loss   dfl_loss  Instances       Size\n"
     ]
    },
    {
     "name": "stderr",
     "output_type": "stream",
     "text": [
      "      17/80      2.73G     0.4607     0.5256      1.043          2        640: 100%|██████████| 555/555 [03:42<00:00,  2.49it/s]\n",
      "                 Class     Images  Instances      Box(P          R      mAP50  mAP50-95): 100%|██████████| 31/31 [00:08<00:00,  3.54it/s]"
     ]
    },
    {
     "name": "stdout",
     "output_type": "stream",
     "text": [
      "                   all        985       1004      0.864      0.946      0.952      0.892\n"
     ]
    },
    {
     "name": "stderr",
     "output_type": "stream",
     "text": [
      "\n"
     ]
    },
    {
     "name": "stdout",
     "output_type": "stream",
     "text": [
      "\n",
      "      Epoch    GPU_mem   box_loss   cls_loss   dfl_loss  Instances       Size\n"
     ]
    },
    {
     "name": "stderr",
     "output_type": "stream",
     "text": [
      "      18/80      2.73G     0.4554     0.5187      1.035          0        640: 100%|██████████| 555/555 [03:42<00:00,  2.50it/s]\n",
      "                 Class     Images  Instances      Box(P          R      mAP50  mAP50-95): 100%|██████████| 31/31 [00:08<00:00,  3.57it/s]"
     ]
    },
    {
     "name": "stdout",
     "output_type": "stream",
     "text": [
      "                   all        985       1004      0.875      0.883      0.943      0.867\n"
     ]
    },
    {
     "name": "stderr",
     "output_type": "stream",
     "text": [
      "\n"
     ]
    },
    {
     "name": "stdout",
     "output_type": "stream",
     "text": [
      "\n",
      "      Epoch    GPU_mem   box_loss   cls_loss   dfl_loss  Instances       Size\n"
     ]
    },
    {
     "name": "stderr",
     "output_type": "stream",
     "text": [
      "      19/80      2.73G     0.4469     0.5078      1.032          2        640: 100%|██████████| 555/555 [03:42<00:00,  2.49it/s]\n",
      "                 Class     Images  Instances      Box(P          R      mAP50  mAP50-95): 100%|██████████| 31/31 [00:08<00:00,  3.55it/s]"
     ]
    },
    {
     "name": "stdout",
     "output_type": "stream",
     "text": [
      "                   all        985       1004      0.906      0.916      0.954      0.888\n"
     ]
    },
    {
     "name": "stderr",
     "output_type": "stream",
     "text": [
      "\n"
     ]
    },
    {
     "name": "stdout",
     "output_type": "stream",
     "text": [
      "\n",
      "      Epoch    GPU_mem   box_loss   cls_loss   dfl_loss  Instances       Size\n"
     ]
    },
    {
     "name": "stderr",
     "output_type": "stream",
     "text": [
      "      20/80      2.72G     0.4406     0.4945      1.027          2        640: 100%|██████████| 555/555 [03:42<00:00,  2.50it/s]\n",
      "                 Class     Images  Instances      Box(P          R      mAP50  mAP50-95): 100%|██████████| 31/31 [00:08<00:00,  3.56it/s]"
     ]
    },
    {
     "name": "stdout",
     "output_type": "stream",
     "text": [
      "                   all        985       1004      0.908       0.86      0.946      0.884\n"
     ]
    },
    {
     "name": "stderr",
     "output_type": "stream",
     "text": [
      "\n"
     ]
    },
    {
     "name": "stdout",
     "output_type": "stream",
     "text": [
      "\n",
      "      Epoch    GPU_mem   box_loss   cls_loss   dfl_loss  Instances       Size\n"
     ]
    },
    {
     "name": "stderr",
     "output_type": "stream",
     "text": [
      "      21/80      2.73G     0.4364     0.4899      1.025          4        640: 100%|██████████| 555/555 [03:42<00:00,  2.50it/s]\n",
      "                 Class     Images  Instances      Box(P          R      mAP50  mAP50-95): 100%|██████████| 31/31 [00:08<00:00,  3.54it/s]"
     ]
    },
    {
     "name": "stdout",
     "output_type": "stream",
     "text": [
      "                   all        985       1004       0.95      0.919      0.964      0.904\n"
     ]
    },
    {
     "name": "stderr",
     "output_type": "stream",
     "text": [
      "\n"
     ]
    },
    {
     "name": "stdout",
     "output_type": "stream",
     "text": [
      "\n",
      "      Epoch    GPU_mem   box_loss   cls_loss   dfl_loss  Instances       Size\n"
     ]
    },
    {
     "name": "stderr",
     "output_type": "stream",
     "text": [
      "      22/80      2.75G     0.4314     0.4777      1.018          1        640: 100%|██████████| 555/555 [03:42<00:00,  2.50it/s]\n",
      "                 Class     Images  Instances      Box(P          R      mAP50  mAP50-95): 100%|██████████| 31/31 [00:08<00:00,  3.54it/s]"
     ]
    },
    {
     "name": "stdout",
     "output_type": "stream",
     "text": [
      "                   all        985       1004       0.88      0.906      0.931      0.869\n"
     ]
    },
    {
     "name": "stderr",
     "output_type": "stream",
     "text": [
      "\n"
     ]
    },
    {
     "name": "stdout",
     "output_type": "stream",
     "text": [
      "\n",
      "      Epoch    GPU_mem   box_loss   cls_loss   dfl_loss  Instances       Size\n"
     ]
    },
    {
     "name": "stderr",
     "output_type": "stream",
     "text": [
      "      23/80      2.73G     0.4282     0.4798      1.018          3        640: 100%|██████████| 555/555 [03:42<00:00,  2.50it/s]\n",
      "                 Class     Images  Instances      Box(P          R      mAP50  mAP50-95): 100%|██████████| 31/31 [00:08<00:00,  3.57it/s]"
     ]
    },
    {
     "name": "stdout",
     "output_type": "stream",
     "text": [
      "                   all        985       1004      0.928      0.858      0.946      0.881\n"
     ]
    },
    {
     "name": "stderr",
     "output_type": "stream",
     "text": [
      "\n"
     ]
    },
    {
     "name": "stdout",
     "output_type": "stream",
     "text": [
      "\n",
      "      Epoch    GPU_mem   box_loss   cls_loss   dfl_loss  Instances       Size\n"
     ]
    },
    {
     "name": "stderr",
     "output_type": "stream",
     "text": [
      "      24/80      2.72G     0.4222     0.4592      1.014          2        640: 100%|██████████| 555/555 [03:42<00:00,  2.50it/s]\n",
      "                 Class     Images  Instances      Box(P          R      mAP50  mAP50-95): 100%|██████████| 31/31 [00:08<00:00,  3.55it/s]"
     ]
    },
    {
     "name": "stdout",
     "output_type": "stream",
     "text": [
      "                   all        985       1004      0.915      0.904      0.959      0.907\n"
     ]
    },
    {
     "name": "stderr",
     "output_type": "stream",
     "text": [
      "\n"
     ]
    },
    {
     "name": "stdout",
     "output_type": "stream",
     "text": [
      "\n",
      "      Epoch    GPU_mem   box_loss   cls_loss   dfl_loss  Instances       Size\n"
     ]
    },
    {
     "name": "stderr",
     "output_type": "stream",
     "text": [
      "      25/80      2.73G     0.4164     0.4537      1.011          4        640: 100%|██████████| 555/555 [03:42<00:00,  2.49it/s]\n",
      "                 Class     Images  Instances      Box(P          R      mAP50  mAP50-95): 100%|██████████| 31/31 [00:08<00:00,  3.58it/s]"
     ]
    },
    {
     "name": "stdout",
     "output_type": "stream",
     "text": [
      "                   all        985       1004      0.915       0.92      0.955       0.91\n"
     ]
    },
    {
     "name": "stderr",
     "output_type": "stream",
     "text": [
      "\n"
     ]
    },
    {
     "name": "stdout",
     "output_type": "stream",
     "text": [
      "\n",
      "      Epoch    GPU_mem   box_loss   cls_loss   dfl_loss  Instances       Size\n"
     ]
    },
    {
     "name": "stderr",
     "output_type": "stream",
     "text": [
      "      26/80      2.73G     0.4172     0.4559      1.007          2        640: 100%|██████████| 555/555 [03:42<00:00,  2.50it/s]\n",
      "                 Class     Images  Instances      Box(P          R      mAP50  mAP50-95): 100%|██████████| 31/31 [00:08<00:00,  3.57it/s]"
     ]
    },
    {
     "name": "stdout",
     "output_type": "stream",
     "text": [
      "                   all        985       1004       0.94      0.899      0.961      0.921\n"
     ]
    },
    {
     "name": "stderr",
     "output_type": "stream",
     "text": [
      "\n"
     ]
    },
    {
     "name": "stdout",
     "output_type": "stream",
     "text": [
      "\n",
      "      Epoch    GPU_mem   box_loss   cls_loss   dfl_loss  Instances       Size\n"
     ]
    },
    {
     "name": "stderr",
     "output_type": "stream",
     "text": [
      "      27/80      2.73G     0.4161     0.4559      1.012          2        640: 100%|██████████| 555/555 [03:42<00:00,  2.49it/s]\n",
      "                 Class     Images  Instances      Box(P          R      mAP50  mAP50-95): 100%|██████████| 31/31 [00:08<00:00,  3.56it/s]"
     ]
    },
    {
     "name": "stdout",
     "output_type": "stream",
     "text": [
      "                   all        985       1004      0.912      0.933      0.962      0.919\n"
     ]
    },
    {
     "name": "stderr",
     "output_type": "stream",
     "text": [
      "\n"
     ]
    },
    {
     "name": "stdout",
     "output_type": "stream",
     "text": [
      "\n",
      "      Epoch    GPU_mem   box_loss   cls_loss   dfl_loss  Instances       Size\n"
     ]
    },
    {
     "name": "stderr",
     "output_type": "stream",
     "text": [
      "      28/80      2.72G     0.4077     0.4452      1.003          4        640: 100%|██████████| 555/555 [03:42<00:00,  2.50it/s]\n",
      "                 Class     Images  Instances      Box(P          R      mAP50  mAP50-95): 100%|██████████| 31/31 [00:08<00:00,  3.55it/s]"
     ]
    },
    {
     "name": "stdout",
     "output_type": "stream",
     "text": [
      "                   all        985       1004      0.938      0.894      0.966      0.921\n"
     ]
    },
    {
     "name": "stderr",
     "output_type": "stream",
     "text": [
      "\n"
     ]
    },
    {
     "name": "stdout",
     "output_type": "stream",
     "text": [
      "\n",
      "      Epoch    GPU_mem   box_loss   cls_loss   dfl_loss  Instances       Size\n"
     ]
    },
    {
     "name": "stderr",
     "output_type": "stream",
     "text": [
      "      29/80      2.73G     0.4058     0.4351      1.002          2        640: 100%|██████████| 555/555 [03:42<00:00,  2.50it/s]\n",
      "                 Class     Images  Instances      Box(P          R      mAP50  mAP50-95): 100%|██████████| 31/31 [00:08<00:00,  3.55it/s]"
     ]
    },
    {
     "name": "stdout",
     "output_type": "stream",
     "text": [
      "                   all        985       1004      0.922      0.901      0.955      0.891\n"
     ]
    },
    {
     "name": "stderr",
     "output_type": "stream",
     "text": [
      "\n"
     ]
    },
    {
     "name": "stdout",
     "output_type": "stream",
     "text": [
      "\n",
      "      Epoch    GPU_mem   box_loss   cls_loss   dfl_loss  Instances       Size\n"
     ]
    },
    {
     "name": "stderr",
     "output_type": "stream",
     "text": [
      "      30/80      2.73G     0.4013     0.4341     0.9989          4        640: 100%|██████████| 555/555 [03:42<00:00,  2.50it/s]\n",
      "                 Class     Images  Instances      Box(P          R      mAP50  mAP50-95): 100%|██████████| 31/31 [00:08<00:00,  3.57it/s]"
     ]
    },
    {
     "name": "stdout",
     "output_type": "stream",
     "text": [
      "                   all        985       1004      0.937      0.922      0.968      0.916\n"
     ]
    },
    {
     "name": "stderr",
     "output_type": "stream",
     "text": [
      "\n"
     ]
    },
    {
     "name": "stdout",
     "output_type": "stream",
     "text": [
      "\n",
      "      Epoch    GPU_mem   box_loss   cls_loss   dfl_loss  Instances       Size\n"
     ]
    },
    {
     "name": "stderr",
     "output_type": "stream",
     "text": [
      "      31/80      2.73G     0.3979     0.4363     0.9999          1        640: 100%|██████████| 555/555 [03:42<00:00,  2.50it/s]\n",
      "                 Class     Images  Instances      Box(P          R      mAP50  mAP50-95): 100%|██████████| 31/31 [00:08<00:00,  3.56it/s]"
     ]
    },
    {
     "name": "stdout",
     "output_type": "stream",
     "text": [
      "                   all        985       1004      0.938      0.933      0.972      0.933\n"
     ]
    },
    {
     "name": "stderr",
     "output_type": "stream",
     "text": [
      "\n"
     ]
    },
    {
     "name": "stdout",
     "output_type": "stream",
     "text": [
      "\n",
      "      Epoch    GPU_mem   box_loss   cls_loss   dfl_loss  Instances       Size\n"
     ]
    },
    {
     "name": "stderr",
     "output_type": "stream",
     "text": [
      "      32/80      2.72G     0.3949     0.4228     0.9937          1        640: 100%|██████████| 555/555 [03:42<00:00,  2.50it/s]\n",
      "                 Class     Images  Instances      Box(P          R      mAP50  mAP50-95): 100%|██████████| 31/31 [00:08<00:00,  3.58it/s]"
     ]
    },
    {
     "name": "stdout",
     "output_type": "stream",
     "text": [
      "                   all        985       1004      0.934      0.934      0.971      0.929\n"
     ]
    },
    {
     "name": "stderr",
     "output_type": "stream",
     "text": [
      "\n"
     ]
    },
    {
     "name": "stdout",
     "output_type": "stream",
     "text": [
      "\n",
      "      Epoch    GPU_mem   box_loss   cls_loss   dfl_loss  Instances       Size\n"
     ]
    },
    {
     "name": "stderr",
     "output_type": "stream",
     "text": [
      "      33/80      2.75G     0.3942      0.415     0.9954          1        640: 100%|██████████| 555/555 [03:42<00:00,  2.49it/s]\n",
      "                 Class     Images  Instances      Box(P          R      mAP50  mAP50-95): 100%|██████████| 31/31 [00:08<00:00,  3.56it/s]"
     ]
    },
    {
     "name": "stdout",
     "output_type": "stream",
     "text": [
      "                   all        985       1004      0.924      0.936      0.967       0.92\n"
     ]
    },
    {
     "name": "stderr",
     "output_type": "stream",
     "text": [
      "\n"
     ]
    },
    {
     "name": "stdout",
     "output_type": "stream",
     "text": [
      "\n",
      "      Epoch    GPU_mem   box_loss   cls_loss   dfl_loss  Instances       Size\n"
     ]
    },
    {
     "name": "stderr",
     "output_type": "stream",
     "text": [
      "      34/80      2.73G      0.393     0.4231     0.9937          2        640: 100%|██████████| 555/555 [03:43<00:00,  2.48it/s]\n",
      "                 Class     Images  Instances      Box(P          R      mAP50  mAP50-95): 100%|██████████| 31/31 [00:08<00:00,  3.54it/s]"
     ]
    },
    {
     "name": "stdout",
     "output_type": "stream",
     "text": [
      "                   all        985       1004      0.935      0.924      0.969      0.934\n"
     ]
    },
    {
     "name": "stderr",
     "output_type": "stream",
     "text": [
      "\n"
     ]
    },
    {
     "name": "stdout",
     "output_type": "stream",
     "text": [
      "\n",
      "      Epoch    GPU_mem   box_loss   cls_loss   dfl_loss  Instances       Size\n"
     ]
    },
    {
     "name": "stderr",
     "output_type": "stream",
     "text": [
      "      35/80      2.75G     0.3888     0.4135     0.9912          1        640: 100%|██████████| 555/555 [03:43<00:00,  2.48it/s]\n",
      "                 Class     Images  Instances      Box(P          R      mAP50  mAP50-95): 100%|██████████| 31/31 [00:08<00:00,  3.54it/s]"
     ]
    },
    {
     "name": "stdout",
     "output_type": "stream",
     "text": [
      "                   all        985       1004      0.932      0.954      0.972       0.93\n"
     ]
    },
    {
     "name": "stderr",
     "output_type": "stream",
     "text": [
      "\n"
     ]
    },
    {
     "name": "stdout",
     "output_type": "stream",
     "text": [
      "\n",
      "      Epoch    GPU_mem   box_loss   cls_loss   dfl_loss  Instances       Size\n"
     ]
    },
    {
     "name": "stderr",
     "output_type": "stream",
     "text": [
      "      36/80      2.72G      0.387     0.4209     0.9868          1        640: 100%|██████████| 555/555 [03:43<00:00,  2.48it/s]\n",
      "                 Class     Images  Instances      Box(P          R      mAP50  mAP50-95): 100%|██████████| 31/31 [00:08<00:00,  3.55it/s]"
     ]
    },
    {
     "name": "stdout",
     "output_type": "stream",
     "text": [
      "                   all        985       1004      0.934      0.929       0.97      0.931\n"
     ]
    },
    {
     "name": "stderr",
     "output_type": "stream",
     "text": [
      "\n"
     ]
    },
    {
     "name": "stdout",
     "output_type": "stream",
     "text": [
      "\n",
      "      Epoch    GPU_mem   box_loss   cls_loss   dfl_loss  Instances       Size\n"
     ]
    },
    {
     "name": "stderr",
     "output_type": "stream",
     "text": [
      "      37/80      2.73G     0.3872     0.4159     0.9866          1        640: 100%|██████████| 555/555 [03:43<00:00,  2.48it/s]\n",
      "                 Class     Images  Instances      Box(P          R      mAP50  mAP50-95): 100%|██████████| 31/31 [00:08<00:00,  3.55it/s]"
     ]
    },
    {
     "name": "stdout",
     "output_type": "stream",
     "text": [
      "                   all        985       1004      0.936       0.93       0.97      0.937\n"
     ]
    },
    {
     "name": "stderr",
     "output_type": "stream",
     "text": [
      "\n"
     ]
    },
    {
     "name": "stdout",
     "output_type": "stream",
     "text": [
      "\n",
      "      Epoch    GPU_mem   box_loss   cls_loss   dfl_loss  Instances       Size\n"
     ]
    },
    {
     "name": "stderr",
     "output_type": "stream",
     "text": [
      "      38/80      2.75G     0.3836     0.4019      0.988          3        640: 100%|██████████| 555/555 [03:43<00:00,  2.48it/s]\n",
      "                 Class     Images  Instances      Box(P          R      mAP50  mAP50-95): 100%|██████████| 31/31 [00:08<00:00,  3.55it/s]"
     ]
    },
    {
     "name": "stdout",
     "output_type": "stream",
     "text": [
      "                   all        985       1004      0.961      0.943       0.98      0.942\n"
     ]
    },
    {
     "name": "stderr",
     "output_type": "stream",
     "text": [
      "\n"
     ]
    },
    {
     "name": "stdout",
     "output_type": "stream",
     "text": [
      "\n",
      "      Epoch    GPU_mem   box_loss   cls_loss   dfl_loss  Instances       Size\n"
     ]
    },
    {
     "name": "stderr",
     "output_type": "stream",
     "text": [
      "      39/80      2.73G     0.3783     0.4026     0.9817          2        640: 100%|██████████| 555/555 [03:43<00:00,  2.48it/s]\n",
      "                 Class     Images  Instances      Box(P          R      mAP50  mAP50-95): 100%|██████████| 31/31 [00:08<00:00,  3.52it/s]"
     ]
    },
    {
     "name": "stdout",
     "output_type": "stream",
     "text": [
      "                   all        985       1004      0.937      0.951      0.977       0.94\n"
     ]
    },
    {
     "name": "stderr",
     "output_type": "stream",
     "text": [
      "\n"
     ]
    },
    {
     "name": "stdout",
     "output_type": "stream",
     "text": [
      "\n",
      "      Epoch    GPU_mem   box_loss   cls_loss   dfl_loss  Instances       Size\n"
     ]
    },
    {
     "name": "stderr",
     "output_type": "stream",
     "text": [
      "      40/80      2.74G     0.3763     0.3944     0.9808          1        640: 100%|██████████| 555/555 [03:43<00:00,  2.48it/s]\n",
      "                 Class     Images  Instances      Box(P          R      mAP50  mAP50-95): 100%|██████████| 31/31 [00:08<00:00,  3.54it/s]"
     ]
    },
    {
     "name": "stdout",
     "output_type": "stream",
     "text": [
      "                   all        985       1004      0.948      0.924      0.971      0.935\n"
     ]
    },
    {
     "name": "stderr",
     "output_type": "stream",
     "text": [
      "\n"
     ]
    },
    {
     "name": "stdout",
     "output_type": "stream",
     "text": [
      "\n",
      "      Epoch    GPU_mem   box_loss   cls_loss   dfl_loss  Instances       Size\n"
     ]
    },
    {
     "name": "stderr",
     "output_type": "stream",
     "text": [
      "      41/80      2.73G     0.3771     0.4023     0.9839          2        640: 100%|██████████| 555/555 [03:43<00:00,  2.48it/s]\n",
      "                 Class     Images  Instances      Box(P          R      mAP50  mAP50-95): 100%|██████████| 31/31 [00:08<00:00,  3.52it/s]"
     ]
    },
    {
     "name": "stdout",
     "output_type": "stream",
     "text": [
      "                   all        985       1004      0.952      0.931      0.974      0.938\n"
     ]
    },
    {
     "name": "stderr",
     "output_type": "stream",
     "text": [
      "\n"
     ]
    },
    {
     "name": "stdout",
     "output_type": "stream",
     "text": [
      "\n",
      "      Epoch    GPU_mem   box_loss   cls_loss   dfl_loss  Instances       Size\n"
     ]
    },
    {
     "name": "stderr",
     "output_type": "stream",
     "text": [
      "      42/80      2.73G     0.3737     0.3933     0.9805          2        640: 100%|██████████| 555/555 [03:43<00:00,  2.48it/s]\n",
      "                 Class     Images  Instances      Box(P          R      mAP50  mAP50-95): 100%|██████████| 31/31 [00:08<00:00,  3.53it/s]"
     ]
    },
    {
     "name": "stdout",
     "output_type": "stream",
     "text": [
      "                   all        985       1004      0.935      0.939      0.974      0.939\n"
     ]
    },
    {
     "name": "stderr",
     "output_type": "stream",
     "text": [
      "\n"
     ]
    },
    {
     "name": "stdout",
     "output_type": "stream",
     "text": [
      "\n",
      "      Epoch    GPU_mem   box_loss   cls_loss   dfl_loss  Instances       Size\n"
     ]
    },
    {
     "name": "stderr",
     "output_type": "stream",
     "text": [
      "      43/80      2.73G     0.3682     0.3862     0.9748          4        640: 100%|██████████| 555/555 [03:43<00:00,  2.48it/s]\n",
      "                 Class     Images  Instances      Box(P          R      mAP50  mAP50-95): 100%|██████████| 31/31 [00:08<00:00,  3.55it/s]"
     ]
    },
    {
     "name": "stdout",
     "output_type": "stream",
     "text": [
      "                   all        985       1004       0.96      0.935      0.976      0.942\n"
     ]
    },
    {
     "name": "stderr",
     "output_type": "stream",
     "text": [
      "\n"
     ]
    },
    {
     "name": "stdout",
     "output_type": "stream",
     "text": [
      "\n",
      "      Epoch    GPU_mem   box_loss   cls_loss   dfl_loss  Instances       Size\n"
     ]
    },
    {
     "name": "stderr",
     "output_type": "stream",
     "text": [
      "      44/80      2.72G     0.3674     0.3832      0.975          1        640: 100%|██████████| 555/555 [03:43<00:00,  2.48it/s]\n",
      "                 Class     Images  Instances      Box(P          R      mAP50  mAP50-95): 100%|██████████| 31/31 [00:08<00:00,  3.54it/s]"
     ]
    },
    {
     "name": "stdout",
     "output_type": "stream",
     "text": [
      "                   all        985       1004      0.938      0.932      0.975       0.94\n"
     ]
    },
    {
     "name": "stderr",
     "output_type": "stream",
     "text": [
      "\n"
     ]
    },
    {
     "name": "stdout",
     "output_type": "stream",
     "text": [
      "\n",
      "      Epoch    GPU_mem   box_loss   cls_loss   dfl_loss  Instances       Size\n"
     ]
    },
    {
     "name": "stderr",
     "output_type": "stream",
     "text": [
      "      45/80      2.73G     0.3645     0.3757       0.97          2        640: 100%|██████████| 555/555 [03:43<00:00,  2.48it/s]\n",
      "                 Class     Images  Instances      Box(P          R      mAP50  mAP50-95): 100%|██████████| 31/31 [00:08<00:00,  3.53it/s]"
     ]
    },
    {
     "name": "stdout",
     "output_type": "stream",
     "text": [
      "                   all        985       1004      0.978      0.928      0.977      0.946\n"
     ]
    },
    {
     "name": "stderr",
     "output_type": "stream",
     "text": [
      "\n"
     ]
    },
    {
     "name": "stdout",
     "output_type": "stream",
     "text": [
      "\n",
      "      Epoch    GPU_mem   box_loss   cls_loss   dfl_loss  Instances       Size\n"
     ]
    },
    {
     "name": "stderr",
     "output_type": "stream",
     "text": [
      "      46/80      2.73G     0.3683     0.3895     0.9765          3        640: 100%|██████████| 555/555 [03:43<00:00,  2.48it/s]\n",
      "                 Class     Images  Instances      Box(P          R      mAP50  mAP50-95): 100%|██████████| 31/31 [00:08<00:00,  3.54it/s]"
     ]
    },
    {
     "name": "stdout",
     "output_type": "stream",
     "text": [
      "                   all        985       1004      0.975      0.925      0.974      0.942\n"
     ]
    },
    {
     "name": "stderr",
     "output_type": "stream",
     "text": [
      "\n"
     ]
    },
    {
     "name": "stdout",
     "output_type": "stream",
     "text": [
      "\n",
      "      Epoch    GPU_mem   box_loss   cls_loss   dfl_loss  Instances       Size\n"
     ]
    },
    {
     "name": "stderr",
     "output_type": "stream",
     "text": [
      "      47/80      2.73G     0.3631     0.3736     0.9712          4        640: 100%|██████████| 555/555 [03:43<00:00,  2.48it/s]\n",
      "                 Class     Images  Instances      Box(P          R      mAP50  mAP50-95): 100%|██████████| 31/31 [00:08<00:00,  3.54it/s]"
     ]
    },
    {
     "name": "stdout",
     "output_type": "stream",
     "text": [
      "                   all        985       1004      0.945      0.948      0.976      0.942\n"
     ]
    },
    {
     "name": "stderr",
     "output_type": "stream",
     "text": [
      "\n"
     ]
    },
    {
     "name": "stdout",
     "output_type": "stream",
     "text": [
      "\n",
      "      Epoch    GPU_mem   box_loss   cls_loss   dfl_loss  Instances       Size\n"
     ]
    },
    {
     "name": "stderr",
     "output_type": "stream",
     "text": [
      "      48/80      2.72G     0.3627     0.3731     0.9699          4        640: 100%|██████████| 555/555 [03:43<00:00,  2.48it/s]\n",
      "                 Class     Images  Instances      Box(P          R      mAP50  mAP50-95): 100%|██████████| 31/31 [00:08<00:00,  3.54it/s]"
     ]
    },
    {
     "name": "stdout",
     "output_type": "stream",
     "text": [
      "                   all        985       1004      0.932      0.953      0.975      0.944\n"
     ]
    },
    {
     "name": "stderr",
     "output_type": "stream",
     "text": [
      "\n"
     ]
    },
    {
     "name": "stdout",
     "output_type": "stream",
     "text": [
      "\n",
      "      Epoch    GPU_mem   box_loss   cls_loss   dfl_loss  Instances       Size\n"
     ]
    },
    {
     "name": "stderr",
     "output_type": "stream",
     "text": [
      "      49/80      2.73G     0.3599     0.3744     0.9681          1        640: 100%|██████████| 555/555 [03:43<00:00,  2.48it/s]\n",
      "                 Class     Images  Instances      Box(P          R      mAP50  mAP50-95): 100%|██████████| 31/31 [00:08<00:00,  3.50it/s]"
     ]
    },
    {
     "name": "stdout",
     "output_type": "stream",
     "text": [
      "                   all        985       1004      0.955      0.934      0.975      0.948\n"
     ]
    },
    {
     "name": "stderr",
     "output_type": "stream",
     "text": [
      "\n"
     ]
    },
    {
     "name": "stdout",
     "output_type": "stream",
     "text": [
      "\n",
      "      Epoch    GPU_mem   box_loss   cls_loss   dfl_loss  Instances       Size\n"
     ]
    },
    {
     "name": "stderr",
     "output_type": "stream",
     "text": [
      "      50/80      2.73G     0.3577      0.372     0.9702          2        640: 100%|██████████| 555/555 [03:43<00:00,  2.48it/s]\n",
      "                 Class     Images  Instances      Box(P          R      mAP50  mAP50-95): 100%|██████████| 31/31 [00:08<00:00,  3.54it/s]"
     ]
    },
    {
     "name": "stdout",
     "output_type": "stream",
     "text": [
      "                   all        985       1004      0.937      0.958      0.977      0.946\n"
     ]
    },
    {
     "name": "stderr",
     "output_type": "stream",
     "text": [
      "\n"
     ]
    },
    {
     "name": "stdout",
     "output_type": "stream",
     "text": [
      "\n",
      "      Epoch    GPU_mem   box_loss   cls_loss   dfl_loss  Instances       Size\n"
     ]
    },
    {
     "name": "stderr",
     "output_type": "stream",
     "text": [
      "      51/80      2.73G      0.358     0.3606     0.9701          3        640: 100%|██████████| 555/555 [03:42<00:00,  2.50it/s]\n",
      "                 Class     Images  Instances      Box(P          R      mAP50  mAP50-95): 100%|██████████| 31/31 [00:08<00:00,  3.55it/s]"
     ]
    },
    {
     "name": "stdout",
     "output_type": "stream",
     "text": [
      "                   all        985       1004      0.943      0.934      0.976      0.946\n"
     ]
    },
    {
     "name": "stderr",
     "output_type": "stream",
     "text": [
      "\n"
     ]
    },
    {
     "name": "stdout",
     "output_type": "stream",
     "text": [
      "\n",
      "      Epoch    GPU_mem   box_loss   cls_loss   dfl_loss  Instances       Size\n"
     ]
    },
    {
     "name": "stderr",
     "output_type": "stream",
     "text": [
      "      52/80      2.72G     0.3532      0.363     0.9675          1        640: 100%|██████████| 555/555 [03:42<00:00,  2.50it/s]\n",
      "                 Class     Images  Instances      Box(P          R      mAP50  mAP50-95): 100%|██████████| 31/31 [00:08<00:00,  3.56it/s]"
     ]
    },
    {
     "name": "stdout",
     "output_type": "stream",
     "text": [
      "                   all        985       1004      0.947      0.951       0.98       0.95\n"
     ]
    },
    {
     "name": "stderr",
     "output_type": "stream",
     "text": [
      "\n"
     ]
    },
    {
     "name": "stdout",
     "output_type": "stream",
     "text": [
      "\n",
      "      Epoch    GPU_mem   box_loss   cls_loss   dfl_loss  Instances       Size\n"
     ]
    },
    {
     "name": "stderr",
     "output_type": "stream",
     "text": [
      "      53/80      2.73G     0.3551     0.3605     0.9705          2        640: 100%|██████████| 555/555 [03:42<00:00,  2.50it/s]\n",
      "                 Class     Images  Instances      Box(P          R      mAP50  mAP50-95): 100%|██████████| 31/31 [00:08<00:00,  3.56it/s]"
     ]
    },
    {
     "name": "stdout",
     "output_type": "stream",
     "text": [
      "                   all        985       1004      0.953      0.952      0.977       0.95\n"
     ]
    },
    {
     "name": "stderr",
     "output_type": "stream",
     "text": [
      "\n"
     ]
    },
    {
     "name": "stdout",
     "output_type": "stream",
     "text": [
      "\n",
      "      Epoch    GPU_mem   box_loss   cls_loss   dfl_loss  Instances       Size\n"
     ]
    },
    {
     "name": "stderr",
     "output_type": "stream",
     "text": [
      "      54/80      2.75G     0.3508     0.3551     0.9647          1        640: 100%|██████████| 555/555 [03:42<00:00,  2.50it/s]\n",
      "                 Class     Images  Instances      Box(P          R      mAP50  mAP50-95): 100%|██████████| 31/31 [00:08<00:00,  3.55it/s]"
     ]
    },
    {
     "name": "stdout",
     "output_type": "stream",
     "text": [
      "                   all        985       1004      0.945      0.947      0.977       0.95\n"
     ]
    },
    {
     "name": "stderr",
     "output_type": "stream",
     "text": [
      "\n"
     ]
    },
    {
     "name": "stdout",
     "output_type": "stream",
     "text": [
      "\n",
      "      Epoch    GPU_mem   box_loss   cls_loss   dfl_loss  Instances       Size\n"
     ]
    },
    {
     "name": "stderr",
     "output_type": "stream",
     "text": [
      "      55/80      2.73G     0.3508     0.3567     0.9641          4        640: 100%|██████████| 555/555 [03:42<00:00,  2.50it/s]\n",
      "                 Class     Images  Instances      Box(P          R      mAP50  mAP50-95): 100%|██████████| 31/31 [00:08<00:00,  3.56it/s]"
     ]
    },
    {
     "name": "stdout",
     "output_type": "stream",
     "text": [
      "                   all        985       1004      0.949      0.954      0.979      0.949\n"
     ]
    },
    {
     "name": "stderr",
     "output_type": "stream",
     "text": [
      "\n"
     ]
    },
    {
     "name": "stdout",
     "output_type": "stream",
     "text": [
      "\n",
      "      Epoch    GPU_mem   box_loss   cls_loss   dfl_loss  Instances       Size\n"
     ]
    },
    {
     "name": "stderr",
     "output_type": "stream",
     "text": [
      "      56/80      2.72G     0.3488      0.352     0.9632          2        640: 100%|██████████| 555/555 [03:42<00:00,  2.50it/s]\n",
      "                 Class     Images  Instances      Box(P          R      mAP50  mAP50-95): 100%|██████████| 31/31 [00:08<00:00,  3.54it/s]"
     ]
    },
    {
     "name": "stdout",
     "output_type": "stream",
     "text": [
      "                   all        985       1004      0.962      0.942      0.981      0.951\n"
     ]
    },
    {
     "name": "stderr",
     "output_type": "stream",
     "text": [
      "\n"
     ]
    },
    {
     "name": "stdout",
     "output_type": "stream",
     "text": [
      "\n",
      "      Epoch    GPU_mem   box_loss   cls_loss   dfl_loss  Instances       Size\n"
     ]
    },
    {
     "name": "stderr",
     "output_type": "stream",
     "text": [
      "      57/80      2.73G      0.344     0.3508     0.9583          3        640: 100%|██████████| 555/555 [03:42<00:00,  2.50it/s]\n",
      "                 Class     Images  Instances      Box(P          R      mAP50  mAP50-95): 100%|██████████| 31/31 [00:08<00:00,  3.58it/s]"
     ]
    },
    {
     "name": "stdout",
     "output_type": "stream",
     "text": [
      "                   all        985       1004      0.958      0.936      0.977      0.948\n"
     ]
    },
    {
     "name": "stderr",
     "output_type": "stream",
     "text": [
      "\n"
     ]
    },
    {
     "name": "stdout",
     "output_type": "stream",
     "text": [
      "\n",
      "      Epoch    GPU_mem   box_loss   cls_loss   dfl_loss  Instances       Size\n"
     ]
    },
    {
     "name": "stderr",
     "output_type": "stream",
     "text": [
      "      58/80      2.73G     0.3428     0.3415     0.9581          3        640: 100%|██████████| 555/555 [03:42<00:00,  2.50it/s]\n",
      "                 Class     Images  Instances      Box(P          R      mAP50  mAP50-95): 100%|██████████| 31/31 [00:08<00:00,  3.55it/s]"
     ]
    },
    {
     "name": "stdout",
     "output_type": "stream",
     "text": [
      "                   all        985       1004      0.956      0.944      0.977      0.946\n"
     ]
    },
    {
     "name": "stderr",
     "output_type": "stream",
     "text": [
      "\n"
     ]
    },
    {
     "name": "stdout",
     "output_type": "stream",
     "text": [
      "\n",
      "      Epoch    GPU_mem   box_loss   cls_loss   dfl_loss  Instances       Size\n"
     ]
    },
    {
     "name": "stderr",
     "output_type": "stream",
     "text": [
      "      59/80      2.75G     0.3441     0.3468     0.9601          4        640: 100%|██████████| 555/555 [03:42<00:00,  2.50it/s]\n",
      "                 Class     Images  Instances      Box(P          R      mAP50  mAP50-95): 100%|██████████| 31/31 [00:08<00:00,  3.54it/s]"
     ]
    },
    {
     "name": "stdout",
     "output_type": "stream",
     "text": [
      "                   all        985       1004      0.965      0.944      0.978      0.952\n"
     ]
    },
    {
     "name": "stderr",
     "output_type": "stream",
     "text": [
      "\n"
     ]
    },
    {
     "name": "stdout",
     "output_type": "stream",
     "text": [
      "\n",
      "      Epoch    GPU_mem   box_loss   cls_loss   dfl_loss  Instances       Size\n"
     ]
    },
    {
     "name": "stderr",
     "output_type": "stream",
     "text": [
      "      60/80      2.72G     0.3403     0.3383      0.957          1        640: 100%|██████████| 555/555 [03:42<00:00,  2.50it/s]\n",
      "                 Class     Images  Instances      Box(P          R      mAP50  mAP50-95): 100%|██████████| 31/31 [00:08<00:00,  3.54it/s]"
     ]
    },
    {
     "name": "stdout",
     "output_type": "stream",
     "text": [
      "                   all        985       1004      0.943      0.942      0.979      0.951\n"
     ]
    },
    {
     "name": "stderr",
     "output_type": "stream",
     "text": [
      "\n"
     ]
    },
    {
     "name": "stdout",
     "output_type": "stream",
     "text": [
      "\n",
      "      Epoch    GPU_mem   box_loss   cls_loss   dfl_loss  Instances       Size\n"
     ]
    },
    {
     "name": "stderr",
     "output_type": "stream",
     "text": [
      "      61/80      2.73G     0.3391     0.3388     0.9589          1        640: 100%|██████████| 555/555 [03:42<00:00,  2.50it/s]\n",
      "                 Class     Images  Instances      Box(P          R      mAP50  mAP50-95): 100%|██████████| 31/31 [00:08<00:00,  3.56it/s]"
     ]
    },
    {
     "name": "stdout",
     "output_type": "stream",
     "text": [
      "                   all        985       1004      0.963      0.943       0.98      0.952\n"
     ]
    },
    {
     "name": "stderr",
     "output_type": "stream",
     "text": [
      "\n"
     ]
    },
    {
     "name": "stdout",
     "output_type": "stream",
     "text": [
      "\n",
      "      Epoch    GPU_mem   box_loss   cls_loss   dfl_loss  Instances       Size\n"
     ]
    },
    {
     "name": "stderr",
     "output_type": "stream",
     "text": [
      "      62/80      2.73G     0.3372     0.3368      0.956          3        640: 100%|██████████| 555/555 [03:42<00:00,  2.50it/s]\n",
      "                 Class     Images  Instances      Box(P          R      mAP50  mAP50-95): 100%|██████████| 31/31 [00:08<00:00,  3.54it/s]"
     ]
    },
    {
     "name": "stdout",
     "output_type": "stream",
     "text": [
      "                   all        985       1004      0.955      0.951       0.98      0.952\n"
     ]
    },
    {
     "name": "stderr",
     "output_type": "stream",
     "text": [
      "\n"
     ]
    },
    {
     "name": "stdout",
     "output_type": "stream",
     "text": [
      "\n",
      "      Epoch    GPU_mem   box_loss   cls_loss   dfl_loss  Instances       Size\n"
     ]
    },
    {
     "name": "stderr",
     "output_type": "stream",
     "text": [
      "      63/80      2.73G     0.3346     0.3289     0.9556          1        640: 100%|██████████| 555/555 [03:42<00:00,  2.50it/s]\n",
      "                 Class     Images  Instances      Box(P          R      mAP50  mAP50-95): 100%|██████████| 31/31 [00:08<00:00,  3.56it/s]"
     ]
    },
    {
     "name": "stdout",
     "output_type": "stream",
     "text": [
      "                   all        985       1004      0.952      0.943      0.979      0.951\n"
     ]
    },
    {
     "name": "stderr",
     "output_type": "stream",
     "text": [
      "\n"
     ]
    },
    {
     "name": "stdout",
     "output_type": "stream",
     "text": [
      "\n",
      "      Epoch    GPU_mem   box_loss   cls_loss   dfl_loss  Instances       Size\n"
     ]
    },
    {
     "name": "stderr",
     "output_type": "stream",
     "text": [
      "      64/80      2.72G     0.3329     0.3282      0.952          3        640: 100%|██████████| 555/555 [03:42<00:00,  2.50it/s]\n",
      "                 Class     Images  Instances      Box(P          R      mAP50  mAP50-95): 100%|██████████| 31/31 [00:08<00:00,  3.55it/s]"
     ]
    },
    {
     "name": "stdout",
     "output_type": "stream",
     "text": [
      "                   all        985       1004      0.937      0.963      0.982      0.953\n"
     ]
    },
    {
     "name": "stderr",
     "output_type": "stream",
     "text": [
      "\n"
     ]
    },
    {
     "name": "stdout",
     "output_type": "stream",
     "text": [
      "\n",
      "      Epoch    GPU_mem   box_loss   cls_loss   dfl_loss  Instances       Size\n"
     ]
    },
    {
     "name": "stderr",
     "output_type": "stream",
     "text": [
      "      65/80      2.73G     0.3345     0.3332      0.954          4        640: 100%|██████████| 555/555 [03:42<00:00,  2.50it/s]\n",
      "                 Class     Images  Instances      Box(P          R      mAP50  mAP50-95): 100%|██████████| 31/31 [00:08<00:00,  3.57it/s]"
     ]
    },
    {
     "name": "stdout",
     "output_type": "stream",
     "text": [
      "                   all        985       1004      0.956      0.941      0.981       0.95\n"
     ]
    },
    {
     "name": "stderr",
     "output_type": "stream",
     "text": [
      "\n"
     ]
    },
    {
     "name": "stdout",
     "output_type": "stream",
     "text": [
      "\n",
      "      Epoch    GPU_mem   box_loss   cls_loss   dfl_loss  Instances       Size\n"
     ]
    },
    {
     "name": "stderr",
     "output_type": "stream",
     "text": [
      "      66/80      2.73G     0.3325      0.327     0.9548          1        640: 100%|██████████| 555/555 [03:41<00:00,  2.50it/s]\n",
      "                 Class     Images  Instances      Box(P          R      mAP50  mAP50-95): 100%|██████████| 31/31 [00:08<00:00,  3.55it/s]"
     ]
    },
    {
     "name": "stdout",
     "output_type": "stream",
     "text": [
      "                   all        985       1004      0.965      0.937      0.981      0.954\n"
     ]
    },
    {
     "name": "stderr",
     "output_type": "stream",
     "text": [
      "\n"
     ]
    },
    {
     "name": "stdout",
     "output_type": "stream",
     "text": [
      "\n",
      "      Epoch    GPU_mem   box_loss   cls_loss   dfl_loss  Instances       Size\n"
     ]
    },
    {
     "name": "stderr",
     "output_type": "stream",
     "text": [
      "      67/80      2.73G     0.3286     0.3204     0.9514          1        640: 100%|██████████| 555/555 [03:42<00:00,  2.50it/s]\n",
      "                 Class     Images  Instances      Box(P          R      mAP50  mAP50-95): 100%|██████████| 31/31 [00:08<00:00,  3.55it/s]"
     ]
    },
    {
     "name": "stdout",
     "output_type": "stream",
     "text": [
      "                   all        985       1004      0.954      0.951      0.982      0.956\n"
     ]
    },
    {
     "name": "stderr",
     "output_type": "stream",
     "text": [
      "\n"
     ]
    },
    {
     "name": "stdout",
     "output_type": "stream",
     "text": [
      "\n",
      "      Epoch    GPU_mem   box_loss   cls_loss   dfl_loss  Instances       Size\n"
     ]
    },
    {
     "name": "stderr",
     "output_type": "stream",
     "text": [
      "      68/80      2.72G     0.3254     0.3183      0.949          4        640: 100%|██████████| 555/555 [03:42<00:00,  2.50it/s]\n",
      "                 Class     Images  Instances      Box(P          R      mAP50  mAP50-95): 100%|██████████| 31/31 [00:08<00:00,  3.57it/s]"
     ]
    },
    {
     "name": "stdout",
     "output_type": "stream",
     "text": [
      "                   all        985       1004      0.951      0.954      0.982      0.956\n"
     ]
    },
    {
     "name": "stderr",
     "output_type": "stream",
     "text": [
      "\n"
     ]
    },
    {
     "name": "stdout",
     "output_type": "stream",
     "text": [
      "\n",
      "      Epoch    GPU_mem   box_loss   cls_loss   dfl_loss  Instances       Size\n"
     ]
    },
    {
     "name": "stderr",
     "output_type": "stream",
     "text": [
      "      69/80      2.73G     0.3283     0.3219     0.9502          4        640: 100%|██████████| 555/555 [03:42<00:00,  2.50it/s]\n",
      "                 Class     Images  Instances      Box(P          R      mAP50  mAP50-95): 100%|██████████| 31/31 [00:08<00:00,  3.55it/s]"
     ]
    },
    {
     "name": "stdout",
     "output_type": "stream",
     "text": [
      "                   all        985       1004       0.96      0.951      0.983      0.955\n"
     ]
    },
    {
     "name": "stderr",
     "output_type": "stream",
     "text": [
      "\n"
     ]
    },
    {
     "name": "stdout",
     "output_type": "stream",
     "text": [
      "\n",
      "      Epoch    GPU_mem   box_loss   cls_loss   dfl_loss  Instances       Size\n"
     ]
    },
    {
     "name": "stderr",
     "output_type": "stream",
     "text": [
      "      70/80      2.73G     0.3261     0.3205     0.9506          1        640: 100%|██████████| 555/555 [03:42<00:00,  2.50it/s]\n",
      "                 Class     Images  Instances      Box(P          R      mAP50  mAP50-95): 100%|██████████| 31/31 [00:08<00:00,  3.56it/s]"
     ]
    },
    {
     "name": "stdout",
     "output_type": "stream",
     "text": [
      "                   all        985       1004      0.956      0.954      0.984      0.955\n"
     ]
    },
    {
     "name": "stderr",
     "output_type": "stream",
     "text": [
      "\n"
     ]
    },
    {
     "name": "stdout",
     "output_type": "stream",
     "text": [
      "Closing dataloader mosaic\n",
      "\n",
      "      Epoch    GPU_mem   box_loss   cls_loss   dfl_loss  Instances       Size\n"
     ]
    },
    {
     "name": "stderr",
     "output_type": "stream",
     "text": [
      "      71/80      2.73G     0.2658     0.2337      0.898          1        640: 100%|██████████| 555/555 [03:42<00:00,  2.50it/s]\n",
      "                 Class     Images  Instances      Box(P          R      mAP50  mAP50-95): 100%|██████████| 31/31 [00:08<00:00,  3.53it/s]"
     ]
    },
    {
     "name": "stdout",
     "output_type": "stream",
     "text": [
      "                   all        985       1004      0.963      0.956      0.984      0.957\n"
     ]
    },
    {
     "name": "stderr",
     "output_type": "stream",
     "text": [
      "\n"
     ]
    },
    {
     "name": "stdout",
     "output_type": "stream",
     "text": [
      "\n",
      "      Epoch    GPU_mem   box_loss   cls_loss   dfl_loss  Instances       Size\n"
     ]
    },
    {
     "name": "stderr",
     "output_type": "stream",
     "text": [
      "      72/80      2.72G     0.2616     0.2291     0.8949          1        640: 100%|██████████| 555/555 [03:41<00:00,  2.50it/s]\n",
      "                 Class     Images  Instances      Box(P          R      mAP50  mAP50-95): 100%|██████████| 31/31 [00:08<00:00,  3.56it/s]"
     ]
    },
    {
     "name": "stdout",
     "output_type": "stream",
     "text": [
      "                   all        985       1004      0.968       0.95      0.984      0.958\n"
     ]
    },
    {
     "name": "stderr",
     "output_type": "stream",
     "text": [
      "\n"
     ]
    },
    {
     "name": "stdout",
     "output_type": "stream",
     "text": [
      "\n",
      "      Epoch    GPU_mem   box_loss   cls_loss   dfl_loss  Instances       Size\n"
     ]
    },
    {
     "name": "stderr",
     "output_type": "stream",
     "text": [
      "      73/80      2.73G     0.2577     0.2297     0.8941          1        640: 100%|██████████| 555/555 [03:41<00:00,  2.50it/s]\n",
      "                 Class     Images  Instances      Box(P          R      mAP50  mAP50-95): 100%|██████████| 31/31 [00:08<00:00,  3.56it/s]"
     ]
    },
    {
     "name": "stdout",
     "output_type": "stream",
     "text": [
      "                   all        985       1004      0.959      0.956      0.985      0.961\n"
     ]
    },
    {
     "name": "stderr",
     "output_type": "stream",
     "text": [
      "\n"
     ]
    },
    {
     "name": "stdout",
     "output_type": "stream",
     "text": [
      "\n",
      "      Epoch    GPU_mem   box_loss   cls_loss   dfl_loss  Instances       Size\n"
     ]
    },
    {
     "name": "stderr",
     "output_type": "stream",
     "text": [
      "      74/80      2.73G     0.2559     0.2247      0.891          1        640: 100%|██████████| 555/555 [03:41<00:00,  2.50it/s]\n",
      "                 Class     Images  Instances      Box(P          R      mAP50  mAP50-95): 100%|██████████| 31/31 [00:08<00:00,  3.56it/s]"
     ]
    },
    {
     "name": "stdout",
     "output_type": "stream",
     "text": [
      "                   all        985       1004      0.959      0.951      0.984      0.959\n"
     ]
    },
    {
     "name": "stderr",
     "output_type": "stream",
     "text": [
      "\n"
     ]
    },
    {
     "name": "stdout",
     "output_type": "stream",
     "text": [
      "\n",
      "      Epoch    GPU_mem   box_loss   cls_loss   dfl_loss  Instances       Size\n"
     ]
    },
    {
     "name": "stderr",
     "output_type": "stream",
     "text": [
      "      75/80      2.73G     0.2524     0.2175     0.8877          1        640: 100%|██████████| 555/555 [03:41<00:00,  2.50it/s]\n",
      "                 Class     Images  Instances      Box(P          R      mAP50  mAP50-95): 100%|██████████| 31/31 [00:08<00:00,  3.57it/s]"
     ]
    },
    {
     "name": "stdout",
     "output_type": "stream",
     "text": [
      "                   all        985       1004      0.959      0.952      0.983      0.957\n"
     ]
    },
    {
     "name": "stderr",
     "output_type": "stream",
     "text": [
      "\n"
     ]
    },
    {
     "name": "stdout",
     "output_type": "stream",
     "text": [
      "\n",
      "      Epoch    GPU_mem   box_loss   cls_loss   dfl_loss  Instances       Size\n"
     ]
    },
    {
     "name": "stderr",
     "output_type": "stream",
     "text": [
      "      76/80      2.72G     0.2508     0.2179     0.8857          1        640: 100%|██████████| 555/555 [03:41<00:00,  2.50it/s]\n",
      "                 Class     Images  Instances      Box(P          R      mAP50  mAP50-95): 100%|██████████| 31/31 [00:08<00:00,  3.58it/s]"
     ]
    },
    {
     "name": "stdout",
     "output_type": "stream",
     "text": [
      "                   all        985       1004      0.951      0.952      0.983      0.958\n"
     ]
    },
    {
     "name": "stderr",
     "output_type": "stream",
     "text": [
      "\n"
     ]
    },
    {
     "name": "stdout",
     "output_type": "stream",
     "text": [
      "\n",
      "      Epoch    GPU_mem   box_loss   cls_loss   dfl_loss  Instances       Size\n"
     ]
    },
    {
     "name": "stderr",
     "output_type": "stream",
     "text": [
      "      77/80      2.73G     0.2483     0.2081     0.8851          1        640: 100%|██████████| 555/555 [03:41<00:00,  2.50it/s]\n",
      "                 Class     Images  Instances      Box(P          R      mAP50  mAP50-95): 100%|██████████| 31/31 [00:08<00:00,  3.57it/s]"
     ]
    },
    {
     "name": "stdout",
     "output_type": "stream",
     "text": [
      "                   all        985       1004       0.96      0.948      0.982      0.957\n"
     ]
    },
    {
     "name": "stderr",
     "output_type": "stream",
     "text": [
      "\n"
     ]
    },
    {
     "name": "stdout",
     "output_type": "stream",
     "text": [
      "\n",
      "      Epoch    GPU_mem   box_loss   cls_loss   dfl_loss  Instances       Size\n"
     ]
    },
    {
     "name": "stderr",
     "output_type": "stream",
     "text": [
      "      78/80      2.73G      0.247      0.208     0.8843          1        640: 100%|██████████| 555/555 [03:41<00:00,  2.50it/s]\n",
      "                 Class     Images  Instances      Box(P          R      mAP50  mAP50-95): 100%|██████████| 31/31 [00:08<00:00,  3.54it/s]"
     ]
    },
    {
     "name": "stdout",
     "output_type": "stream",
     "text": [
      "                   all        985       1004      0.955      0.939      0.982      0.958\n"
     ]
    },
    {
     "name": "stderr",
     "output_type": "stream",
     "text": [
      "\n"
     ]
    },
    {
     "name": "stdout",
     "output_type": "stream",
     "text": [
      "\n",
      "      Epoch    GPU_mem   box_loss   cls_loss   dfl_loss  Instances       Size\n"
     ]
    },
    {
     "name": "stderr",
     "output_type": "stream",
     "text": [
      "      79/80      2.73G     0.2465     0.2072     0.8841          1        640: 100%|██████████| 555/555 [03:41<00:00,  2.50it/s]\n",
      "                 Class     Images  Instances      Box(P          R      mAP50  mAP50-95): 100%|██████████| 31/31 [00:08<00:00,  3.56it/s]"
     ]
    },
    {
     "name": "stdout",
     "output_type": "stream",
     "text": [
      "                   all        985       1004      0.958      0.943      0.983      0.959\n"
     ]
    },
    {
     "name": "stderr",
     "output_type": "stream",
     "text": [
      "\n"
     ]
    },
    {
     "name": "stdout",
     "output_type": "stream",
     "text": [
      "\n",
      "      Epoch    GPU_mem   box_loss   cls_loss   dfl_loss  Instances       Size\n"
     ]
    },
    {
     "name": "stderr",
     "output_type": "stream",
     "text": [
      "      80/80      2.72G     0.2451     0.2048     0.8842          1        640: 100%|██████████| 555/555 [03:41<00:00,  2.50it/s]\n",
      "                 Class     Images  Instances      Box(P          R      mAP50  mAP50-95): 100%|██████████| 31/31 [00:08<00:00,  3.57it/s]"
     ]
    },
    {
     "name": "stdout",
     "output_type": "stream",
     "text": [
      "                   all        985       1004      0.955      0.945      0.983      0.959\n"
     ]
    },
    {
     "name": "stderr",
     "output_type": "stream",
     "text": [
      "\n"
     ]
    },
    {
     "name": "stdout",
     "output_type": "stream",
     "text": [
      "\n",
      "80 epochs completed in 5.159 hours.\n",
      "Optimizer stripped from runs/detect/train261/weights/last.pt, 4.9MB\n",
      "Optimizer stripped from runs/detect/train261/weights/best.pt, 4.9MB\n",
      "\n",
      "Validating runs/detect/train261/weights/best.pt...\n",
      "Ultralytics YOLOv8.2.31 🚀 Python-3.10.14 torch-2.3.1+cu121 CUDA:0 (NVIDIA P102-100, 10150MiB)\n",
      "YOLOv8_boost summary (fused): 324 layers, 2313563 parameters, 0 gradients, 6.0 GFLOPs\n"
     ]
    },
    {
     "name": "stderr",
     "output_type": "stream",
     "text": [
      "                 Class     Images  Instances      Box(P          R      mAP50  mAP50-95): 100%|██████████| 31/31 [00:09<00:00,  3.23it/s]\n"
     ]
    },
    {
     "name": "stdout",
     "output_type": "stream",
     "text": [
      "                   all        985       1004      0.959      0.957      0.985      0.959\n",
      "                   SUV        204        205      0.942      0.947      0.982       0.96\n",
      "                 Sedan        589        600      0.969      0.972       0.99      0.975\n",
      "              Micorbus         48         48      0.946      0.938      0.981      0.944\n",
      "               Minivan        150        151       0.98       0.97      0.986      0.959\n",
      "Speed: 1.6ms preprocess, 4.6ms inference, 0.0ms loss, 1.0ms postprocess per image\n",
      "Results saved to \u001b[1mruns/detect/train261\u001b[0m\n"
     ]
    },
    {
     "data": {
      "application/vnd.jupyter.widget-view+json": {
       "model_id": "c5729784632e4d23a430e5c33670f438",
       "version_major": 2,
       "version_minor": 0
      },
      "text/plain": [
       "VBox(children=(Label(value='9.374 MB of 10.782 MB uploaded\\r'), FloatProgress(value=0.8694005823642005, max=1.…"
      ]
     },
     "metadata": {},
     "output_type": "display_data"
    },
    {
     "data": {
      "text/html": [
       "<style>\n",
       "    table.wandb td:nth-child(1) { padding: 0 10px; text-align: left ; width: auto;} td:nth-child(2) {text-align: left ; width: 100%}\n",
       "    .wandb-row { display: flex; flex-direction: row; flex-wrap: wrap; justify-content: flex-start; width: 100% }\n",
       "    .wandb-col { display: flex; flex-direction: column; flex-basis: 100%; flex: 1; padding: 10px; }\n",
       "    </style>\n",
       "<div class=\"wandb-row\"><div class=\"wandb-col\"><h3>Run history:</h3><br/><table class=\"wandb\"><tr><td>lr/pg0</td><td>▃███▇▇▇▇▇▇▆▆▆▆▆▅▅▅▅▅▅▄▄▄▄▄▃▃▃▃▃▃▂▂▂▂▂▁▁▁</td></tr><tr><td>lr/pg1</td><td>▃███▇▇▇▇▇▇▆▆▆▆▆▅▅▅▅▅▅▄▄▄▄▄▃▃▃▃▃▃▂▂▂▂▂▁▁▁</td></tr><tr><td>lr/pg2</td><td>▃███▇▇▇▇▇▇▆▆▆▆▆▅▅▅▅▅▅▄▄▄▄▄▃▃▃▃▃▃▂▂▂▂▂▁▁▁</td></tr><tr><td>metrics/mAP50(B)</td><td>▁▄▆▇▇▇▇█████████████████████████████████</td></tr><tr><td>metrics/mAP50-95(B)</td><td>▁▄▅▆▇▇▇▇▇▇█▇██▇█████████████████████████</td></tr><tr><td>metrics/precision(B)</td><td>▁▄▄▇▇▆▇▇▇▇██▇▇██████████████████████████</td></tr><tr><td>metrics/recall(B)</td><td>▁▅▆▆▇▇▇▇███▇████████████████████████████</td></tr><tr><td>model/GFLOPs</td><td>▁</td></tr><tr><td>model/parameters</td><td>▁</td></tr><tr><td>model/speed_PyTorch(ms)</td><td>▁</td></tr><tr><td>train/box_loss</td><td>█▃▂▂▂▂▂▂▂▂▂▂▁▁▁▁▁▁▁▁▁▁▁▁▁▁▁▁▁▁▁▁▁▁▁▁▁▁▁▁</td></tr><tr><td>train/cls_loss</td><td>█▄▂▂▂▂▂▂▂▂▂▁▁▁▁▁▁▁▁▁▁▁▁▁▁▁▁▁▁▁▁▁▁▁▁▁▁▁▁▁</td></tr><tr><td>train/dfl_loss</td><td>█▃▂▂▂▁▁▁▁▁▁▁▁▁▁▁▁▁▁▁▁▁▁▁▁▁▁▁▁▁▁▁▁▁▁▁▁▁▁▁</td></tr><tr><td>val/box_loss</td><td>█▄▂▂▂▂▂▁▁▁▁▁▁▁▁▁▁▁▁▁▁▁▁▁▁▁▁▁▁▁▁▁▁▁▁▁▁▁▁▁</td></tr><tr><td>val/cls_loss</td><td>█▃▂▂▂▂▂▁▁▁▁▁▁▁▁▁▁▁▁▁▁▁▁▁▁▁▁▁▁▁▁▁▁▁▁▁▁▁▁▁</td></tr><tr><td>val/dfl_loss</td><td>█▃▂▂▂▂▂▁▁▁▁▁▁▁▁▁▁▁▁▁▁▁▁▁▁▁▁▁▁▁▁▁▁▁▁▁▁▁▁▁</td></tr></table><br/></div><div class=\"wandb-col\"><h3>Run summary:</h3><br/><table class=\"wandb\"><tr><td>lr/pg0</td><td>0.00022</td></tr><tr><td>lr/pg1</td><td>0.00022</td></tr><tr><td>lr/pg2</td><td>0.00022</td></tr><tr><td>metrics/mAP50(B)</td><td>0.98466</td></tr><tr><td>metrics/mAP50-95(B)</td><td>0.95938</td></tr><tr><td>metrics/precision(B)</td><td>0.95927</td></tr><tr><td>metrics/recall(B)</td><td>0.95654</td></tr><tr><td>model/GFLOPs</td><td>6.083</td></tr><tr><td>model/parameters</td><td>2318139</td></tr><tr><td>model/speed_PyTorch(ms)</td><td>4.838</td></tr><tr><td>train/box_loss</td><td>0.24514</td></tr><tr><td>train/cls_loss</td><td>0.20478</td></tr><tr><td>train/dfl_loss</td><td>0.88421</td></tr><tr><td>val/box_loss</td><td>0.24926</td></tr><tr><td>val/cls_loss</td><td>0.21921</td></tr><tr><td>val/dfl_loss</td><td>0.88444</td></tr></table><br/></div></div>"
      ],
      "text/plain": [
       "<IPython.core.display.HTML object>"
      ]
     },
     "metadata": {},
     "output_type": "display_data"
    },
    {
     "data": {
      "text/html": [
       " View run <strong style=\"color:#cdcd00\">train261</strong> at: <a href='https://wandb.ai/3339811384/YOLOv8/runs/fwr7xgs7' target=\"_blank\">https://wandb.ai/3339811384/YOLOv8/runs/fwr7xgs7</a><br/> View project at: <a href='https://wandb.ai/3339811384/YOLOv8' target=\"_blank\">https://wandb.ai/3339811384/YOLOv8</a><br/>Synced 6 W&B file(s), 24 media file(s), 5 artifact file(s) and 0 other file(s)"
      ],
      "text/plain": [
       "<IPython.core.display.HTML object>"
      ]
     },
     "metadata": {},
     "output_type": "display_data"
    },
    {
     "data": {
      "text/html": [
       "Find logs at: <code>./wandb/run-20240627_212022-fwr7xgs7/logs</code>"
      ],
      "text/plain": [
       "<IPython.core.display.HTML object>"
      ]
     },
     "metadata": {},
     "output_type": "display_data"
    },
    {
     "name": "stdout",
     "output_type": "stream",
     "text": [
      "Ultralytics YOLOv8.2.31 🚀 Python-3.10.14 torch-2.3.1+cu121 CUDA:0 (NVIDIA P102-100, 10150MiB)\n",
      "YOLOv8_boost summary (fused): 324 layers, 2313563 parameters, 0 gradients, 6.0 GFLOPs\n"
     ]
    },
    {
     "name": "stderr",
     "output_type": "stream",
     "text": [
      "\u001b[34m\u001b[1mval: \u001b[0mScanning /home/ubuntu/文档/GitHub/DL大作业/datasets/Vehicle/labels/val.cache... 985 images, 0 backgrounds, 0 corrupt: 100%|██████████| 985/985 [00:00<?, ?it/s]\n",
      "                 Class     Images  Instances      Box(P          R      mAP50  mAP50-95): 100%|██████████| 62/62 [00:09<00:00,  6.56it/s]\n"
     ]
    },
    {
     "name": "stdout",
     "output_type": "stream",
     "text": [
      "                   all        985       1004       0.96      0.956      0.985      0.959\n",
      "                   SUV        204        205      0.942      0.947      0.982      0.959\n",
      "                 Sedan        589        600      0.969      0.972       0.99      0.975\n",
      "              Micorbus         48         48      0.947      0.938      0.981      0.944\n",
      "               Minivan        150        151       0.98      0.969      0.986      0.959\n",
      "Speed: 1.3ms preprocess, 4.3ms inference, 0.0ms loss, 0.9ms postprocess per image\n",
      "Results saved to \u001b[1mruns/detect/train2612\u001b[0m\n",
      "Ultralytics YOLOv8.2.31 🚀 Python-3.10.14 torch-2.3.1+cu121 CPU (Intel Xeon E5-2680 v4 2.40GHz)\n",
      "\n",
      "\u001b[34m\u001b[1mPyTorch:\u001b[0m starting from 'runs/detect/train261/weights/best.pt' with input shape (1, 3, 640, 640) BCHW and output shape(s) (1, 10, 8400) (4.7 MB)\n",
      "\n",
      "\u001b[34m\u001b[1mONNX:\u001b[0m starting export with onnx 1.16.1 opset 17...\n",
      "\u001b[34m\u001b[1mONNX:\u001b[0m export success ✅ 7.4s, saved as 'runs/detect/train261/weights/best.onnx' (9.5 MB)\n",
      "\n",
      "Export complete (9.1s)\n",
      "Results saved to \u001b[1m/home/ubuntu/文档/GitHub/DL大作业/runs/detect/train261/weights\u001b[0m\n",
      "Predict:         yolo predict task=detect model=runs/detect/train261/weights/best.onnx imgsz=640  \n",
      "Validate:        yolo val task=detect model=runs/detect/train261/weights/best.onnx imgsz=640 data=/home/ubuntu/文档/GitHub/DL大作业/vehicle-dataset.yaml  \n",
      "Visualize:       https://netron.app\n"
     ]
    }
   ],
   "source": [
    "from ultralytics import YOLO\n",
    "\n",
    "# 创建\n",
    "model = YOLO(\"./ultralytics/cfg/models/v8/My/yolov8_boost.yaml\")\n",
    "\n",
    "results = model.train(data=\"/home/ubuntu/文档/GitHub/DL大作业/vehicle-dataset.yaml\", epochs=80)\n",
    "\n",
    "# Evaluate the model's performance on the validation set\n",
    "results = model.val()\n",
    "\n",
    "# Export the model to ONNX format\n",
    "success = model.export(format=\"onnx\")"
   ]
  },
  {
   "cell_type": "code",
   "execution_count": null,
   "metadata": {},
   "outputs": [],
   "source": [
    "pip install grad-cam==1.4.8 -i https://pypi.tuna.tsinghua.edu.cn/simple"
   ]
  },
  {
   "cell_type": "markdown",
   "metadata": {},
   "source": []
  },
  {
   "cell_type": "code",
   "execution_count": 2,
   "metadata": {},
   "outputs": [
    {
     "name": "stdout",
     "output_type": "stream",
     "text": [
      "WARNING ⚠️ no model scale passed. Assuming scale='n'.\n",
      "New https://pypi.org/project/ultralytics/8.2.42 available 😃 Update with 'pip install -U ultralytics'\n",
      "Ultralytics YOLOv8.2.31 🚀 Python-3.10.14 torch-2.3.1+cu121 CUDA:0 (NVIDIA P102-100, 10150MiB)\n",
      "\u001b[34m\u001b[1mengine/trainer: \u001b[0mtask=detect, mode=train, model=./ultralytics/cfg/models/v8/yolov8.yaml, data=/home/ubuntu/文档/GitHub/DL大作业/vehicle-en-dataset.yaml, epochs=20, time=None, patience=100, batch=16, imgsz=640, save=True, save_period=-1, cache=False, device=None, workers=8, project=None, name=train219, exist_ok=False, pretrained=True, optimizer=Lion, verbose=True, seed=0, deterministic=True, single_cls=False, rect=False, cos_lr=False, close_mosaic=10, resume=False, amp=True, fraction=1.0, profile=False, freeze=None, multi_scale=False, overlap_mask=True, mask_ratio=4, dropout=0.0, val=True, split=val, save_json=False, save_hybrid=False, conf=None, iou=0.7, max_det=300, half=False, dnn=False, plots=True, source=None, vid_stride=1, stream_buffer=False, visualize=False, augment=False, agnostic_nms=False, classes=None, retina_masks=False, embed=None, show=False, save_frames=False, save_txt=False, save_conf=False, save_crop=False, show_labels=True, show_conf=True, show_boxes=True, line_width=None, format=torchscript, keras=False, optimize=False, int8=False, dynamic=False, simplify=False, opset=None, workspace=4, nms=False, lr0=0.01, lrf=0.01, momentum=0.937, weight_decay=0.0005, warmup_epochs=3.0, warmup_momentum=0.8, warmup_bias_lr=0.1, box=7.5, cls=0.5, dfl=1.5, pose=12.0, kobj=1.0, label_smoothing=0.0, nbs=64, hsv_h=0.015, hsv_s=0.7, hsv_v=0.4, degrees=0.0, translate=0.1, scale=0.5, shear=0.0, perspective=0.0, flipud=0.0, fliplr=0.5, bgr=0.0, mosaic=1.0, mixup=0.0, copy_paste=0.0, auto_augment=randaugment, erasing=0.4, crop_fraction=1.0, cfg=None, tracker=botsort.yaml, save_dir=runs/detect/train219\n",
      "Overriding model.yaml nc=4 with nc=6\n",
      "WARNING ⚠️ no model scale passed. Assuming scale='n'.\n",
      "\n",
      "                   from  n    params  module                                       arguments                     \n",
      "  0                  -1  1       464  ultralytics.nn.modules.conv.Conv             [3, 16, 3, 2]                 \n",
      "  1                  -1  1      4672  ultralytics.nn.modules.conv.Conv             [16, 32, 3, 2]                \n",
      "  2                  -1  1      7360  ultralytics.nn.modules.block.C2f             [32, 32, 1, True]             \n",
      "  3                  -1  1     18560  ultralytics.nn.modules.conv.Conv             [32, 64, 3, 2]                \n",
      "  4                  -1  2     49664  ultralytics.nn.modules.block.C2f             [64, 64, 2, True]             \n",
      "  5                  -1  1     73984  ultralytics.nn.modules.conv.Conv             [64, 128, 3, 2]               \n",
      "  6                  -1  2    197632  ultralytics.nn.modules.block.C2f             [128, 128, 2, True]           \n",
      "  7                  -1  1    295424  ultralytics.nn.modules.conv.Conv             [128, 256, 3, 2]              \n",
      "  8                  -1  1    460288  ultralytics.nn.modules.block.C2f             [256, 256, 1, True]           \n",
      "  9                  -1  1    164608  ultralytics.nn.modules.block.SPPF            [256, 256, 5]                 \n",
      " 10                  -1  1         0  torch.nn.modules.upsampling.Upsample         [None, 2, 'nearest']          \n",
      " 11             [-1, 6]  1         0  ultralytics.nn.modules.conv.Concat           [1]                           \n",
      " 12                  -1  1    148224  ultralytics.nn.modules.block.C2f             [384, 128, 1]                 \n",
      " 13                  -1  1         0  torch.nn.modules.upsampling.Upsample         [None, 2, 'nearest']          \n",
      " 14             [-1, 4]  1         0  ultralytics.nn.modules.conv.Concat           [1]                           \n",
      " 15                  -1  1     37248  ultralytics.nn.modules.block.C2f             [192, 64, 1]                  \n",
      " 16                  -1  1     36992  ultralytics.nn.modules.conv.Conv             [64, 64, 3, 2]                \n",
      " 17            [-1, 12]  1         0  ultralytics.nn.modules.conv.Concat           [1]                           \n",
      " 18                  -1  1    123648  ultralytics.nn.modules.block.C2f             [192, 128, 1]                 \n",
      " 19                  -1  1    147712  ultralytics.nn.modules.conv.Conv             [128, 128, 3, 2]              \n",
      " 20             [-1, 9]  1         0  ultralytics.nn.modules.conv.Concat           [1]                           \n",
      " 21                  -1  1    493056  ultralytics.nn.modules.block.C2f             [384, 256, 1]                 \n",
      " 22        [15, 18, 21]  1    752482  ultralytics.nn.modules.head.Detect           [6, [64, 128, 256]]           \n",
      "YOLOv8 summary: 225 layers, 3012018 parameters, 3012002 gradients, 8.2 GFLOPs\n",
      "\n",
      "\u001b[34m\u001b[1mTensorBoard: \u001b[0mStart with 'tensorboard --logdir runs/detect/train219', view at http://localhost:6006/\n"
     ]
    },
    {
     "data": {
      "text/html": [
       "wandb version 0.17.3 is available!  To upgrade, please run:\n",
       " $ pip install wandb --upgrade"
      ],
      "text/plain": [
       "<IPython.core.display.HTML object>"
      ]
     },
     "metadata": {},
     "output_type": "display_data"
    },
    {
     "data": {
      "text/html": [
       "Tracking run with wandb version 0.17.1"
      ],
      "text/plain": [
       "<IPython.core.display.HTML object>"
      ]
     },
     "metadata": {},
     "output_type": "display_data"
    },
    {
     "data": {
      "text/html": [
       "Run data is saved locally in <code>/home/ubuntu/文档/GitHub/DL大作业/wandb/run-20240625_103245-kooho4ho</code>"
      ],
      "text/plain": [
       "<IPython.core.display.HTML object>"
      ]
     },
     "metadata": {},
     "output_type": "display_data"
    },
    {
     "data": {
      "text/html": [
       "Syncing run <strong><a href='https://wandb.ai/3339811384/YOLOv8/runs/kooho4ho' target=\"_blank\">train219</a></strong> to <a href='https://wandb.ai/3339811384/YOLOv8' target=\"_blank\">Weights & Biases</a> (<a href='https://wandb.me/run' target=\"_blank\">docs</a>)<br/>"
      ],
      "text/plain": [
       "<IPython.core.display.HTML object>"
      ]
     },
     "metadata": {},
     "output_type": "display_data"
    },
    {
     "data": {
      "text/html": [
       " View project at <a href='https://wandb.ai/3339811384/YOLOv8' target=\"_blank\">https://wandb.ai/3339811384/YOLOv8</a>"
      ],
      "text/plain": [
       "<IPython.core.display.HTML object>"
      ]
     },
     "metadata": {},
     "output_type": "display_data"
    },
    {
     "data": {
      "text/html": [
       " View run at <a href='https://wandb.ai/3339811384/YOLOv8/runs/kooho4ho' target=\"_blank\">https://wandb.ai/3339811384/YOLOv8/runs/kooho4ho</a>"
      ],
      "text/plain": [
       "<IPython.core.display.HTML object>"
      ]
     },
     "metadata": {},
     "output_type": "display_data"
    },
    {
     "name": "stdout",
     "output_type": "stream",
     "text": [
      "Freezing layer 'model.22.dfl.conv.weight'\n",
      "\u001b[34m\u001b[1mAMP: \u001b[0mrunning Automatic Mixed Precision (AMP) checks with YOLOv8n...\n",
      "\u001b[34m\u001b[1mAMP: \u001b[0mchecks passed ✅\n"
     ]
    },
    {
     "name": "stderr",
     "output_type": "stream",
     "text": [
      "\u001b[34m\u001b[1mtrain: \u001b[0mScanning /home/ubuntu/文档/GitHub/DL大作业/datasets/VehicleEnhanced/labels/train.cache... 35460 images, 0 backgrounds, 0 corrupt: 100%|██████████| 35460/35460 [00:00<?, ?it/s]\n",
      "\u001b[34m\u001b[1mval: \u001b[0mScanning /home/ubuntu/文档/GitHub/DL大作业/datasets/VehicleEnhanced/labels/val.cache... 3940 images, 0 backgrounds, 0 corrupt: 100%|██████████| 3940/3940 [00:00<?, ?it/s]\n"
     ]
    },
    {
     "name": "stdout",
     "output_type": "stream",
     "text": [
      "Plotting labels to runs/detect/train219/labels.jpg... \n",
      "\u001b[34m\u001b[1moptimizer:\u001b[0m Lion(lr=0.01, momentum=0.937) with parameter groups 57 weight(decay=0.0), 64 weight(decay=0.0005), 63 bias(decay=0.0)\n",
      "\u001b[34m\u001b[1mTensorBoard: \u001b[0mmodel graph visualization added ✅\n",
      "Image sizes 640 train, 640 val\n",
      "Using 8 dataloader workers\n",
      "Logging results to \u001b[1mruns/detect/train219\u001b[0m\n",
      "Starting training for 20 epochs...\n",
      "\n",
      "      Epoch    GPU_mem   box_loss   cls_loss   dfl_loss  Instances       Size\n"
     ]
    },
    {
     "name": "stderr",
     "output_type": "stream",
     "text": [
      "       1/20      2.35G      1.831       1.82      2.807          9        640: 100%|██████████| 2217/2217 [16:13<00:00,  2.28it/s]\n",
      "                 Class     Images  Instances      Box(P          R      mAP50  mAP50-95): 100%|██████████| 124/124 [01:10<00:00,  1.76it/s]"
     ]
    },
    {
     "name": "stdout",
     "output_type": "stream",
     "text": [
      "                   all       3940       3940    0.00318     0.0431    0.00184    0.00085\n"
     ]
    },
    {
     "name": "stderr",
     "output_type": "stream",
     "text": [
      "\n"
     ]
    },
    {
     "name": "stdout",
     "output_type": "stream",
     "text": [
      "\n",
      "      Epoch    GPU_mem   box_loss   cls_loss   dfl_loss  Instances       Size\n"
     ]
    },
    {
     "name": "stderr",
     "output_type": "stream",
     "text": [
      "       2/20      2.36G      1.009      1.049      1.907          5        640: 100%|██████████| 2217/2217 [16:01<00:00,  2.31it/s]\n",
      "                 Class     Images  Instances      Box(P          R      mAP50  mAP50-95): 100%|██████████| 124/124 [01:12<00:00,  1.72it/s]"
     ]
    },
    {
     "name": "stdout",
     "output_type": "stream",
     "text": [
      "                   all       3940       3940      0.436      0.156       0.17     0.0766\n"
     ]
    },
    {
     "name": "stderr",
     "output_type": "stream",
     "text": [
      "\n"
     ]
    },
    {
     "name": "stdout",
     "output_type": "stream",
     "text": [
      "\n",
      "      Epoch    GPU_mem   box_loss   cls_loss   dfl_loss  Instances       Size\n"
     ]
    },
    {
     "name": "stderr",
     "output_type": "stream",
     "text": [
      "       3/20      2.35G     0.7559     0.8155        1.5         11        640: 100%|██████████| 2217/2217 [16:02<00:00,  2.30it/s]\n",
      "                 Class     Images  Instances      Box(P          R      mAP50  mAP50-95): 100%|██████████| 124/124 [01:11<00:00,  1.73it/s]\n"
     ]
    },
    {
     "name": "stdout",
     "output_type": "stream",
     "text": [
      "                   all       3940       3940      0.829      0.376       0.53      0.394\n",
      "\n",
      "      Epoch    GPU_mem   box_loss   cls_loss   dfl_loss  Instances       Size\n"
     ]
    },
    {
     "name": "stderr",
     "output_type": "stream",
     "text": [
      "       4/20       2.4G     0.6431     0.6973       1.32          5        640: 100%|██████████| 2217/2217 [15:56<00:00,  2.32it/s]\n",
      "                 Class     Images  Instances      Box(P          R      mAP50  mAP50-95): 100%|██████████| 124/124 [01:13<00:00,  1.69it/s]\n"
     ]
    },
    {
     "name": "stdout",
     "output_type": "stream",
     "text": [
      "                   all       3940       3940      0.602      0.482      0.553      0.428\n",
      "\n",
      "      Epoch    GPU_mem   box_loss   cls_loss   dfl_loss  Instances       Size\n"
     ]
    },
    {
     "name": "stderr",
     "output_type": "stream",
     "text": [
      "       5/20      2.37G     0.5801     0.6306      1.233         11        640: 100%|██████████| 2217/2217 [15:56<00:00,  2.32it/s]\n",
      "                 Class     Images  Instances      Box(P          R      mAP50  mAP50-95): 100%|██████████| 124/124 [01:09<00:00,  1.77it/s]"
     ]
    },
    {
     "name": "stdout",
     "output_type": "stream",
     "text": [
      "                   all       3940       3940      0.558      0.341      0.398      0.307\n"
     ]
    },
    {
     "name": "stderr",
     "output_type": "stream",
     "text": [
      "\n"
     ]
    },
    {
     "name": "stdout",
     "output_type": "stream",
     "text": [
      "\n",
      "      Epoch    GPU_mem   box_loss   cls_loss   dfl_loss  Instances       Size\n"
     ]
    },
    {
     "name": "stderr",
     "output_type": "stream",
     "text": [
      "       6/20      2.36G     0.5433     0.5859      1.182          9        640: 100%|██████████| 2217/2217 [16:02<00:00,  2.30it/s]\n",
      "                 Class     Images  Instances      Box(P          R      mAP50  mAP50-95): 100%|██████████| 124/124 [01:13<00:00,  1.70it/s]"
     ]
    },
    {
     "name": "stdout",
     "output_type": "stream",
     "text": [
      "                   all       3940       3940      0.716      0.788      0.822      0.735\n"
     ]
    },
    {
     "name": "stderr",
     "output_type": "stream",
     "text": [
      "\n"
     ]
    },
    {
     "name": "stdout",
     "output_type": "stream",
     "text": [
      "\n",
      "      Epoch    GPU_mem   box_loss   cls_loss   dfl_loss  Instances       Size\n"
     ]
    },
    {
     "name": "stderr",
     "output_type": "stream",
     "text": [
      "       7/20      2.35G     0.5155      0.552      1.144          7        640: 100%|██████████| 2217/2217 [15:53<00:00,  2.32it/s]\n",
      "                 Class     Images  Instances      Box(P          R      mAP50  mAP50-95): 100%|██████████| 124/124 [01:12<00:00,  1.70it/s]"
     ]
    },
    {
     "name": "stdout",
     "output_type": "stream",
     "text": [
      "                   all       3940       3940      0.781      0.746      0.824       0.73\n"
     ]
    },
    {
     "name": "stderr",
     "output_type": "stream",
     "text": [
      "\n"
     ]
    },
    {
     "name": "stdout",
     "output_type": "stream",
     "text": [
      "\n",
      "      Epoch    GPU_mem   box_loss   cls_loss   dfl_loss  Instances       Size\n"
     ]
    },
    {
     "name": "stderr",
     "output_type": "stream",
     "text": [
      "       8/20       2.4G     0.4961     0.5258       1.12          6        640: 100%|██████████| 2217/2217 [16:03<00:00,  2.30it/s]\n",
      "                 Class     Images  Instances      Box(P          R      mAP50  mAP50-95): 100%|██████████| 124/124 [01:12<00:00,  1.71it/s]"
     ]
    },
    {
     "name": "stdout",
     "output_type": "stream",
     "text": [
      "                   all       3940       3940      0.735      0.825      0.855      0.748\n"
     ]
    },
    {
     "name": "stderr",
     "output_type": "stream",
     "text": [
      "\n"
     ]
    },
    {
     "name": "stdout",
     "output_type": "stream",
     "text": [
      "\n",
      "      Epoch    GPU_mem   box_loss   cls_loss   dfl_loss  Instances       Size\n"
     ]
    },
    {
     "name": "stderr",
     "output_type": "stream",
     "text": [
      "       9/20      2.36G     0.4812     0.5063      1.098         11        640: 100%|██████████| 2217/2217 [15:58<00:00,  2.31it/s]\n",
      "                 Class     Images  Instances      Box(P          R      mAP50  mAP50-95): 100%|██████████| 124/124 [01:12<00:00,  1.71it/s]"
     ]
    },
    {
     "name": "stdout",
     "output_type": "stream",
     "text": [
      "                   all       3940       3940      0.674      0.706      0.778      0.702\n"
     ]
    },
    {
     "name": "stderr",
     "output_type": "stream",
     "text": [
      "\n"
     ]
    },
    {
     "name": "stdout",
     "output_type": "stream",
     "text": [
      "\n",
      "      Epoch    GPU_mem   box_loss   cls_loss   dfl_loss  Instances       Size\n"
     ]
    },
    {
     "name": "stderr",
     "output_type": "stream",
     "text": [
      "      10/20      2.36G     0.4694     0.4899      1.086         10        640: 100%|██████████| 2217/2217 [15:58<00:00,  2.31it/s]\n",
      "                 Class     Images  Instances      Box(P          R      mAP50  mAP50-95): 100%|██████████| 124/124 [01:13<00:00,  1.68it/s]\n"
     ]
    },
    {
     "name": "stdout",
     "output_type": "stream",
     "text": [
      "                   all       3940       3940       0.89      0.854      0.944      0.881\n",
      "Closing dataloader mosaic\n",
      "\n",
      "      Epoch    GPU_mem   box_loss   cls_loss   dfl_loss  Instances       Size\n"
     ]
    },
    {
     "name": "stderr",
     "output_type": "stream",
     "text": [
      "      11/20      2.35G     0.3416     0.3443     0.9438          4        640: 100%|██████████| 2217/2217 [16:00<00:00,  2.31it/s]\n",
      "                 Class     Images  Instances      Box(P          R      mAP50  mAP50-95): 100%|██████████| 124/124 [01:13<00:00,  1.70it/s]"
     ]
    },
    {
     "name": "stdout",
     "output_type": "stream",
     "text": [
      "                   all       3940       3940      0.917      0.872      0.937       0.89\n"
     ]
    },
    {
     "name": "stderr",
     "output_type": "stream",
     "text": [
      "\n"
     ]
    },
    {
     "name": "stdout",
     "output_type": "stream",
     "text": [
      "\n",
      "      Epoch    GPU_mem   box_loss   cls_loss   dfl_loss  Instances       Size\n"
     ]
    },
    {
     "name": "stderr",
     "output_type": "stream",
     "text": [
      "      12/20      2.36G     0.3271     0.3232     0.9308          4        640: 100%|██████████| 2217/2217 [15:54<00:00,  2.32it/s]\n",
      "                 Class     Images  Instances      Box(P          R      mAP50  mAP50-95): 100%|██████████| 124/124 [01:13<00:00,  1.70it/s]"
     ]
    },
    {
     "name": "stdout",
     "output_type": "stream",
     "text": [
      "                   all       3940       3940      0.923      0.913      0.961      0.911\n"
     ]
    },
    {
     "name": "stderr",
     "output_type": "stream",
     "text": [
      "\n"
     ]
    },
    {
     "name": "stdout",
     "output_type": "stream",
     "text": [
      "\n",
      "      Epoch    GPU_mem   box_loss   cls_loss   dfl_loss  Instances       Size\n"
     ]
    },
    {
     "name": "stderr",
     "output_type": "stream",
     "text": [
      "      13/20      2.36G     0.3193     0.3087     0.9249          4        640: 100%|██████████| 2217/2217 [15:53<00:00,  2.32it/s]\n",
      "                 Class     Images  Instances      Box(P          R      mAP50  mAP50-95): 100%|██████████| 124/124 [01:12<00:00,  1.70it/s]"
     ]
    },
    {
     "name": "stdout",
     "output_type": "stream",
     "text": [
      "                   all       3940       3940      0.899      0.914       0.96       0.92\n"
     ]
    },
    {
     "name": "stderr",
     "output_type": "stream",
     "text": [
      "\n"
     ]
    },
    {
     "name": "stdout",
     "output_type": "stream",
     "text": [
      "\n",
      "      Epoch    GPU_mem   box_loss   cls_loss   dfl_loss  Instances       Size\n"
     ]
    },
    {
     "name": "stderr",
     "output_type": "stream",
     "text": [
      "      14/20      2.36G     0.3126     0.2974      0.918          4        640: 100%|██████████| 2217/2217 [16:02<00:00,  2.30it/s]\n",
      "                 Class     Images  Instances      Box(P          R      mAP50  mAP50-95): 100%|██████████| 124/124 [01:12<00:00,  1.71it/s]"
     ]
    },
    {
     "name": "stdout",
     "output_type": "stream",
     "text": [
      "                   all       3940       3940       0.94      0.919      0.965      0.929\n"
     ]
    },
    {
     "name": "stderr",
     "output_type": "stream",
     "text": [
      "\n"
     ]
    },
    {
     "name": "stdout",
     "output_type": "stream",
     "text": [
      "\n",
      "      Epoch    GPU_mem   box_loss   cls_loss   dfl_loss  Instances       Size\n"
     ]
    },
    {
     "name": "stderr",
     "output_type": "stream",
     "text": [
      "      15/20      2.35G     0.3067       0.29     0.9124          4        640: 100%|██████████| 2217/2217 [15:51<00:00,  2.33it/s]\n",
      "                 Class     Images  Instances      Box(P          R      mAP50  mAP50-95): 100%|██████████| 124/124 [01:13<00:00,  1.70it/s]"
     ]
    },
    {
     "name": "stdout",
     "output_type": "stream",
     "text": [
      "                   all       3940       3940      0.947      0.929       0.97      0.937\n"
     ]
    },
    {
     "name": "stderr",
     "output_type": "stream",
     "text": [
      "\n"
     ]
    },
    {
     "name": "stdout",
     "output_type": "stream",
     "text": [
      "\n",
      "      Epoch    GPU_mem   box_loss   cls_loss   dfl_loss  Instances       Size\n"
     ]
    },
    {
     "name": "stderr",
     "output_type": "stream",
     "text": [
      "      16/20      2.37G     0.3022      0.281     0.9094          4        640: 100%|██████████| 2217/2217 [16:02<00:00,  2.30it/s]\n",
      "                 Class     Images  Instances      Box(P          R      mAP50  mAP50-95): 100%|██████████| 124/124 [01:13<00:00,  1.70it/s]"
     ]
    },
    {
     "name": "stdout",
     "output_type": "stream",
     "text": [
      "                   all       3940       3940      0.946      0.925       0.97      0.936\n"
     ]
    },
    {
     "name": "stderr",
     "output_type": "stream",
     "text": [
      "\n"
     ]
    },
    {
     "name": "stdout",
     "output_type": "stream",
     "text": [
      "\n",
      "      Epoch    GPU_mem   box_loss   cls_loss   dfl_loss  Instances       Size\n"
     ]
    },
    {
     "name": "stderr",
     "output_type": "stream",
     "text": [
      "      17/20      2.36G     0.2969     0.2737     0.9055          4        640: 100%|██████████| 2217/2217 [15:57<00:00,  2.31it/s]\n",
      "                 Class     Images  Instances      Box(P          R      mAP50  mAP50-95): 100%|██████████| 124/124 [01:12<00:00,  1.71it/s]"
     ]
    },
    {
     "name": "stdout",
     "output_type": "stream",
     "text": [
      "                   all       3940       3940      0.946      0.918      0.972      0.943\n"
     ]
    },
    {
     "name": "stderr",
     "output_type": "stream",
     "text": [
      "\n"
     ]
    },
    {
     "name": "stdout",
     "output_type": "stream",
     "text": [
      "\n",
      "      Epoch    GPU_mem   box_loss   cls_loss   dfl_loss  Instances       Size\n"
     ]
    },
    {
     "name": "stderr",
     "output_type": "stream",
     "text": [
      "      18/20      2.36G     0.2926     0.2658     0.9012          4        640: 100%|██████████| 2217/2217 [16:02<00:00,  2.30it/s]\n",
      "                 Class     Images  Instances      Box(P          R      mAP50  mAP50-95): 100%|██████████| 124/124 [01:14<00:00,  1.66it/s]"
     ]
    },
    {
     "name": "stdout",
     "output_type": "stream",
     "text": [
      "                   all       3940       3940      0.939      0.924      0.971      0.942\n"
     ]
    },
    {
     "name": "stderr",
     "output_type": "stream",
     "text": [
      "\n"
     ]
    },
    {
     "name": "stdout",
     "output_type": "stream",
     "text": [
      "\n",
      "      Epoch    GPU_mem   box_loss   cls_loss   dfl_loss  Instances       Size\n"
     ]
    },
    {
     "name": "stderr",
     "output_type": "stream",
     "text": [
      "      19/20      2.35G     0.2882     0.2576     0.8982          4        640: 100%|██████████| 2217/2217 [15:54<00:00,  2.32it/s]\n",
      "                 Class     Images  Instances      Box(P          R      mAP50  mAP50-95): 100%|██████████| 124/124 [01:12<00:00,  1.70it/s]"
     ]
    },
    {
     "name": "stdout",
     "output_type": "stream",
     "text": [
      "                   all       3940       3940       0.95      0.931      0.974      0.945\n"
     ]
    },
    {
     "name": "stderr",
     "output_type": "stream",
     "text": [
      "\n"
     ]
    },
    {
     "name": "stdout",
     "output_type": "stream",
     "text": [
      "\n",
      "      Epoch    GPU_mem   box_loss   cls_loss   dfl_loss  Instances       Size\n"
     ]
    },
    {
     "name": "stderr",
     "output_type": "stream",
     "text": [
      "      20/20      2.36G     0.2841     0.2498     0.8969          4        640: 100%|██████████| 2217/2217 [15:56<00:00,  2.32it/s]\n",
      "                 Class     Images  Instances      Box(P          R      mAP50  mAP50-95): 100%|██████████| 124/124 [01:11<00:00,  1.73it/s]\n"
     ]
    },
    {
     "name": "stdout",
     "output_type": "stream",
     "text": [
      "                   all       3940       3940      0.953       0.92      0.972      0.943\n",
      "\n",
      "20 epochs completed in 5.738 hours.\n",
      "Optimizer stripped from runs/detect/train219/weights/last.pt, 6.2MB\n",
      "Optimizer stripped from runs/detect/train219/weights/best.pt, 6.2MB\n",
      "\n",
      "Validating runs/detect/train219/weights/best.pt...\n",
      "Ultralytics YOLOv8.2.31 🚀 Python-3.10.14 torch-2.3.1+cu121 CUDA:0 (NVIDIA P102-100, 10150MiB)\n",
      "YOLOv8 summary (fused): 168 layers, 3006818 parameters, 0 gradients, 8.1 GFLOPs\n"
     ]
    },
    {
     "name": "stderr",
     "output_type": "stream",
     "text": [
      "                 Class     Images  Instances      Box(P          R      mAP50  mAP50-95): 100%|██████████| 124/124 [01:18<00:00,  1.57it/s]\n"
     ]
    },
    {
     "name": "stdout",
     "output_type": "stream",
     "text": [
      "                   all       3940       3940      0.946      0.931      0.973      0.944\n",
      "                   SUV        816        816      0.938       0.94      0.965      0.941\n",
      "                 Sedan       2348       2348      0.975       0.98      0.992      0.974\n",
      "              Micorbus        188        188      0.939      0.846      0.955      0.912\n",
      "               Minivan        588        588      0.932      0.959       0.98      0.947\n",
      "Speed: 1.7ms preprocess, 3.6ms inference, 0.0ms loss, 3.2ms postprocess per image\n",
      "Results saved to \u001b[1mruns/detect/train219\u001b[0m\n"
     ]
    },
    {
     "data": {
      "application/vnd.jupyter.widget-view+json": {
       "model_id": "b6d0721baf2744bea0ca844e8b9aebb2",
       "version_major": 2,
       "version_minor": 0
      },
      "text/plain": [
       "VBox(children=(Label(value='12.417 MB of 12.417 MB uploaded\\r'), FloatProgress(value=1.0, max=1.0)))"
      ]
     },
     "metadata": {},
     "output_type": "display_data"
    },
    {
     "data": {
      "text/html": [
       "<style>\n",
       "    table.wandb td:nth-child(1) { padding: 0 10px; text-align: left ; width: auto;} td:nth-child(2) {text-align: left ; width: 100%}\n",
       "    .wandb-row { display: flex; flex-direction: row; flex-wrap: wrap; justify-content: flex-start; width: 100% }\n",
       "    .wandb-col { display: flex; flex-direction: column; flex-basis: 100%; flex: 1; padding: 10px; }\n",
       "    </style>\n",
       "<div class=\"wandb-row\"><div class=\"wandb-col\"><h3>Run history:</h3><br/><table class=\"wandb\"><tr><td>lr/pg0</td><td>█▅▁▁▁▁▁▁▁▁▁▁▁▁▁▁▁▁▁▁</td></tr><tr><td>lr/pg1</td><td>▃▆██▇▇▆▆▆▅▅▄▄▃▃▃▂▂▁▁</td></tr><tr><td>lr/pg2</td><td>▃▆██▇▇▆▆▆▅▅▄▄▃▃▃▂▂▁▁</td></tr><tr><td>metrics/mAP50(B)</td><td>▁▂▅▅▄▇▇▇▇███████████</td></tr><tr><td>metrics/mAP50-95(B)</td><td>▁▂▄▄▃▆▆▇▆███████████</td></tr><tr><td>metrics/precision(B)</td><td>▁▄▇▅▅▆▇▆▆███████████</td></tr><tr><td>metrics/recall(B)</td><td>▁▂▄▄▃▇▇▇▆▇██████████</td></tr><tr><td>model/GFLOPs</td><td>▁</td></tr><tr><td>model/parameters</td><td>▁</td></tr><tr><td>model/speed_PyTorch(ms)</td><td>▁</td></tr><tr><td>train/box_loss</td><td>█▄▃▃▂▂▂▂▂▂▁▁▁▁▁▁▁▁▁▁</td></tr><tr><td>train/cls_loss</td><td>█▅▄▃▃▂▂▂▂▂▁▁▁▁▁▁▁▁▁▁</td></tr><tr><td>train/dfl_loss</td><td>█▅▃▃▂▂▂▂▂▂▁▁▁▁▁▁▁▁▁▁</td></tr><tr><td>val/box_loss</td><td>█▆▃▃▄▂▂▂▁▁▁▁▁▁▁▁▁▁▁▁</td></tr><tr><td>val/cls_loss</td><td>█▆▃▃▅▂▂▂▂▁▁▁▁▁▁▁▁▁▁▁</td></tr><tr><td>val/dfl_loss</td><td>█▇▃▃▄▂▂▂▂▁▁▁▁▁▁▁▁▁▁▁</td></tr></table><br/></div><div class=\"wandb-col\"><h3>Run summary:</h3><br/><table class=\"wandb\"><tr><td>lr/pg0</td><td>1e-05</td></tr><tr><td>lr/pg1</td><td>1e-05</td></tr><tr><td>lr/pg2</td><td>1e-05</td></tr><tr><td>metrics/mAP50(B)</td><td>0.97327</td></tr><tr><td>metrics/mAP50-95(B)</td><td>0.94372</td></tr><tr><td>metrics/precision(B)</td><td>0.94597</td></tr><tr><td>metrics/recall(B)</td><td>0.9311</td></tr><tr><td>model/GFLOPs</td><td>8.2</td></tr><tr><td>model/parameters</td><td>3012018</td></tr><tr><td>model/speed_PyTorch(ms)</td><td>3.44</td></tr><tr><td>train/box_loss</td><td>0.28414</td></tr><tr><td>train/cls_loss</td><td>0.24979</td></tr><tr><td>train/dfl_loss</td><td>0.89691</td></tr><tr><td>val/box_loss</td><td>0.2685</td></tr><tr><td>val/cls_loss</td><td>0.25268</td></tr><tr><td>val/dfl_loss</td><td>0.86438</td></tr></table><br/></div></div>"
      ],
      "text/plain": [
       "<IPython.core.display.HTML object>"
      ]
     },
     "metadata": {},
     "output_type": "display_data"
    },
    {
     "data": {
      "text/html": [
       " View run <strong style=\"color:#cdcd00\">train219</strong> at: <a href='https://wandb.ai/3339811384/YOLOv8/runs/kooho4ho' target=\"_blank\">https://wandb.ai/3339811384/YOLOv8/runs/kooho4ho</a><br/> View project at: <a href='https://wandb.ai/3339811384/YOLOv8' target=\"_blank\">https://wandb.ai/3339811384/YOLOv8</a><br/>Synced 6 W&B file(s), 24 media file(s), 5 artifact file(s) and 0 other file(s)"
      ],
      "text/plain": [
       "<IPython.core.display.HTML object>"
      ]
     },
     "metadata": {},
     "output_type": "display_data"
    },
    {
     "data": {
      "text/html": [
       "Find logs at: <code>./wandb/run-20240625_103245-kooho4ho/logs</code>"
      ],
      "text/plain": [
       "<IPython.core.display.HTML object>"
      ]
     },
     "metadata": {},
     "output_type": "display_data"
    },
    {
     "name": "stdout",
     "output_type": "stream",
     "text": [
      "Ultralytics YOLOv8.2.31 🚀 Python-3.10.14 torch-2.3.1+cu121 CUDA:0 (NVIDIA P102-100, 10150MiB)\n",
      "YOLOv8 summary (fused): 168 layers, 3006818 parameters, 0 gradients, 8.1 GFLOPs\n"
     ]
    },
    {
     "name": "stderr",
     "output_type": "stream",
     "text": [
      "\u001b[34m\u001b[1mval: \u001b[0mScanning /home/ubuntu/文档/GitHub/DL大作业/datasets/VehicleEnhanced/labels/val.cache... 3940 images, 0 backgrounds, 0 corrupt: 100%|██████████| 3940/3940 [00:00<?, ?it/s]\n",
      "                 Class     Images  Instances      Box(P          R      mAP50  mAP50-95): 100%|██████████| 247/247 [01:18<00:00,  3.15it/s]\n"
     ]
    },
    {
     "name": "stdout",
     "output_type": "stream",
     "text": [
      "                   all       3940       3940      0.949      0.935      0.974      0.945\n",
      "                   SUV        816        816      0.938      0.934      0.966      0.945\n",
      "                 Sedan       2348       2348      0.976       0.98      0.992      0.974\n",
      "              Micorbus        188        188      0.948      0.866      0.956      0.915\n",
      "               Minivan        588        588      0.934      0.959       0.98      0.949\n",
      "Speed: 1.7ms preprocess, 3.2ms inference, 0.0ms loss, 3.8ms postprocess per image\n",
      "Results saved to \u001b[1mruns/detect/train2192\u001b[0m\n",
      "Ultralytics YOLOv8.2.31 🚀 Python-3.10.14 torch-2.3.1+cu121 CPU (Intel Xeon E5-2680 v4 2.40GHz)\n",
      "\n",
      "\u001b[34m\u001b[1mPyTorch:\u001b[0m starting from 'runs/detect/train219/weights/best.pt' with input shape (1, 3, 640, 640) BCHW and output shape(s) (1, 10, 8400) (5.9 MB)\n",
      "\n",
      "\u001b[34m\u001b[1mONNX:\u001b[0m starting export with onnx 1.16.1 opset 17...\n",
      "\u001b[34m\u001b[1mONNX:\u001b[0m export success ✅ 1.0s, saved as 'runs/detect/train219/weights/best.onnx' (11.7 MB)\n",
      "\n",
      "Export complete (2.6s)\n",
      "Results saved to \u001b[1m/home/ubuntu/文档/GitHub/DL大作业/runs/detect/train219/weights\u001b[0m\n",
      "Predict:         yolo predict task=detect model=runs/detect/train219/weights/best.onnx imgsz=640  \n",
      "Validate:        yolo val task=detect model=runs/detect/train219/weights/best.onnx imgsz=640 data=/home/ubuntu/文档/GitHub/DL大作业/vehicle-en-dataset.yaml  \n",
      "Visualize:       https://netron.app\n"
     ]
    }
   ],
   "source": [
    "from ultralytics import YOLO\n",
    "\n",
    "# 创建\n",
    "model = YOLO(\"./ultralytics/cfg/models/v8/yolov8.yaml\")\n",
    "\n",
    "# Load a pretrained YOLO model (recommended for training)\n",
    "\n",
    "\n",
    "results = model.train(data=\"/home/ubuntu/文档/GitHub/DL大作业/vehicle-en-dataset.yaml\", epochs=20, optimizer=\"Lion\")\n",
    "\n",
    "# Evaluate the model's performance on the validation set\n",
    "results = model.val()\n",
    "\n",
    "# Export the model to ONNX format\n",
    "success = model.export(format=\"onnx\")"
   ]
  },
  {
   "cell_type": "code",
   "execution_count": null,
   "metadata": {},
   "outputs": [],
   "source": []
  },
  {
   "cell_type": "code",
   "execution_count": null,
   "metadata": {},
   "outputs": [],
   "source": [
    "from ultralytics import YOLO\n",
    "\n",
    "# 创建\n",
    "model = YOLO(\"/home/ubuntu/文档/GitHub/DL大作业/ultralytics/cfg/models/v8/My/yolov8-C2f_DCN.yaml\")\n",
    "\n",
    "# Load a pretrained YOLO model (recommended for training)\n",
    "# model = YOLO(\"./yolov8n.pt\")\n",
    "\n",
    "\n",
    "results = model.train(data=\"/home/ubuntu/文档/GitHub/DL大作业/vehicle-dataset.yaml\", epochs=20)\n",
    "\n",
    "# Evaluate the model's performance on the validation set\n",
    "results = model.val()\n",
    "\n",
    "# Export the model to ONNX format\n",
    "success = model.export(format=\"onnx\")"
   ]
  },
  {
   "cell_type": "code",
   "execution_count": 1,
   "metadata": {},
   "outputs": [
    {
     "name": "stdout",
     "output_type": "stream",
     "text": [
      "WARNING ⚠️ no model scale passed. Assuming scale='n'.\n",
      "New https://pypi.org/project/ultralytics/8.2.38 available 😃 Update with 'pip install -U ultralytics'\n",
      "Ultralytics YOLOv8.2.31 🚀 Python-3.10.14 torch-2.3.1+cu121 CUDA:0 (NVIDIA P102-100, 10150MiB)\n",
      "\u001b[34m\u001b[1mengine/trainer: \u001b[0mtask=detect, mode=train, model=/home/ubuntu/文档/GitHub/DL大作业/ultralytics/cfg/models/v8/My/yolov8.yaml, data=/home/ubuntu/文档/GitHub/DL大作业/vehicle-dataset.yaml, epochs=20, time=None, patience=100, batch=16, imgsz=640, save=True, save_period=-1, cache=False, device=None, workers=8, project=None, name=train199, exist_ok=False, pretrained=True, optimizer=auto, verbose=True, seed=0, deterministic=True, single_cls=False, rect=False, cos_lr=False, close_mosaic=10, resume=False, amp=True, fraction=1.0, profile=False, freeze=None, multi_scale=False, overlap_mask=True, mask_ratio=4, dropout=0.0, val=True, split=val, save_json=False, save_hybrid=False, conf=None, iou=0.7, max_det=300, half=False, dnn=False, plots=True, source=None, vid_stride=1, stream_buffer=False, visualize=False, augment=False, agnostic_nms=False, classes=None, retina_masks=False, embed=None, show=False, save_frames=False, save_txt=False, save_conf=False, save_crop=False, show_labels=True, show_conf=True, show_boxes=True, line_width=None, format=torchscript, keras=False, optimize=False, int8=False, dynamic=False, simplify=False, opset=None, workspace=4, nms=False, lr0=0.01, lrf=0.01, momentum=0.937, weight_decay=0.0005, warmup_epochs=3.0, warmup_momentum=0.8, warmup_bias_lr=0.1, box=7.5, cls=0.5, dfl=1.5, pose=12.0, kobj=1.0, label_smoothing=0.0, nbs=64, hsv_h=0.015, hsv_s=0.7, hsv_v=0.4, degrees=0.0, translate=0.1, scale=0.5, shear=0.0, perspective=0.0, flipud=0.0, fliplr=0.5, bgr=0.0, mosaic=1.0, mixup=0.0, copy_paste=0.0, auto_augment=randaugment, erasing=0.4, crop_fraction=1.0, cfg=None, tracker=botsort.yaml, save_dir=runs/detect/train199\n",
      "WARNING ⚠️ no model scale passed. Assuming scale='n'.\n",
      "\n",
      "                   from  n    params  module                                       arguments                     \n",
      "  0                  -1  1       464  ultralytics.nn.modules.conv.Conv             [3, 16, 3, 2]                 \n",
      "  1                  -1  1      4672  ultralytics.nn.modules.conv.Conv             [16, 32, 3, 2]                \n",
      "  2                  -1  1      7360  ultralytics.nn.modules.block.C2f             [32, 32, 1, True]             \n",
      "  3                  -1  1     18560  ultralytics.nn.modules.conv.Conv             [32, 64, 3, 2]                \n",
      "  4                  -1  2     49664  ultralytics.nn.modules.block.C2f             [64, 64, 2, True]             \n",
      "  5                  -1  1     73984  ultralytics.nn.modules.conv.Conv             [64, 128, 3, 2]               \n",
      "  6                  -1  2    197632  ultralytics.nn.modules.block.C2f             [128, 128, 2, True]           \n",
      "  7                  -1  1    295424  ultralytics.nn.modules.conv.Conv             [128, 256, 3, 2]              \n",
      "  8                  -1  1    460288  ultralytics.nn.modules.block.C2f             [256, 256, 1, True]           \n",
      "  9                  -1  1    164608  ultralytics.nn.modules.block.SPPF            [256, 256, 5]                 \n",
      " 10                  -1  1         0  torch.nn.modules.upsampling.Upsample         [None, 2, 'nearest']          \n",
      " 11             [-1, 6]  1         0  ultralytics.nn.modules.conv.Concat           [1]                           \n",
      " 12                  -1  1    148224  ultralytics.nn.modules.block.C2f             [384, 128, 1]                 \n",
      " 13                  -1  1         0  torch.nn.modules.upsampling.Upsample         [None, 2, 'nearest']          \n",
      " 14             [-1, 4]  1         0  ultralytics.nn.modules.conv.Concat           [1]                           \n",
      " 15                  -1  1     37248  ultralytics.nn.modules.block.C2f             [192, 64, 1]                  \n",
      " 16                  -1  1     36992  ultralytics.nn.modules.conv.Conv             [64, 64, 3, 2]                \n",
      " 17            [-1, 12]  1         0  ultralytics.nn.modules.conv.Concat           [1]                           \n",
      " 18                  -1  1    123648  ultralytics.nn.modules.block.C2f             [192, 128, 1]                 \n",
      " 19                  -1  1    147712  ultralytics.nn.modules.conv.Conv             [128, 128, 3, 2]              \n",
      " 20             [-1, 9]  1         0  ultralytics.nn.modules.conv.Concat           [1]                           \n",
      " 21                  -1  1    493056  ultralytics.nn.modules.block.C2f             [384, 256, 1]                 \n",
      " 22        [15, 18, 21]  1    752482  ultralytics.nn.modules.head.Detect           [6, [64, 128, 256]]           \n",
      "YOLOv8 summary: 225 layers, 3012018 parameters, 3012002 gradients, 8.2 GFLOPs\n",
      "\n",
      "\u001b[34m\u001b[1mTensorBoard: \u001b[0mStart with 'tensorboard --logdir runs/detect/train199', view at http://localhost:6006/\n"
     ]
    },
    {
     "name": "stderr",
     "output_type": "stream",
     "text": [
      "Failed to detect the name of this notebook, you can set it manually with the WANDB_NOTEBOOK_NAME environment variable to enable code saving.\n",
      "\u001b[34m\u001b[1mwandb\u001b[0m: Currently logged in as: \u001b[33m3339811384\u001b[0m. Use \u001b[1m`wandb login --relogin`\u001b[0m to force relogin\n"
     ]
    },
    {
     "ename": "KeyboardInterrupt",
     "evalue": "",
     "output_type": "error",
     "traceback": [
      "\u001b[0;31m---------------------------------------------------------------------------\u001b[0m",
      "\u001b[0;31mKeyboardInterrupt\u001b[0m                         Traceback (most recent call last)",
      "Cell \u001b[0;32mIn[1], line 10\u001b[0m\n\u001b[1;32m      4\u001b[0m model \u001b[38;5;241m=\u001b[39m YOLO(\u001b[38;5;124m\"\u001b[39m\u001b[38;5;124m/home/ubuntu/文档/GitHub/DL大作业/ultralytics/cfg/models/v8/My/yolov8.yaml\u001b[39m\u001b[38;5;124m\"\u001b[39m)\n\u001b[1;32m      6\u001b[0m \u001b[38;5;66;03m# Load a pretrained YOLO model (recommended for training)\u001b[39;00m\n\u001b[1;32m      7\u001b[0m \u001b[38;5;66;03m# model = YOLO(\"./yolov8n.pt\")\u001b[39;00m\n\u001b[0;32m---> 10\u001b[0m results \u001b[38;5;241m=\u001b[39m \u001b[43mmodel\u001b[49m\u001b[38;5;241;43m.\u001b[39;49m\u001b[43mtrain\u001b[49m\u001b[43m(\u001b[49m\u001b[43mdata\u001b[49m\u001b[38;5;241;43m=\u001b[39;49m\u001b[38;5;124;43m\"\u001b[39;49m\u001b[38;5;124;43m/home/ubuntu/文档/GitHub/DL大作业/vehicle-dataset.yaml\u001b[39;49m\u001b[38;5;124;43m\"\u001b[39;49m\u001b[43m,\u001b[49m\u001b[43m \u001b[49m\u001b[43mepochs\u001b[49m\u001b[38;5;241;43m=\u001b[39;49m\u001b[38;5;241;43m20\u001b[39;49m\u001b[43m)\u001b[49m\n\u001b[1;32m     12\u001b[0m \u001b[38;5;66;03m# Evaluate the model's performance on the validation set\u001b[39;00m\n\u001b[1;32m     13\u001b[0m results \u001b[38;5;241m=\u001b[39m model\u001b[38;5;241m.\u001b[39mval()\n",
      "File \u001b[0;32m~/文档/GitHub/DL大作业/ultralytics/engine/model.py:674\u001b[0m, in \u001b[0;36mModel.train\u001b[0;34m(self, trainer, **kwargs)\u001b[0m\n\u001b[1;32m    671\u001b[0m             \u001b[38;5;28;01mpass\u001b[39;00m\n\u001b[1;32m    673\u001b[0m \u001b[38;5;28mself\u001b[39m\u001b[38;5;241m.\u001b[39mtrainer\u001b[38;5;241m.\u001b[39mhub_session \u001b[38;5;241m=\u001b[39m \u001b[38;5;28mself\u001b[39m\u001b[38;5;241m.\u001b[39msession  \u001b[38;5;66;03m# attach optional HUB session\u001b[39;00m\n\u001b[0;32m--> 674\u001b[0m \u001b[38;5;28;43mself\u001b[39;49m\u001b[38;5;241;43m.\u001b[39;49m\u001b[43mtrainer\u001b[49m\u001b[38;5;241;43m.\u001b[39;49m\u001b[43mtrain\u001b[49m\u001b[43m(\u001b[49m\u001b[43m)\u001b[49m\n\u001b[1;32m    675\u001b[0m \u001b[38;5;66;03m# Update model and cfg after training\u001b[39;00m\n\u001b[1;32m    676\u001b[0m \u001b[38;5;28;01mif\u001b[39;00m RANK \u001b[38;5;129;01min\u001b[39;00m {\u001b[38;5;241m-\u001b[39m\u001b[38;5;241m1\u001b[39m, \u001b[38;5;241m0\u001b[39m}:\n",
      "File \u001b[0;32m~/文档/GitHub/DL大作业/ultralytics/engine/trainer.py:205\u001b[0m, in \u001b[0;36mBaseTrainer.train\u001b[0;34m(self)\u001b[0m\n\u001b[1;32m    202\u001b[0m         ddp_cleanup(\u001b[38;5;28mself\u001b[39m, \u001b[38;5;28mstr\u001b[39m(file))\n\u001b[1;32m    204\u001b[0m \u001b[38;5;28;01melse\u001b[39;00m:\n\u001b[0;32m--> 205\u001b[0m     \u001b[38;5;28;43mself\u001b[39;49m\u001b[38;5;241;43m.\u001b[39;49m\u001b[43m_do_train\u001b[49m\u001b[43m(\u001b[49m\u001b[43mworld_size\u001b[49m\u001b[43m)\u001b[49m\n",
      "File \u001b[0;32m~/文档/GitHub/DL大作业/ultralytics/engine/trainer.py:324\u001b[0m, in \u001b[0;36mBaseTrainer._do_train\u001b[0;34m(self, world_size)\u001b[0m\n\u001b[1;32m    322\u001b[0m \u001b[38;5;28;01mif\u001b[39;00m world_size \u001b[38;5;241m>\u001b[39m \u001b[38;5;241m1\u001b[39m:\n\u001b[1;32m    323\u001b[0m     \u001b[38;5;28mself\u001b[39m\u001b[38;5;241m.\u001b[39m_setup_ddp(world_size)\n\u001b[0;32m--> 324\u001b[0m \u001b[38;5;28;43mself\u001b[39;49m\u001b[38;5;241;43m.\u001b[39;49m\u001b[43m_setup_train\u001b[49m\u001b[43m(\u001b[49m\u001b[43mworld_size\u001b[49m\u001b[43m)\u001b[49m\n\u001b[1;32m    326\u001b[0m nb \u001b[38;5;241m=\u001b[39m \u001b[38;5;28mlen\u001b[39m(\u001b[38;5;28mself\u001b[39m\u001b[38;5;241m.\u001b[39mtrain_loader)  \u001b[38;5;66;03m# number of batches\u001b[39;00m\n\u001b[1;32m    327\u001b[0m nw \u001b[38;5;241m=\u001b[39m \u001b[38;5;28mmax\u001b[39m(\u001b[38;5;28mround\u001b[39m(\u001b[38;5;28mself\u001b[39m\u001b[38;5;241m.\u001b[39margs\u001b[38;5;241m.\u001b[39mwarmup_epochs \u001b[38;5;241m*\u001b[39m nb), \u001b[38;5;241m100\u001b[39m) \u001b[38;5;28;01mif\u001b[39;00m \u001b[38;5;28mself\u001b[39m\u001b[38;5;241m.\u001b[39margs\u001b[38;5;241m.\u001b[39mwarmup_epochs \u001b[38;5;241m>\u001b[39m \u001b[38;5;241m0\u001b[39m \u001b[38;5;28;01melse\u001b[39;00m \u001b[38;5;241m-\u001b[39m\u001b[38;5;241m1\u001b[39m  \u001b[38;5;66;03m# warmup iterations\u001b[39;00m\n",
      "File \u001b[0;32m~/文档/GitHub/DL大作业/ultralytics/engine/trainer.py:232\u001b[0m, in \u001b[0;36mBaseTrainer._setup_train\u001b[0;34m(self, world_size)\u001b[0m\n\u001b[1;32m    229\u001b[0m \u001b[38;5;250m\u001b[39m\u001b[38;5;124;03m\"\"\"Builds dataloaders and optimizer on correct rank process.\"\"\"\u001b[39;00m\n\u001b[1;32m    231\u001b[0m \u001b[38;5;66;03m# Model\u001b[39;00m\n\u001b[0;32m--> 232\u001b[0m \u001b[38;5;28;43mself\u001b[39;49m\u001b[38;5;241;43m.\u001b[39;49m\u001b[43mrun_callbacks\u001b[49m\u001b[43m(\u001b[49m\u001b[38;5;124;43m\"\u001b[39;49m\u001b[38;5;124;43mon_pretrain_routine_start\u001b[39;49m\u001b[38;5;124;43m\"\u001b[39;49m\u001b[43m)\u001b[49m\n\u001b[1;32m    233\u001b[0m ckpt \u001b[38;5;241m=\u001b[39m \u001b[38;5;28mself\u001b[39m\u001b[38;5;241m.\u001b[39msetup_model()\n\u001b[1;32m    234\u001b[0m \u001b[38;5;28mself\u001b[39m\u001b[38;5;241m.\u001b[39mmodel \u001b[38;5;241m=\u001b[39m \u001b[38;5;28mself\u001b[39m\u001b[38;5;241m.\u001b[39mmodel\u001b[38;5;241m.\u001b[39mto(\u001b[38;5;28mself\u001b[39m\u001b[38;5;241m.\u001b[39mdevice)\n",
      "File \u001b[0;32m~/文档/GitHub/DL大作业/ultralytics/engine/trainer.py:168\u001b[0m, in \u001b[0;36mBaseTrainer.run_callbacks\u001b[0;34m(self, event)\u001b[0m\n\u001b[1;32m    166\u001b[0m \u001b[38;5;250m\u001b[39m\u001b[38;5;124;03m\"\"\"Run all existing callbacks associated with a particular event.\"\"\"\u001b[39;00m\n\u001b[1;32m    167\u001b[0m \u001b[38;5;28;01mfor\u001b[39;00m callback \u001b[38;5;129;01min\u001b[39;00m \u001b[38;5;28mself\u001b[39m\u001b[38;5;241m.\u001b[39mcallbacks\u001b[38;5;241m.\u001b[39mget(event, []):\n\u001b[0;32m--> 168\u001b[0m     \u001b[43mcallback\u001b[49m\u001b[43m(\u001b[49m\u001b[38;5;28;43mself\u001b[39;49m\u001b[43m)\u001b[49m\n",
      "File \u001b[0;32m~/文档/GitHub/DL大作业/ultralytics/utils/callbacks/wb.py:112\u001b[0m, in \u001b[0;36mon_pretrain_routine_start\u001b[0;34m(trainer)\u001b[0m\n\u001b[1;32m    110\u001b[0m \u001b[38;5;28;01mdef\u001b[39;00m \u001b[38;5;21mon_pretrain_routine_start\u001b[39m(trainer):\n\u001b[1;32m    111\u001b[0m \u001b[38;5;250m    \u001b[39m\u001b[38;5;124;03m\"\"\"Initiate and start project if module is present.\"\"\"\u001b[39;00m\n\u001b[0;32m--> 112\u001b[0m     wb\u001b[38;5;241m.\u001b[39mrun \u001b[38;5;129;01mor\u001b[39;00m \u001b[43mwb\u001b[49m\u001b[38;5;241;43m.\u001b[39;49m\u001b[43minit\u001b[49m\u001b[43m(\u001b[49m\u001b[43mproject\u001b[49m\u001b[38;5;241;43m=\u001b[39;49m\u001b[43mtrainer\u001b[49m\u001b[38;5;241;43m.\u001b[39;49m\u001b[43margs\u001b[49m\u001b[38;5;241;43m.\u001b[39;49m\u001b[43mproject\u001b[49m\u001b[43m \u001b[49m\u001b[38;5;129;43;01mor\u001b[39;49;00m\u001b[43m \u001b[49m\u001b[38;5;124;43m\"\u001b[39;49m\u001b[38;5;124;43mYOLOv8\u001b[39;49m\u001b[38;5;124;43m\"\u001b[39;49m\u001b[43m,\u001b[49m\u001b[43m \u001b[49m\u001b[43mname\u001b[49m\u001b[38;5;241;43m=\u001b[39;49m\u001b[43mtrainer\u001b[49m\u001b[38;5;241;43m.\u001b[39;49m\u001b[43margs\u001b[49m\u001b[38;5;241;43m.\u001b[39;49m\u001b[43mname\u001b[49m\u001b[43m,\u001b[49m\u001b[43m \u001b[49m\u001b[43mconfig\u001b[49m\u001b[38;5;241;43m=\u001b[39;49m\u001b[38;5;28;43mvars\u001b[39;49m\u001b[43m(\u001b[49m\u001b[43mtrainer\u001b[49m\u001b[38;5;241;43m.\u001b[39;49m\u001b[43margs\u001b[49m\u001b[43m)\u001b[49m\u001b[43m)\u001b[49m\n",
      "File \u001b[0;32m~/anaconda3/envs/yolo/lib/python3.10/site-packages/wandb/sdk/wandb_init.py:1171\u001b[0m, in \u001b[0;36minit\u001b[0;34m(job_type, dir, config, project, entity, reinit, tags, group, name, notes, magic, config_exclude_keys, config_include_keys, anonymous, mode, allow_val_change, resume, force, tensorboard, sync_tensorboard, monitor_gym, save_code, id, fork_from, resume_from, settings)\u001b[0m\n\u001b[1;32m   1169\u001b[0m     wi \u001b[38;5;241m=\u001b[39m _WandbInit()\n\u001b[1;32m   1170\u001b[0m     wi\u001b[38;5;241m.\u001b[39msetup(kwargs)\n\u001b[0;32m-> 1171\u001b[0m     \u001b[38;5;28;01mreturn\u001b[39;00m \u001b[43mwi\u001b[49m\u001b[38;5;241;43m.\u001b[39;49m\u001b[43minit\u001b[49m\u001b[43m(\u001b[49m\u001b[43m)\u001b[49m\n\u001b[1;32m   1173\u001b[0m \u001b[38;5;28;01mexcept\u001b[39;00m \u001b[38;5;167;01mKeyboardInterrupt\u001b[39;00m \u001b[38;5;28;01mas\u001b[39;00m e:\n\u001b[1;32m   1174\u001b[0m     \u001b[38;5;28;01mif\u001b[39;00m logger \u001b[38;5;129;01mis\u001b[39;00m \u001b[38;5;129;01mnot\u001b[39;00m \u001b[38;5;28;01mNone\u001b[39;00m:\n",
      "File \u001b[0;32m~/anaconda3/envs/yolo/lib/python3.10/site-packages/wandb/sdk/wandb_init.py:808\u001b[0m, in \u001b[0;36m_WandbInit.init\u001b[0;34m(self)\u001b[0m\n\u001b[1;32m    806\u001b[0m run_start_handle \u001b[38;5;241m=\u001b[39m backend\u001b[38;5;241m.\u001b[39minterface\u001b[38;5;241m.\u001b[39mdeliver_run_start(run\u001b[38;5;241m.\u001b[39m_run_obj)\n\u001b[1;32m    807\u001b[0m \u001b[38;5;66;03m# TODO: add progress to let user know we are doing something\u001b[39;00m\n\u001b[0;32m--> 808\u001b[0m run_start_result \u001b[38;5;241m=\u001b[39m \u001b[43mrun_start_handle\u001b[49m\u001b[38;5;241;43m.\u001b[39;49m\u001b[43mwait\u001b[49m\u001b[43m(\u001b[49m\u001b[43mtimeout\u001b[49m\u001b[38;5;241;43m=\u001b[39;49m\u001b[38;5;241;43m30\u001b[39;49m\u001b[43m)\u001b[49m\n\u001b[1;32m    809\u001b[0m \u001b[38;5;28;01mif\u001b[39;00m run_start_result \u001b[38;5;129;01mis\u001b[39;00m \u001b[38;5;28;01mNone\u001b[39;00m:\n\u001b[1;32m    810\u001b[0m     run_start_handle\u001b[38;5;241m.\u001b[39mabandon()\n",
      "File \u001b[0;32m~/anaconda3/envs/yolo/lib/python3.10/site-packages/wandb/sdk/lib/mailbox.py:283\u001b[0m, in \u001b[0;36mMailboxHandle.wait\u001b[0;34m(self, timeout, on_probe, on_progress, release, cancel)\u001b[0m\n\u001b[1;32m    280\u001b[0m     \u001b[38;5;28;01mif\u001b[39;00m \u001b[38;5;28mself\u001b[39m\u001b[38;5;241m.\u001b[39m_interface\u001b[38;5;241m.\u001b[39m_transport_keepalive_failed():\n\u001b[1;32m    281\u001b[0m         \u001b[38;5;28;01mraise\u001b[39;00m MailboxError(\u001b[38;5;124m\"\u001b[39m\u001b[38;5;124mtransport failed\u001b[39m\u001b[38;5;124m\"\u001b[39m)\n\u001b[0;32m--> 283\u001b[0m found, abandoned \u001b[38;5;241m=\u001b[39m \u001b[38;5;28;43mself\u001b[39;49m\u001b[38;5;241;43m.\u001b[39;49m\u001b[43m_slot\u001b[49m\u001b[38;5;241;43m.\u001b[39;49m\u001b[43m_get_and_clear\u001b[49m\u001b[43m(\u001b[49m\u001b[43mtimeout\u001b[49m\u001b[38;5;241;43m=\u001b[39;49m\u001b[43mwait_timeout\u001b[49m\u001b[43m)\u001b[49m\n\u001b[1;32m    284\u001b[0m \u001b[38;5;28;01mif\u001b[39;00m found:\n\u001b[1;32m    285\u001b[0m     \u001b[38;5;66;03m# Always update progress to 100% when done\u001b[39;00m\n\u001b[1;32m    286\u001b[0m     \u001b[38;5;28;01mif\u001b[39;00m on_progress \u001b[38;5;129;01mand\u001b[39;00m progress_handle \u001b[38;5;129;01mand\u001b[39;00m progress_sent:\n",
      "File \u001b[0;32m~/anaconda3/envs/yolo/lib/python3.10/site-packages/wandb/sdk/lib/mailbox.py:130\u001b[0m, in \u001b[0;36m_MailboxSlot._get_and_clear\u001b[0;34m(self, timeout)\u001b[0m\n\u001b[1;32m    128\u001b[0m \u001b[38;5;28;01mdef\u001b[39;00m \u001b[38;5;21m_get_and_clear\u001b[39m(\u001b[38;5;28mself\u001b[39m, timeout: \u001b[38;5;28mfloat\u001b[39m) \u001b[38;5;241m-\u001b[39m\u001b[38;5;241m>\u001b[39m Tuple[Optional[pb\u001b[38;5;241m.\u001b[39mResult], \u001b[38;5;28mbool\u001b[39m]:\n\u001b[1;32m    129\u001b[0m     found \u001b[38;5;241m=\u001b[39m \u001b[38;5;28;01mNone\u001b[39;00m\n\u001b[0;32m--> 130\u001b[0m     \u001b[38;5;28;01mif\u001b[39;00m \u001b[38;5;28;43mself\u001b[39;49m\u001b[38;5;241;43m.\u001b[39;49m\u001b[43m_wait\u001b[49m\u001b[43m(\u001b[49m\u001b[43mtimeout\u001b[49m\u001b[38;5;241;43m=\u001b[39;49m\u001b[43mtimeout\u001b[49m\u001b[43m)\u001b[49m:\n\u001b[1;32m    131\u001b[0m         \u001b[38;5;28;01mwith\u001b[39;00m \u001b[38;5;28mself\u001b[39m\u001b[38;5;241m.\u001b[39m_lock:\n\u001b[1;32m    132\u001b[0m             found \u001b[38;5;241m=\u001b[39m \u001b[38;5;28mself\u001b[39m\u001b[38;5;241m.\u001b[39m_result\n",
      "File \u001b[0;32m~/anaconda3/envs/yolo/lib/python3.10/site-packages/wandb/sdk/lib/mailbox.py:126\u001b[0m, in \u001b[0;36m_MailboxSlot._wait\u001b[0;34m(self, timeout)\u001b[0m\n\u001b[1;32m    125\u001b[0m \u001b[38;5;28;01mdef\u001b[39;00m \u001b[38;5;21m_wait\u001b[39m(\u001b[38;5;28mself\u001b[39m, timeout: \u001b[38;5;28mfloat\u001b[39m) \u001b[38;5;241m-\u001b[39m\u001b[38;5;241m>\u001b[39m \u001b[38;5;28mbool\u001b[39m:\n\u001b[0;32m--> 126\u001b[0m     \u001b[38;5;28;01mreturn\u001b[39;00m \u001b[38;5;28;43mself\u001b[39;49m\u001b[38;5;241;43m.\u001b[39;49m\u001b[43m_event\u001b[49m\u001b[38;5;241;43m.\u001b[39;49m\u001b[43mwait\u001b[49m\u001b[43m(\u001b[49m\u001b[43mtimeout\u001b[49m\u001b[38;5;241;43m=\u001b[39;49m\u001b[43mtimeout\u001b[49m\u001b[43m)\u001b[49m\n",
      "File \u001b[0;32m~/anaconda3/envs/yolo/lib/python3.10/threading.py:607\u001b[0m, in \u001b[0;36mEvent.wait\u001b[0;34m(self, timeout)\u001b[0m\n\u001b[1;32m    605\u001b[0m signaled \u001b[38;5;241m=\u001b[39m \u001b[38;5;28mself\u001b[39m\u001b[38;5;241m.\u001b[39m_flag\n\u001b[1;32m    606\u001b[0m \u001b[38;5;28;01mif\u001b[39;00m \u001b[38;5;129;01mnot\u001b[39;00m signaled:\n\u001b[0;32m--> 607\u001b[0m     signaled \u001b[38;5;241m=\u001b[39m \u001b[38;5;28;43mself\u001b[39;49m\u001b[38;5;241;43m.\u001b[39;49m\u001b[43m_cond\u001b[49m\u001b[38;5;241;43m.\u001b[39;49m\u001b[43mwait\u001b[49m\u001b[43m(\u001b[49m\u001b[43mtimeout\u001b[49m\u001b[43m)\u001b[49m\n\u001b[1;32m    608\u001b[0m \u001b[38;5;28;01mreturn\u001b[39;00m signaled\n",
      "File \u001b[0;32m~/anaconda3/envs/yolo/lib/python3.10/threading.py:324\u001b[0m, in \u001b[0;36mCondition.wait\u001b[0;34m(self, timeout)\u001b[0m\n\u001b[1;32m    322\u001b[0m \u001b[38;5;28;01melse\u001b[39;00m:\n\u001b[1;32m    323\u001b[0m     \u001b[38;5;28;01mif\u001b[39;00m timeout \u001b[38;5;241m>\u001b[39m \u001b[38;5;241m0\u001b[39m:\n\u001b[0;32m--> 324\u001b[0m         gotit \u001b[38;5;241m=\u001b[39m \u001b[43mwaiter\u001b[49m\u001b[38;5;241;43m.\u001b[39;49m\u001b[43macquire\u001b[49m\u001b[43m(\u001b[49m\u001b[38;5;28;43;01mTrue\u001b[39;49;00m\u001b[43m,\u001b[49m\u001b[43m \u001b[49m\u001b[43mtimeout\u001b[49m\u001b[43m)\u001b[49m\n\u001b[1;32m    325\u001b[0m     \u001b[38;5;28;01melse\u001b[39;00m:\n\u001b[1;32m    326\u001b[0m         gotit \u001b[38;5;241m=\u001b[39m waiter\u001b[38;5;241m.\u001b[39macquire(\u001b[38;5;28;01mFalse\u001b[39;00m)\n",
      "\u001b[0;31mKeyboardInterrupt\u001b[0m: "
     ]
    }
   ],
   "source": [
    "from ultralytics import YOLO\n",
    "\n",
    "# 创建\n",
    "model = YOLO(\"/home/ubuntu/文档/GitHub/DL大作业/ultralytics/cfg/models/v8/My/yolov8.yaml\")\n",
    "\n",
    "# Load a pretrained YOLO model (recommended for training)\n",
    "# model = YOLO(\"./yolov8n.pt\")\n",
    "\n",
    "\n",
    "results = model.train(data=\"/home/ubuntu/文档/GitHub/DL大作业/vehicle-dataset.yaml\", epochs=20)\n",
    "\n",
    "# Evaluate the model's performance on the validation set\n",
    "results = model.val()\n",
    "\n",
    "# Export the model to ONNX format\n",
    "success = model.export(format=\"onnx\")"
   ]
  },
  {
   "cell_type": "code",
   "execution_count": null,
   "metadata": {},
   "outputs": [],
   "source": []
  }
 ],
 "metadata": {
  "kernelspec": {
   "display_name": "yolo",
   "language": "python",
   "name": "python3"
  },
  "language_info": {
   "codemirror_mode": {
    "name": "ipython",
    "version": 3
   },
   "file_extension": ".py",
   "mimetype": "text/x-python",
   "name": "python",
   "nbconvert_exporter": "python",
   "pygments_lexer": "ipython3",
   "version": "3.1.undefined"
  }
 },
 "nbformat": 4,
 "nbformat_minor": 2
}
