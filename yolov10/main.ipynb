{
 "cells": [
  {
   "cell_type": "code",
   "execution_count": 1,
   "metadata": {},
   "outputs": [
    {
     "ename": "ImportError",
     "evalue": "cannot import name 'YOLOv10' from 'ultralytics' (/home/ubuntu/anaconda3/envs/yolo/lib/python3.10/site-packages/ultralytics/__init__.py)",
     "output_type": "error",
     "traceback": [
      "\u001b[0;31m---------------------------------------------------------------------------\u001b[0m",
      "\u001b[0;31mImportError\u001b[0m                               Traceback (most recent call last)",
      "Cell \u001b[0;32mIn[1], line 1\u001b[0m\n\u001b[0;32m----> 1\u001b[0m \u001b[38;5;28;01mfrom\u001b[39;00m \u001b[38;5;21;01multralytics\u001b[39;00m \u001b[38;5;28;01mimport\u001b[39;00m YOLOv10\n\u001b[1;32m      2\u001b[0m \u001b[38;5;28;01mimport\u001b[39;00m \u001b[38;5;21;01msupervision\u001b[39;00m \u001b[38;5;28;01mas\u001b[39;00m \u001b[38;5;21;01msv\u001b[39;00m\n\u001b[1;32m      3\u001b[0m \u001b[38;5;28;01mimport\u001b[39;00m \u001b[38;5;21;01mcv2\u001b[39;00m\n",
      "\u001b[0;31mImportError\u001b[0m: cannot import name 'YOLOv10' from 'ultralytics' (/home/ubuntu/anaconda3/envs/yolo/lib/python3.10/site-packages/ultralytics/__init__.py)"
     ]
    }
   ],
   "source": [
    "from ultralytics import YOLOv10\n",
    "import supervision as sv\n",
    "import cv2\n",
    "\n",
    "MODEL_PATH = './yolov10n.pt'\n",
    "IMAGE_PATH = '../OIP-C.jpeg'\n",
    "\n",
    "model = YOLOv10(MODEL_PATH)\n",
    "image  = cv2.imread(IMAGE_PATH)\n",
    "results = model(source=image, conf=0.25, verbose=False)[0]\n",
    "detections = sv.Detections.from_ultralytics(results)\n",
    "box_annotator = sv.BoxAnnotator()\n",
    "\n",
    "category_dict = {\n",
    "    0: 'person', 1: 'bicycle', 2: 'car', 3: 'motorcycle', 4: 'airplane', 5: 'bus',\n",
    "    6: 'train', 7: 'truck', 8: 'boat', 9: 'traffic light', 10: 'fire hydrant',\n",
    "    11: 'stop sign', 12: 'parking meter', 13: 'bench', 14: 'bird', 15: 'cat',\n",
    "    16: 'dog', 17: 'horse', 18: 'sheep', 19: 'cow', 20: 'elephant', 21: 'bear',\n",
    "    22: 'zebra', 23: 'giraffe', 24: 'backpack', 25: 'umbrella', 26: 'handbag',\n",
    "    27: 'tie', 28: 'suitcase', 29: 'frisbee', 30: 'skis', 31: 'snowboard',\n",
    "    32: 'sports ball', 33: 'kite', 34: 'baseball bat', 35: 'baseball glove',\n",
    "    36: 'skateboard', 37: 'surfboard', 38: 'tennis racket', 39: 'bottle',\n",
    "    40: 'wine glass', 41: 'cup', 42: 'fork', 43: 'knife', 44: 'spoon', 45: 'bowl',\n",
    "    46: 'banana', 47: 'apple', 48: 'sandwich', 49: 'orange', 50: 'broccoli',\n",
    "    51: 'carrot', 52: 'hot dog', 53: 'pizza', 54: 'donut', 55: 'cake',\n",
    "    56: 'chair', 57: 'couch', 58: 'potted plant', 59: 'bed', 60: 'dining table',\n",
    "    61: 'toilet', 62: 'tv', 63: 'laptop', 64: 'mouse', 65: 'remote', 66: 'keyboard',\n",
    "    67: 'cell phone', 68: 'microwave', 69: 'oven', 70: 'toaster', 71: 'sink',\n",
    "    72: 'refrigerator', 73: 'book', 74: 'clock', 75: 'vase', 76: 'scissors',\n",
    "    77: 'teddy bear', 78: 'hair drier', 79: 'toothbrush'\n",
    "}\n",
    "\n",
    "labels = [\n",
    "    f\"{category_dict[class_id]} {confidence:.2f}\"\n",
    "    for class_id, confidence in zip(detections.class_id, detections.confidence)\n",
    "]\n",
    "annotated_image = box_annotator.annotate(\n",
    "    image.copy(), detections=detections, labels=labels\n",
    ")\n",
    "\n",
    "cv2.imwrite('result.jpeg', annotated_image)"
   ]
  },
  {
   "cell_type": "code",
   "execution_count": null,
   "metadata": {},
   "outputs": [],
   "source": []
  }
 ],
 "metadata": {
  "kernelspec": {
   "display_name": "yolo",
   "language": "python",
   "name": "python3"
  },
  "language_info": {
   "codemirror_mode": {
    "name": "ipython",
    "version": 3
   },
   "file_extension": ".py",
   "mimetype": "text/x-python",
   "name": "python",
   "nbconvert_exporter": "python",
   "pygments_lexer": "ipython3",
   "version": "3.10.14"
  }
 },
 "nbformat": 4,
 "nbformat_minor": 2
}
