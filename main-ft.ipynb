{
 "cells": [
  {
   "cell_type": "markdown",
   "metadata": {},
   "source": [
    "## (🙅)更改数据集\n",
    "🙆🙆\n",
    "🙅🙅"
   ]
  },
  {
   "cell_type": "code",
   "execution_count": null,
   "metadata": {},
   "outputs": [],
   "source": [
    "from ultralytics import YOLO\n",
    "\n",
    "# 创建\n",
    "model = YOLO(\"./ultralytics/cfg/models/v8/yolov8.yaml\")\n",
    "\n",
    "# Load a pretrained YOLO model (recommended for training)\n",
    "\n",
    "\n",
    "results = model.train(data=\"/home/ubuntu/文档/GitHub/DL大作业/vehicle-dataset.yaml\", epochs=40)\n",
    "\n",
    "# Evaluate the model's performance on the validation set\n",
    "results = model.val()\n",
    "\n",
    "# Export the model to ONNX format\n",
    "success = model.export(format=\"onnx\")"
   ]
  },
  {
   "cell_type": "code",
   "execution_count": null,
   "metadata": {},
   "outputs": [],
   "source": [
    "from ultralytics import YOLO\n",
    "\n",
    "# 创建\n",
    "model = YOLO(\"./ultralytics/cfg/models/v8/yolov8.yaml\")\n",
    "\n",
    "# Load a pretrained YOLO model (recommended for training)\n",
    "\n",
    "\n",
    "results = model.train(data=\"/home/ubuntu/文档/GitHub/DL大作业/vehicle-dataset.yaml\", epochs=80)\n",
    "\n",
    "# Evaluate the model's performance on the validation set\n",
    "results = model.val()\n",
    "\n",
    "# Export the model to ONNX format\n",
    "success = model.export(format=\"onnx\")"
   ]
  },
  {
   "cell_type": "code",
   "execution_count": null,
   "metadata": {},
   "outputs": [],
   "source": [
    "from ultralytics import YOLO\n",
    "\n",
    "# 创建\n",
    "model = YOLO(\"./ultralytics/cfg/models/v8/yolov8.yaml\")\n",
    "\n",
    "# Load a pretrained YOLO model (recommended for training)\n",
    "\n",
    "results = model.train(data=\"/home/ubuntu/文档/GitHub/DL大作业/vehicle-dataset.yaml\", epochs=120)\n",
    "\n",
    "# Evaluate the model's performance on the validation set\n",
    "results = model.val()\n",
    "\n",
    "# Export the model to ONNX format\n",
    "success = model.export(format=\"onnx\")"
   ]
  },
  {
   "cell_type": "code",
   "execution_count": null,
   "metadata": {},
   "outputs": [],
   "source": [
    "from ultralytics import YOLO\n",
    "\n",
    "# 创建\n",
    "model = YOLO(\"./ultralytics/cfg/models/v8/yolov8.yaml\")\n",
    "\n",
    "# Load a pretrained YOLO model (recommended for training)\n",
    "\n",
    "\n",
    "results = model.train(data=\"/home/ubuntu/文档/GitHub/DL大作业/vehicle-dataset.yaml\", epochs=200)\n",
    "\n",
    "# Evaluate the model's performance on the validation set\n",
    "results = model.val()\n",
    "\n",
    "# Export the model to ONNX format\n",
    "success = model.export(format=\"onnx\")"
   ]
  },
  {
   "cell_type": "code",
   "execution_count": null,
   "metadata": {},
   "outputs": [],
   "source": [
    "from ultralytics import YOLO\n",
    "\n",
    "# 创建\n",
    "model = YOLO(\"./ultralytics/cfg/models/v8/yolov8.yaml\")\n",
    "\n",
    "# Load a pretrained YOLO model (recommended for training)\n",
    "\n",
    "\n",
    "results = model.train(data=\"/home/ubuntu/文档/GitHub/DL大作业/vehicle-en-dataset.yaml\", epochs=20)\n",
    "\n",
    "# Evaluate the model's performance on the validation set\n",
    "results = model.val()\n",
    "\n",
    "# Export the model to ONNX format\n",
    "success = model.export(format=\"onnx\")"
   ]
  },
  {
   "cell_type": "code",
   "execution_count": null,
   "metadata": {},
   "outputs": [],
   "source": [
    "from ultralytics import YOLO\n",
    "\n",
    "# 创建\n",
    "model = YOLO(\"./ultralytics/cfg/models/v8/yolov8.yaml\")\n",
    "\n",
    "# Load a pretrained YOLO model (recommended for training)\n",
    "\n",
    "\n",
    "results = model.train(data=\"/home/ubuntu/文档/GitHub/DL大作业/vehicle-en-dataset.yaml\", epochs=40)\n",
    " \n",
    "# Evaluate the model's performance on the validation set\n",
    "results = model.val()\n",
    "\n",
    "# Export the model to ONNX format\n",
    "success = model.export(format=\"onnx\")"
   ]
  },
  {
   "cell_type": "code",
   "execution_count": null,
   "metadata": {},
   "outputs": [],
   "source": [
    "from ultralytics import YOLO\n",
    "\n",
    "# 创建\n",
    "model = YOLO(\"./ultralytics/cfg/models/v8/yolov8.yaml\")\n",
    "\n",
    "# Load a pretrained YOLO model (recommended for training)\n",
    "\n",
    "results = model.train(data=\"/home/ubuntu/文档/GitHub/DL大作业/vehicle-en-dataset.yaml\", epochs=80)\n",
    " \n",
    "# Evaluate the model's performance on the validation set\n",
    "results = model.val()\n",
    "\n",
    "# Export the model to ONNX format\n",
    "success = model.export(format=\"onnx\")"
   ]
  },
  {
   "cell_type": "markdown",
   "metadata": {},
   "source": [
    "## ()使用Lion优化器"
   ]
  },
  {
   "cell_type": "code",
   "execution_count": null,
   "metadata": {},
   "outputs": [],
   "source": [
    "from ultralytics import YOLO\n",
    "\n",
    "# 创建\n",
    "model = YOLO(\"./ultralytics/cfg/models/v8/yolov8.yaml\")\n",
    "\n",
    "# Load a pretrained YOLO model (recommended for training)\n",
    "\n",
    "\n",
    "results = model.train(data=\"/home/ubuntu/文档/GitHub/DL大作业/vehicle-en-dataset.yaml\", epochs=20, optimizer=\"Lion\")\n",
    "\n",
    "# Evaluate the model's performance on the validation set\n",
    "results = model.val()\n",
    "\n",
    "# Export the model to ONNX format\n",
    "success = model.export(format=\"onnx\")"
   ]
  },
  {
   "cell_type": "markdown",
   "metadata": {},
   "source": [
    "## ()使用更大的图片尺寸 ， 原本尺寸 640"
   ]
  },
  {
   "cell_type": "code",
   "execution_count": null,
   "metadata": {},
   "outputs": [],
   "source": [
    "from ultralytics import YOLO\n",
    "\n",
    "# 创建\n",
    "model = YOLO(\"./ultralytics/cfg/models/v8/yolov8.yaml\")\n",
    "\n",
    "# Load a pretrained YOLO model (recommended for training)\n",
    "\n",
    "\n",
    "results = model.train(data=\"/home/ubuntu/文档/GitHub/DL大作业/vehicle-dataset.yaml\", epochs=20, imgsz = 1280)\n",
    "\n",
    "# Evaluate the model's performance on the validation set\n",
    "results = model.val()\n",
    "\n",
    "# Export the model to ONNX format\n",
    "success = model.export(format=\"onnx\")"
   ]
  },
  {
   "cell_type": "markdown",
   "metadata": {},
   "source": [
    "## ()使用新的注意力机制————CBAM\n",
    "没啥提升"
   ]
  },
  {
   "cell_type": "code",
   "execution_count": null,
   "metadata": {},
   "outputs": [],
   "source": [
    "from ultralytics import YOLO\n",
    "\n",
    "# 创建\n",
    "model = YOLO(\"./ultralytics/cfg/models/v8/My/v8-CBAM.yaml\")\n",
    "\n",
    "# Load a pretrained YOLO model (recommended for training)\n",
    "# model = YOLO(\"./yolov8n.pt\")\n",
    "\n",
    "results = model.train(data=\"/home/ubuntu/文档/GitHub/DL大作业/vehicle-dataset.yaml\", epochs=20)\n",
    "\n",
    "# Evaluate the model's performance on the validation set\n",
    "results = model.val()\n",
    "\n",
    "# Export the model to ONNX format\n",
    "success = model.export(format=\"onnx\")"
   ]
  },
  {
   "cell_type": "code",
   "execution_count": null,
   "metadata": {},
   "outputs": [],
   "source": [
    "from ultralytics import YOLO\n",
    "\n",
    "# 创建\n",
    "model = YOLO(\"./ultralytics/cfg/models/v8/My/v8-CBAM-2.yaml\")\n",
    "\n",
    "# Load a pretrained YOLO model (recommended for training)\n",
    "# model = YOLO(\"./yolov8n.pt\")\n",
    "\n",
    "results = model.train(data=\"/home/ubuntu/文档/GitHub/DL大作业/vehicle-dataset.yaml\", epochs=20)\n",
    "\n",
    "# Evaluate the model's performance on the validation set\n",
    "results = model.val()\n",
    "\n",
    "# Export the model to ONNX format\n",
    "success = model.export(format=\"onnx\")"
   ]
  },
  {
   "cell_type": "code",
   "execution_count": null,
   "metadata": {},
   "outputs": [],
   "source": [
    "from ultralytics import YOLO\n",
    "\n",
    "# 创建\n",
    "model = YOLO(\"./ultralytics/cfg/models/v8/My/v8-CBAM-3.yaml\")\n",
    "\n",
    "# Load a pretrained YOLO model (recommended for training)\n",
    "# model = YOLO(\"./yolov8n.pt\")\n",
    "\n",
    "results = model.train(data=\"/home/ubuntu/文档/GitHub/DL大作业/vehicle-dataset.yaml\", epochs=20)\n",
    "\n",
    "# Evaluate the model's performance on the validation set\n",
    "results = model.val()\n",
    "\n",
    "# Export the model to ONNX format\n",
    "success = model.export(format=\"onnx\")"
   ]
  },
  {
   "cell_type": "markdown",
   "metadata": {},
   "source": [
    "## ()ECAttention"
   ]
  },
  {
   "cell_type": "code",
   "execution_count": null,
   "metadata": {},
   "outputs": [],
   "source": [
    "from ultralytics import YOLO\n",
    "\n",
    "# 创建\n",
    "model = YOLO(\"./ultralytics/cfg/models/v8/My/yolov8_ECAAttention.yaml\")\n",
    "\n",
    "# Load a pretrained YOLO model (recommended for training)\n",
    "# model = YOLO(\"./yolov8n.pt\")\n",
    "\n",
    "results = model.train(data=\"/home/ubuntu/文档/GitHub/DL大作业/vehicle-dataset.yaml\", epochs=20)\n",
    "\n",
    "# Evaluate the model's performance on the validation set\n",
    "results = model.val()\n",
    "\n",
    "# Export the model to ONNX format\n",
    "success = model.export(format=\"onnx\")"
   ]
  },
  {
   "cell_type": "code",
   "execution_count": null,
   "metadata": {},
   "outputs": [],
   "source": [
    "from ultralytics import YOLO\n",
    "\n",
    "# 创建\n",
    "model = YOLO(\"./ultralytics/cfg/models/v8/My/yolov8_ECAAttention-2.yaml\")\n",
    "\n",
    "# Load a pretrained YOLO model (recommended for training)\n",
    "# model = YOLO(\"./yolov8n.pt\")\n",
    "\n",
    "results = model.train(data=\"/home/ubuntu/文档/GitHub/DL大作业/vehicle-dataset.yaml\", epochs=20)\n",
    "\n",
    "# Evaluate the model's performance on the validation set\n",
    "results = model.val()\n",
    "\n",
    "# Export the model to ONNX format\n",
    "success = model.export(format=\"onnx\")"
   ]
  },
  {
   "cell_type": "code",
   "execution_count": null,
   "metadata": {},
   "outputs": [],
   "source": [
    "from ultralytics import YOLO\n",
    "\n",
    "# 创建\n",
    "model = YOLO(\"./ultralytics/cfg/models/v8/My/yolov8_ECAAttention-3.yaml\")\n",
    "\n",
    "# Load a pretrained YOLO model (recommended for training)\n",
    "# model = YOLO(\"./yolov8n.pt\")\n",
    "\n",
    "results = model.train(data=\"/home/ubuntu/文档/GitHub/DL大作业/vehicle-dataset.yaml\", epochs=20)\n",
    "\n",
    "# Evaluate the model's performance on the validation set\n",
    "results = model.val()\n",
    "\n",
    "# Export the model to ONNX format\n",
    "success = model.export(format=\"onnx\")"
   ]
  },
  {
   "cell_type": "markdown",
   "metadata": {},
   "source": [
    "## ()SEAttention"
   ]
  },
  {
   "cell_type": "code",
   "execution_count": null,
   "metadata": {},
   "outputs": [],
   "source": [
    "from ultralytics import YOLO\n",
    "\n",
    "# 创建\n",
    "model = YOLO(\"./ultralytics/cfg/models/v8/My/yolov8-SEAttention.yaml\")\n",
    "\n",
    "# Load a pretrained YOLO model (recommended for training)\n",
    "# model = YOLO(\"./yolov8n.pt\")\n",
    "\n",
    "results = model.train(data=\"/home/ubuntu/文档/GitHub/DL大作业/vehicle-dataset.yaml\", epochs=20)\n",
    "\n",
    "# Evaluate the model's performance on the validation set\n",
    "results = model.val()\n",
    "\n",
    "# Export the model to ONNX format\n",
    "success = model.export(format=\"onnx\")"
   ]
  },
  {
   "cell_type": "code",
   "execution_count": null,
   "metadata": {},
   "outputs": [],
   "source": [
    "from ultralytics import YOLO\n",
    "\n",
    "# 创建\n",
    "model = YOLO(\"./ultralytics/cfg/models/v8/My/yolov8-SEAttention-2.yaml\")\n",
    "\n",
    "# Load a pretrained YOLO model (recommended for training)\n",
    "# model = YOLO(\"./yolov8n.pt\")\n",
    "\n",
    "results = model.train(data=\"/home/ubuntu/文档/GitHub/DL大作业/vehicle-dataset.yaml\", epochs=20)\n",
    "\n",
    "# Evaluate the model's performance on the validation set\n",
    "results = model.val()\n",
    "\n",
    "# Export the model to ONNX format\n",
    "success = model.export(format=\"onnx\")"
   ]
  },
  {
   "cell_type": "code",
   "execution_count": null,
   "metadata": {},
   "outputs": [],
   "source": [
    "from ultralytics import YOLO\n",
    "\n",
    "# 创建\n",
    "model = YOLO(\"./ultralytics/cfg/models/v8/My/yolov8-SEAttention-3.yaml\")\n",
    "\n",
    "# Load a pretrained YOLO model (recommended for training)\n",
    "# model = YOLO(\"./yolov8n.pt\")\n",
    "\n",
    "results = model.train(data=\"/home/ubuntu/文档/GitHub/DL大作业/vehicle-dataset.yaml\", epochs=20)\n",
    "\n",
    "# Evaluate the model's performance on the validation set\n",
    "results = model.val()\n",
    "\n",
    "# Export the model to ONNX format\n",
    "success = model.export(format=\"onnx\")"
   ]
  },
  {
   "cell_type": "markdown",
   "metadata": {},
   "source": [
    "## ()TripleAttention"
   ]
  },
  {
   "cell_type": "code",
   "execution_count": null,
   "metadata": {},
   "outputs": [],
   "source": [
    "from ultralytics import YOLO\n",
    "\n",
    "# 创建\n",
    "model = YOLO(\"./ultralytics/cfg/models/v8/My/yolov8-TripletAttention.yaml\")\n",
    "\n",
    "# Load a pretrained YOLO model (recommended for training)\n",
    "# model = YOLO(\"./yolov8n.pt\")\n",
    "\n",
    "results = model.train(data=\"/home/ubuntu/文档/GitHub/DL大作业/vehicle-dataset.yaml\", epochs=20)\n",
    "\n",
    "# Evaluate the model's performance on the validation set\n",
    "results = model.val()\n",
    "\n",
    "# Export the model to ONNX format\n",
    "success = model.export(format=\"onnx\")"
   ]
  },
  {
   "cell_type": "code",
   "execution_count": null,
   "metadata": {},
   "outputs": [],
   "source": [
    "from ultralytics import YOLO\n",
    "\n",
    "# 创建\n",
    "model = YOLO(\"./ultralytics/cfg/models/v8/My/yolov8-TripletAttention-2.yaml\")\n",
    "\n",
    "# Load a pretrained YOLO model (recommended for training)\n",
    "# model = YOLO(\"./yolov8n.pt\")\n",
    "\n",
    "results = model.train(data=\"/home/ubuntu/文档/GitHub/DL大作业/vehicle-dataset.yaml\", epochs=20)\n",
    "\n",
    "# Evaluate the model's performance on the validation set\n",
    "results = model.val()\n",
    "\n",
    "# Export the model to ONNX format\n",
    "success = model.export(format=\"onnx\")"
   ]
  },
  {
   "cell_type": "code",
   "execution_count": null,
   "metadata": {},
   "outputs": [],
   "source": [
    "from ultralytics import YOLO\n",
    "\n",
    "# 创建\n",
    "model = YOLO(\"./ultralytics/cfg/models/v8/My/yolov8-TripletAttention-3.yaml\")\n",
    "\n",
    "# Load a pretrained YOLO model (recommended for training)\n",
    "# model = YOLO(\"./yolov8n.pt\")\n",
    "\n",
    "results = model.train(data=\"/home/ubuntu/文档/GitHub/DL大作业/vehicle-dataset.yaml\", epochs=20)\n",
    "\n",
    "# Evaluate the model's performance on the validation set\n",
    "results = model.val()\n",
    "\n",
    "# Export the model to ONNX format\n",
    "success = model.export(format=\"onnx\")"
   ]
  },
  {
   "cell_type": "markdown",
   "metadata": {},
   "source": [
    "## ()GCTAttention"
   ]
  },
  {
   "cell_type": "code",
   "execution_count": null,
   "metadata": {},
   "outputs": [],
   "source": [
    "from ultralytics import YOLO\n",
    "\n",
    "# 创建\n",
    "model = YOLO(\"./ultralytics/cfg/models/v8/My/yolov8-GCTAttention-2.yaml\")\n",
    "\n",
    "# Load a pretrained YOLO model (recommended for training)\n",
    "# model = YOLO(\"./yolov8n.pt\")\n",
    "\n",
    "results = model.train(data=\"/home/ubuntu/文档/GitHub/DL大作业/vehicle-dataset.yaml\", epochs=20)\n",
    "\n",
    "# Evaluate the model's performance on the validation set\n",
    "results = model.val()\n",
    "\n",
    "# Export the model to ONNX format\n",
    "success = model.export(format=\"onnx\")"
   ]
  },
  {
   "cell_type": "code",
   "execution_count": null,
   "metadata": {},
   "outputs": [],
   "source": [
    "from ultralytics import YOLO\n",
    "\n",
    "# 创建\n",
    "model = YOLO(\"./ultralytics/cfg/models/v8/My/yolov8-GCTAttention-3.yaml\")\n",
    "\n",
    "# Load a pretrained YOLO model (recommended for training)\n",
    "# model = YOLO(\"./yolov8n.pt\")\n",
    "\n",
    "results = model.train(data=\"/home/ubuntu/文档/GitHub/DL大作业/vehicle-dataset.yaml\", epochs=20)\n",
    "\n",
    "# Evaluate the model's performance on the validation set\n",
    "results = model.val()\n",
    "\n",
    "# Export the model to ONNX format\n",
    "success = model.export(format=\"onnx\")"
   ]
  },
  {
   "cell_type": "markdown",
   "metadata": {},
   "source": [
    "## ()CoordAtt"
   ]
  },
  {
   "cell_type": "code",
   "execution_count": null,
   "metadata": {},
   "outputs": [],
   "source": [
    "from ultralytics import YOLO\n",
    "\n",
    "# 创建\n",
    "model = YOLO(\"/home/ubuntu/文档/GitHub/DL大作业/ultralytics/cfg/models/v8/yolov8-CoordAtt.yaml\")\n",
    "\n",
    "# Load a pretrained YOLO model (recommended for training)\n",
    "# model = YOLO(\"./yolov8n.pt\")\n",
    "\n",
    "results = model.train(data=\"/home/ubuntu/文档/GitHub/DL大作业/vehicle-dataset.yaml\", epochs=20)\n",
    "\n",
    "# Evaluate the model's performance on the validation set\n",
    "results = model.val()\n",
    "\n",
    "# Export the model to ONNX format\n",
    "success = model.export(format=\"onnx\")"
   ]
  },
  {
   "cell_type": "markdown",
   "metadata": {},
   "source": [
    "## GhostConv\n",
    "\n",
    "要修改nn/modules/head.py————39行注释部分"
   ]
  },
  {
   "cell_type": "code",
   "execution_count": null,
   "metadata": {},
   "outputs": [],
   "source": [
    "from ultralytics import YOLO\n",
    "\n",
    "# 创建\n",
    "model = YOLO(\"./ultralytics/cfg/models/v8/My/yolov8-GhostConv.yaml\")\n",
    "\n",
    "# Load a pretrained YOLO model (recommended for training)\n",
    "# model = YOLO(\"./yolov8n.pt\")\n",
    "\n",
    "results = model.train(data=\"/home/ubuntu/文档/GitHub/DL大作业/vehicle-dataset.yaml\", epochs=20, task = 'detect')\n",
    "\n",
    "# Evaluate the model's performance on the validation set\n",
    "results = model.val()\n",
    "\n",
    "# Export the model to ONNX format\n",
    "success = model.export(format=\"onnx\")"
   ]
  },
  {
   "cell_type": "markdown",
   "metadata": {},
   "source": [
    "## 修改激活函数\n",
    "### 修改 conv.py ----- 39行\n",
    "### 修改 block.py ----- 363行"
   ]
  },
  {
   "cell_type": "code",
   "execution_count": null,
   "metadata": {},
   "outputs": [],
   "source": [
    "\n",
    "# Softsign\n",
    "PReLU\n",
    "MultiheadAttention\n",
    "# Softshrink\n",
    "# Softplus\n",
    "# LogSigmoid\n",
    "LeakyReLU\n",
    "# Hardshrink\n",
    "GELU\n",
    "# GLU\n",
    "SELU"
   ]
  },
  {
   "cell_type": "code",
   "execution_count": null,
   "metadata": {},
   "outputs": [],
   "source": [
    "# CELU\n",
    "from ultralytics import YOLO\n",
    "\n",
    "# 创建\n",
    "model = YOLO(\"./ultralytics/cfg/models/v8/yolov8.yaml\")\n",
    "\n",
    "# Load a pretrained YOLO model (recommended for training)\n",
    "# model = YOLO(\"./yolov8n.pt\")\n",
    "\n",
    "results = model.train(data=\"/home/ubuntu/文档/GitHub/DL大作业/vehicle-dataset.yaml\", epochs=20)\n",
    "\n",
    "# Evaluate the model's performance on the validation set\n",
    "results = model.val()\n",
    "\n",
    "# Export the model to ONNX format\n",
    "success = model.export(format=\"onnx\")"
   ]
  },
  {
   "cell_type": "code",
   "execution_count": null,
   "metadata": {},
   "outputs": [],
   "source": [
    "# ELU\n",
    "from ultralytics import YOLO\n",
    "\n",
    "# 创建\n",
    "model = YOLO(\"./ultralytics/cfg/models/v8/yolov8.yaml\")\n",
    "\n",
    "# Load a pretrained YOLO model (recommended for training)\n",
    "# model = YOLO(\"./yolov8n.pt\")\n",
    "\n",
    "results = model.train(data=\"/home/ubuntu/文档/GitHub/DL大作业/vehicle-dataset.yaml\", epochs=20)\n",
    "\n",
    "# Evaluate the model's performance on the validation set\n",
    "results = model.val()\n",
    "\n",
    "# Export the model to ONNX format\n",
    "success = model.export(format=\"onnx\")"
   ]
  },
  {
   "cell_type": "code",
   "execution_count": null,
   "metadata": {},
   "outputs": [],
   "source": [
    "# Hardswish\n",
    "from ultralytics import YOLO\n",
    "\n",
    "# 创建\n",
    "model = YOLO(\"./ultralytics/cfg/models/v8/yolov8.yaml\")\n",
    "\n",
    "# Load a pretrained YOLO model (recommended for training)\n",
    "# model = YOLO(\"./yolov8n.pt\")\n",
    "\n",
    "results = model.train(data=\"/home/ubuntu/文档/GitHub/DL大作业/vehicle-dataset.yaml\", epochs=20)\n",
    "\n",
    "# Evaluate the model's performance on the validation set\n",
    "results = model.val()\n",
    "\n",
    "# Export the model to ONNX format\n",
    "success = model.export(format=\"onnx\")"
   ]
  },
  {
   "cell_type": "code",
   "execution_count": null,
   "metadata": {},
   "outputs": [],
   "source": [
    "# Tanh\n",
    "from ultralytics import YOLO\n",
    "\n",
    "# 创建\n",
    "model = YOLO(\"./ultralytics/cfg/models/v8/yolov8.yaml\")\n",
    "\n",
    "# Load a pretrained YOLO model (recommended for training)\n",
    "# model = YOLO(\"./yolov8n.pt\")\n",
    "\n",
    "results = model.train(data=\"/home/ubuntu/文档/GitHub/DL大作业/vehicle-dataset.yaml\", epochs=20)\n",
    "\n",
    "# Evaluate the model's performance on the validation set\n",
    "results = model.val()\n",
    "\n",
    "# Export the model to ONNX format\n",
    "success = model.export(format=\"onnx\")"
   ]
  },
  {
   "cell_type": "code",
   "execution_count": null,
   "metadata": {},
   "outputs": [],
   "source": [
    "# Hardsigmoid\n",
    "from ultralytics import YOLO\n",
    "\n",
    "# 创建\n",
    "model = YOLO(\"./ultralytics/cfg/models/v8/yolov8.yaml\")\n",
    "\n",
    "# Load a pretrained YOLO model (recommended for training)\n",
    "# model = YOLO(\"./yolov8n.pt\")\n",
    "\n",
    "results = model.train(data=\"/home/ubuntu/文档/GitHub/DL大作业/vehicle-dataset.yaml\", epochs=20)\n",
    "\n",
    "# Evaluate the model's performance on the validation set\n",
    "results = model.val()\n",
    "\n",
    "# Export the model to ONNX format\n",
    "success = model.export(format=\"onnx\")"
   ]
  },
  {
   "cell_type": "code",
   "execution_count": null,
   "metadata": {},
   "outputs": [],
   "source": [
    "# Sigmoid\n",
    "from ultralytics import YOLO\n",
    "\n",
    "# 创建\n",
    "model = YOLO(\"./ultralytics/cfg/models/v8/yolov8.yaml\")\n",
    "\n",
    "# Load a pretrained YOLO model (recommended for training)\n",
    "# model = YOLO(\"./yolov8n.pt\")\n",
    "\n",
    "results = model.train(data=\"/home/ubuntu/文档/GitHub/DL大作业/vehicle-dataset.yaml\", epochs=20)\n",
    "\n",
    "# Evaluate the model's performance on the validation set\n",
    "results = model.val()\n",
    "\n",
    "# Export the model to ONNX format\n",
    "success = model.export(format=\"onnx\")"
   ]
  },
  {
   "cell_type": "code",
   "execution_count": null,
   "metadata": {},
   "outputs": [],
   "source": [
    "# RELU6\n",
    "from ultralytics import YOLO\n",
    "\n",
    "# 创建\n",
    "model = YOLO(\"./ultralytics/cfg/models/v8/yolov8.yaml\")\n",
    "\n",
    "# Load a pretrained YOLO model (recommended for training)\n",
    "# model = YOLO(\"./yolov8n.pt\")\n",
    "\n",
    "results = model.train(data=\"/home/ubuntu/文档/GitHub/DL大作业/vehicle-dataset.yaml\", epochs=20)\n",
    "\n",
    "# Evaluate the model's performance on the validation set\n",
    "results = model.val()\n",
    "\n",
    "# Export the model to ONNX format\n",
    "success = model.export(format=\"onnx\")"
   ]
  },
  {
   "cell_type": "code",
   "execution_count": null,
   "metadata": {},
   "outputs": [],
   "source": [
    "# Tanhshrink\n",
    "from ultralytics import YOLO\n",
    "\n",
    "# 创建\n",
    "model = YOLO(\"./ultralytics/cfg/models/v8/yolov8.yaml\")\n",
    "\n",
    "# Load a pretrained YOLO model (recommended for training)\n",
    "# model = YOLO(\"./yolov8n.pt\")\n",
    "\n",
    "results = model.train(data=\"/home/ubuntu/文档/GitHub/DL大作业/vehicle-dataset.yaml\", epochs=20)\n",
    "\n",
    "# Evaluate the model's performance on the validation set\n",
    "results = model.val()\n",
    "\n",
    "# Export the model to ONNX format\n",
    "success = model.export(format=\"onnx\")"
   ]
  },
  {
   "cell_type": "code",
   "execution_count": null,
   "metadata": {},
   "outputs": [],
   "source": [
    "# Softmin\n",
    "from ultralytics import YOLO\n",
    "\n",
    "# 创建\n",
    "model = YOLO(\"./ultralytics/cfg/models/v8/yolov8.yaml\")\n",
    "\n",
    "# Load a pretrained YOLO model (recommended for training)\n",
    "# model = YOLO(\"./yolov8n.pt\")\n",
    "\n",
    "results = model.train(data=\"/home/ubuntu/文档/GitHub/DL大作业/vehicle-dataset.yaml\", epochs=20)\n",
    "\n",
    "# Evaluate the model's performance on the validation set\n",
    "results = model.val()\n",
    "\n",
    "# Export the model to ONNX format\n",
    "success = model.export(format=\"onnx\")"
   ]
  },
  {
   "cell_type": "code",
   "execution_count": null,
   "metadata": {},
   "outputs": [],
   "source": [
    "# Softmax\n",
    "from ultralytics import YOLO\n",
    "\n",
    "# 创建\n",
    "model = YOLO(\"./ultralytics/cfg/models/v8/yolov8.yaml\")\n",
    "\n",
    "# Load a pretrained YOLO model (recommended for training)\n",
    "# model = YOLO(\"./yolov8n.pt\")\n",
    "\n",
    "results = model.train(data=\"/home/ubuntu/文档/GitHub/DL大作业/vehicle-dataset.yaml\", epochs=20)\n",
    "\n",
    "# Evaluate the model's performance on the validation set\n",
    "results = model.val()\n",
    "\n",
    "# Export the model to ONNX format\n",
    "success = model.export(format=\"onnx\")"
   ]
  },
  {
   "cell_type": "code",
   "execution_count": null,
   "metadata": {},
   "outputs": [],
   "source": [
    "# Softmax2d\n",
    "from ultralytics import YOLO\n",
    "\n",
    "# 创建\n",
    "model = YOLO(\"./ultralytics/cfg/models/v8/yolov8.yaml\")\n",
    "\n",
    "# Load a pretrained YOLO model (recommended for training)\n",
    "# model = YOLO(\"./yolov8n.pt\")\n",
    "\n",
    "results = model.train(data=\"/home/ubuntu/文档/GitHub/DL大作业/vehicle-dataset.yaml\", epochs=20)\n",
    "\n",
    "# Evaluate the model's performance on the validation set\n",
    "results = model.val()\n",
    "\n",
    "# Export the model to ONNX format\n",
    "success = model.export(format=\"onnx\")"
   ]
  },
  {
   "cell_type": "code",
   "execution_count": null,
   "metadata": {},
   "outputs": [],
   "source": [
    "# LogSoftmax\n",
    "from ultralytics import YOLO\n",
    "\n",
    "# 创建\n",
    "model = YOLO(\"./ultralytics/cfg/models/v8/yolov8.yaml\")\n",
    "\n",
    "# Load a pretrained YOLO model (recommended for training)\n",
    "# model = YOLO(\"./yolov8n.pt\")\n",
    "\n",
    "results = model.train(data=\"/home/ubuntu/文档/GitHub/DL大作业/vehicle-dataset.yaml\", epochs=20)\n",
    "\n",
    "# Evaluate the model's performance on the validation set\n",
    "results = model.val()\n",
    "\n",
    "# Export the model to ONNX format\n",
    "success = model.export(format=\"onnx\")"
   ]
  },
  {
   "cell_type": "code",
   "execution_count": null,
   "metadata": {},
   "outputs": [],
   "source": [
    "# RReLU\n",
    "from ultralytics import YOLO\n",
    "\n",
    "# 创建\n",
    "model = YOLO(\"./ultralytics/cfg/models/v8/yolov8.yaml\")\n",
    "\n",
    "# Load a pretrained YOLO model (recommended for training)\n",
    "# model = YOLO(\"./yolov8n.pt\")\n",
    "\n",
    "results = model.train(data=\"/home/ubuntu/文档/GitHub/DL大作业/vehicle-dataset.yaml\", epochs=20)\n",
    "\n",
    "# Evaluate the model's performance on the validation set\n",
    "results = model.val()\n",
    "\n",
    "# Export the model to ONNX format\n",
    "success = model.export(format=\"onnx\")"
   ]
  },
  {
   "cell_type": "code",
   "execution_count": null,
   "metadata": {},
   "outputs": [],
   "source": [
    "#RELU\n",
    "from ultralytics import YOLO\n",
    "\n",
    "# 创建\n",
    "model = YOLO(\"./ultralytics/cfg/models/v8/yolov8.yaml\")\n",
    "\n",
    "# Load a pretrained YOLO model (recommended for training)\n",
    "# model = YOLO(\"./yolov8n.pt\")\n",
    "\n",
    "results = model.train(data=\"/home/ubuntu/文档/GitHub/DL大作业/vehicle-dataset.yaml\", epochs=20)\n",
    "\n",
    "# Evaluate the model's performance on the validation set\n",
    "results = model.val()\n",
    "\n",
    "# Export the model to ONNX format\n",
    "success = model.export(format=\"onnx\")"
   ]
  },
  {
   "cell_type": "markdown",
   "metadata": {},
   "source": [
    "## 修改池化函数"
   ]
  },
  {
   "cell_type": "code",
   "execution_count": null,
   "metadata": {},
   "outputs": [],
   "source": [
    "# SPPF\n",
    "from ultralytics import YOLO\n",
    "\n",
    "# 创建\n",
    "model = YOLO(\"/home/ubuntu/文档/GitHub/DL大作业/ultralytics/cfg/models/v8/My/yolov8-SPPF.yaml\")\n",
    "\n",
    "# Load a pretrained YOLO model (recommended for training)\n",
    "# model = YOLO(\"./yolov8n.pt\")\n",
    "\n",
    "\n",
    "results = model.train(data=\"/home/ubuntu/文档/GitHub/DL大作业/vehicle-dataset.yaml\", epochs=20)\n",
    "\n",
    "# Evaluate the model's performance on the validation set\n",
    "results = model.val()\n",
    "\n",
    "# Export the model to ONNX format\n",
    "success = model.export(format=\"onnx\")"
   ]
  },
  {
   "cell_type": "code",
   "execution_count": null,
   "metadata": {},
   "outputs": [],
   "source": [
    "# SimSPPF\n",
    "from ultralytics import YOLO\n",
    "\n",
    "# 创建\n",
    "model = YOLO(\"/home/ubuntu/文档/GitHub/DL大作业/ultralytics/cfg/models/v8/My/yolov8-SimSPPF.yaml\")\n",
    "\n",
    "# Load a pretrained YOLO model (recommended for training)\n",
    "# model = YOLO(\"./yolov8n.pt\")\n",
    "\n",
    "\n",
    "results = model.train(data=\"/home/ubuntu/文档/GitHub/DL大作业/vehicle-dataset.yaml\", epochs=20)\n",
    "\n",
    "# Evaluate the model's performance on the validation set\n",
    "results = model.val()\n",
    "\n",
    "# Export the model to ONNX format\n",
    "success = model.export(format=\"onnx\")"
   ]
  },
  {
   "cell_type": "code",
   "execution_count": null,
   "metadata": {},
   "outputs": [],
   "source": [
    "# SPPCSPC\n",
    "from ultralytics import YOLO\n",
    "\n",
    "# 创建\n",
    "model = YOLO(\"/home/ubuntu/文档/GitHub/DL大作业/ultralytics/cfg/models/v8/My/yolov8-SPPCSPC.yaml\")\n",
    "\n",
    "# Load a pretrained YOLO model (recommended for training)\n",
    "# model = YOLO(\"./yolov8n.pt\")\n",
    "\n",
    "\n",
    "results = model.train(data=\"/home/ubuntu/文档/GitHub/DL大作业/vehicle-dataset.yaml\", epochs=20)\n",
    "\n",
    "# Evaluate the model's performance on the validation set\n",
    "results = model.val()\n",
    "\n",
    "# Export the model to ONNX format\n",
    "success = model.export(format=\"onnx\")"
   ]
  },
  {
   "cell_type": "code",
   "execution_count": null,
   "metadata": {},
   "outputs": [],
   "source": [
    "# SPPFCSPC\n",
    "from ultralytics import YOLO\n",
    "\n",
    "# 创建\n",
    "model = YOLO(\"/home/ubuntu/文档/GitHub/DL大作业/ultralytics/cfg/models/v8/My/yolov8-SPPFCSPC.yaml\")\n",
    "\n",
    "# Load a pretrained YOLO model (recommended for training)\n",
    "# model = YOLO(\"./yolov8n.pt\")\n",
    "\n",
    "\n",
    "results = model.train(data=\"/home/ubuntu/文档/GitHub/DL大作业/vehicle-dataset.yaml\", epochs=20)\n",
    "\n",
    "# Evaluate the model's performance on the validation set\n",
    "results = model.val()\n",
    "\n",
    "# Export the model to ONNX format\n",
    "success = model.export(format=\"onnx\")"
   ]
  },
  {
   "cell_type": "markdown",
   "metadata": {},
   "source": [
    "## RepNCSPELAN4 ------ C2F,block"
   ]
  },
  {
   "cell_type": "code",
   "execution_count": null,
   "metadata": {},
   "outputs": [],
   "source": [
    "# RepNCSPELAN4\n",
    "from ultralytics import YOLO\n",
    "\n",
    "# 创建\n",
    "model = YOLO(\"/home/ubuntu/文档/GitHub/DL大作业/ultralytics/cfg/models/v8/My/yolov8-RepNCSPELAN4.yaml\")\n",
    "\n",
    "# Load a pretrained YOLO model (recommended for training)\n",
    "# model = YOLO(\"./yolov8n.pt\")\n",
    "\n",
    "\n",
    "results = model.train(data=\"/home/ubuntu/文档/GitHub/DL大作业/vehicle-dataset.yaml\", epochs=20)\n",
    "\n",
    "# Evaluate the model's performance on the validation set\n",
    "results = model.val()\n",
    "\n",
    "# Export the model to ONNX format\n",
    "success = model.export(format=\"onnx\")"
   ]
  },
  {
   "cell_type": "markdown",
   "metadata": {},
   "source": [
    "## C2f_ScConv ------ C2F,block"
   ]
  },
  {
   "cell_type": "code",
   "execution_count": null,
   "metadata": {},
   "outputs": [],
   "source": [
    "from ultralytics import YOLO\n",
    "\n",
    "# 创建\n",
    "model = YOLO(\"/home/ubuntu/文档/GitHub/DL大作业/ultralytics/cfg/models/v8/My/yolov8-C2f_ScConv.yaml\")\n",
    "\n",
    "# Load a pretrained YOLO model (recommended for training)\n",
    "# model = YOLO(\"./yolov8n.pt\")\n",
    "\n",
    "\n",
    "results = model.train(data=\"/home/ubuntu/文档/GitHub/DL大作业/vehicle-dataset.yaml\", epochs=20)\n",
    "\n",
    "# Evaluate the model's performance on the validation set\n",
    "results = model.val()\n",
    "\n",
    "# Export the model to ONNX format\n",
    "success = model.export(format=\"onnx\")"
   ]
  },
  {
   "cell_type": "code",
   "execution_count": null,
   "metadata": {},
   "outputs": [],
   "source": [
    "from ultralytics import YOLO\n",
    "\n",
    "# 创建\n",
    "model = YOLO(\"/home/ubuntu/文档/GitHub/DL大作业/ultralytics/cfg/models/v8/My/yolov8-C2f_ScConv-2.yaml\")\n",
    "\n",
    "# Load a pretrained YOLO model (recommended for training)\n",
    "# model = YOLO(\"./yolov8n.pt\")\n",
    "\n",
    "\n",
    "results = model.train(data=\"/home/ubuntu/文档/GitHub/DL大作业/vehicle-dataset.yaml\", epochs=20)\n",
    "\n",
    "# Evaluate the model's performance on the validation set\n",
    "results = model.val()\n",
    "\n",
    "# Export the model to ONNX format\n",
    "success = model.export(format=\"onnx\")"
   ]
  },
  {
   "cell_type": "code",
   "execution_count": null,
   "metadata": {},
   "outputs": [],
   "source": [
    "from ultralytics import YOLO\n",
    "\n",
    "# 创建\n",
    "model = YOLO(\"./ultralytics/cfg/models/v8/yolov8.yaml\")\n",
    "\n",
    "# Load a pretrained YOLO model (recommended for training)\n",
    "model = YOLO(\"./yolov8n.pt\")\n",
    "\n",
    "results = model.tune(data=\"/home/ubuntu/文档/GitHub/DL大作业/vehicle-dataset.yaml\", epochs=80, iterations=300, optimizer=\"AdamW\", plots = True, save = True, val = True)\n",
    "\n",
    "# Export the model to ONNX format\n",
    "success = model.export(format=\"onnx\")"
   ]
  },
  {
   "cell_type": "markdown",
   "metadata": {},
   "source": []
  },
  {
   "cell_type": "code",
   "execution_count": 1,
   "metadata": {},
   "outputs": [
    {
     "name": "stdout",
     "output_type": "stream",
     "text": [
      "WARNING ⚠️ no model scale passed. Assuming scale='n'.\n",
      "New https://pypi.org/project/ultralytics/8.2.45 available 😃 Update with 'pip install -U ultralytics'\n",
      "Ultralytics YOLOv8.2.31 🚀 Python-3.10.14 torch-2.3.1+cu121 CUDA:0 (NVIDIA P102-100, 10150MiB)\n",
      "\u001b[34m\u001b[1mengine/trainer: \u001b[0mtask=detect, mode=train, model=./ultralytics/cfg/models/v8/My/yolov8_boost.yaml, data=/home/ubuntu/文档/GitHub/DL大作业/vehicle-dataset.yaml, epochs=20, time=None, patience=100, batch=16, imgsz=640, save=True, save_period=-1, cache=False, device=None, workers=8, project=None, name=train260, exist_ok=False, pretrained=True, optimizer=auto, verbose=True, seed=0, deterministic=True, single_cls=False, rect=False, cos_lr=False, close_mosaic=10, resume=False, amp=True, fraction=1.0, profile=False, freeze=None, multi_scale=False, overlap_mask=True, mask_ratio=4, dropout=0.0, val=True, split=val, save_json=False, save_hybrid=False, conf=None, iou=0.7, max_det=300, half=False, dnn=False, plots=True, source=None, vid_stride=1, stream_buffer=False, visualize=False, augment=False, agnostic_nms=False, classes=None, retina_masks=False, embed=None, show=False, save_frames=False, save_txt=False, save_conf=False, save_crop=False, show_labels=True, show_conf=True, show_boxes=True, line_width=None, format=torchscript, keras=False, optimize=False, int8=False, dynamic=False, simplify=False, opset=None, workspace=4, nms=False, lr0=0.01, lrf=0.01, momentum=0.937, weight_decay=0.0005, warmup_epochs=3.0, warmup_momentum=0.8, warmup_bias_lr=0.1, box=7.5, cls=0.5, dfl=1.5, pose=12.0, kobj=1.0, label_smoothing=0.0, nbs=64, hsv_h=0.015, hsv_s=0.7, hsv_v=0.4, degrees=0.0, translate=0.1, scale=0.5, shear=0.0, perspective=0.0, flipud=0.0, fliplr=0.5, bgr=0.0, mosaic=1.0, mixup=0.0, copy_paste=0.0, auto_augment=randaugment, erasing=0.4, crop_fraction=1.0, cfg=None, tracker=botsort.yaml, save_dir=runs/detect/train260\n",
      "WARNING ⚠️ no model scale passed. Assuming scale='n'.\n",
      "\n",
      "                   from  n    params  module                                       arguments                     \n",
      "  0                  -1  1       464  ultralytics.nn.modules.conv.Conv             [3, 16, 3, 2]                 \n",
      "  1                  -1  1      4672  ultralytics.nn.modules.conv.Conv             [16, 32, 3, 2]                \n",
      "  2                  -1  1      5536  ultralytics.nn.modules.block.C2f_ScConv      [32, 32, True]                \n",
      "  3                  -1  1     18560  ultralytics.nn.modules.conv.Conv             [32, 64, 3, 2]                \n",
      "  4                  -1  2     43456  ultralytics.nn.modules.block.C2f_ScConv      [64, 64, True]                \n",
      "  5                  -1  1     73984  ultralytics.nn.modules.conv.Conv             [64, 128, 3, 2]               \n",
      "  6                  -1  2    172160  ultralytics.nn.modules.block.C2f_ScConv      [128, 128, True]              \n",
      "  7                  -1  1    295424  ultralytics.nn.modules.conv.Conv             [128, 256, 3, 2]              \n",
      "  8                  -1  1    342656  ultralytics.nn.modules.block.C2f_ScConv      [256, 256, True]              \n",
      "  9                  -1  1    164608  ultralytics.nn.modules.block.SimSPPF         [256, 256, 5]                 \n",
      " 10                  -1  1         0  torch.nn.modules.upsampling.Upsample         [None, 2, 'nearest']          \n",
      " 11             [-1, 6]  1         0  ultralytics.nn.modules.conv.Concat           [1]                           \n",
      " 12                  -1  1    118848  ultralytics.nn.modules.block.C2f_ScConv      [384, 128]                    \n",
      " 13                  -1  1         0  torch.nn.modules.upsampling.Upsample         [None, 2, 'nearest']          \n",
      " 14             [-1, 4]  1         0  ultralytics.nn.modules.conv.Concat           [1]                           \n",
      " 15                  -1  1     29920  ultralytics.nn.modules.block.C2f_ScConv      [192, 64]                     \n",
      " 16                  -1  1         3  ultralytics.nn.attention.attention.ECAAttention[256]                         \n",
      " 17                  -1  1     36992  ultralytics.nn.modules.conv.Conv             [64, 64, 3, 2]                \n",
      " 18            [-1, 12]  1         0  ultralytics.nn.modules.conv.Concat           [1]                           \n",
      " 19                  -1  1     94272  ultralytics.nn.modules.block.C2f_ScConv      [192, 128]                    \n",
      " 20                  -1  1         3  ultralytics.nn.attention.attention.ECAAttention[512]                         \n",
      " 21                  -1  1    147712  ultralytics.nn.modules.conv.Conv             [128, 128, 3, 2]              \n",
      " 22             [-1, 9]  1         0  ultralytics.nn.modules.conv.Concat           [1]                           \n",
      " 23                  -1  1    375424  ultralytics.nn.modules.block.C2f_ScConv      [384, 256]                    \n",
      " 24                  -1  1         3  ultralytics.nn.attention.attention.ECAAttention[1024]                        \n",
      " 25        [16, 20, 24]  1    393442  ultralytics.nn.modules.head.Detect           [6, [64, 128, 256]]           \n",
      "YOLOv8_boost summary: 385 layers, 2318139 parameters, 2318123 gradients, 6.1 GFLOPs\n",
      "\n",
      "\u001b[34m\u001b[1mTensorBoard: \u001b[0mStart with 'tensorboard --logdir runs/detect/train260', view at http://localhost:6006/\n"
     ]
    },
    {
     "name": "stderr",
     "output_type": "stream",
     "text": [
      "Failed to detect the name of this notebook, you can set it manually with the WANDB_NOTEBOOK_NAME environment variable to enable code saving.\n",
      "\u001b[34m\u001b[1mwandb\u001b[0m: Currently logged in as: \u001b[33m3339811384\u001b[0m. Use \u001b[1m`wandb login --relogin`\u001b[0m to force relogin\n"
     ]
    },
    {
     "data": {
      "text/html": [
       "wandb version 0.17.3 is available!  To upgrade, please run:\n",
       " $ pip install wandb --upgrade"
      ],
      "text/plain": [
       "<IPython.core.display.HTML object>"
      ]
     },
     "metadata": {},
     "output_type": "display_data"
    },
    {
     "data": {
      "text/html": [
       "Tracking run with wandb version 0.17.1"
      ],
      "text/plain": [
       "<IPython.core.display.HTML object>"
      ]
     },
     "metadata": {},
     "output_type": "display_data"
    },
    {
     "data": {
      "text/html": [
       "Run data is saved locally in <code>/home/ubuntu/文档/GitHub/DL大作业/wandb/run-20240627_152202-mpdz6l71</code>"
      ],
      "text/plain": [
       "<IPython.core.display.HTML object>"
      ]
     },
     "metadata": {},
     "output_type": "display_data"
    },
    {
     "data": {
      "text/html": [
       "Syncing run <strong><a href='https://wandb.ai/3339811384/YOLOv8/runs/mpdz6l71' target=\"_blank\">train260</a></strong> to <a href='https://wandb.ai/3339811384/YOLOv8' target=\"_blank\">Weights & Biases</a> (<a href='https://wandb.me/run' target=\"_blank\">docs</a>)<br/>"
      ],
      "text/plain": [
       "<IPython.core.display.HTML object>"
      ]
     },
     "metadata": {},
     "output_type": "display_data"
    },
    {
     "data": {
      "text/html": [
       " View project at <a href='https://wandb.ai/3339811384/YOLOv8' target=\"_blank\">https://wandb.ai/3339811384/YOLOv8</a>"
      ],
      "text/plain": [
       "<IPython.core.display.HTML object>"
      ]
     },
     "metadata": {},
     "output_type": "display_data"
    },
    {
     "data": {
      "text/html": [
       " View run at <a href='https://wandb.ai/3339811384/YOLOv8/runs/mpdz6l71' target=\"_blank\">https://wandb.ai/3339811384/YOLOv8/runs/mpdz6l71</a>"
      ],
      "text/plain": [
       "<IPython.core.display.HTML object>"
      ]
     },
     "metadata": {},
     "output_type": "display_data"
    },
    {
     "name": "stdout",
     "output_type": "stream",
     "text": [
      "Freezing layer 'model.25.dfl.conv.weight'\n",
      "\u001b[34m\u001b[1mAMP: \u001b[0mrunning Automatic Mixed Precision (AMP) checks with YOLOv8n...\n",
      "\u001b[34m\u001b[1mAMP: \u001b[0mchecks passed ✅\n"
     ]
    },
    {
     "name": "stderr",
     "output_type": "stream",
     "text": [
      "\u001b[34m\u001b[1mtrain: \u001b[0mScanning /home/ubuntu/文档/GitHub/DL大作业/datasets/Vehicle/labels/train.cache... 8865 images, 0 backgrounds, 0 corrupt: 100%|██████████| 8865/8865 [00:00<?, ?it/s]"
     ]
    },
    {
     "name": "stdout",
     "output_type": "stream",
     "text": [
      "\u001b[34m\u001b[1mtrain: \u001b[0mWARNING ⚠️ /home/ubuntu/文档/GitHub/DL大作业/datasets/Vehicle/images/train/vehicle_0006145.jpg: 1 duplicate labels removed\n"
     ]
    },
    {
     "name": "stderr",
     "output_type": "stream",
     "text": [
      "\n",
      "\u001b[34m\u001b[1mval: \u001b[0mScanning /home/ubuntu/文档/GitHub/DL大作业/datasets/Vehicle/labels/val.cache... 985 images, 0 backgrounds, 0 corrupt: 100%|██████████| 985/985 [00:00<?, ?it/s]\n"
     ]
    },
    {
     "name": "stdout",
     "output_type": "stream",
     "text": [
      "Plotting labels to runs/detect/train260/labels.jpg... \n",
      "\u001b[34m\u001b[1moptimizer:\u001b[0m 'optimizer=auto' found, ignoring 'lr0=0.01' and 'momentum=0.937' and determining best 'optimizer', 'lr0' and 'momentum' automatically... \n",
      "\u001b[34m\u001b[1moptimizer:\u001b[0m AdamW(lr=0.001, momentum=0.9) with parameter groups 63 weight(decay=0.0), 143 weight(decay=0.0005), 79 bias(decay=0.0)\n",
      "\u001b[34m\u001b[1mTensorBoard: \u001b[0mmodel graph visualization added ✅\n",
      "Image sizes 640 train, 640 val\n",
      "Using 8 dataloader workers\n",
      "Logging results to \u001b[1mruns/detect/train260\u001b[0m\n",
      "Starting training for 20 epochs...\n",
      "\n",
      "      Epoch    GPU_mem   box_loss   cls_loss   dfl_loss  Instances       Size\n"
     ]
    },
    {
     "name": "stderr",
     "output_type": "stream",
     "text": [
      "       1/20      2.73G      2.413      3.463      3.389          2        640: 100%|██████████| 555/555 [11:02<00:00,  1.19s/it]\n",
      "                 Class     Images  Instances      Box(P          R      mAP50  mAP50-95): 100%|██████████| 31/31 [00:33<00:00,  1.07s/it]"
     ]
    },
    {
     "name": "stdout",
     "output_type": "stream",
     "text": [
      "                   all        985       1004      0.255      0.438      0.287       0.18\n"
     ]
    },
    {
     "name": "stderr",
     "output_type": "stream",
     "text": [
      "\n"
     ]
    },
    {
     "name": "stdout",
     "output_type": "stream",
     "text": [
      "\n",
      "      Epoch    GPU_mem   box_loss   cls_loss   dfl_loss  Instances       Size\n"
     ]
    },
    {
     "name": "stderr",
     "output_type": "stream",
     "text": [
      "       2/20      2.75G      1.192      1.695      1.698          1        640: 100%|██████████| 555/555 [10:46<00:00,  1.17s/it]\n",
      "                 Class     Images  Instances      Box(P          R      mAP50  mAP50-95): 100%|██████████| 31/31 [00:33<00:00,  1.08s/it]"
     ]
    },
    {
     "name": "stdout",
     "output_type": "stream",
     "text": [
      "                   all        985       1004       0.48      0.716       0.59      0.498\n"
     ]
    },
    {
     "name": "stderr",
     "output_type": "stream",
     "text": [
      "\n"
     ]
    },
    {
     "name": "stdout",
     "output_type": "stream",
     "text": [
      "\n",
      "      Epoch    GPU_mem   box_loss   cls_loss   dfl_loss  Instances       Size\n"
     ]
    },
    {
     "name": "stderr",
     "output_type": "stream",
     "text": [
      "       3/20      2.74G     0.8442      1.163       1.31          1        640: 100%|██████████| 555/555 [10:38<00:00,  1.15s/it]\n",
      "                 Class     Images  Instances      Box(P          R      mAP50  mAP50-95): 100%|██████████| 31/31 [00:34<00:00,  1.10s/it]"
     ]
    },
    {
     "name": "stdout",
     "output_type": "stream",
     "text": [
      "                   all        985       1004      0.451      0.697      0.627      0.528\n"
     ]
    },
    {
     "name": "stderr",
     "output_type": "stream",
     "text": [
      "\n"
     ]
    },
    {
     "name": "stdout",
     "output_type": "stream",
     "text": [
      "\n",
      "      Epoch    GPU_mem   box_loss   cls_loss   dfl_loss  Instances       Size\n"
     ]
    },
    {
     "name": "stderr",
     "output_type": "stream",
     "text": [
      "       4/20      2.73G     0.7085     0.9519      1.188          2        640: 100%|██████████| 555/555 [10:36<00:00,  1.15s/it]\n",
      "                 Class     Images  Instances      Box(P          R      mAP50  mAP50-95): 100%|██████████| 31/31 [00:32<00:00,  1.06s/it]"
     ]
    },
    {
     "name": "stdout",
     "output_type": "stream",
     "text": [
      "                   all        985       1004      0.668      0.773      0.778      0.695\n"
     ]
    },
    {
     "name": "stderr",
     "output_type": "stream",
     "text": [
      "\n"
     ]
    },
    {
     "name": "stdout",
     "output_type": "stream",
     "text": [
      "\n",
      "      Epoch    GPU_mem   box_loss   cls_loss   dfl_loss  Instances       Size\n"
     ]
    },
    {
     "name": "stderr",
     "output_type": "stream",
     "text": [
      "       5/20      2.74G     0.6373     0.8409      1.126          5        640: 100%|██████████| 555/555 [10:23<00:00,  1.12s/it]\n",
      "                 Class     Images  Instances      Box(P          R      mAP50  mAP50-95): 100%|██████████| 31/31 [00:33<00:00,  1.09s/it]"
     ]
    },
    {
     "name": "stdout",
     "output_type": "stream",
     "text": [
      "                   all        985       1004      0.683      0.719        0.8      0.725\n"
     ]
    },
    {
     "name": "stderr",
     "output_type": "stream",
     "text": [
      "\n"
     ]
    },
    {
     "name": "stdout",
     "output_type": "stream",
     "text": [
      "\n",
      "      Epoch    GPU_mem   box_loss   cls_loss   dfl_loss  Instances       Size\n"
     ]
    },
    {
     "name": "stderr",
     "output_type": "stream",
     "text": [
      "       6/20      2.74G     0.5907      0.767      1.093          1        640: 100%|██████████| 555/555 [10:35<00:00,  1.15s/it]\n",
      "                 Class     Images  Instances      Box(P          R      mAP50  mAP50-95): 100%|██████████| 31/31 [00:33<00:00,  1.08s/it]"
     ]
    },
    {
     "name": "stdout",
     "output_type": "stream",
     "text": [
      "                   all        985       1004       0.82      0.844       0.89      0.777\n"
     ]
    },
    {
     "name": "stderr",
     "output_type": "stream",
     "text": [
      "\n"
     ]
    },
    {
     "name": "stdout",
     "output_type": "stream",
     "text": [
      "\n",
      "      Epoch    GPU_mem   box_loss   cls_loss   dfl_loss  Instances       Size\n"
     ]
    },
    {
     "name": "stderr",
     "output_type": "stream",
     "text": [
      "       7/20      2.74G     0.5502     0.7099      1.061          2        640: 100%|██████████| 555/555 [10:43<00:00,  1.16s/it]\n",
      "                 Class     Images  Instances      Box(P          R      mAP50  mAP50-95): 100%|██████████| 31/31 [00:33<00:00,  1.08s/it]"
     ]
    },
    {
     "name": "stdout",
     "output_type": "stream",
     "text": [
      "                   all        985       1004      0.884      0.874      0.936      0.839\n"
     ]
    },
    {
     "name": "stderr",
     "output_type": "stream",
     "text": [
      "\n"
     ]
    },
    {
     "name": "stdout",
     "output_type": "stream",
     "text": [
      "\n",
      "      Epoch    GPU_mem   box_loss   cls_loss   dfl_loss  Instances       Size\n"
     ]
    },
    {
     "name": "stderr",
     "output_type": "stream",
     "text": [
      "       8/20      2.73G     0.5196     0.6655      1.041          1        640: 100%|██████████| 555/555 [10:27<00:00,  1.13s/it]\n",
      "                 Class     Images  Instances      Box(P          R      mAP50  mAP50-95): 100%|██████████| 31/31 [00:28<00:00,  1.09it/s]"
     ]
    },
    {
     "name": "stdout",
     "output_type": "stream",
     "text": [
      "                   all        985       1004      0.918       0.88       0.95      0.865\n"
     ]
    },
    {
     "name": "stderr",
     "output_type": "stream",
     "text": [
      "\n"
     ]
    },
    {
     "name": "stdout",
     "output_type": "stream",
     "text": [
      "\n",
      "      Epoch    GPU_mem   box_loss   cls_loss   dfl_loss  Instances       Size\n"
     ]
    },
    {
     "name": "stderr",
     "output_type": "stream",
     "text": [
      "       9/20      2.74G     0.4986     0.6265      1.025          1        640: 100%|██████████| 555/555 [10:52<00:00,  1.18s/it]\n",
      "                 Class     Images  Instances      Box(P          R      mAP50  mAP50-95): 100%|██████████| 31/31 [00:32<00:00,  1.04s/it]"
     ]
    },
    {
     "name": "stdout",
     "output_type": "stream",
     "text": [
      "                   all        985       1004      0.823      0.876      0.905      0.836\n"
     ]
    },
    {
     "name": "stderr",
     "output_type": "stream",
     "text": [
      "\n"
     ]
    },
    {
     "name": "stdout",
     "output_type": "stream",
     "text": [
      "\n",
      "      Epoch    GPU_mem   box_loss   cls_loss   dfl_loss  Instances       Size\n"
     ]
    },
    {
     "name": "stderr",
     "output_type": "stream",
     "text": [
      "      10/20      2.74G     0.4815      0.601      1.012          2        640: 100%|██████████| 555/555 [10:37<00:00,  1.15s/it]\n",
      "                 Class     Images  Instances      Box(P          R      mAP50  mAP50-95): 100%|██████████| 31/31 [00:31<00:00,  1.03s/it]"
     ]
    },
    {
     "name": "stdout",
     "output_type": "stream",
     "text": [
      "                   all        985       1004      0.885      0.891      0.939      0.868\n"
     ]
    },
    {
     "name": "stderr",
     "output_type": "stream",
     "text": [
      "\n"
     ]
    },
    {
     "name": "stdout",
     "output_type": "stream",
     "text": [
      "Closing dataloader mosaic\n",
      "\n",
      "      Epoch    GPU_mem   box_loss   cls_loss   dfl_loss  Instances       Size\n"
     ]
    },
    {
     "name": "stderr",
     "output_type": "stream",
     "text": [
      "      11/20      2.74G     0.3627     0.4408      0.898          1        640: 100%|██████████| 555/555 [10:40<00:00,  1.15s/it]\n",
      "                 Class     Images  Instances      Box(P          R      mAP50  mAP50-95): 100%|██████████| 31/31 [00:31<00:00,  1.02s/it]"
     ]
    },
    {
     "name": "stdout",
     "output_type": "stream",
     "text": [
      "                   all        985       1004      0.867      0.887      0.932      0.868\n"
     ]
    },
    {
     "name": "stderr",
     "output_type": "stream",
     "text": [
      "\n"
     ]
    },
    {
     "name": "stdout",
     "output_type": "stream",
     "text": [
      "\n",
      "      Epoch    GPU_mem   box_loss   cls_loss   dfl_loss  Instances       Size\n"
     ]
    },
    {
     "name": "stderr",
     "output_type": "stream",
     "text": [
      "      12/20      2.73G     0.3478     0.4121     0.8871          1        640: 100%|██████████| 555/555 [10:36<00:00,  1.15s/it]\n",
      "                 Class     Images  Instances      Box(P          R      mAP50  mAP50-95): 100%|██████████| 31/31 [00:32<00:00,  1.04s/it]"
     ]
    },
    {
     "name": "stdout",
     "output_type": "stream",
     "text": [
      "                   all        985       1004      0.863       0.85      0.926      0.875\n"
     ]
    },
    {
     "name": "stderr",
     "output_type": "stream",
     "text": [
      "\n"
     ]
    },
    {
     "name": "stdout",
     "output_type": "stream",
     "text": [
      "\n",
      "      Epoch    GPU_mem   box_loss   cls_loss   dfl_loss  Instances       Size\n"
     ]
    },
    {
     "name": "stderr",
     "output_type": "stream",
     "text": [
      "      13/20      2.74G     0.3336     0.3889     0.8773          1        640: 100%|██████████| 555/555 [09:01<00:00,  1.03it/s]\n",
      "                 Class     Images  Instances      Box(P          R      mAP50  mAP50-95): 100%|██████████| 31/31 [00:16<00:00,  1.91it/s]"
     ]
    },
    {
     "name": "stdout",
     "output_type": "stream",
     "text": [
      "                   all        985       1004      0.828      0.844      0.919      0.868\n"
     ]
    },
    {
     "name": "stderr",
     "output_type": "stream",
     "text": [
      "\n"
     ]
    },
    {
     "name": "stdout",
     "output_type": "stream",
     "text": [
      "\n",
      "      Epoch    GPU_mem   box_loss   cls_loss   dfl_loss  Instances       Size\n"
     ]
    },
    {
     "name": "stderr",
     "output_type": "stream",
     "text": [
      "      14/20      2.74G     0.3201     0.3631     0.8705          1        640: 100%|██████████| 555/555 [08:13<00:00,  1.12it/s]\n",
      "                 Class     Images  Instances      Box(P          R      mAP50  mAP50-95): 100%|██████████| 31/31 [00:16<00:00,  1.88it/s]"
     ]
    },
    {
     "name": "stdout",
     "output_type": "stream",
     "text": [
      "                   all        985       1004        0.9       0.94      0.966      0.919\n"
     ]
    },
    {
     "name": "stderr",
     "output_type": "stream",
     "text": [
      "\n"
     ]
    },
    {
     "name": "stdout",
     "output_type": "stream",
     "text": [
      "\n",
      "      Epoch    GPU_mem   box_loss   cls_loss   dfl_loss  Instances       Size\n"
     ]
    },
    {
     "name": "stderr",
     "output_type": "stream",
     "text": [
      "      15/20      2.74G     0.3127     0.3451     0.8697          2        640: 100%|██████████| 555/555 [08:13<00:00,  1.12it/s]\n",
      "                 Class     Images  Instances      Box(P          R      mAP50  mAP50-95): 100%|██████████| 31/31 [00:16<00:00,  1.88it/s]"
     ]
    },
    {
     "name": "stdout",
     "output_type": "stream",
     "text": [
      "                   all        985       1004      0.924      0.862      0.949      0.905\n"
     ]
    },
    {
     "name": "stderr",
     "output_type": "stream",
     "text": [
      "\n"
     ]
    },
    {
     "name": "stdout",
     "output_type": "stream",
     "text": [
      "\n",
      "      Epoch    GPU_mem   box_loss   cls_loss   dfl_loss  Instances       Size\n"
     ]
    },
    {
     "name": "stderr",
     "output_type": "stream",
     "text": [
      "      16/20      2.73G     0.3039     0.3294     0.8606          1        640: 100%|██████████| 555/555 [08:13<00:00,  1.12it/s]\n",
      "                 Class     Images  Instances      Box(P          R      mAP50  mAP50-95): 100%|██████████| 31/31 [00:16<00:00,  1.89it/s]"
     ]
    },
    {
     "name": "stdout",
     "output_type": "stream",
     "text": [
      "                   all        985       1004       0.94      0.925       0.97      0.926\n"
     ]
    },
    {
     "name": "stderr",
     "output_type": "stream",
     "text": [
      "\n"
     ]
    },
    {
     "name": "stdout",
     "output_type": "stream",
     "text": [
      "\n",
      "      Epoch    GPU_mem   box_loss   cls_loss   dfl_loss  Instances       Size\n"
     ]
    },
    {
     "name": "stderr",
     "output_type": "stream",
     "text": [
      "      17/20      2.74G     0.2954     0.3187     0.8581          1        640: 100%|██████████| 555/555 [08:13<00:00,  1.12it/s]\n",
      "                 Class     Images  Instances      Box(P          R      mAP50  mAP50-95): 100%|██████████| 31/31 [00:16<00:00,  1.88it/s]"
     ]
    },
    {
     "name": "stdout",
     "output_type": "stream",
     "text": [
      "                   all        985       1004      0.894      0.907      0.958      0.911\n"
     ]
    },
    {
     "name": "stderr",
     "output_type": "stream",
     "text": [
      "\n"
     ]
    },
    {
     "name": "stdout",
     "output_type": "stream",
     "text": [
      "\n",
      "      Epoch    GPU_mem   box_loss   cls_loss   dfl_loss  Instances       Size\n"
     ]
    },
    {
     "name": "stderr",
     "output_type": "stream",
     "text": [
      "      18/20      2.74G     0.2905     0.3052     0.8547          2        640: 100%|██████████| 555/555 [08:06<00:00,  1.14it/s]\n",
      "                 Class     Images  Instances      Box(P          R      mAP50  mAP50-95): 100%|██████████| 31/31 [00:16<00:00,  1.88it/s]"
     ]
    },
    {
     "name": "stdout",
     "output_type": "stream",
     "text": [
      "                   all        985       1004      0.932      0.886      0.964      0.923\n"
     ]
    },
    {
     "name": "stderr",
     "output_type": "stream",
     "text": [
      "\n"
     ]
    },
    {
     "name": "stdout",
     "output_type": "stream",
     "text": [
      "\n",
      "      Epoch    GPU_mem   box_loss   cls_loss   dfl_loss  Instances       Size\n"
     ]
    },
    {
     "name": "stderr",
     "output_type": "stream",
     "text": [
      "      19/20      2.74G     0.2839     0.2951     0.8523          1        640: 100%|██████████| 555/555 [08:06<00:00,  1.14it/s]\n",
      "                 Class     Images  Instances      Box(P          R      mAP50  mAP50-95): 100%|██████████| 31/31 [00:16<00:00,  1.89it/s]"
     ]
    },
    {
     "name": "stdout",
     "output_type": "stream",
     "text": [
      "                   all        985       1004       0.88      0.951      0.964      0.921\n"
     ]
    },
    {
     "name": "stderr",
     "output_type": "stream",
     "text": [
      "\n"
     ]
    },
    {
     "name": "stdout",
     "output_type": "stream",
     "text": [
      "\n",
      "      Epoch    GPU_mem   box_loss   cls_loss   dfl_loss  Instances       Size\n"
     ]
    },
    {
     "name": "stderr",
     "output_type": "stream",
     "text": [
      "      20/20      2.73G     0.2774     0.2821     0.8507          1        640: 100%|██████████| 555/555 [08:13<00:00,  1.12it/s]\n",
      "                 Class     Images  Instances      Box(P          R      mAP50  mAP50-95): 100%|██████████| 31/31 [00:16<00:00,  1.89it/s]"
     ]
    },
    {
     "name": "stdout",
     "output_type": "stream",
     "text": [
      "                   all        985       1004      0.902      0.913      0.964      0.925\n"
     ]
    },
    {
     "name": "stderr",
     "output_type": "stream",
     "text": [
      "\n"
     ]
    },
    {
     "name": "stdout",
     "output_type": "stream",
     "text": [
      "\n",
      "20 epochs completed in 3.393 hours.\n",
      "Optimizer stripped from runs/detect/train260/weights/last.pt, 4.9MB\n",
      "Optimizer stripped from runs/detect/train260/weights/best.pt, 4.9MB\n",
      "\n",
      "Validating runs/detect/train260/weights/best.pt...\n",
      "Ultralytics YOLOv8.2.31 🚀 Python-3.10.14 torch-2.3.1+cu121 CUDA:0 (NVIDIA P102-100, 10150MiB)\n",
      "YOLOv8_boost summary (fused): 324 layers, 2313563 parameters, 0 gradients, 6.0 GFLOPs\n"
     ]
    },
    {
     "name": "stderr",
     "output_type": "stream",
     "text": [
      "                 Class     Images  Instances      Box(P          R      mAP50  mAP50-95): 100%|██████████| 31/31 [00:32<00:00,  1.05s/it]\n"
     ]
    },
    {
     "name": "stdout",
     "output_type": "stream",
     "text": [
      "                   all        985       1004       0.94      0.925       0.97      0.926\n",
      "                   SUV        204        205      0.939      0.932      0.962      0.927\n",
      "                 Sedan        589        600      0.957       0.98      0.987      0.959\n",
      "              Micorbus         48         48      0.893       0.87       0.95      0.883\n",
      "               Minivan        150        151      0.972      0.918      0.981      0.934\n",
      "Speed: 2.0ms preprocess, 9.6ms inference, 0.0ms loss, 4.1ms postprocess per image\n",
      "Results saved to \u001b[1mruns/detect/train260\u001b[0m\n"
     ]
    },
    {
     "data": {
      "application/vnd.jupyter.widget-view+json": {
       "model_id": "40d9d2f080014183ae2839c2f2341811",
       "version_major": 2,
       "version_minor": 0
      },
      "text/plain": [
       "VBox(children=(Label(value='10.296 MB of 11.000 MB uploaded\\r'), FloatProgress(value=0.9359293707304944, max=1…"
      ]
     },
     "metadata": {},
     "output_type": "display_data"
    },
    {
     "data": {
      "text/html": [
       "<style>\n",
       "    table.wandb td:nth-child(1) { padding: 0 10px; text-align: left ; width: auto;} td:nth-child(2) {text-align: left ; width: 100%}\n",
       "    .wandb-row { display: flex; flex-direction: row; flex-wrap: wrap; justify-content: flex-start; width: 100% }\n",
       "    .wandb-col { display: flex; flex-direction: column; flex-basis: 100%; flex: 1; padding: 10px; }\n",
       "    </style>\n",
       "<div class=\"wandb-row\"><div class=\"wandb-col\"><h3>Run history:</h3><br/><table class=\"wandb\"><tr><td>lr/pg0</td><td>▃▆██▇▇▆▆▆▅▅▄▄▃▃▃▂▂▁▁</td></tr><tr><td>lr/pg1</td><td>▃▆██▇▇▆▆▆▅▅▄▄▃▃▃▂▂▁▁</td></tr><tr><td>lr/pg2</td><td>▃▆██▇▇▆▆▆▅▅▄▄▃▃▃▂▂▁▁</td></tr><tr><td>metrics/mAP50(B)</td><td>▁▄▄▆▆▇██▇███▇███████</td></tr><tr><td>metrics/mAP50-95(B)</td><td>▁▄▄▆▆▇▇▇▇▇▇█▇███████</td></tr><tr><td>metrics/precision(B)</td><td>▁▃▃▅▅▇▇█▇▇▇▇▇█████▇█</td></tr><tr><td>metrics/recall(B)</td><td>▁▅▅▆▅▇▇▇▇▇▇▇▇█▇█▇▇██</td></tr><tr><td>model/GFLOPs</td><td>▁</td></tr><tr><td>model/parameters</td><td>▁</td></tr><tr><td>model/speed_PyTorch(ms)</td><td>▁</td></tr><tr><td>train/box_loss</td><td>█▄▃▂▂▂▂▂▂▂▁▁▁▁▁▁▁▁▁▁</td></tr><tr><td>train/cls_loss</td><td>█▄▃▂▂▂▂▂▂▂▁▁▁▁▁▁▁▁▁▁</td></tr><tr><td>train/dfl_loss</td><td>█▃▂▂▂▂▂▂▁▁▁▁▁▁▁▁▁▁▁▁</td></tr><tr><td>val/box_loss</td><td>█▃▃▂▂▂▂▂▁▁▁▁▁▁▁▁▁▁▁▁</td></tr><tr><td>val/cls_loss</td><td>█▄▄▃▃▂▂▂▂▂▂▂▂▁▁▁▁▁▁▁</td></tr><tr><td>val/dfl_loss</td><td>█▃▂▂▂▁▁▁▁▁▁▁▁▁▁▁▁▁▁▁</td></tr></table><br/></div><div class=\"wandb-col\"><h3>Run summary:</h3><br/><table class=\"wandb\"><tr><td>lr/pg0</td><td>6e-05</td></tr><tr><td>lr/pg1</td><td>6e-05</td></tr><tr><td>lr/pg2</td><td>6e-05</td></tr><tr><td>metrics/mAP50(B)</td><td>0.97008</td></tr><tr><td>metrics/mAP50-95(B)</td><td>0.92589</td></tr><tr><td>metrics/precision(B)</td><td>0.94029</td></tr><tr><td>metrics/recall(B)</td><td>0.92485</td></tr><tr><td>model/GFLOPs</td><td>6.083</td></tr><tr><td>model/parameters</td><td>2318139</td></tr><tr><td>model/speed_PyTorch(ms)</td><td>13.139</td></tr><tr><td>train/box_loss</td><td>0.2774</td></tr><tr><td>train/cls_loss</td><td>0.28208</td></tr><tr><td>train/dfl_loss</td><td>0.85073</td></tr><tr><td>val/box_loss</td><td>0.29795</td></tr><tr><td>val/cls_loss</td><td>0.30928</td></tr><tr><td>val/dfl_loss</td><td>0.81511</td></tr></table><br/></div></div>"
      ],
      "text/plain": [
       "<IPython.core.display.HTML object>"
      ]
     },
     "metadata": {},
     "output_type": "display_data"
    },
    {
     "data": {
      "text/html": [
       " View run <strong style=\"color:#cdcd00\">train260</strong> at: <a href='https://wandb.ai/3339811384/YOLOv8/runs/mpdz6l71' target=\"_blank\">https://wandb.ai/3339811384/YOLOv8/runs/mpdz6l71</a><br/> View project at: <a href='https://wandb.ai/3339811384/YOLOv8' target=\"_blank\">https://wandb.ai/3339811384/YOLOv8</a><br/>Synced 6 W&B file(s), 24 media file(s), 5 artifact file(s) and 0 other file(s)"
      ],
      "text/plain": [
       "<IPython.core.display.HTML object>"
      ]
     },
     "metadata": {},
     "output_type": "display_data"
    },
    {
     "data": {
      "text/html": [
       "Find logs at: <code>./wandb/run-20240627_152202-mpdz6l71/logs</code>"
      ],
      "text/plain": [
       "<IPython.core.display.HTML object>"
      ]
     },
     "metadata": {},
     "output_type": "display_data"
    },
    {
     "name": "stdout",
     "output_type": "stream",
     "text": [
      "Ultralytics YOLOv8.2.31 🚀 Python-3.10.14 torch-2.3.1+cu121 CUDA:0 (NVIDIA P102-100, 10150MiB)\n",
      "YOLOv8_boost summary (fused): 324 layers, 2313563 parameters, 0 gradients, 6.0 GFLOPs\n"
     ]
    },
    {
     "name": "stderr",
     "output_type": "stream",
     "text": [
      "\u001b[34m\u001b[1mval: \u001b[0mScanning /home/ubuntu/文档/GitHub/DL大作业/datasets/Vehicle/labels/val.cache... 985 images, 0 backgrounds, 0 corrupt: 100%|██████████| 985/985 [00:00<?, ?it/s]\n",
      "                 Class     Images  Instances      Box(P          R      mAP50  mAP50-95): 100%|██████████| 62/62 [00:33<00:00,  1.84it/s]\n"
     ]
    },
    {
     "name": "stdout",
     "output_type": "stream",
     "text": [
      "                   all        985       1004       0.93      0.928       0.97      0.927\n",
      "                   SUV        204        205      0.936      0.937      0.962      0.929\n",
      "                 Sedan        589        600      0.956       0.98      0.987       0.96\n",
      "              Micorbus         48         48      0.857      0.875      0.951      0.883\n",
      "               Minivan        150        151      0.972      0.921       0.98      0.935\n",
      "Speed: 1.9ms preprocess, 8.6ms inference, 0.0ms loss, 6.2ms postprocess per image\n",
      "Results saved to \u001b[1mruns/detect/train2602\u001b[0m\n",
      "Ultralytics YOLOv8.2.31 🚀 Python-3.10.14 torch-2.3.1+cu121 CPU (Intel Xeon E5-2680 v4 2.40GHz)\n",
      "\n",
      "\u001b[34m\u001b[1mPyTorch:\u001b[0m starting from 'runs/detect/train260/weights/best.pt' with input shape (1, 3, 640, 640) BCHW and output shape(s) (1, 10, 8400) (4.7 MB)\n",
      "\n",
      "\u001b[34m\u001b[1mONNX:\u001b[0m starting export with onnx 1.16.1 opset 17...\n",
      "\u001b[34m\u001b[1mONNX:\u001b[0m export success ✅ 7.4s, saved as 'runs/detect/train260/weights/best.onnx' (9.5 MB)\n",
      "\n",
      "Export complete (9.0s)\n",
      "Results saved to \u001b[1m/home/ubuntu/文档/GitHub/DL大作业/runs/detect/train260/weights\u001b[0m\n",
      "Predict:         yolo predict task=detect model=runs/detect/train260/weights/best.onnx imgsz=640  \n",
      "Validate:        yolo val task=detect model=runs/detect/train260/weights/best.onnx imgsz=640 data=/home/ubuntu/文档/GitHub/DL大作业/vehicle-dataset.yaml  \n",
      "Visualize:       https://netron.app\n"
     ]
    }
   ],
   "source": [
    "from ultralytics import YOLO\n",
    "\n",
    "# 创建\n",
    "model = YOLO(\"./ultralytics/cfg/models/v8/My/yolov8_boost.yaml\")\n",
    "\n",
    "results = model.train(data=\"/home/ubuntu/文档/GitHub/DL大作业/vehicle-dataset.yaml\", epochs=20)\n",
    "\n",
    "# Evaluate the model's performance on the validation set\n",
    "results = model.val()\n",
    "\n",
    "# Export the model to ONNX format\n",
    "success = model.export(format=\"onnx\")"
   ]
  },
  {
   "cell_type": "code",
   "execution_count": null,
   "metadata": {},
   "outputs": [],
   "source": []
  }
 ],
 "metadata": {
  "kernelspec": {
   "display_name": "yolo",
   "language": "python",
   "name": "python3"
  },
  "language_info": {
   "codemirror_mode": {
    "name": "ipython",
    "version": 3
   },
   "file_extension": ".py",
   "mimetype": "text/x-python",
   "name": "python",
   "nbconvert_exporter": "python",
   "pygments_lexer": "ipython3",
   "version": "3.10.14"
  }
 },
 "nbformat": 4,
 "nbformat_minor": 2
}
